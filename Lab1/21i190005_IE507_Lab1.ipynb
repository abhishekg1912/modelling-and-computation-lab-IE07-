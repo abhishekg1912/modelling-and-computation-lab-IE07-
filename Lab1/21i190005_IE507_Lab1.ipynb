{
  "nbformat": 4,
  "nbformat_minor": 0,
  "metadata": {
    "colab": {
      "name": "21i190005_IE507_Lab1i.ipynb",
      "provenance": [],
      "collapsed_sections": []
    },
    "kernelspec": {
      "display_name": "Python 3",
      "name": "python3"
    },
    "language_info": {
      "name": "python"
    }
  },
  "cells": [
    {
      "cell_type": "code",
      "metadata": {
        "id": "jal9YidjjqXM",
        "colab": {
          "base_uri": "https://localhost:8080/"
        },
        "outputId": "e47e1f76-5c3c-4710-de6a-c2ba934cbbf3"
      },
      "source": [
        "!pip install -q pyomo"
      ],
      "execution_count": 1,
      "outputs": [
        {
          "output_type": "stream",
          "text": [
            "\u001b[K     |████████████████████████████████| 8.9 MB 6.0 MB/s \n",
            "\u001b[K     |████████████████████████████████| 49 kB 5.9 MB/s \n",
            "\u001b[?25h"
          ],
          "name": "stdout"
        }
      ]
    },
    {
      "cell_type": "code",
      "metadata": {
        "id": "iGF08NpNj5L2"
      },
      "source": [
        "from pyomo.environ import *"
      ],
      "execution_count": 2,
      "outputs": []
    },
    {
      "cell_type": "markdown",
      "metadata": {
        "id": "ia6q6FIRkC6h"
      },
      "source": [
        "## **Que.1**\n"
      ]
    },
    {
      "cell_type": "code",
      "metadata": {
        "id": "k_tASSwVkA89"
      },
      "source": [
        "model1= ConcreteModel()"
      ],
      "execution_count": 3,
      "outputs": []
    },
    {
      "cell_type": "code",
      "metadata": {
        "id": "hRxODP5qkTlR"
      },
      "source": [
        "#declare decision variable\n",
        "model1.x1=Var(domain=Reals)\n",
        "model1.x2=Var(domain=Reals)\n",
        "model1.x3=Var(domain=Reals)\n",
        "model1.x4=Var(domain=Reals)\n",
        "model1.x5=Var(domain=Reals)\n",
        "model1.x6=Var(domain=Reals)\n",
        "model1.x7=Var(domain=Reals)"
      ],
      "execution_count": 4,
      "outputs": []
    },
    {
      "cell_type": "code",
      "metadata": {
        "id": "NWYf3MO0lTXG"
      },
      "source": [
        "#declare objective\n",
        "model1.cost=Objective(expr=2*model1.x1-5*model1.x2+14*model1.x3+7*model1.x4-11*model1.x5+0.17*model1.x6-10.2*model1.x7,sense=minimize)"
      ],
      "execution_count": 5,
      "outputs": []
    },
    {
      "cell_type": "code",
      "metadata": {
        "id": "8Guym8r5o7lv"
      },
      "source": [
        "#declare constraint\n",
        "model1.constr1=Constraint(expr=model1.x1+model1.x2+model1.x3+model1.x4+model1.x5+model1.x6+model1.x7==280)\n",
        "model1.constr2=Constraint(expr=model1.x1-1*model1.x2>=10)\n",
        "model1.constr3=Constraint(expr=-3*model1.x3+model1.x6-3*model1.x7<=205)\n",
        "model1.constr4=Constraint(expr=20*model1.x1+42*model1.x6+model1.x5>=35)\n",
        "model1.constr5=Constraint(expr=model1.x2-model1.x3+4*model1.x7>=24)\n",
        "model1.constr6=Constraint(expr=model1.x1>=12)\n",
        "model1.constr7=Constraint(expr=model1.x2>=0)\n",
        "model1.constr8=Constraint(expr=model1.x3>=-5)\n",
        "model1.constr9=Constraint(expr=model1.x4>=3)\n",
        "model1.constr10=Constraint(expr=model1.x5>=10)\n",
        "model1.constr11=Constraint(expr=model1.x6>=-4)\n",
        "model1.constr12=Constraint(expr=model1.x7>=0)\n"
      ],
      "execution_count": 6,
      "outputs": []
    },
    {
      "cell_type": "code",
      "metadata": {
        "colab": {
          "base_uri": "https://localhost:8080/"
        },
        "id": "Hn0f4BhSp0W8",
        "outputId": "96e52173-eed1-445e-fb1f-bc058d4dda81"
      },
      "source": [
        "model1.pprint()"
      ],
      "execution_count": 7,
      "outputs": [
        {
          "output_type": "stream",
          "text": [
            "7 Var Declarations\n",
            "    x1 : Size=1, Index=None\n",
            "        Key  : Lower : Value : Upper : Fixed : Stale : Domain\n",
            "        None :  None :  None :  None : False :  True :  Reals\n",
            "    x2 : Size=1, Index=None\n",
            "        Key  : Lower : Value : Upper : Fixed : Stale : Domain\n",
            "        None :  None :  None :  None : False :  True :  Reals\n",
            "    x3 : Size=1, Index=None\n",
            "        Key  : Lower : Value : Upper : Fixed : Stale : Domain\n",
            "        None :  None :  None :  None : False :  True :  Reals\n",
            "    x4 : Size=1, Index=None\n",
            "        Key  : Lower : Value : Upper : Fixed : Stale : Domain\n",
            "        None :  None :  None :  None : False :  True :  Reals\n",
            "    x5 : Size=1, Index=None\n",
            "        Key  : Lower : Value : Upper : Fixed : Stale : Domain\n",
            "        None :  None :  None :  None : False :  True :  Reals\n",
            "    x6 : Size=1, Index=None\n",
            "        Key  : Lower : Value : Upper : Fixed : Stale : Domain\n",
            "        None :  None :  None :  None : False :  True :  Reals\n",
            "    x7 : Size=1, Index=None\n",
            "        Key  : Lower : Value : Upper : Fixed : Stale : Domain\n",
            "        None :  None :  None :  None : False :  True :  Reals\n",
            "\n",
            "1 Objective Declarations\n",
            "    cost : Size=1, Index=None, Active=True\n",
            "        Key  : Active : Sense    : Expression\n",
            "        None :   True : minimize : 2*x1 - 5*x2 + 14*x3 + 7*x4 - 11*x5 + 0.17*x6 - 10.2*x7\n",
            "\n",
            "12 Constraint Declarations\n",
            "    constr1 : Size=1, Index=None, Active=True\n",
            "        Key  : Lower : Body                             : Upper : Active\n",
            "        None : 280.0 : x1 + x2 + x3 + x4 + x5 + x6 + x7 : 280.0 :   True\n",
            "    constr10 : Size=1, Index=None, Active=True\n",
            "        Key  : Lower : Body : Upper : Active\n",
            "        None :  10.0 :   x5 :  +Inf :   True\n",
            "    constr11 : Size=1, Index=None, Active=True\n",
            "        Key  : Lower : Body : Upper : Active\n",
            "        None :  -4.0 :   x6 :  +Inf :   True\n",
            "    constr12 : Size=1, Index=None, Active=True\n",
            "        Key  : Lower : Body : Upper : Active\n",
            "        None :   0.0 :   x7 :  +Inf :   True\n",
            "    constr2 : Size=1, Index=None, Active=True\n",
            "        Key  : Lower : Body    : Upper : Active\n",
            "        None :  10.0 : x1 - x2 :  +Inf :   True\n",
            "    constr3 : Size=1, Index=None, Active=True\n",
            "        Key  : Lower : Body              : Upper : Active\n",
            "        None :  -Inf : -3*x3 + x6 - 3*x7 : 205.0 :   True\n",
            "    constr4 : Size=1, Index=None, Active=True\n",
            "        Key  : Lower : Body               : Upper : Active\n",
            "        None :  35.0 : 20*x1 + 42*x6 + x5 :  +Inf :   True\n",
            "    constr5 : Size=1, Index=None, Active=True\n",
            "        Key  : Lower : Body           : Upper : Active\n",
            "        None :  24.0 : x2 - x3 + 4*x7 :  +Inf :   True\n",
            "    constr6 : Size=1, Index=None, Active=True\n",
            "        Key  : Lower : Body : Upper : Active\n",
            "        None :  12.0 :   x1 :  +Inf :   True\n",
            "    constr7 : Size=1, Index=None, Active=True\n",
            "        Key  : Lower : Body : Upper : Active\n",
            "        None :   0.0 :   x2 :  +Inf :   True\n",
            "    constr8 : Size=1, Index=None, Active=True\n",
            "        Key  : Lower : Body : Upper : Active\n",
            "        None :  -5.0 :   x3 :  +Inf :   True\n",
            "    constr9 : Size=1, Index=None, Active=True\n",
            "        Key  : Lower : Body : Upper : Active\n",
            "        None :   3.0 :   x4 :  +Inf :   True\n",
            "\n",
            "20 Declarations: x1 x2 x3 x4 x5 x6 x7 cost constr1 constr2 constr3 constr4 constr5 constr6 constr7 constr8 constr9 constr10 constr11 constr12\n"
          ],
          "name": "stdout"
        }
      ]
    },
    {
      "cell_type": "code",
      "metadata": {
        "id": "FPnBJh9ztP6y",
        "colab": {
          "base_uri": "https://localhost:8080/"
        },
        "outputId": "df8b09ff-972d-43b6-cacb-e596c2922697"
      },
      "source": [
        "!apt-get install -y -qq glpk-utils"
      ],
      "execution_count": 8,
      "outputs": [
        {
          "output_type": "stream",
          "text": [
            "Selecting previously unselected package libsuitesparseconfig5:amd64.\n",
            "(Reading database ... 160837 files and directories currently installed.)\n",
            "Preparing to unpack .../libsuitesparseconfig5_1%3a5.1.2-2_amd64.deb ...\n",
            "Unpacking libsuitesparseconfig5:amd64 (1:5.1.2-2) ...\n",
            "Selecting previously unselected package libamd2:amd64.\n",
            "Preparing to unpack .../libamd2_1%3a5.1.2-2_amd64.deb ...\n",
            "Unpacking libamd2:amd64 (1:5.1.2-2) ...\n",
            "Selecting previously unselected package libcolamd2:amd64.\n",
            "Preparing to unpack .../libcolamd2_1%3a5.1.2-2_amd64.deb ...\n",
            "Unpacking libcolamd2:amd64 (1:5.1.2-2) ...\n",
            "Selecting previously unselected package libglpk40:amd64.\n",
            "Preparing to unpack .../libglpk40_4.65-1_amd64.deb ...\n",
            "Unpacking libglpk40:amd64 (4.65-1) ...\n",
            "Selecting previously unselected package glpk-utils.\n",
            "Preparing to unpack .../glpk-utils_4.65-1_amd64.deb ...\n",
            "Unpacking glpk-utils (4.65-1) ...\n",
            "Setting up libsuitesparseconfig5:amd64 (1:5.1.2-2) ...\n",
            "Setting up libcolamd2:amd64 (1:5.1.2-2) ...\n",
            "Setting up libamd2:amd64 (1:5.1.2-2) ...\n",
            "Setting up libglpk40:amd64 (4.65-1) ...\n",
            "Setting up glpk-utils (4.65-1) ...\n",
            "Processing triggers for libc-bin (2.27-3ubuntu1.2) ...\n",
            "/sbin/ldconfig.real: /usr/local/lib/python3.7/dist-packages/ideep4py/lib/libmkldnn.so.0 is not a symbolic link\n",
            "\n",
            "Processing triggers for man-db (2.8.3-2ubuntu0.1) ...\n"
          ],
          "name": "stdout"
        }
      ]
    },
    {
      "cell_type": "code",
      "metadata": {
        "colab": {
          "base_uri": "https://localhost:8080/"
        },
        "id": "-DJH1cbbskzL",
        "outputId": "b14df174-e5d5-4033-9597-8dbf604cce93"
      },
      "source": [
        "SolverFactory('glpk',executable='/usr/bin/glpsol').solve(model1).write()"
      ],
      "execution_count": 9,
      "outputs": [
        {
          "output_type": "stream",
          "text": [
            "# ==========================================================\n",
            "# = Solver Results                                         =\n",
            "# ==========================================================\n",
            "# ----------------------------------------------------------\n",
            "#   Problem Information\n",
            "# ----------------------------------------------------------\n",
            "Problem: \n",
            "- Name: unknown\n",
            "  Lower bound: -3035.88\n",
            "  Upper bound: -3035.88\n",
            "  Number of objectives: 1\n",
            "  Number of constraints: 13\n",
            "  Number of variables: 8\n",
            "  Number of nonzeros: 26\n",
            "  Sense: minimize\n",
            "# ----------------------------------------------------------\n",
            "#   Solver Information\n",
            "# ----------------------------------------------------------\n",
            "Solver: \n",
            "- Status: ok\n",
            "  Termination condition: optimal\n",
            "  Statistics: \n",
            "    Branch and bound: \n",
            "      Number of bounded subproblems: 0\n",
            "      Number of created subproblems: 0\n",
            "  Error rc: 0\n",
            "  Time: 0.010588645935058594\n",
            "# ----------------------------------------------------------\n",
            "#   Solution Information\n",
            "# ----------------------------------------------------------\n",
            "Solution: \n",
            "- number of solutions: 0\n",
            "  number of solutions displayed: 0\n"
          ],
          "name": "stdout"
        }
      ]
    },
    {
      "cell_type": "markdown",
      "metadata": {
        "id": "SdT1Az8G9W8p"
      },
      "source": [
        "\n",
        "\n",
        "# Value of the optimal function and values of the decision variables:-"
      ]
    },
    {
      "cell_type": "code",
      "metadata": {
        "colab": {
          "base_uri": "https://localhost:8080/"
        },
        "id": "h558UnzGtlrP",
        "outputId": "0a45c34d-020e-479a-b093-3443b5dc04fe"
      },
      "source": [
        "print('Objective fuction value= ',model1.cost())\n",
        "print('\\nvalue of X1= ',model1.x1())\n",
        "print('value of X2= ',model1.x2())\n",
        "print('value of X3= ',model1.x3())\n",
        "print('value of X4= ',model1.x4())\n",
        "print('value of X5= ',model1.x5())\n",
        "print('value of X6= ',model1.x6())\n",
        "print('value of X7= ',model1.x7())\n"
      ],
      "execution_count": 10,
      "outputs": [
        {
          "output_type": "stream",
          "text": [
            "Objective fuction value=  -3035.8799999999997\n",
            "\n",
            "value of X1=  12.0\n",
            "value of X2=  0.0\n",
            "value of X3=  -5.0\n",
            "value of X4=  3.0\n",
            "value of X5=  269.25\n",
            "value of X6=  -4.0\n",
            "value of X7=  4.75\n"
          ],
          "name": "stdout"
        }
      ]
    },
    {
      "cell_type": "markdown",
      "metadata": {
        "id": "wUVxmfah99N2"
      },
      "source": [
        "# Constraint Activities"
      ]
    },
    {
      "cell_type": "code",
      "metadata": {
        "colab": {
          "base_uri": "https://localhost:8080/"
        },
        "id": "B3_qAGl0uc5o",
        "outputId": "173614e9-350d-4d4a-b6b4-826cbca642b7"
      },
      "source": [
        "#constraint activities\n",
        "#first constraint\n",
        "print(\"The value of first constraint=\",model1.constr1())"
      ],
      "execution_count": 11,
      "outputs": [
        {
          "output_type": "stream",
          "text": [
            "The value of first constraint= 280.0\n"
          ],
          "name": "stdout"
        }
      ]
    },
    {
      "cell_type": "markdown",
      "metadata": {
        "id": "IvzEVO3g8pvn"
      },
      "source": [
        "The value of the first constraint is 280.0 which is equal to RHS (i.e.280)"
      ]
    },
    {
      "cell_type": "code",
      "metadata": {
        "colab": {
          "base_uri": "https://localhost:8080/"
        },
        "id": "VqqF6GvDvnDk",
        "outputId": "f76c2ad4-1f6c-4626-9eae-b2925d965237"
      },
      "source": [
        "#second constraint\n",
        "print(\"The value of second constraint = \",model1.constr2())"
      ],
      "execution_count": 12,
      "outputs": [
        {
          "output_type": "stream",
          "text": [
            "The value of second constraint =  12.0\n"
          ],
          "name": "stdout"
        }
      ]
    },
    {
      "cell_type": "markdown",
      "metadata": {
        "id": "cGzbUNKw8-Sg"
      },
      "source": [
        "The value of the second constraint is 12.0 which is greater than RHS(i.e.10)"
      ]
    },
    {
      "cell_type": "code",
      "metadata": {
        "colab": {
          "base_uri": "https://localhost:8080/"
        },
        "id": "utcuuSuOwEhm",
        "outputId": "f4ee2fbe-b323-446a-ff58-92bd54a2cd57"
      },
      "source": [
        "#third constraint\n",
        "print(\"The value of Third constraint = \",model1.constr3())"
      ],
      "execution_count": 13,
      "outputs": [
        {
          "output_type": "stream",
          "text": [
            "The value of Third constraint =  -3.25\n"
          ],
          "name": "stdout"
        }
      ]
    },
    {
      "cell_type": "markdown",
      "metadata": {
        "id": "rS69_Dvq9bls"
      },
      "source": [
        "The value of third constraint is -3.25 which is lesser than RHS(i.e. 205)"
      ]
    },
    {
      "cell_type": "code",
      "metadata": {
        "colab": {
          "base_uri": "https://localhost:8080/"
        },
        "id": "_qtEQE6OwlhQ",
        "outputId": "4418ed24-1dc4-4def-9158-b91ada9c4f0d"
      },
      "source": [
        "#fourth constraint\n",
        "print(\"The value of fourth constraint = \",model1.constr4())"
      ],
      "execution_count": 14,
      "outputs": [
        {
          "output_type": "stream",
          "text": [
            "The value of fourth constraint =  341.25\n"
          ],
          "name": "stdout"
        }
      ]
    },
    {
      "cell_type": "markdown",
      "metadata": {
        "id": "W3lwxLAF9-zo"
      },
      "source": [
        "The value of the fourth constraint is 341.25 which is greater than RHS (i.e.35)"
      ]
    },
    {
      "cell_type": "markdown",
      "metadata": {
        "id": "TxWUKIFTyF6n"
      },
      "source": [
        "## **Que.2**"
      ]
    },
    {
      "cell_type": "markdown",
      "metadata": {
        "id": "O7R3lElbyWYu"
      },
      "source": [
        "$\\max\\ 0.043x_1+0.027x_2+0.025x_3+0.022x_4+0.045x_5-0.0275y \\\\\\text{s.t.}\\\\ x_1+3x_2+x_3+7x_4+x_5-y\\leq 100\\\\x_2+2x_3+4x_4\\geq 60 \\\\ 0.8x_1-4.8x_2+1.8x_3-3.8x_4-2.2x_5\\geq 0\\\\ x_1-12x_2-x_3-3x_4+5x_5\\geq 0 \\\\ x_1,x_2,x_3,x_4,x_5 \\geq 0 \\\\ y\\geq0\\\\ y\\leq2.25$\n",
        "\n",
        "\n",
        "**Assumptions:-**\n",
        "\n",
        "\n",
        "$\\\\\n",
        "1.x_1-x_2+x_3-x_4+x_5 \\geq 0 \\\\ 2. x_1+x_2+x_3-x_5 \\geq 0$"
      ]
    },
    {
      "cell_type": "code",
      "metadata": {
        "id": "9AWbstUEx1RV"
      },
      "source": [
        "model2= ConcreteModel()"
      ],
      "execution_count": 15,
      "outputs": []
    },
    {
      "cell_type": "code",
      "metadata": {
        "id": "JA66H9rbTAxw"
      },
      "source": [
        "#declare decision variable\n",
        "model2.x1=Var(domain=Reals)\n",
        "model2.x2=Var(domain=Reals)\n",
        "model2.x3=Var(domain=Reals)\n",
        "model2.x4=Var(domain=Reals)\n",
        "model2.x5=Var(domain=Reals)\n",
        "model2.y=Var(domain=Reals)"
      ],
      "execution_count": 16,
      "outputs": []
    },
    {
      "cell_type": "code",
      "metadata": {
        "id": "0AU-Xz6ETtUV"
      },
      "source": [
        "#declare Objective\n",
        "model2.cost=Objective(expr=0.043*model2.x1+0.027*model2.x2+0.025*model2.x3+0.022*model2.x4+0.045*model2.x5-0.0275*model2.y,sense=maximize)"
      ],
      "execution_count": 17,
      "outputs": []
    },
    {
      "cell_type": "code",
      "metadata": {
        "id": "nOfGtA6LIx4x"
      },
      "source": [
        "#declare constraint\n",
        "model2.constr1=Constraint(expr=model2.x1+3*model2.x2+model2.x3+7*model2.x4+model2.x5-model2.y<=100)\n",
        "model2.constr2=Constraint(expr=model2.x2+2*model2.x3+4*model2.x4>=60)\n",
        "model2.constr3=Constraint(expr=(0.8)*model2.x1-(4.8)*model2.x2+(1.8)*model2.x3-(3.8)*model2.x4-(2.2)*model2.x5>=0)\n",
        "model2.constr4=Constraint(expr=model2.x1-12*model2.x2-model2.x3-3*model2.x4+5*model2.x5>=0)\n",
        "model2.constr5=Constraint(expr=model2.x1>=0)\n",
        "model2.constr6=Constraint(expr=model2.x2>=0)\n",
        "model2.constr7=Constraint(expr=model2.x3>=0)\n",
        "model2.constr8=Constraint(expr=model2.x4>=0)\n",
        "model2.constr9=Constraint(expr=model2.x5>=0)\n",
        "model2.constr10=Constraint(expr=model2.y>=0)\n",
        "model2.constr11=Constraint(expr=model2.y<=2.25)"
      ],
      "execution_count": 18,
      "outputs": []
    },
    {
      "cell_type": "code",
      "metadata": {
        "colab": {
          "base_uri": "https://localhost:8080/"
        },
        "id": "HQxxURw5XrfJ",
        "outputId": "042de5f2-4785-4c02-e03c-0dc6b0406533"
      },
      "source": [
        "model2.pprint()"
      ],
      "execution_count": 19,
      "outputs": [
        {
          "output_type": "stream",
          "text": [
            "6 Var Declarations\n",
            "    x1 : Size=1, Index=None\n",
            "        Key  : Lower : Value : Upper : Fixed : Stale : Domain\n",
            "        None :  None :  None :  None : False :  True :  Reals\n",
            "    x2 : Size=1, Index=None\n",
            "        Key  : Lower : Value : Upper : Fixed : Stale : Domain\n",
            "        None :  None :  None :  None : False :  True :  Reals\n",
            "    x3 : Size=1, Index=None\n",
            "        Key  : Lower : Value : Upper : Fixed : Stale : Domain\n",
            "        None :  None :  None :  None : False :  True :  Reals\n",
            "    x4 : Size=1, Index=None\n",
            "        Key  : Lower : Value : Upper : Fixed : Stale : Domain\n",
            "        None :  None :  None :  None : False :  True :  Reals\n",
            "    x5 : Size=1, Index=None\n",
            "        Key  : Lower : Value : Upper : Fixed : Stale : Domain\n",
            "        None :  None :  None :  None : False :  True :  Reals\n",
            "    y : Size=1, Index=None\n",
            "        Key  : Lower : Value : Upper : Fixed : Stale : Domain\n",
            "        None :  None :  None :  None : False :  True :  Reals\n",
            "\n",
            "1 Objective Declarations\n",
            "    cost : Size=1, Index=None, Active=True\n",
            "        Key  : Active : Sense    : Expression\n",
            "        None :   True : maximize : 0.043*x1 + 0.027*x2 + 0.025*x3 + 0.022*x4 + 0.045*x5 - 0.0275*y\n",
            "\n",
            "11 Constraint Declarations\n",
            "    constr1 : Size=1, Index=None, Active=True\n",
            "        Key  : Lower : Body                           : Upper : Active\n",
            "        None :  -Inf : x1 + 3*x2 + x3 + 7*x4 + x5 - y : 100.0 :   True\n",
            "    constr10 : Size=1, Index=None, Active=True\n",
            "        Key  : Lower : Body : Upper : Active\n",
            "        None :   0.0 :    y :  +Inf :   True\n",
            "    constr11 : Size=1, Index=None, Active=True\n",
            "        Key  : Lower : Body : Upper : Active\n",
            "        None :  -Inf :    y :  2.25 :   True\n",
            "    constr2 : Size=1, Index=None, Active=True\n",
            "        Key  : Lower : Body             : Upper : Active\n",
            "        None :  60.0 : x2 + 2*x3 + 4*x4 :  +Inf :   True\n",
            "    constr3 : Size=1, Index=None, Active=True\n",
            "        Key  : Lower : Body                                       : Upper : Active\n",
            "        None :   0.0 : 0.8*x1 - 4.8*x2 + 1.8*x3 - 3.8*x4 - 2.2*x5 :  +Inf :   True\n",
            "    constr4 : Size=1, Index=None, Active=True\n",
            "        Key  : Lower : Body                          : Upper : Active\n",
            "        None :   0.0 : x1 - 12*x2 - x3 - 3*x4 + 5*x5 :  +Inf :   True\n",
            "    constr5 : Size=1, Index=None, Active=True\n",
            "        Key  : Lower : Body : Upper : Active\n",
            "        None :   0.0 :   x1 :  +Inf :   True\n",
            "    constr6 : Size=1, Index=None, Active=True\n",
            "        Key  : Lower : Body : Upper : Active\n",
            "        None :   0.0 :   x2 :  +Inf :   True\n",
            "    constr7 : Size=1, Index=None, Active=True\n",
            "        Key  : Lower : Body : Upper : Active\n",
            "        None :   0.0 :   x3 :  +Inf :   True\n",
            "    constr8 : Size=1, Index=None, Active=True\n",
            "        Key  : Lower : Body : Upper : Active\n",
            "        None :   0.0 :   x4 :  +Inf :   True\n",
            "    constr9 : Size=1, Index=None, Active=True\n",
            "        Key  : Lower : Body : Upper : Active\n",
            "        None :   0.0 :   x5 :  +Inf :   True\n",
            "\n",
            "18 Declarations: x1 x2 x3 x4 x5 y cost constr1 constr2 constr3 constr4 constr5 constr6 constr7 constr8 constr9 constr10 constr11\n"
          ],
          "name": "stdout"
        }
      ]
    },
    {
      "cell_type": "code",
      "metadata": {
        "colab": {
          "base_uri": "https://localhost:8080/"
        },
        "id": "7WW4RKvAXuWg",
        "outputId": "742ecedf-e07b-4b47-acd7-cf89d9783964"
      },
      "source": [
        "SolverFactory('glpk',executable='/usr/bin/glpsol').solve(model2).write()"
      ],
      "execution_count": 20,
      "outputs": [
        {
          "output_type": "stream",
          "text": [
            "# ==========================================================\n",
            "# = Solver Results                                         =\n",
            "# ==========================================================\n",
            "# ----------------------------------------------------------\n",
            "#   Problem Information\n",
            "# ----------------------------------------------------------\n",
            "Problem: \n",
            "- Name: unknown\n",
            "  Lower bound: 3.86940833333333\n",
            "  Upper bound: 3.86940833333333\n",
            "  Number of objectives: 1\n",
            "  Number of constraints: 12\n",
            "  Number of variables: 7\n",
            "  Number of nonzeros: 27\n",
            "  Sense: maximize\n",
            "# ----------------------------------------------------------\n",
            "#   Solver Information\n",
            "# ----------------------------------------------------------\n",
            "Solver: \n",
            "- Status: ok\n",
            "  Termination condition: optimal\n",
            "  Statistics: \n",
            "    Branch and bound: \n",
            "      Number of bounded subproblems: 0\n",
            "      Number of created subproblems: 0\n",
            "  Error rc: 0\n",
            "  Time: 0.0193326473236084\n",
            "# ----------------------------------------------------------\n",
            "#   Solution Information\n",
            "# ----------------------------------------------------------\n",
            "Solution: \n",
            "- number of solutions: 0\n",
            "  number of solutions displayed: 0\n"
          ],
          "name": "stdout"
        }
      ]
    },
    {
      "cell_type": "markdown",
      "metadata": {
        "id": "V4VSpMiMTUhJ"
      },
      "source": [
        "# value of the optimal function and the values of the decision variable:-"
      ]
    },
    {
      "cell_type": "code",
      "metadata": {
        "colab": {
          "base_uri": "https://localhost:8080/"
        },
        "id": "Fwwwo62AY21j",
        "outputId": "a00cbef6-56e6-441e-da21-aa7287c21f1a"
      },
      "source": [
        "print(\"The optimal solution value is = \",model2.cost())\n",
        "print(\"\\nThe value of the variable x1= \",model2.x1())\n",
        "print(\"The value of the variable x2= \",model2.x2())\n",
        "print(\"The value of the variable x3= \",model2.x3())\n",
        "print(\"The value of the variable x4= \",model2.x4())\n",
        "print(\"The value of the variable x5= \",model2.x5())\n",
        "print(\"The value of the variable y= \",model2.y())\n"
      ],
      "execution_count": 21,
      "outputs": [
        {
          "output_type": "stream",
          "text": [
            "The optimal solution value is =  3.869408333333333\n",
            "\n",
            "The value of the variable x1=  34.9833333333333\n",
            "The value of the variable x2=  0.0\n",
            "The value of the variable x3=  30.0\n",
            "The value of the variable x4=  0.0\n",
            "The value of the variable x5=  37.2666666666667\n",
            "The value of the variable y=  2.25\n"
          ],
          "name": "stdout"
        }
      ]
    },
    {
      "cell_type": "markdown",
      "metadata": {
        "id": "DxNixBc0ThAD"
      },
      "source": [
        "# Constraint Activities"
      ]
    },
    {
      "cell_type": "code",
      "metadata": {
        "id": "SaHqp8QgdZsP",
        "colab": {
          "base_uri": "https://localhost:8080/"
        },
        "outputId": "f9918868-ba7f-4428-8020-d608b7d5d7c3"
      },
      "source": [
        "#constraint activity\n",
        "#first constraint\n",
        "print(\"The value of the first constraint= \",model2.x1()+3*model2.x2()+model2.x3()+7*model2.x4()-model2.x5()-model2.y())"
      ],
      "execution_count": 22,
      "outputs": [
        {
          "output_type": "stream",
          "text": [
            "The value of the first constraint=  25.46666666666659\n"
          ],
          "name": "stdout"
        }
      ]
    },
    {
      "cell_type": "markdown",
      "metadata": {
        "id": "K_kmS-K15qPJ"
      },
      "source": [
        "The value of first condtraint is 25.46666666666659 which is lesser than RHS (i.e.100)"
      ]
    },
    {
      "cell_type": "code",
      "metadata": {
        "colab": {
          "base_uri": "https://localhost:8080/"
        },
        "id": "8iqwKlC85m9m",
        "outputId": "9806963e-d468-4212-a913-6f28bd974ff7"
      },
      "source": [
        "#second Constraint\n",
        "print(\"The value of the second constraint= \",model2.x2()+2*model2.x3()+4*model2.x4())"
      ],
      "execution_count": 23,
      "outputs": [
        {
          "output_type": "stream",
          "text": [
            "The value of the second constraint=  60.0\n"
          ],
          "name": "stdout"
        }
      ]
    },
    {
      "cell_type": "markdown",
      "metadata": {
        "id": "tPsVbRCD6cw0"
      },
      "source": [
        "The value of the second constraint is 60 which is equal to the RHS (i.e.60)"
      ]
    },
    {
      "cell_type": "code",
      "metadata": {
        "colab": {
          "base_uri": "https://localhost:8080/"
        },
        "id": "Znkzfl6L6bX1",
        "outputId": "8717d9ae-2dc9-4de0-8b4e-b6f874cab0ad"
      },
      "source": [
        "#fourth constraint\n",
        "print(\"The value of the fourth constraint= \",model2.constr4())"
      ],
      "execution_count": 24,
      "outputs": [
        {
          "output_type": "stream",
          "text": [
            "The value of the fourth constraint=  191.3166666666668\n"
          ],
          "name": "stdout"
        }
      ]
    },
    {
      "cell_type": "markdown",
      "metadata": {
        "id": "SAnDZAXRNCc-"
      },
      "source": [
        "The value of the fourth constraint is 191.3166666666668 which is greater than RHS(i.e.0)"
      ]
    },
    {
      "cell_type": "code",
      "metadata": {
        "colab": {
          "base_uri": "https://localhost:8080/"
        },
        "id": "0_0wV3Qt7Gn9",
        "outputId": "3b359a25-a7a1-4e5c-ad68-2da3e7529054"
      },
      "source": [
        "print(\"The value of fifth constraint =\",model2.constr5())"
      ],
      "execution_count": 25,
      "outputs": [
        {
          "output_type": "stream",
          "text": [
            "The value of fifth constraint = 34.9833333333333\n"
          ],
          "name": "stdout"
        }
      ]
    },
    {
      "cell_type": "markdown",
      "metadata": {
        "id": "TkOGvHP3WEV7"
      },
      "source": [
        "The value of fifth constraint is 34.9833333333333 which is greater than RHS(i.e.0)"
      ]
    },
    {
      "cell_type": "code",
      "metadata": {
        "id": "4eFNDnH27k0h",
        "colab": {
          "base_uri": "https://localhost:8080/"
        },
        "outputId": "e3588846-2071-446a-9344-ac57a3b927a6"
      },
      "source": [
        "print(\"The value of the sixth constraint=\",model2.constr6())"
      ],
      "execution_count": 26,
      "outputs": [
        {
          "output_type": "stream",
          "text": [
            "The value of the sixth constraint= 0.0\n"
          ],
          "name": "stdout"
        }
      ]
    },
    {
      "cell_type": "markdown",
      "metadata": {
        "id": "1TNNyR-PWbvD"
      },
      "source": [
        "The value of sixth constraint is 0 which is equal to RHS(i.e.0)"
      ]
    },
    {
      "cell_type": "code",
      "metadata": {
        "colab": {
          "base_uri": "https://localhost:8080/"
        },
        "id": "TUESDBfhWaBl",
        "outputId": "1e929735-53ff-438a-b256-7a1b6380469b"
      },
      "source": [
        "print(\"The value of seventh constraint is=\",model2.constr7())"
      ],
      "execution_count": 27,
      "outputs": [
        {
          "output_type": "stream",
          "text": [
            "The value of seventh constraint is= 30.0\n"
          ],
          "name": "stdout"
        }
      ]
    },
    {
      "cell_type": "markdown",
      "metadata": {
        "id": "GPaGzdM5Wsld"
      },
      "source": [
        "The value of 7th constraint is 30 which is greater than RHS(i.e.0)"
      ]
    },
    {
      "cell_type": "code",
      "metadata": {
        "colab": {
          "base_uri": "https://localhost:8080/"
        },
        "id": "qd8HcIFqWrfp",
        "outputId": "078a847b-b2fd-4b7b-ff13-13ecab9fc600"
      },
      "source": [
        "print(\"The value of 8th constraint=\",model2.constr8())"
      ],
      "execution_count": 28,
      "outputs": [
        {
          "output_type": "stream",
          "text": [
            "The value of 8th constraint= 0.0\n"
          ],
          "name": "stdout"
        }
      ]
    },
    {
      "cell_type": "markdown",
      "metadata": {
        "id": "x5N4rPneXBQg"
      },
      "source": [
        "The value of 8th constraint is 0 which is equal to RHS(i.e.0)"
      ]
    },
    {
      "cell_type": "code",
      "metadata": {
        "colab": {
          "base_uri": "https://localhost:8080/"
        },
        "id": "SA5WYqXFW97I",
        "outputId": "47c9b982-fafb-439b-c9ab-d3d34a53c4bf"
      },
      "source": [
        "print(\"The value of 9th constraint= \",model2.constr9())"
      ],
      "execution_count": 29,
      "outputs": [
        {
          "output_type": "stream",
          "text": [
            "The value of 9th constraint=  37.2666666666667\n"
          ],
          "name": "stdout"
        }
      ]
    },
    {
      "cell_type": "markdown",
      "metadata": {
        "id": "F_BdjAjhXSt7"
      },
      "source": [
        "The value of 9th constraint is 37.2666666666667 which is greater than RHS(i.e.0)"
      ]
    },
    {
      "cell_type": "code",
      "metadata": {
        "colab": {
          "base_uri": "https://localhost:8080/"
        },
        "id": "h7v9D6rHXR31",
        "outputId": "cadb5be6-ff23-493e-8f3c-08277bcd96ca"
      },
      "source": [
        "print(\"The value of the 10th constraint is= \",model2.constr10())"
      ],
      "execution_count": 30,
      "outputs": [
        {
          "output_type": "stream",
          "text": [
            "The value of the 10th constraint is=  2.25\n"
          ],
          "name": "stdout"
        }
      ]
    },
    {
      "cell_type": "markdown",
      "metadata": {
        "id": "dmOLT7nZXnUt"
      },
      "source": [
        "The value of the 10th constraint is 2.25 which is greater than RHS(i.e.0)"
      ]
    },
    {
      "cell_type": "code",
      "metadata": {
        "colab": {
          "base_uri": "https://localhost:8080/"
        },
        "id": "Z337yua9XmE1",
        "outputId": "d1635953-9d7b-4b86-92bf-8fcde1a6f6da"
      },
      "source": [
        "print(\"The value of the 11th constraint is= \",model2.constr11())"
      ],
      "execution_count": 31,
      "outputs": [
        {
          "output_type": "stream",
          "text": [
            "The value of the 11th constraint is=  2.25\n"
          ],
          "name": "stdout"
        }
      ]
    },
    {
      "cell_type": "markdown",
      "metadata": {
        "id": "0VksmZg3X9mb"
      },
      "source": [
        "The value of the 11th constraint is 2.25 which is equal to the RHS(i.e.2.25)"
      ]
    },
    {
      "cell_type": "markdown",
      "metadata": {
        "id": "tt2Ja4kMX5M5"
      },
      "source": [
        "# Modification of Lpp without any assumption\n"
      ]
    },
    {
      "cell_type": "markdown",
      "metadata": {
        "id": "fYt0wysEYDav"
      },
      "source": [
        "**if we try to modify the LPP without any assumption then we have to add some other constraint in lpp. so the modified LPP is as follows:-**\n",
        "$\\max\\  0.043x_1+0.027x_2+0.025x_3+0.022x_4+0.045x_5-0.0275y \\\\\\text{s.t.}\\\\ x_1+3x_2+x_3+7x_4+x_5-y\\leq 100\\\\x_2+2x_3+4x_4\\geq 60 \\\\ 0.8x_1-4.8x_2+1.8x_3-3.8x_4-2.2x_5\\geq 0\\\\ x_1-12x_2-x_3-3x_4+5x_5\\geq 0 \\\\x_1+x_2+x_3-x_5 \\geq 0\\\\x_1-x_2+x_3-x_4+x_5 \\geq 0\\\\ x_1,x_2,x_3,x_4,x_5 \\geq 0 \\\\ y\\geq0\\\\ y\\leq2.25$\n"
      ]
    },
    {
      "cell_type": "markdown",
      "metadata": {
        "id": "qkYzyjSuZQz7"
      },
      "source": [
        "## **Que.03**\n",
        "\n",
        "$\\text{let x is the quantity(in kg) of the product P and y is the quantity(in kg) of the product Q}\\\\ \n",
        "\\text{Objective:-} $\n",
        "$$\\text{min}\\ 145x+280y$$\n",
        "$\\text{such that}$\n",
        "$$x+y\\geq 274\\\\ x\\geq84\\\\ y\\geq80\\\\69x+55y\\leq25800\n",
        "$$"
      ]
    },
    {
      "cell_type": "code",
      "metadata": {
        "id": "giPQB5ngYk2r"
      },
      "source": [
        "model3=ConcreteModel()"
      ],
      "execution_count": 32,
      "outputs": []
    },
    {
      "cell_type": "code",
      "metadata": {
        "id": "WtwIsACKUsOG"
      },
      "source": [
        "#declare variable\n",
        "model3.x=Var(domain=Reals)\n",
        "model3.y=Var(domain=Reals)"
      ],
      "execution_count": 33,
      "outputs": []
    },
    {
      "cell_type": "code",
      "metadata": {
        "id": "cEIdD-PZU8bW"
      },
      "source": [
        "#declare objective\n",
        "model3.cost=Objective(expr=145*model3.x+280*model3.y,sense=minimize)"
      ],
      "execution_count": 34,
      "outputs": []
    },
    {
      "cell_type": "code",
      "metadata": {
        "id": "adawFcD-VKim"
      },
      "source": [
        "#declare constraint\n",
        "model3.constr1=Constraint(expr=model3.x+model3.y>=274)\n",
        "model3.constr2=Constraint(expr=model3.x>=84)\n",
        "model3.constr3=Constraint(expr=model3.y>=80)\n",
        "model3.constr4=Constraint(expr=69*model3.x+55*model3.y<=25800)\n"
      ],
      "execution_count": 35,
      "outputs": []
    },
    {
      "cell_type": "code",
      "metadata": {
        "colab": {
          "base_uri": "https://localhost:8080/"
        },
        "id": "Rc4xX9CjVzHV",
        "outputId": "d546f315-99d6-4ec4-faf2-80c93a40fae6"
      },
      "source": [
        "model3.pprint()"
      ],
      "execution_count": 36,
      "outputs": [
        {
          "output_type": "stream",
          "text": [
            "2 Var Declarations\n",
            "    x : Size=1, Index=None\n",
            "        Key  : Lower : Value : Upper : Fixed : Stale : Domain\n",
            "        None :  None :  None :  None : False :  True :  Reals\n",
            "    y : Size=1, Index=None\n",
            "        Key  : Lower : Value : Upper : Fixed : Stale : Domain\n",
            "        None :  None :  None :  None : False :  True :  Reals\n",
            "\n",
            "1 Objective Declarations\n",
            "    cost : Size=1, Index=None, Active=True\n",
            "        Key  : Active : Sense    : Expression\n",
            "        None :   True : minimize : 145*x + 280*y\n",
            "\n",
            "4 Constraint Declarations\n",
            "    constr1 : Size=1, Index=None, Active=True\n",
            "        Key  : Lower : Body  : Upper : Active\n",
            "        None : 274.0 : x + y :  +Inf :   True\n",
            "    constr2 : Size=1, Index=None, Active=True\n",
            "        Key  : Lower : Body : Upper : Active\n",
            "        None :  84.0 :    x :  +Inf :   True\n",
            "    constr3 : Size=1, Index=None, Active=True\n",
            "        Key  : Lower : Body : Upper : Active\n",
            "        None :  80.0 :    y :  +Inf :   True\n",
            "    constr4 : Size=1, Index=None, Active=True\n",
            "        Key  : Lower : Body        : Upper   : Active\n",
            "        None :  -Inf : 69*x + 55*y : 25800.0 :   True\n",
            "\n",
            "7 Declarations: x y cost constr1 constr2 constr3 constr4\n"
          ],
          "name": "stdout"
        }
      ]
    },
    {
      "cell_type": "code",
      "metadata": {
        "colab": {
          "base_uri": "https://localhost:8080/"
        },
        "id": "Y54oUb2YV2dq",
        "outputId": "55735ce4-4894-4216-dd73-4de638afa198"
      },
      "source": [
        "SolverFactory('glpk',executable='/usr/bin/glpsol').solve(model3).write()"
      ],
      "execution_count": 37,
      "outputs": [
        {
          "output_type": "stream",
          "text": [
            "# ==========================================================\n",
            "# = Solver Results                                         =\n",
            "# ==========================================================\n",
            "# ----------------------------------------------------------\n",
            "#   Problem Information\n",
            "# ----------------------------------------------------------\n",
            "Problem: \n",
            "- Name: unknown\n",
            "  Lower bound: 50530.0\n",
            "  Upper bound: 50530.0\n",
            "  Number of objectives: 1\n",
            "  Number of constraints: 5\n",
            "  Number of variables: 3\n",
            "  Number of nonzeros: 7\n",
            "  Sense: minimize\n",
            "# ----------------------------------------------------------\n",
            "#   Solver Information\n",
            "# ----------------------------------------------------------\n",
            "Solver: \n",
            "- Status: ok\n",
            "  Termination condition: optimal\n",
            "  Statistics: \n",
            "    Branch and bound: \n",
            "      Number of bounded subproblems: 0\n",
            "      Number of created subproblems: 0\n",
            "  Error rc: 0\n",
            "  Time: 0.06330132484436035\n",
            "# ----------------------------------------------------------\n",
            "#   Solution Information\n",
            "# ----------------------------------------------------------\n",
            "Solution: \n",
            "- number of solutions: 0\n",
            "  number of solutions displayed: 0\n"
          ],
          "name": "stdout"
        }
      ]
    },
    {
      "cell_type": "markdown",
      "metadata": {
        "id": "LmXbHmZo-ld7"
      },
      "source": [
        "# Value of the optimal function and values of the decision variables:-"
      ]
    },
    {
      "cell_type": "code",
      "metadata": {
        "colab": {
          "base_uri": "https://localhost:8080/"
        },
        "id": "NcjthRCwWoTr",
        "outputId": "dd4fa9ba-3cf5-4ece-a437-2d29ac8397a5"
      },
      "source": [
        "print(\"The optimal value =\",model3.cost())\n",
        "print(\"The quantity of product P= \",model3.x())\n",
        "print(\"The quantity of product Q= \",model3.y())"
      ],
      "execution_count": 38,
      "outputs": [
        {
          "output_type": "stream",
          "text": [
            "The optimal value = 50530.0\n",
            "The quantity of product P=  194.0\n",
            "The quantity of product Q=  80.0\n"
          ],
          "name": "stdout"
        }
      ]
    },
    {
      "cell_type": "markdown",
      "metadata": {
        "id": "r1kwWLL9Vevj"
      },
      "source": [
        "# Constraint Activity"
      ]
    },
    {
      "cell_type": "code",
      "metadata": {
        "id": "Eb9K5BP7ZLwK",
        "colab": {
          "base_uri": "https://localhost:8080/"
        },
        "outputId": "acdb9638-cc7b-4a9c-8b12-089bf51a48fb"
      },
      "source": [
        "print(\"The value of first constraint= \",model3.constr1())"
      ],
      "execution_count": 39,
      "outputs": [
        {
          "output_type": "stream",
          "text": [
            "The value of first constraint=  274.0\n"
          ],
          "name": "stdout"
        }
      ]
    },
    {
      "cell_type": "markdown",
      "metadata": {
        "id": "l95-hUOCVxc6"
      },
      "source": [
        "The value of the first constraint is 274 which is equal to RHS(i.e.274)"
      ]
    },
    {
      "cell_type": "code",
      "metadata": {
        "colab": {
          "base_uri": "https://localhost:8080/"
        },
        "id": "SpQrTST6V5jH",
        "outputId": "eae151ec-1f15-43ad-88c2-493558271fc4"
      },
      "source": [
        "print(\"The value of the second constraint= \",model3.constr2())"
      ],
      "execution_count": 40,
      "outputs": [
        {
          "output_type": "stream",
          "text": [
            "The value of the second constraint=  194.0\n"
          ],
          "name": "stdout"
        }
      ]
    },
    {
      "cell_type": "markdown",
      "metadata": {
        "id": "um1JUlz8WDZI"
      },
      "source": [
        "The value of the second constraint is 194 which is greater than RHS(i.e. 84)"
      ]
    },
    {
      "cell_type": "code",
      "metadata": {
        "colab": {
          "base_uri": "https://localhost:8080/"
        },
        "id": "mtv6wvf3WNKK",
        "outputId": "0373ac92-32e1-4ae7-873d-6d788efdedf0"
      },
      "source": [
        "print(\"The value of the third constraint= \",model3.constr3())"
      ],
      "execution_count": 41,
      "outputs": [
        {
          "output_type": "stream",
          "text": [
            "The value of the third constraint=  80.0\n"
          ],
          "name": "stdout"
        }
      ]
    },
    {
      "cell_type": "markdown",
      "metadata": {
        "id": "hQbykK53WWk7"
      },
      "source": [
        "The value of the third constraint is 80 which is equal to RHS(i.e 80)"
      ]
    },
    {
      "cell_type": "code",
      "metadata": {
        "colab": {
          "base_uri": "https://localhost:8080/"
        },
        "id": "bvGsBNStWfWX",
        "outputId": "b1d551ea-4b07-4f5a-a3fe-ab11fda5fbe1"
      },
      "source": [
        "print(\"The value of the fourth constraint= \",model3.constr4())"
      ],
      "execution_count": 42,
      "outputs": [
        {
          "output_type": "stream",
          "text": [
            "The value of the fourth constraint=  17786.0\n"
          ],
          "name": "stdout"
        }
      ]
    },
    {
      "cell_type": "markdown",
      "metadata": {
        "id": "IINqZXCdWn6m"
      },
      "source": [
        "The value of the fourth constraint is 17786 which is less than RHS(i.e 25800)"
      ]
    },
    {
      "cell_type": "markdown",
      "metadata": {
        "id": "EEjAasAA_FZ7"
      },
      "source": [
        "# Modification in the LP model after an additional order:-"
      ]
    },
    {
      "cell_type": "markdown",
      "metadata": {
        "id": "Pjojnkt44GsE"
      },
      "source": [
        "**After an additional order the formulation will change as follows:-**\n",
        "\n",
        "**1.The minimum value of product P and product Q will increase by 102kg and 107kg respectively.**\n",
        "\n",
        "**2.The maximum value of x+y will increase by 102+117=219.**\n",
        "\n",
        "$\\text{let x is the quantity(in kg) of the product P and y is the quantity(in kg) of the product Q}\\\\ \n",
        "\\text{Objective:-} $\n",
        "$$\\text{min}\\ 145x+280y$$\n",
        "$\\text{such that}$\n",
        "$$x+y\\geq 493\\\\ x\\geq186\\\\ y\\geq197\\\\69x+55y\\leq25800\n",
        "$$"
      ]
    },
    {
      "cell_type": "code",
      "metadata": {
        "id": "CFi6O8ux46FY"
      },
      "source": [
        "model32=ConcreteModel()"
      ],
      "execution_count": 43,
      "outputs": []
    },
    {
      "cell_type": "code",
      "metadata": {
        "id": "wYFfGy585ben"
      },
      "source": [
        "#declare variable\n",
        "model32.x=Var(domain=Reals)\n",
        "model32.y=Var(domain=Reals)\n"
      ],
      "execution_count": 44,
      "outputs": []
    },
    {
      "cell_type": "code",
      "metadata": {
        "id": "_HbS0-s_5qoa"
      },
      "source": [
        "#declare objective\n",
        "model32.cost=Objective(expr=145*model32.x+280*model32.y,sense=minimize)"
      ],
      "execution_count": 45,
      "outputs": []
    },
    {
      "cell_type": "code",
      "metadata": {
        "id": "AX6f-Kkn565-"
      },
      "source": [
        "#declare constraint\n",
        "model32.constr1=Constraint(expr=model32.x+model32.y>=493)\n",
        "model32.constr2=Constraint(expr=model32.x>=186)\n",
        "model32.constr3=Constraint(expr=model32.y>=197)\n",
        "model32.constr4=Constraint(expr=69*model32.x+55*model32.y<=25800)"
      ],
      "execution_count": 46,
      "outputs": []
    },
    {
      "cell_type": "code",
      "metadata": {
        "colab": {
          "base_uri": "https://localhost:8080/"
        },
        "id": "nBPYtOWu6bVJ",
        "outputId": "7748c9dd-ced5-4351-a4f1-2875ee740bce"
      },
      "source": [
        "model32.pprint()"
      ],
      "execution_count": 47,
      "outputs": [
        {
          "output_type": "stream",
          "text": [
            "2 Var Declarations\n",
            "    x : Size=1, Index=None\n",
            "        Key  : Lower : Value : Upper : Fixed : Stale : Domain\n",
            "        None :  None :  None :  None : False :  True :  Reals\n",
            "    y : Size=1, Index=None\n",
            "        Key  : Lower : Value : Upper : Fixed : Stale : Domain\n",
            "        None :  None :  None :  None : False :  True :  Reals\n",
            "\n",
            "1 Objective Declarations\n",
            "    cost : Size=1, Index=None, Active=True\n",
            "        Key  : Active : Sense    : Expression\n",
            "        None :   True : minimize : 145*x + 280*y\n",
            "\n",
            "4 Constraint Declarations\n",
            "    constr1 : Size=1, Index=None, Active=True\n",
            "        Key  : Lower : Body  : Upper : Active\n",
            "        None : 493.0 : x + y :  +Inf :   True\n",
            "    constr2 : Size=1, Index=None, Active=True\n",
            "        Key  : Lower : Body : Upper : Active\n",
            "        None : 186.0 :    x :  +Inf :   True\n",
            "    constr3 : Size=1, Index=None, Active=True\n",
            "        Key  : Lower : Body : Upper : Active\n",
            "        None : 197.0 :    y :  +Inf :   True\n",
            "    constr4 : Size=1, Index=None, Active=True\n",
            "        Key  : Lower : Body        : Upper   : Active\n",
            "        None :  -Inf : 69*x + 55*y : 25800.0 :   True\n",
            "\n",
            "7 Declarations: x y cost constr1 constr2 constr3 constr4\n"
          ],
          "name": "stdout"
        }
      ]
    },
    {
      "cell_type": "code",
      "metadata": {
        "colab": {
          "base_uri": "https://localhost:8080/"
        },
        "id": "QJ6lb2Qv6eH4",
        "outputId": "19ed3bd6-a1dc-456f-a5e8-2edf112699f5"
      },
      "source": [
        "SolverFactory('glpk',executable='/usr/bin/glpsol').solve(model32).write()"
      ],
      "execution_count": 48,
      "outputs": [
        {
          "output_type": "stream",
          "text": [
            "# ==========================================================\n",
            "# = Solver Results                                         =\n",
            "# ==========================================================\n",
            "# ----------------------------------------------------------\n",
            "#   Problem Information\n",
            "# ----------------------------------------------------------\n",
            "Problem: \n",
            "- Name: unknown\n",
            "  Lower bound: -inf\n",
            "  Upper bound: inf\n",
            "  Number of objectives: 1\n",
            "  Number of constraints: 5\n",
            "  Number of variables: 3\n",
            "  Number of nonzeros: 7\n",
            "  Sense: minimize\n",
            "# ----------------------------------------------------------\n",
            "#   Solver Information\n",
            "# ----------------------------------------------------------\n",
            "Solver: \n",
            "- Status: ok\n",
            "  Termination condition: other\n",
            "  Statistics: \n",
            "    Branch and bound: \n",
            "      Number of bounded subproblems: 0\n",
            "      Number of created subproblems: 0\n",
            "  Error rc: 0\n",
            "  Time: 0.014882802963256836\n"
          ],
          "name": "stdout"
        }
      ]
    },
    {
      "cell_type": "code",
      "metadata": {
        "id": "ybOZGWIT6pH2"
      },
      "source": [
        ""
      ],
      "execution_count": 48,
      "outputs": []
    },
    {
      "cell_type": "markdown",
      "metadata": {
        "id": "b4hCfnRv7x5E"
      },
      "source": [
        "**This linear program is unbounded,so we don't get any optimal solution.I would like to suggest the maple industries to increase the avalilable time to fulfill tha new requirement.**"
      ]
    },
    {
      "cell_type": "code",
      "metadata": {
        "id": "dr_lYZDU8dyL"
      },
      "source": [
        ""
      ],
      "execution_count": 48,
      "outputs": []
    }
  ]
}