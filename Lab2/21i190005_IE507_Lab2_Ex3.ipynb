{
  "nbformat": 4,
  "nbformat_minor": 0,
  "metadata": {
    "colab": {
      "name": "21i190005_IE507_Lab2_Ex3.ipynb",
      "provenance": []
    },
    "kernelspec": {
      "name": "python3",
      "display_name": "Python 3"
    },
    "language_info": {
      "name": "python"
    }
  },
  "cells": [
    {
      "cell_type": "markdown",
      "metadata": {
        "id": "f5ZZcrUVIMbm"
      },
      "source": [
        "# Que.3"
      ]
    },
    {
      "cell_type": "code",
      "metadata": {
        "id": "EnDY4xfsIJad"
      },
      "source": [
        "!pip install -q pyomo"
      ],
      "execution_count": null,
      "outputs": []
    },
    {
      "cell_type": "code",
      "metadata": {
        "id": "foxOCK5JIUbp"
      },
      "source": [
        "from pyomo.environ import *"
      ],
      "execution_count": null,
      "outputs": []
    },
    {
      "cell_type": "code",
      "metadata": {
        "id": "HQ62Odm_IZuW"
      },
      "source": [
        "import numpy as np"
      ],
      "execution_count": null,
      "outputs": []
    },
    {
      "cell_type": "markdown",
      "metadata": {
        "id": "10EoW4SMImJQ"
      },
      "source": [
        "let $x_i$ is the quantity of alloy $A_i$ that has been used from in house stock and also let $y_i$ is the quantity of alloy $A_i$ that has been purchased from market.then our LPP will be:-\n",
        "\n",
        "$objective:-$ $$ \\text{min}\\ 35x_1+50x_2+58x_3+60x_4+44x_5+39x_6+45x_7+55x_8+35x_9+40x_{10}+72y_1+95y_2+110y_3+125y_4+88y_5+74y_6+95y_7+115y_8+60y_9+84y_{10} $$ $\\\\\\text{subject to} $ \n",
        "\n",
        "$$.20(x_1+y_1)+0.20(x_2+y_2)+.25(x_3+y_3)+.15(x_4+y_4)+0.10(x_5+y_5)+.25(x_6+y_6)-.15(x_7+y_7)+0.20(x_8+y_8)+0.5(x_9+y_9)-.20(x_{10}+y_{10})=0\\\\ .35(x_1+y_1)+0.30(x_2+y_2)+.30(x_3+y_3)+.15(x_4+y_4)+0.10(x_5+y_5)+.10(x_6+y_6)-.05(x_7+y_7)-0.10(x_8+y_8)-0.15(x_9+y_9)-.15(x_{10}+y_{10})=0\\\\ .15(x_1+y_1)+0.10(x_2+y_2)+.05(x_3+y_3)+0(x_4+y_4)+0(x_5+y_5)-.15(x_6+y_6)+.10(x_7+y_7)-0.30(x_8+y_8)-0.20(x_9+y_9)+.05(x_{10}+y_{10})=0\\\\ \\sum_{i=1}^{i=10}(x_i+y_i)=450 \\\\ x_1\\leq12,x_2\\leq9,x_3\\leq16,x_4\\leq25,x_5\\leq4,x_6\\leq5,x_7\\leq10,x_8\\leq13,x_9\\leq0,x_{10}\\leq6\\\\ x_i\\geq0 ,i=1,2,...,10\\\\y_i\\geq0,i=1,2,...,10$$\n"
      ]
    },
    {
      "cell_type": "code",
      "metadata": {
        "id": "BweZ4x_gIcX7"
      },
      "source": [
        "model=ConcreteModel()"
      ],
      "execution_count": null,
      "outputs": []
    },
    {
      "cell_type": "code",
      "metadata": {
        "id": "T-Z6S60edHhL"
      },
      "source": [
        "M=10"
      ],
      "execution_count": null,
      "outputs": []
    },
    {
      "cell_type": "code",
      "metadata": {
        "id": "mRj9FCp7dxyo"
      },
      "source": [
        "obj_coef_c=np.array([35,50,58,60,44,39,45,55,35,40])\n",
        "obj_coef_p=np.array([72,95,110,125,88,74,95,115,60,84])"
      ],
      "execution_count": null,
      "outputs": []
    },
    {
      "cell_type": "code",
      "metadata": {
        "id": "S_xAXSaPeD-O"
      },
      "source": [
        "constr1_coef_ch=np.array([.20,.20,.25,.15,.10,.25,-.15,.20,.05,-.20])\n",
        "constr2_coef_co=np.array([.35,.30,.30,.15,.10,.10,-0.05,-0.10,-.15,-.15])\n",
        "constr3_coef_si=np.array([.15,.10,.05,0,0,-.15,.10,-.30,-.20,.05])\n",
        "constr4_coef=np.array([1,1,1,1,1,1,1,1,1,1])"
      ],
      "execution_count": null,
      "outputs": []
    },
    {
      "cell_type": "code",
      "metadata": {
        "id": "e4ypzA-Mekl8"
      },
      "source": [
        "col_indices=np.arange(M)"
      ],
      "execution_count": null,
      "outputs": []
    },
    {
      "cell_type": "code",
      "metadata": {
        "id": "TUtgi16vepML"
      },
      "source": [
        "model.x=Var(col_indices)\n",
        "model.y=Var(col_indices)"
      ],
      "execution_count": null,
      "outputs": []
    },
    {
      "cell_type": "code",
      "metadata": {
        "id": "XV7trJUsewVH"
      },
      "source": [
        "model.objective=Objective(expr=sum((obj_coef_c[j]*model.x[j])+(obj_coef_p[j]*model.y[j])for j in col_indices),sense=minimize)"
      ],
      "execution_count": null,
      "outputs": []
    },
    {
      "cell_type": "code",
      "metadata": {
        "id": "P9xGwNRrgKVL"
      },
      "source": [
        "constr1_rhs_b1=0\n",
        "constr2_rhs_b2=0\n",
        "constr3_rhs_b3=0\n",
        "constr4_rhs_b4=450"
      ],
      "execution_count": null,
      "outputs": []
    },
    {
      "cell_type": "code",
      "metadata": {
        "id": "k321b2lJfLgM"
      },
      "source": [
        "model.constraints=ConstraintList()"
      ],
      "execution_count": null,
      "outputs": []
    },
    {
      "cell_type": "code",
      "metadata": {
        "colab": {
          "base_uri": "https://localhost:8080/"
        },
        "id": "BwsVoXKOfPbc",
        "outputId": "00512a2e-56bd-4bad-d8af-038f7e415371"
      },
      "source": [
        "model.constraints.add(sum((constr1_coef_ch[j]*model.x[j])+(constr1_coef_ch[j]*model.y[j])for j in col_indices)==constr1_rhs_b1)"
      ],
      "execution_count": null,
      "outputs": [
        {
          "output_type": "execute_result",
          "data": {
            "text/plain": [
              "<pyomo.core.base.constraint._GeneralConstraintData at 0x7fcd25de51a0>"
            ]
          },
          "metadata": {
            "tags": []
          },
          "execution_count": 35
        }
      ]
    },
    {
      "cell_type": "code",
      "metadata": {
        "colab": {
          "base_uri": "https://localhost:8080/"
        },
        "id": "1pzLsOpJf6Fc",
        "outputId": "27d0203f-cfe2-45c7-e449-879e67986867"
      },
      "source": [
        "model.constraints.add(sum((constr2_coef_co[j]*model.x[j])+(constr2_coef_co[j]*model.y[j])for j in col_indices)==constr2_rhs_b2)\n",
        "model.constraints.add(sum((constr3_coef_si[j]*model.x[j])+(constr3_coef_si[j]*model.y[j])for j in col_indices)==constr3_rhs_b3)\n",
        "model.constraints.add(sum((constr4_coef[j]*model.x[j])+(constr4_coef[j]*model.y[j])for j in col_indices)==constr4_rhs_b4)"
      ],
      "execution_count": null,
      "outputs": [
        {
          "output_type": "execute_result",
          "data": {
            "text/plain": [
              "<pyomo.core.base.constraint._GeneralConstraintData at 0x7fcd25de5600>"
            ]
          },
          "metadata": {
            "tags": []
          },
          "execution_count": 36
        }
      ]
    },
    {
      "cell_type": "code",
      "metadata": {
        "id": "LjCjyrJhhF7I"
      },
      "source": [
        "lx=np.array([0,0,0,0,0,0,0,0,0,0])\n",
        "ux=np.array([12,9,16,25,4,5,10,13,0,6])\n",
        "ly=np.array([0,0,0,0,0,0,0,0,0,0])\n",
        "uy=np.array([450,450,450,450,450,450,450,450,450,450])"
      ],
      "execution_count": null,
      "outputs": []
    },
    {
      "cell_type": "code",
      "metadata": {
        "id": "qSzG5SMXgyA6"
      },
      "source": [
        "for j in col_indices:\n",
        "  model.x[j].setlb(lx[j])\n",
        "  model.x[j].setub(ux[j])\n",
        "\n",
        "  model.y[j].setlb(ly[j])\n",
        "  #model.y[j].setub(uy[j])"
      ],
      "execution_count": null,
      "outputs": []
    },
    {
      "cell_type": "code",
      "metadata": {
        "colab": {
          "base_uri": "https://localhost:8080/"
        },
        "id": "fI_WP5Uwhxeh",
        "outputId": "6f92e376-4790-4dfb-aed2-52c6739c609d"
      },
      "source": [
        "model.pprint()"
      ],
      "execution_count": null,
      "outputs": [
        {
          "output_type": "stream",
          "text": [
            "3 Set Declarations\n",
            "    constraints_index : Size=1, Index=None, Ordered=Insertion\n",
            "        Key  : Dimen : Domain : Size : Members\n",
            "        None :     1 :    Any :    4 : {1, 2, 3, 4}\n",
            "    x_index : Size=1, Index=None, Ordered=False\n",
            "        Key  : Dimen : Domain : Size : Members\n",
            "        None :     1 :    Any :   10 : {0, 1, 2, 3, 4, 5, 6, 7, 8, 9}\n",
            "    y_index : Size=1, Index=None, Ordered=False\n",
            "        Key  : Dimen : Domain : Size : Members\n",
            "        None :     1 :    Any :   10 : {0, 1, 2, 3, 4, 5, 6, 7, 8, 9}\n",
            "\n",
            "2 Var Declarations\n",
            "    x : Size=10, Index=x_index\n",
            "        Key : Lower : Value : Upper : Fixed : Stale : Domain\n",
            "          0 :     0 :  None :    12 : False :  True :  Reals\n",
            "          1 :     0 :  None :     9 : False :  True :  Reals\n",
            "          2 :     0 :  None :    16 : False :  True :  Reals\n",
            "          3 :     0 :  None :    25 : False :  True :  Reals\n",
            "          4 :     0 :  None :     4 : False :  True :  Reals\n",
            "          5 :     0 :  None :     5 : False :  True :  Reals\n",
            "          6 :     0 :  None :    10 : False :  True :  Reals\n",
            "          7 :     0 :  None :    13 : False :  True :  Reals\n",
            "          8 :     0 :  None :     0 : False :  True :  Reals\n",
            "          9 :     0 :  None :     6 : False :  True :  Reals\n",
            "    y : Size=10, Index=y_index\n",
            "        Key : Lower : Value : Upper : Fixed : Stale : Domain\n",
            "          0 :     0 :  None :  None : False :  True :  Reals\n",
            "          1 :     0 :  None :  None : False :  True :  Reals\n",
            "          2 :     0 :  None :  None : False :  True :  Reals\n",
            "          3 :     0 :  None :  None : False :  True :  Reals\n",
            "          4 :     0 :  None :  None : False :  True :  Reals\n",
            "          5 :     0 :  None :  None : False :  True :  Reals\n",
            "          6 :     0 :  None :  None : False :  True :  Reals\n",
            "          7 :     0 :  None :  None : False :  True :  Reals\n",
            "          8 :     0 :  None :  None : False :  True :  Reals\n",
            "          9 :     0 :  None :  None : False :  True :  Reals\n",
            "\n",
            "1 Objective Declarations\n",
            "    objective : Size=1, Index=None, Active=True\n",
            "        Key  : Active : Sense    : Expression\n",
            "        None :   True : minimize : 35*x[0] + 72*y[0] + 50*x[1] + 95*y[1] + 58*x[2] + 110*y[2] + 60*x[3] + 125*y[3] + 44*x[4] + 88*y[4] + 39*x[5] + 74*y[5] + 45*x[6] + 95*y[6] + 55*x[7] + 115*y[7] + 35*x[8] + 60*y[8] + 40*x[9] + 84*y[9]\n",
            "\n",
            "1 Constraint Declarations\n",
            "    constraints : Size=4, Index=constraints_index, Active=True\n",
            "        Key : Lower : Body                                                                                                                                                                                                                                : Upper : Active\n",
            "          1 :   0.0 : 0.2*x[0] + 0.2*y[0] + 0.2*x[1] + 0.2*y[1] + 0.25*x[2] + 0.25*y[2] + 0.15*x[3] + 0.15*y[3] + 0.1*x[4] + 0.1*y[4] + 0.25*x[5] + 0.25*y[5] - 0.15*x[6] - 0.15*y[6] + 0.2*x[7] + 0.2*y[7] + 0.05*x[8] + 0.05*y[8] - 0.2*x[9] - 0.2*y[9] :   0.0 :   True\n",
            "          2 :   0.0 : 0.35*x[0] + 0.35*y[0] + 0.3*x[1] + 0.3*y[1] + 0.3*x[2] + 0.3*y[2] + 0.15*x[3] + 0.15*y[3] + 0.1*x[4] + 0.1*y[4] + 0.1*x[5] + 0.1*y[5] - 0.05*x[6] - 0.05*y[6] - 0.1*x[7] - 0.1*y[7] - 0.15*x[8] - 0.15*y[8] - 0.15*x[9] - 0.15*y[9] :   0.0 :   True\n",
            "          3 :   0.0 :                                               0.15*x[0] + 0.15*y[0] + 0.1*x[1] + 0.1*y[1] + 0.05*x[2] + 0.05*y[2] - 0.15*x[5] - 0.15*y[5] + 0.1*x[6] + 0.1*y[6] - 0.3*x[7] - 0.3*y[7] - 0.2*x[8] - 0.2*y[8] + 0.05*x[9] + 0.05*y[9] :   0.0 :   True\n",
            "          4 : 450.0 :                                                                                           x[0] + y[0] + x[1] + y[1] + x[2] + y[2] + x[3] + y[3] + x[4] + y[4] + x[5] + y[5] + x[6] + y[6] + x[7] + y[7] + x[8] + y[8] + x[9] + y[9] : 450.0 :   True\n",
            "\n",
            "7 Declarations: x_index x y_index y objective constraints_index constraints\n"
          ],
          "name": "stdout"
        }
      ]
    },
    {
      "cell_type": "code",
      "metadata": {
        "id": "V4SrAJE3h1L7"
      },
      "source": [
        "!apt-get install -y -qq glpk-utils"
      ],
      "execution_count": null,
      "outputs": []
    },
    {
      "cell_type": "code",
      "metadata": {
        "colab": {
          "base_uri": "https://localhost:8080/"
        },
        "id": "eRwuharCh_yZ",
        "outputId": "1d2883ca-390d-41b6-c1f0-43ce124d6dce"
      },
      "source": [
        "SolverFactory('glpk',executable='/usr/bin/glpsol').solve(model).write()"
      ],
      "execution_count": null,
      "outputs": [
        {
          "output_type": "stream",
          "text": [
            "# ==========================================================\n",
            "# = Solver Results                                         =\n",
            "# ==========================================================\n",
            "# ----------------------------------------------------------\n",
            "#   Problem Information\n",
            "# ----------------------------------------------------------\n",
            "Problem: \n",
            "- Name: unknown\n",
            "  Lower bound: 31013.4\n",
            "  Upper bound: 31013.4\n",
            "  Number of objectives: 1\n",
            "  Number of constraints: 5\n",
            "  Number of variables: 21\n",
            "  Number of nonzeros: 77\n",
            "  Sense: minimize\n",
            "# ----------------------------------------------------------\n",
            "#   Solver Information\n",
            "# ----------------------------------------------------------\n",
            "Solver: \n",
            "- Status: ok\n",
            "  Termination condition: optimal\n",
            "  Statistics: \n",
            "    Branch and bound: \n",
            "      Number of bounded subproblems: 0\n",
            "      Number of created subproblems: 0\n",
            "  Error rc: 0\n",
            "  Time: 0.01165914535522461\n",
            "# ----------------------------------------------------------\n",
            "#   Solution Information\n",
            "# ----------------------------------------------------------\n",
            "Solution: \n",
            "- number of solutions: 0\n",
            "  number of solutions displayed: 0\n"
          ],
          "name": "stdout"
        }
      ]
    },
    {
      "cell_type": "markdown",
      "metadata": {
        "id": "A6r3t7l08e24"
      },
      "source": [
        "Que3(3)\n",
        "\n",
        "**optimal value is 31013.4**"
      ]
    },
    {
      "cell_type": "code",
      "metadata": {
        "colab": {
          "base_uri": "https://localhost:8080/"
        },
        "id": "MhGcr99RiN3e",
        "outputId": "e6f81524-e098-4e2a-bbba-f70f954de2c2"
      },
      "source": [
        "for j in col_indices:\n",
        "  print(\"x[\",j+1,\"]= \",model.x[j].value)"
      ],
      "execution_count": null,
      "outputs": [
        {
          "output_type": "stream",
          "text": [
            "x[ 1 ]=  12.0\n",
            "x[ 2 ]=  9.0\n",
            "x[ 3 ]=  16.0\n",
            "x[ 4 ]=  25.0\n",
            "x[ 5 ]=  4.0\n",
            "x[ 6 ]=  5.0\n",
            "x[ 7 ]=  10.0\n",
            "x[ 8 ]=  0.0\n",
            "x[ 9 ]=  0.0\n",
            "x[ 10 ]=  6.0\n"
          ],
          "name": "stdout"
        }
      ]
    },
    {
      "cell_type": "code",
      "metadata": {
        "colab": {
          "base_uri": "https://localhost:8080/"
        },
        "id": "UqblYJwNispW",
        "outputId": "066b2de3-59b0-4556-eea0-3f2ff0380870"
      },
      "source": [
        "for j in col_indices:\n",
        "  print(\"y[\",j+1,\"]= \",model.y[j].value)"
      ],
      "execution_count": null,
      "outputs": [
        {
          "output_type": "stream",
          "text": [
            "y[ 1 ]=  79.0\n",
            "y[ 2 ]=  0.0\n",
            "y[ 3 ]=  0.0\n",
            "y[ 4 ]=  0.0\n",
            "y[ 5 ]=  0.0\n",
            "y[ 6 ]=  0.0\n",
            "y[ 7 ]=  0.0\n",
            "y[ 8 ]=  0.0\n",
            "y[ 9 ]=  120.4\n",
            "y[ 10 ]=  163.6\n"
          ],
          "name": "stdout"
        }
      ]
    },
    {
      "cell_type": "markdown",
      "metadata": {
        "id": "lpRGlCtG9Now"
      },
      "source": [
        "Que3(4)\n",
        "\n",
        "**Alloy A1,A9 and A10 need to be bougth from the market and A1,A9 and A10 are ranked high in terms of the quantities to be bought and rest of the alloys need not to be bougth from the market**"
      ]
    },
    {
      "cell_type": "markdown",
      "metadata": {
        "id": "ZTg2F8Ay-fYd"
      },
      "source": [
        "Que.3(5)\n",
        "\n",
        "**Stocks of all Alloys are completely utilized except A8,the stocks of these alloys utilized completely because using these alloys from in house stock is cheaper than buying from market.**"
      ]
    },
    {
      "cell_type": "markdown",
      "metadata": {
        "id": "fSCNtJhI_d5J"
      },
      "source": [
        "Que.3(6)\n",
        "\n",
        "**A2,A3,A4,A5,A6,A7,A8 need not to be aquired from market,because using these alloys from in house stock is cheaper than buying from market.**"
      ]
    },
    {
      "cell_type": "code",
      "metadata": {
        "id": "EtshYbyd8gFK"
      },
      "source": [
        ""
      ],
      "execution_count": null,
      "outputs": []
    },
    {
      "cell_type": "code",
      "metadata": {
        "id": "dnHhfXmgjZiv"
      },
      "source": [
        ""
      ],
      "execution_count": null,
      "outputs": []
    }
  ]
}