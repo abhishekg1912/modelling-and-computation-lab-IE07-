{
  "nbformat": 4,
  "nbformat_minor": 0,
  "metadata": {
    "colab": {
      "name": "21i190005_IE507_Lab3_Ex1.ipynb",
      "provenance": [],
      "collapsed_sections": []
    },
    "kernelspec": {
      "name": "python3",
      "display_name": "Python 3"
    },
    "language_info": {
      "name": "python"
    }
  },
  "cells": [
    {
      "cell_type": "markdown",
      "metadata": {
        "id": "aQhTmyZPgZOE"
      },
      "source": [
        "**EXERCISE-1**"
      ]
    },
    {
      "cell_type": "markdown",
      "metadata": {
        "id": "JK-zH1fCLIAf"
      },
      "source": [
        "Que.1"
      ]
    },
    {
      "cell_type": "code",
      "metadata": {
        "id": "CYCmGkoSzjJA",
        "colab": {
          "base_uri": "https://localhost:8080/"
        },
        "outputId": "ec96a0ce-1995-48b8-cf84-a88134b4b18d"
      },
      "source": [
        "!pip install -q pyomo"
      ],
      "execution_count": 1,
      "outputs": [
        {
          "output_type": "stream",
          "text": [
            "\u001b[K     |████████████████████████████████| 9.1 MB 3.7 MB/s \n",
            "\u001b[K     |████████████████████████████████| 49 kB 5.1 MB/s \n",
            "\u001b[?25h"
          ],
          "name": "stdout"
        }
      ]
    },
    {
      "cell_type": "code",
      "metadata": {
        "id": "rarJNfYmzwf-"
      },
      "source": [
        "from pyomo.environ import *"
      ],
      "execution_count": 2,
      "outputs": []
    },
    {
      "cell_type": "code",
      "metadata": {
        "id": "izqwBeTOz09d"
      },
      "source": [
        "import numpy as np"
      ],
      "execution_count": 3,
      "outputs": []
    },
    {
      "cell_type": "code",
      "metadata": {
        "id": "xtzjXmR7z28_"
      },
      "source": [
        "model=ConcreteModel()"
      ],
      "execution_count": 4,
      "outputs": []
    },
    {
      "cell_type": "code",
      "metadata": {
        "id": "3csIbuRgz54A"
      },
      "source": [
        "obj_coef=np.array([1,-2,3])"
      ],
      "execution_count": 5,
      "outputs": []
    },
    {
      "cell_type": "code",
      "metadata": {
        "id": "xS97zXMm0JI3"
      },
      "source": [
        "constr_coef_A=np.array([[2,1,2],[-1,1,2],[2,-3,1]])\n",
        "constr_rhs_b=np.array([10,-3,-6])\n",
        "lower_bound=np.array([1,2,1])\n",
        "upper_bound=np.array([np.inf,np.inf,np.inf])\n",
        "N=3\n",
        "M=3"
      ],
      "execution_count": 6,
      "outputs": []
    },
    {
      "cell_type": "code",
      "metadata": {
        "id": "mrF_YWSW1VkS"
      },
      "source": [
        "col_indices=np.arange(N)\n",
        "row_indices=np.arange(M)"
      ],
      "execution_count": 7,
      "outputs": []
    },
    {
      "cell_type": "code",
      "metadata": {
        "id": "65i3FU1M1b8H"
      },
      "source": [
        "model.x=Var(col_indices)"
      ],
      "execution_count": 8,
      "outputs": []
    },
    {
      "cell_type": "code",
      "metadata": {
        "id": "WwmrVbhS1etc"
      },
      "source": [
        "for i in col_indices:\n",
        "  model.x[i].setlb(lower_bound[i])\n",
        "  model.x[i].setub(upper_bound[i])"
      ],
      "execution_count": 9,
      "outputs": []
    },
    {
      "cell_type": "code",
      "metadata": {
        "id": "gPY6u_r81tNu"
      },
      "source": [
        "model.objective=Objective(expr=summation(obj_coef,model.x),sense=minimize)"
      ],
      "execution_count": 10,
      "outputs": []
    },
    {
      "cell_type": "code",
      "metadata": {
        "id": "RkCHYd3M18td"
      },
      "source": [
        "model.constraints=ConstraintList()"
      ],
      "execution_count": 11,
      "outputs": []
    },
    {
      "cell_type": "code",
      "metadata": {
        "id": "LMhcOWfc2AbE"
      },
      "source": [
        "for i in row_indices:\n",
        "  model.constraints.add(sum(constr_coef_A[i,j]*model.x[j] for j in col_indices)<=constr_rhs_b[i])"
      ],
      "execution_count": 12,
      "outputs": []
    },
    {
      "cell_type": "code",
      "metadata": {
        "colab": {
          "base_uri": "https://localhost:8080/"
        },
        "id": "QxHVXTlG2ZaP",
        "outputId": "8793652a-efed-4b0d-f7c3-2a61e7fa97ca"
      },
      "source": [
        "model.pprint()"
      ],
      "execution_count": 13,
      "outputs": [
        {
          "output_type": "stream",
          "text": [
            "2 Set Declarations\n",
            "    constraints_index : Size=1, Index=None, Ordered=Insertion\n",
            "        Key  : Dimen : Domain : Size : Members\n",
            "        None :     1 :    Any :    3 : {1, 2, 3}\n",
            "    x_index : Size=1, Index=None, Ordered=False\n",
            "        Key  : Dimen : Domain : Size : Members\n",
            "        None :     1 :    Any :    3 : {0, 1, 2}\n",
            "\n",
            "1 Var Declarations\n",
            "    x : Size=3, Index=x_index\n",
            "        Key : Lower : Value : Upper : Fixed : Stale : Domain\n",
            "          0 :     1 :  None :   inf : False :  True :  Reals\n",
            "          1 :     2 :  None :   inf : False :  True :  Reals\n",
            "          2 :     1 :  None :   inf : False :  True :  Reals\n",
            "\n",
            "1 Objective Declarations\n",
            "    objective : Size=1, Index=None, Active=True\n",
            "        Key  : Active : Sense    : Expression\n",
            "        None :   True : minimize : x[0] - 2.0*x[1] + 3*x[2]\n",
            "\n",
            "1 Constraint Declarations\n",
            "    constraints : Size=3, Index=constraints_index, Active=True\n",
            "        Key : Lower : Body                   : Upper : Active\n",
            "          1 :  -Inf : 2*x[0] + x[1] + 2*x[2] :  10.0 :   True\n",
            "          2 :  -Inf : - x[0] + x[1] + 2*x[2] :  -3.0 :   True\n",
            "          3 :  -Inf : 2*x[0] - 3*x[1] + x[2] :  -6.0 :   True\n",
            "\n",
            "5 Declarations: x_index x objective constraints_index constraints\n"
          ],
          "name": "stdout"
        }
      ]
    },
    {
      "cell_type": "markdown",
      "metadata": {
        "id": "G481UnrOb47i"
      },
      "source": [
        "solving using glpk solver"
      ]
    },
    {
      "cell_type": "code",
      "metadata": {
        "id": "9HA2yW0U2bn0",
        "colab": {
          "base_uri": "https://localhost:8080/"
        },
        "outputId": "040b8a4a-c2b8-4e14-ce3d-99224d85d118"
      },
      "source": [
        "!apt-get install -y -qq glpk-utils"
      ],
      "execution_count": 14,
      "outputs": [
        {
          "output_type": "stream",
          "text": [
            "Selecting previously unselected package libsuitesparseconfig5:amd64.\n",
            "(Reading database ... 148486 files and directories currently installed.)\n",
            "Preparing to unpack .../libsuitesparseconfig5_1%3a5.1.2-2_amd64.deb ...\n",
            "Unpacking libsuitesparseconfig5:amd64 (1:5.1.2-2) ...\n",
            "Selecting previously unselected package libamd2:amd64.\n",
            "Preparing to unpack .../libamd2_1%3a5.1.2-2_amd64.deb ...\n",
            "Unpacking libamd2:amd64 (1:5.1.2-2) ...\n",
            "Selecting previously unselected package libcolamd2:amd64.\n",
            "Preparing to unpack .../libcolamd2_1%3a5.1.2-2_amd64.deb ...\n",
            "Unpacking libcolamd2:amd64 (1:5.1.2-2) ...\n",
            "Selecting previously unselected package libglpk40:amd64.\n",
            "Preparing to unpack .../libglpk40_4.65-1_amd64.deb ...\n",
            "Unpacking libglpk40:amd64 (4.65-1) ...\n",
            "Selecting previously unselected package glpk-utils.\n",
            "Preparing to unpack .../glpk-utils_4.65-1_amd64.deb ...\n",
            "Unpacking glpk-utils (4.65-1) ...\n",
            "Setting up libsuitesparseconfig5:amd64 (1:5.1.2-2) ...\n",
            "Setting up libcolamd2:amd64 (1:5.1.2-2) ...\n",
            "Setting up libamd2:amd64 (1:5.1.2-2) ...\n",
            "Setting up libglpk40:amd64 (4.65-1) ...\n",
            "Setting up glpk-utils (4.65-1) ...\n",
            "Processing triggers for libc-bin (2.27-3ubuntu1.2) ...\n",
            "/sbin/ldconfig.real: /usr/local/lib/python3.7/dist-packages/ideep4py/lib/libmkldnn.so.0 is not a symbolic link\n",
            "\n",
            "Processing triggers for man-db (2.8.3-2ubuntu0.1) ...\n"
          ],
          "name": "stdout"
        }
      ]
    },
    {
      "cell_type": "code",
      "metadata": {
        "id": "dRndWH_Q2t3n"
      },
      "source": [
        "opt=SolverFactory('glpk',executable='/usr/bin/glpsol')"
      ],
      "execution_count": 15,
      "outputs": []
    },
    {
      "cell_type": "code",
      "metadata": {
        "colab": {
          "base_uri": "https://localhost:8080/"
        },
        "id": "vsp7eCCf22zJ",
        "outputId": "9fcbfd32-3616-4aaf-86d0-77b86ae5988a"
      },
      "source": [
        "result=opt.solve(model)\n",
        "print(result)\n",
        "\n",
        "print('Solver status:', result.solver.status)\n",
        "print('Solver termination condition:',result.solver.termination_condition)"
      ],
      "execution_count": 16,
      "outputs": [
        {
          "output_type": "stream",
          "text": [
            "\n",
            "Problem: \n",
            "- Name: unknown\n",
            "  Lower bound: -inf\n",
            "  Upper bound: inf\n",
            "  Number of objectives: 1\n",
            "  Number of constraints: 4\n",
            "  Number of variables: 4\n",
            "  Number of nonzeros: 10\n",
            "  Sense: minimize\n",
            "Solver: \n",
            "- Status: ok\n",
            "  Termination condition: other\n",
            "  Statistics: \n",
            "    Branch and bound: \n",
            "      Number of bounded subproblems: 0\n",
            "      Number of created subproblems: 0\n",
            "  Error rc: 0\n",
            "  Time: 0.011202573776245117\n",
            "\n",
            "Solver status: ok\n",
            "Solver termination condition: other\n"
          ],
          "name": "stdout"
        }
      ]
    },
    {
      "cell_type": "markdown",
      "metadata": {
        "id": "Av9CufPmb-u9"
      },
      "source": [
        "Solving using cbc solver"
      ]
    },
    {
      "cell_type": "code",
      "metadata": {
        "id": "dJpByDBu3Bgd",
        "colab": {
          "base_uri": "https://localhost:8080/"
        },
        "outputId": "f0554e59-957e-47a8-84cd-0ca20d3628af"
      },
      "source": [
        "!apt-get install -y -qq coinor-cbc"
      ],
      "execution_count": 17,
      "outputs": [
        {
          "output_type": "stream",
          "text": [
            "Selecting previously unselected package coinor-libcoinutils3v5.\n",
            "(Reading database ... \r(Reading database ... 5%\r(Reading database ... 10%\r(Reading database ... 15%\r(Reading database ... 20%\r(Reading database ... 25%\r(Reading database ... 30%\r(Reading database ... 35%\r(Reading database ... 40%\r(Reading database ... 45%\r(Reading database ... 50%\r(Reading database ... 55%\r(Reading database ... 60%\r(Reading database ... 65%\r(Reading database ... 70%\r(Reading database ... 75%\r(Reading database ... 80%\r(Reading database ... 85%\r(Reading database ... 90%\r(Reading database ... 95%\r(Reading database ... 100%\r(Reading database ... 148689 files and directories currently installed.)\n",
            "Preparing to unpack .../0-coinor-libcoinutils3v5_2.10.14+repack1-1_amd64.deb ...\n",
            "Unpacking coinor-libcoinutils3v5 (2.10.14+repack1-1) ...\n",
            "Selecting previously unselected package coinor-libosi1v5.\n",
            "Preparing to unpack .../1-coinor-libosi1v5_0.107.9+repack1-1_amd64.deb ...\n",
            "Unpacking coinor-libosi1v5 (0.107.9+repack1-1) ...\n",
            "Selecting previously unselected package coinor-libclp1.\n",
            "Preparing to unpack .../2-coinor-libclp1_1.16.11+repack1-1_amd64.deb ...\n",
            "Unpacking coinor-libclp1 (1.16.11+repack1-1) ...\n",
            "Selecting previously unselected package coinor-libcgl1.\n",
            "Preparing to unpack .../3-coinor-libcgl1_0.59.10+repack1-1_amd64.deb ...\n",
            "Unpacking coinor-libcgl1 (0.59.10+repack1-1) ...\n",
            "Selecting previously unselected package coinor-libcbc3.\n",
            "Preparing to unpack .../4-coinor-libcbc3_2.9.9+repack1-1_amd64.deb ...\n",
            "Unpacking coinor-libcbc3 (2.9.9+repack1-1) ...\n",
            "Selecting previously unselected package coinor-cbc.\n",
            "Preparing to unpack .../5-coinor-cbc_2.9.9+repack1-1_amd64.deb ...\n",
            "Unpacking coinor-cbc (2.9.9+repack1-1) ...\n",
            "Setting up coinor-libcoinutils3v5 (2.10.14+repack1-1) ...\n",
            "Setting up coinor-libosi1v5 (0.107.9+repack1-1) ...\n",
            "Setting up coinor-libclp1 (1.16.11+repack1-1) ...\n",
            "Setting up coinor-libcgl1 (0.59.10+repack1-1) ...\n",
            "Setting up coinor-libcbc3 (2.9.9+repack1-1) ...\n",
            "Setting up coinor-cbc (2.9.9+repack1-1) ...\n",
            "Processing triggers for man-db (2.8.3-2ubuntu0.1) ...\n",
            "Processing triggers for libc-bin (2.27-3ubuntu1.2) ...\n",
            "/sbin/ldconfig.real: /usr/local/lib/python3.7/dist-packages/ideep4py/lib/libmkldnn.so.0 is not a symbolic link\n",
            "\n"
          ],
          "name": "stdout"
        }
      ]
    },
    {
      "cell_type": "code",
      "metadata": {
        "id": "ckSVBqk83KAN"
      },
      "source": [
        "opt_cbc=SolverFactory('cbc')"
      ],
      "execution_count": 18,
      "outputs": []
    },
    {
      "cell_type": "code",
      "metadata": {
        "colab": {
          "base_uri": "https://localhost:8080/"
        },
        "id": "aV2iClmf3gVy",
        "outputId": "7fdc7a61-e9d7-4b9e-8e7a-aec11d74ca1f"
      },
      "source": [
        "result=opt_cbc.solve(model)\n",
        "print(result)\n",
        "print('Solver status:', result.solver.status)\n",
        "print('Solver termination condition:',result.solver.termination_condition)"
      ],
      "execution_count": 19,
      "outputs": [
        {
          "output_type": "stream",
          "text": [
            "WARNING: Loading a SolverResults object with a warning status into\n",
            "    model.name=\"unknown\";\n",
            "      - termination condition: infeasible\n",
            "      - message from solver: <undefined>\n",
            "\n",
            "Problem: \n",
            "- Name: unknown\n",
            "  Lower bound: None\n",
            "  Upper bound: inf\n",
            "  Number of objectives: 1\n",
            "  Number of constraints: 4\n",
            "  Number of variables: 4\n",
            "  Number of nonzeros: 3\n",
            "  Sense: minimize\n",
            "Solver: \n",
            "- Status: warning\n",
            "  User time: -1.0\n",
            "  System time: 0.0\n",
            "  Wallclock time: 0.0\n",
            "  Termination condition: infeasible\n",
            "  Termination message: Model was proven to be infeasible.\n",
            "  Statistics: \n",
            "    Branch and bound: \n",
            "      Number of bounded subproblems: 0\n",
            "      Number of created subproblems: 0\n",
            "    Black box: \n",
            "      Number of iterations: 0\n",
            "  Error rc: 0\n",
            "  Time: 0.016765832901000977\n",
            "\n",
            "Solver status: warning\n",
            "Solver termination condition: infeasible\n"
          ],
          "name": "stdout"
        }
      ]
    },
    {
      "cell_type": "markdown",
      "metadata": {
        "id": "587q8vuPLFVZ"
      },
      "source": [
        "In cbc solver the status is warning and termination condition is infeasible which is meaningful, while in glpk solver the status is okay but the termination condition is other that doesn't make any meaningful sense.\n",
        "\n",
        "if we add 2 times of constraint 2 in constraint 1 then we get $3x_2+6x_3\\leq4$ and if we add this in constraint 3, we get $2x_1+7x_3\\leq-2.$\n",
        "But the lower bounds of $x_1$ and $x_3$ are 1 and 1 respectively.so $2x_1+7x_3$ can't be less than or equal to -2 thats why we are getting infeasible termination condition."
      ]
    },
    {
      "cell_type": "markdown",
      "metadata": {
        "id": "zPbQHM1ygRXm"
      },
      "source": [
        "Que.2(a)"
      ]
    },
    {
      "cell_type": "markdown",
      "metadata": {
        "id": "uQdnsyMY4KJl"
      },
      "source": [
        "**Changing the OP to a maximization problem**"
      ]
    },
    {
      "cell_type": "code",
      "metadata": {
        "id": "qUimAVWH4JMa"
      },
      "source": [
        "model.objective.set_sense(maximize)"
      ],
      "execution_count": 20,
      "outputs": []
    },
    {
      "cell_type": "code",
      "metadata": {
        "colab": {
          "base_uri": "https://localhost:8080/"
        },
        "id": "np9NoqE74czo",
        "outputId": "20b89cd4-59bf-4106-ff2d-cf48aa242c7a"
      },
      "source": [
        "model.pprint()"
      ],
      "execution_count": 21,
      "outputs": [
        {
          "output_type": "stream",
          "text": [
            "2 Set Declarations\n",
            "    constraints_index : Size=1, Index=None, Ordered=Insertion\n",
            "        Key  : Dimen : Domain : Size : Members\n",
            "        None :     1 :    Any :    3 : {1, 2, 3}\n",
            "    x_index : Size=1, Index=None, Ordered=False\n",
            "        Key  : Dimen : Domain : Size : Members\n",
            "        None :     1 :    Any :    3 : {0, 1, 2}\n",
            "\n",
            "1 Var Declarations\n",
            "    x : Size=3, Index=x_index\n",
            "        Key : Lower : Value : Upper : Fixed : Stale : Domain\n",
            "          0 :     1 :  None :   inf : False :  True :  Reals\n",
            "          1 :     2 :  None :   inf : False :  True :  Reals\n",
            "          2 :     1 :  None :   inf : False :  True :  Reals\n",
            "\n",
            "1 Objective Declarations\n",
            "    objective : Size=1, Index=None, Active=True\n",
            "        Key  : Active : Sense    : Expression\n",
            "        None :   True : maximize : x[0] - 2.0*x[1] + 3*x[2]\n",
            "\n",
            "1 Constraint Declarations\n",
            "    constraints : Size=3, Index=constraints_index, Active=True\n",
            "        Key : Lower : Body                   : Upper : Active\n",
            "          1 :  -Inf : 2*x[0] + x[1] + 2*x[2] :  10.0 :   True\n",
            "          2 :  -Inf : - x[0] + x[1] + 2*x[2] :  -3.0 :   True\n",
            "          3 :  -Inf : 2*x[0] - 3*x[1] + x[2] :  -6.0 :   True\n",
            "\n",
            "5 Declarations: x_index x objective constraints_index constraints\n"
          ],
          "name": "stdout"
        }
      ]
    },
    {
      "cell_type": "code",
      "metadata": {
        "colab": {
          "base_uri": "https://localhost:8080/"
        },
        "id": "IVLgSqZD4eje",
        "outputId": "6ac309af-51f3-4e45-b347-d91d85919827"
      },
      "source": [
        "result=opt_cbc.solve(model)\n",
        "print(result)\n",
        "print('Solver status:', result.solver.status)\n",
        "print('Solver termination condition:',result.solver.termination_condition)"
      ],
      "execution_count": 22,
      "outputs": [
        {
          "output_type": "stream",
          "text": [
            "WARNING: Loading a SolverResults object with a warning status into\n",
            "    model.name=\"unknown\";\n",
            "      - termination condition: infeasible\n",
            "      - message from solver: <undefined>\n",
            "\n",
            "Problem: \n",
            "- Name: unknown\n",
            "  Lower bound: -inf\n",
            "  Upper bound: None\n",
            "  Number of objectives: 1\n",
            "  Number of constraints: 4\n",
            "  Number of variables: 4\n",
            "  Number of nonzeros: 3\n",
            "  Sense: maximize\n",
            "Solver: \n",
            "- Status: warning\n",
            "  User time: -1.0\n",
            "  System time: 0.0\n",
            "  Wallclock time: 0.0\n",
            "  Termination condition: infeasible\n",
            "  Termination message: Model was proven to be infeasible.\n",
            "  Statistics: \n",
            "    Branch and bound: \n",
            "      Number of bounded subproblems: 0\n",
            "      Number of created subproblems: 0\n",
            "    Black box: \n",
            "      Number of iterations: 0\n",
            "  Error rc: 0\n",
            "  Time: 0.023363113403320312\n",
            "\n",
            "Solver status: warning\n",
            "Solver termination condition: infeasible\n"
          ],
          "name": "stdout"
        }
      ]
    },
    {
      "cell_type": "markdown",
      "metadata": {
        "id": "Ult352G-g6QR"
      },
      "source": [
        "here the solver status is Warning and the termination condition is infeasible. we are getting infeasible solution because if we add 2 times of constraint 2 in constraint 1 then we get  $3x_2+6x_3\\leq4$  and if we add this in constraint 3, we get  $2x_1+7x_3\\leq−2$.  But the lower bounds of  $x_1$  and  $x_3$  are 1 and 1 respectively.so  $2x_1+7x_3$  can't be less than or equal to -2 thats why we are getting infeasible termination condition."
      ]
    },
    {
      "cell_type": "markdown",
      "metadata": {
        "id": "TIbnCStWhnIe"
      },
      "source": [
        "Que.2(b)"
      ]
    },
    {
      "cell_type": "markdown",
      "metadata": {
        "id": "MhlYzAEx4snX"
      },
      "source": [
        "**Adding an upper bound to $x_2$ as $x_2\\leq8$**"
      ]
    },
    {
      "cell_type": "code",
      "metadata": {
        "id": "86JWZYSU4qsT"
      },
      "source": [
        "model.objective.set_sense(minimize)"
      ],
      "execution_count": 23,
      "outputs": []
    },
    {
      "cell_type": "code",
      "metadata": {
        "id": "5owwhWo448uS"
      },
      "source": [
        "model.x[1].setub(8)"
      ],
      "execution_count": 24,
      "outputs": []
    },
    {
      "cell_type": "code",
      "metadata": {
        "colab": {
          "base_uri": "https://localhost:8080/"
        },
        "id": "yTNI3gIA5B9z",
        "outputId": "f4120345-d9c9-4e32-fdaf-4d6d72210da8"
      },
      "source": [
        "model.pprint()"
      ],
      "execution_count": 25,
      "outputs": [
        {
          "output_type": "stream",
          "text": [
            "2 Set Declarations\n",
            "    constraints_index : Size=1, Index=None, Ordered=Insertion\n",
            "        Key  : Dimen : Domain : Size : Members\n",
            "        None :     1 :    Any :    3 : {1, 2, 3}\n",
            "    x_index : Size=1, Index=None, Ordered=False\n",
            "        Key  : Dimen : Domain : Size : Members\n",
            "        None :     1 :    Any :    3 : {0, 1, 2}\n",
            "\n",
            "1 Var Declarations\n",
            "    x : Size=3, Index=x_index\n",
            "        Key : Lower : Value : Upper : Fixed : Stale : Domain\n",
            "          0 :     1 :  None :   inf : False :  True :  Reals\n",
            "          1 :     2 :  None :     8 : False :  True :  Reals\n",
            "          2 :     1 :  None :   inf : False :  True :  Reals\n",
            "\n",
            "1 Objective Declarations\n",
            "    objective : Size=1, Index=None, Active=True\n",
            "        Key  : Active : Sense    : Expression\n",
            "        None :   True : minimize : x[0] - 2.0*x[1] + 3*x[2]\n",
            "\n",
            "1 Constraint Declarations\n",
            "    constraints : Size=3, Index=constraints_index, Active=True\n",
            "        Key : Lower : Body                   : Upper : Active\n",
            "          1 :  -Inf : 2*x[0] + x[1] + 2*x[2] :  10.0 :   True\n",
            "          2 :  -Inf : - x[0] + x[1] + 2*x[2] :  -3.0 :   True\n",
            "          3 :  -Inf : 2*x[0] - 3*x[1] + x[2] :  -6.0 :   True\n",
            "\n",
            "5 Declarations: x_index x objective constraints_index constraints\n"
          ],
          "name": "stdout"
        }
      ]
    },
    {
      "cell_type": "code",
      "metadata": {
        "colab": {
          "base_uri": "https://localhost:8080/"
        },
        "id": "N0C4ZdBB5Dfj",
        "outputId": "d1647be7-27e8-4d72-fa8e-2bfe586b14d6"
      },
      "source": [
        "result=opt_cbc.solve(model)\n",
        "print(result)\n",
        "print('Solver status:', result.solver.status)\n",
        "print('Solver termination condition:',result.solver.termination_condition)"
      ],
      "execution_count": 26,
      "outputs": [
        {
          "output_type": "stream",
          "text": [
            "WARNING: Loading a SolverResults object with a warning status into\n",
            "    model.name=\"unknown\";\n",
            "      - termination condition: infeasible\n",
            "      - message from solver: <undefined>\n",
            "\n",
            "Problem: \n",
            "- Name: unknown\n",
            "  Lower bound: None\n",
            "  Upper bound: inf\n",
            "  Number of objectives: 1\n",
            "  Number of constraints: 4\n",
            "  Number of variables: 4\n",
            "  Number of nonzeros: 3\n",
            "  Sense: minimize\n",
            "Solver: \n",
            "- Status: warning\n",
            "  User time: -1.0\n",
            "  System time: 0.0\n",
            "  Wallclock time: 0.0\n",
            "  Termination condition: infeasible\n",
            "  Termination message: Model was proven to be infeasible.\n",
            "  Statistics: \n",
            "    Branch and bound: \n",
            "      Number of bounded subproblems: 0\n",
            "      Number of created subproblems: 0\n",
            "    Black box: \n",
            "      Number of iterations: 0\n",
            "  Error rc: 0\n",
            "  Time: 0.03089451789855957\n",
            "\n",
            "Solver status: warning\n",
            "Solver termination condition: infeasible\n"
          ],
          "name": "stdout"
        }
      ]
    },
    {
      "cell_type": "markdown",
      "metadata": {
        "id": "quC1RNuAhy8p"
      },
      "source": [
        "After adding an upper bpund of $x_2$ as 8 the solver status is Warning and the termination condition is infeasible. we are getting infeasible solution because if we add 2 times of constraint 2 in constraint 1 then we get  $3x_2+6x_3\\leq4$  and if we add this in constraint 3, we get  $2x_1+7x_3\\leq−2$.  But the lower bounds of  $x_1$  and  $x_3$  are 1 and 1 respectively.so  $2x_1+7x_3$  can't be less than or equal to -2 thats why we are getting infeasible termination condition."
      ]
    },
    {
      "cell_type": "markdown",
      "metadata": {
        "id": "0dGeMxpaiGVO"
      },
      "source": [
        "Que.2(c)"
      ]
    },
    {
      "cell_type": "markdown",
      "metadata": {
        "id": "4FQh1B0g6ckQ"
      },
      "source": [
        "**Adding a new constraint $-x_2+x_3\\leq9$**"
      ]
    },
    {
      "cell_type": "code",
      "metadata": {
        "id": "or8BYTTn6amJ"
      },
      "source": [
        "model.x[1].setub(np.inf)"
      ],
      "execution_count": 27,
      "outputs": []
    },
    {
      "cell_type": "code",
      "metadata": {
        "colab": {
          "base_uri": "https://localhost:8080/"
        },
        "id": "D3LvxzDN6uS3",
        "outputId": "b071780f-f8a1-4872-dce7-a6dcb5726fd0"
      },
      "source": [
        "new_constr_coef=np.array([0,-1,1])\n",
        "new_constr_rhs=9\n",
        "model.constraints.add(sum(new_constr_coef[j]*model.x[j] for j in col_indices)<=new_constr_rhs)"
      ],
      "execution_count": 28,
      "outputs": [
        {
          "output_type": "execute_result",
          "data": {
            "text/plain": [
              "<pyomo.core.base.constraint._GeneralConstraintData at 0x7f08ae355910>"
            ]
          },
          "metadata": {},
          "execution_count": 28
        }
      ]
    },
    {
      "cell_type": "code",
      "metadata": {
        "colab": {
          "base_uri": "https://localhost:8080/"
        },
        "id": "HXIoPqab7Xr1",
        "outputId": "983d1998-3a82-4b96-e1a1-54f12ef42065"
      },
      "source": [
        "model.pprint()"
      ],
      "execution_count": 29,
      "outputs": [
        {
          "output_type": "stream",
          "text": [
            "2 Set Declarations\n",
            "    constraints_index : Size=1, Index=None, Ordered=Insertion\n",
            "        Key  : Dimen : Domain : Size : Members\n",
            "        None :     1 :    Any :    4 : {1, 2, 3, 4}\n",
            "    x_index : Size=1, Index=None, Ordered=False\n",
            "        Key  : Dimen : Domain : Size : Members\n",
            "        None :     1 :    Any :    3 : {0, 1, 2}\n",
            "\n",
            "1 Var Declarations\n",
            "    x : Size=3, Index=x_index\n",
            "        Key : Lower : Value : Upper : Fixed : Stale : Domain\n",
            "          0 :     1 :  None :   inf : False :  True :  Reals\n",
            "          1 :     2 :  None :   inf : False :  True :  Reals\n",
            "          2 :     1 :  None :   inf : False :  True :  Reals\n",
            "\n",
            "1 Objective Declarations\n",
            "    objective : Size=1, Index=None, Active=True\n",
            "        Key  : Active : Sense    : Expression\n",
            "        None :   True : minimize : x[0] - 2.0*x[1] + 3*x[2]\n",
            "\n",
            "1 Constraint Declarations\n",
            "    constraints : Size=4, Index=constraints_index, Active=True\n",
            "        Key : Lower : Body                   : Upper : Active\n",
            "          1 :  -Inf : 2*x[0] + x[1] + 2*x[2] :  10.0 :   True\n",
            "          2 :  -Inf : - x[0] + x[1] + 2*x[2] :  -3.0 :   True\n",
            "          3 :  -Inf : 2*x[0] - 3*x[1] + x[2] :  -6.0 :   True\n",
            "          4 :  -Inf :          - x[1] + x[2] :   9.0 :   True\n",
            "\n",
            "5 Declarations: x_index x objective constraints_index constraints\n"
          ],
          "name": "stdout"
        }
      ]
    },
    {
      "cell_type": "code",
      "metadata": {
        "colab": {
          "base_uri": "https://localhost:8080/"
        },
        "id": "TW9Ibzvy7aCX",
        "outputId": "e75a18c0-bb61-4897-e4d2-93d6ff0ab451"
      },
      "source": [
        "result=opt_cbc.solve(model)\n",
        "print(result)\n",
        "print('Solver status:', result.solver.status)\n",
        "print('Solver termination condition:',result.solver.termination_condition)"
      ],
      "execution_count": 30,
      "outputs": [
        {
          "output_type": "stream",
          "text": [
            "WARNING: Loading a SolverResults object with a warning status into\n",
            "    model.name=\"unknown\";\n",
            "      - termination condition: infeasible\n",
            "      - message from solver: <undefined>\n",
            "\n",
            "Problem: \n",
            "- Name: unknown\n",
            "  Lower bound: None\n",
            "  Upper bound: inf\n",
            "  Number of objectives: 1\n",
            "  Number of constraints: 5\n",
            "  Number of variables: 4\n",
            "  Number of nonzeros: 3\n",
            "  Sense: minimize\n",
            "Solver: \n",
            "- Status: warning\n",
            "  User time: -1.0\n",
            "  System time: 0.0\n",
            "  Wallclock time: 0.0\n",
            "  Termination condition: infeasible\n",
            "  Termination message: Model was proven to be infeasible.\n",
            "  Statistics: \n",
            "    Branch and bound: \n",
            "      Number of bounded subproblems: 0\n",
            "      Number of created subproblems: 0\n",
            "    Black box: \n",
            "      Number of iterations: 0\n",
            "  Error rc: 0\n",
            "  Time: 0.016506195068359375\n",
            "\n",
            "Solver status: warning\n",
            "Solver termination condition: infeasible\n"
          ],
          "name": "stdout"
        }
      ]
    },
    {
      "cell_type": "markdown",
      "metadata": {
        "id": "yb2NaQUxiTVd"
      },
      "source": [
        "After adding a new constraint the solver status is Warning and the termination condition is infeasible. we are getting infeasible solution because if we add 2 times of constraint 2 in constraint 1 then we get  $3x_2+6x_3\\leq4$  and if we add this in constraint 3, we get  $2x_1+7x_3\\leq−2$.  But the lower bounds of  $x_1$  and  $x_3$  are 1 and 1 respectively.so  $2x_1+7x_3$  can't be less than or equal to -2 thats why we are getting infeasible termination condition."
      ]
    },
    {
      "cell_type": "markdown",
      "metadata": {
        "id": "aL6roizria8X"
      },
      "source": [
        "Que.2(d)"
      ]
    },
    {
      "cell_type": "markdown",
      "metadata": {
        "id": "PtVUJd2p7rWp"
      },
      "source": [
        "**Deactivating the objective of problem and constructing a new objective of the form\n",
        "$\\text{min} \\ x_1 + x_2 + x_3$ and deactivating the constraint $2x_1 + x_2 + 2x_3 \\leq 10$ and adding  a different\n",
        "constraint $x_1 + x_2 \\geq 45$.**\n"
      ]
    },
    {
      "cell_type": "code",
      "metadata": {
        "id": "QBtbyIf37p6f"
      },
      "source": [
        "model.constraints[4].deactivate()"
      ],
      "execution_count": 31,
      "outputs": []
    },
    {
      "cell_type": "code",
      "metadata": {
        "id": "bwiPTWEZ_-_x"
      },
      "source": [
        "model.constraints[1].deactivate()"
      ],
      "execution_count": 32,
      "outputs": []
    },
    {
      "cell_type": "code",
      "metadata": {
        "id": "wrySd_9C8m38"
      },
      "source": [
        "model.objective.deactivate()"
      ],
      "execution_count": 33,
      "outputs": []
    },
    {
      "cell_type": "code",
      "metadata": {
        "id": "gcEzCQxs8qx8"
      },
      "source": [
        "new_obj_coef=np.array([1,1,1])\n",
        "constr_new_coef=np.array([1,1,0])\n",
        "constr_new_rhs=45"
      ],
      "execution_count": 34,
      "outputs": []
    },
    {
      "cell_type": "code",
      "metadata": {
        "colab": {
          "base_uri": "https://localhost:8080/"
        },
        "id": "nrYy6Gf490Be",
        "outputId": "3b58187b-a378-47bb-c996-b37395daf236"
      },
      "source": [
        "model.new_objective=Objective(expr=summation(new_obj_coef,model.x),sense=minimize)\n",
        "model.constraints.add(sum(constr_new_coef[j]*model.x[j] for j in col_indices) >= constr_new_rhs)"
      ],
      "execution_count": 35,
      "outputs": [
        {
          "output_type": "execute_result",
          "data": {
            "text/plain": [
              "<pyomo.core.base.constraint._GeneralConstraintData at 0x7f08ae327e50>"
            ]
          },
          "metadata": {},
          "execution_count": 35
        }
      ]
    },
    {
      "cell_type": "code",
      "metadata": {
        "colab": {
          "base_uri": "https://localhost:8080/"
        },
        "id": "CwGe7iqH-jrI",
        "outputId": "b54de31a-8886-4791-ba9c-95dfcc80361c"
      },
      "source": [
        "model.pprint()"
      ],
      "execution_count": 36,
      "outputs": [
        {
          "output_type": "stream",
          "text": [
            "2 Set Declarations\n",
            "    constraints_index : Size=1, Index=None, Ordered=Insertion\n",
            "        Key  : Dimen : Domain : Size : Members\n",
            "        None :     1 :    Any :    5 : {1, 2, 3, 4, 5}\n",
            "    x_index : Size=1, Index=None, Ordered=False\n",
            "        Key  : Dimen : Domain : Size : Members\n",
            "        None :     1 :    Any :    3 : {0, 1, 2}\n",
            "\n",
            "1 Var Declarations\n",
            "    x : Size=3, Index=x_index\n",
            "        Key : Lower : Value : Upper : Fixed : Stale : Domain\n",
            "          0 :     1 :  None :   inf : False :  True :  Reals\n",
            "          1 :     2 :  None :   inf : False :  True :  Reals\n",
            "          2 :     1 :  None :   inf : False :  True :  Reals\n",
            "\n",
            "2 Objective Declarations\n",
            "    new_objective : Size=1, Index=None, Active=True\n",
            "        Key  : Active : Sense    : Expression\n",
            "        None :   True : minimize : x[0] + x[1] + x[2]\n",
            "    objective : Size=1, Index=None, Active=False\n",
            "        Key  : Active : Sense    : Expression\n",
            "        None :  False : minimize : x[0] - 2.0*x[1] + 3*x[2]\n",
            "\n",
            "1 Constraint Declarations\n",
            "    constraints : Size=5, Index=constraints_index, Active=True\n",
            "        Key : Lower : Body                   : Upper : Active\n",
            "          1 :  -Inf : 2*x[0] + x[1] + 2*x[2] :  10.0 :  False\n",
            "          2 :  -Inf : - x[0] + x[1] + 2*x[2] :  -3.0 :   True\n",
            "          3 :  -Inf : 2*x[0] - 3*x[1] + x[2] :  -6.0 :   True\n",
            "          4 :  -Inf :          - x[1] + x[2] :   9.0 :  False\n",
            "          5 :  45.0 :            x[0] + x[1] :  +Inf :   True\n",
            "\n",
            "6 Declarations: x_index x objective constraints_index constraints new_objective\n"
          ],
          "name": "stdout"
        }
      ]
    },
    {
      "cell_type": "code",
      "metadata": {
        "colab": {
          "base_uri": "https://localhost:8080/"
        },
        "id": "6VNV4jiS_lyM",
        "outputId": "6a0a450e-16bf-4120-d1cf-be6e7017dee6"
      },
      "source": [
        "result=opt_cbc.solve(model)\n",
        "print(result)\n",
        "print('Solver status:', result.solver.status)\n",
        "print('Solver termination condition:',result.solver.termination_condition)"
      ],
      "execution_count": 37,
      "outputs": [
        {
          "output_type": "stream",
          "text": [
            "\n",
            "Problem: \n",
            "- Name: unknown\n",
            "  Lower bound: 46.0\n",
            "  Upper bound: 46.0\n",
            "  Number of objectives: 1\n",
            "  Number of constraints: 4\n",
            "  Number of variables: 4\n",
            "  Number of nonzeros: 2\n",
            "  Sense: minimize\n",
            "Solver: \n",
            "- Status: ok\n",
            "  User time: -1.0\n",
            "  System time: 0.0\n",
            "  Wallclock time: 0.0\n",
            "  Termination condition: optimal\n",
            "  Termination message: Model was solved to optimality (subject to tolerances), and an optimal solution is available.\n",
            "  Statistics: \n",
            "    Branch and bound: \n",
            "      Number of bounded subproblems: None\n",
            "      Number of created subproblems: None\n",
            "    Black box: \n",
            "      Number of iterations: 2\n",
            "  Error rc: 0\n",
            "  Time: 0.023229598999023438\n",
            "Solution: \n",
            "- number of solutions: 0\n",
            "  number of solutions displayed: 0\n",
            "\n",
            "Solver status: ok\n",
            "Solver termination condition: optimal\n"
          ],
          "name": "stdout"
        }
      ]
    },
    {
      "cell_type": "markdown",
      "metadata": {
        "id": "tFXv74-q1KdO"
      },
      "source": [
        "**optimal value and values of decision variables:-**"
      ]
    },
    {
      "cell_type": "code",
      "metadata": {
        "colab": {
          "base_uri": "https://localhost:8080/"
        },
        "id": "Fnr-XnOCAUau",
        "outputId": "0b655349-cede-428c-db2e-27d2ff026670"
      },
      "source": [
        "print(\"The optimal value is: \",model.new_objective())\n",
        "for j in col_indices:\n",
        "  print(\"x\"+str(j+1)+'=',model.x[j].value)"
      ],
      "execution_count": 38,
      "outputs": [
        {
          "output_type": "stream",
          "text": [
            "The optimal value is:  46.0\n",
            "x1= 25.6\n",
            "x2= 19.4\n",
            "x3= 1.0\n"
          ],
          "name": "stdout"
        }
      ]
    },
    {
      "cell_type": "code",
      "metadata": {
        "colab": {
          "base_uri": "https://localhost:8080/"
        },
        "id": "k5voLMJuN6ai",
        "outputId": "2761f9af-ec6f-4a53-b54c-e7510297d498"
      },
      "source": [
        "model.constraints.display()"
      ],
      "execution_count": 39,
      "outputs": [
        {
          "output_type": "stream",
          "text": [
            "constraints : Size=5\n",
            "    Key : Lower : Body               : Upper\n",
            "      2 :  None : -4.200000000000003 :  -3.0\n",
            "      3 :  None : -5.999999999999993 :  -6.0\n",
            "      5 :  45.0 :               45.0 :  None\n"
          ],
          "name": "stdout"
        }
      ]
    },
    {
      "cell_type": "markdown",
      "metadata": {
        "id": "twq0qkFjPF02"
      },
      "source": [
        "since constraints 3 and 5 hold at equality hence these are active constraint.\n",
        "\n",
        "constraint 2 doesn't hold at equality hence this is not an active constraint"
      ]
    },
    {
      "cell_type": "code",
      "metadata": {
        "id": "Zp2R2579PEv0"
      },
      "source": [
        ""
      ],
      "execution_count": 39,
      "outputs": []
    }
  ]
}