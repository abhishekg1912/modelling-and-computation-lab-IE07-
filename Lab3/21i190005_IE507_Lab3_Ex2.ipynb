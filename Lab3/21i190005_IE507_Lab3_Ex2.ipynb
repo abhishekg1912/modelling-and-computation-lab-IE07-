{
  "nbformat": 4,
  "nbformat_minor": 0,
  "metadata": {
    "colab": {
      "name": "21i190005_IE507_Lab3_Ex2.ipynb",
      "provenance": [],
      "collapsed_sections": []
    },
    "kernelspec": {
      "name": "python3",
      "display_name": "Python 3"
    },
    "language_info": {
      "name": "python"
    }
  },
  "cells": [
    {
      "cell_type": "markdown",
      "metadata": {
        "id": "1zH0EcOGiske"
      },
      "source": [
        "#EXERCISE-2"
      ]
    },
    {
      "cell_type": "markdown",
      "metadata": {
        "id": "d1VhPJcT4z9k"
      },
      "source": [
        "Que.1"
      ]
    },
    {
      "cell_type": "markdown",
      "metadata": {
        "id": "2TOGsHqlYwYY"
      },
      "source": [
        "let $x_i=\n",
        "  \\begin{cases}\n",
        "                                   0 & \\text{if student doesn't take Ci course} \\\\\n",
        "                                   1 & \\text{if student take Ci course} \n",
        "  \\end{cases}\n",
        "$ for i =0,1,2,...,10\n",
        "\n",
        "\n",
        "Our mathematical model for the problem will be:\n",
        "$$\\text{max} \\sum_{i=0}^{i=10}a_ix_i , \\text{where }a_i \\text{ is the credit of course}\\ C_i$$\n",
        "subject to\n",
        "$$-\\sum_{i=0}^{i=10}a_i x_i\\leq -30\\\\ -\\sum_{i=0}^{i=10}x_i\\leq -5\\\\ \\sum_{i=0}^{i=10}x_i\\leq 9\\\\ x_2+x_7\\leq 1\\\\x_4+x_9\\leq1\\\\x_2+x_8\\leq1\\\\x_{10}-x_0\\leq0\\\\ x_0-x_{10}\\leq1\\\\-x_0-x_1-x_2\\leq-1\\\\x_0+x_1+x_2\\leq2\\\\x_5+x_6\\leq1\\\\x_3+x_6+x_9\\leq2 $$"
      ]
    },
    {
      "cell_type": "markdown",
      "metadata": {
        "id": "Oe2CKVu048ai"
      },
      "source": [
        "#Que.3"
      ]
    },
    {
      "cell_type": "code",
      "metadata": {
        "id": "sB6fg-fYNfr9"
      },
      "source": [
        "!pip install -q pyomo"
      ],
      "execution_count": 43,
      "outputs": []
    },
    {
      "cell_type": "code",
      "metadata": {
        "id": "mzzFgHOwYf8V"
      },
      "source": [
        "from pyomo.environ import *"
      ],
      "execution_count": 44,
      "outputs": []
    },
    {
      "cell_type": "code",
      "metadata": {
        "id": "1qrBWvE9Yjbf"
      },
      "source": [
        "import numpy as np"
      ],
      "execution_count": 45,
      "outputs": []
    },
    {
      "cell_type": "code",
      "metadata": {
        "id": "TUsZTRkfYl1_"
      },
      "source": [
        "model=ConcreteModel()"
      ],
      "execution_count": 46,
      "outputs": []
    },
    {
      "cell_type": "code",
      "metadata": {
        "id": "L46a5yAHYuw0"
      },
      "source": [
        "M=11\n",
        "N=12"
      ],
      "execution_count": 47,
      "outputs": []
    },
    {
      "cell_type": "code",
      "metadata": {
        "id": "MA3ooa6eUdxl"
      },
      "source": [
        "obj_coef=np.array([3,2,6,5,5,4,6,8,8,5,4])\n",
        "constr_coef_A=np.array([[-3,-2,-6,-5,-5,-4,-6,-8,-8,-5,-4],\n",
        "                        [-1,-1,-1,-1,-1,-1,-1,-1,-1,-1,-1],\n",
        "                        [1,1,1,1,1,1,1,1,1,1,1],\n",
        "                        [0,0,1,0,0,0,0,1,0,0,0],\n",
        "                        [0,0,0,0,1,0,0,0,0,1,0],\n",
        "                        [0,0,1,0,0,0,0,0,1,0,0],\n",
        "                        [-1,0,0,0,0,0,0,0,0,0,1],\n",
        "                        [1,0,0,0,0,0,0,0,0,0,-1],\n",
        "                        [-1,-1,-1,0,0,0,0,0,0,0,0],\n",
        "                        [1,1,1,0,0,0,0,0,0,0,0],\n",
        "                        [0,0,0,0,0,1,1,0,0,0,0],\n",
        "                        [0,0,0,1,0,0,1,0,0,1,0]\n",
        "                        ])\n",
        "constr_rhs_b=np.array([-30,-5,9,1,1,1,0,1,-1,2,1,2])"
      ],
      "execution_count": 48,
      "outputs": []
    },
    {
      "cell_type": "code",
      "metadata": {
        "id": "vUpPqvQmYcCX"
      },
      "source": [
        "col_indices=np.arange(M)\n",
        "row_indices=np.arange(N)"
      ],
      "execution_count": 49,
      "outputs": []
    },
    {
      "cell_type": "code",
      "metadata": {
        "id": "QmRCEM0MYmhy"
      },
      "source": [
        "model.x=Var(col_indices,domain=Binary)\n"
      ],
      "execution_count": 50,
      "outputs": []
    },
    {
      "cell_type": "code",
      "metadata": {
        "id": "5sZIN9WOY85l"
      },
      "source": [
        "model.constraints=ConstraintList()"
      ],
      "execution_count": 51,
      "outputs": []
    },
    {
      "cell_type": "code",
      "metadata": {
        "id": "Y75f3g_-ZXIr"
      },
      "source": [
        "for i in row_indices:\n",
        "  model.constraints.add(sum(constr_coef_A[i,j]*model.x[j] for j in col_indices)<=constr_rhs_b[i])"
      ],
      "execution_count": 52,
      "outputs": []
    },
    {
      "cell_type": "code",
      "metadata": {
        "id": "amvQS0LbZ73O"
      },
      "source": [
        "model.objective=Objective(expr=summation(obj_coef,model.x),sense=maximize)"
      ],
      "execution_count": 53,
      "outputs": []
    },
    {
      "cell_type": "code",
      "metadata": {
        "colab": {
          "base_uri": "https://localhost:8080/"
        },
        "id": "70h1toGvn8Th",
        "outputId": "3c937644-3233-4eff-9af2-a4c9328790d3"
      },
      "source": [
        "model.pprint()"
      ],
      "execution_count": 54,
      "outputs": [
        {
          "output_type": "stream",
          "text": [
            "2 Set Declarations\n",
            "    constraints_index : Size=1, Index=None, Ordered=Insertion\n",
            "        Key  : Dimen : Domain : Size : Members\n",
            "        None :     1 :    Any :   12 : {1, 2, 3, 4, 5, 6, 7, 8, 9, 10, 11, 12}\n",
            "    x_index : Size=1, Index=None, Ordered=False\n",
            "        Key  : Dimen : Domain : Size : Members\n",
            "        None :     1 :    Any :   11 : {0, 1, 2, 3, 4, 5, 6, 7, 8, 9, 10}\n",
            "\n",
            "1 Var Declarations\n",
            "    x : Size=11, Index=x_index\n",
            "        Key : Lower : Value : Upper : Fixed : Stale : Domain\n",
            "          0 :     0 :  None :     1 : False :  True : Binary\n",
            "          1 :     0 :  None :     1 : False :  True : Binary\n",
            "          2 :     0 :  None :     1 : False :  True : Binary\n",
            "          3 :     0 :  None :     1 : False :  True : Binary\n",
            "          4 :     0 :  None :     1 : False :  True : Binary\n",
            "          5 :     0 :  None :     1 : False :  True : Binary\n",
            "          6 :     0 :  None :     1 : False :  True : Binary\n",
            "          7 :     0 :  None :     1 : False :  True : Binary\n",
            "          8 :     0 :  None :     1 : False :  True : Binary\n",
            "          9 :     0 :  None :     1 : False :  True : Binary\n",
            "         10 :     0 :  None :     1 : False :  True : Binary\n",
            "\n",
            "1 Objective Declarations\n",
            "    objective : Size=1, Index=None, Active=True\n",
            "        Key  : Active : Sense    : Expression\n",
            "        None :   True : maximize : 3*x[0] + 2*x[1] + 6*x[2] + 5*x[3] + 5*x[4] + 4*x[5] + 6*x[6] + 8*x[7] + 8*x[8] + 5*x[9] + 4*x[10]\n",
            "\n",
            "1 Constraint Declarations\n",
            "    constraints : Size=12, Index=constraints_index, Active=True\n",
            "        Key : Lower : Body                                                                                               : Upper : Active\n",
            "          1 :  -Inf : -3*x[0] - 2*x[1] - 6*x[2] - 5*x[3] - 5*x[4] - 4*x[5] - 6*x[6] - 8*x[7] - 8*x[8] - 5*x[9] - 4*x[10] : -30.0 :   True\n",
            "          2 :  -Inf :                      - x[0] - x[1] - x[2] - x[3] - x[4] - x[5] - x[6] - x[7] - x[8] - x[9] - x[10] :  -5.0 :   True\n",
            "          3 :  -Inf :                        x[0] + x[1] + x[2] + x[3] + x[4] + x[5] + x[6] + x[7] + x[8] + x[9] + x[10] :   9.0 :   True\n",
            "          4 :  -Inf :                                                                                        x[2] + x[7] :   1.0 :   True\n",
            "          5 :  -Inf :                                                                                        x[4] + x[9] :   1.0 :   True\n",
            "          6 :  -Inf :                                                                                        x[2] + x[8] :   1.0 :   True\n",
            "          7 :  -Inf :                                                                                     - x[0] + x[10] :   0.0 :   True\n",
            "          8 :  -Inf :                                                                                       x[0] - x[10] :   1.0 :   True\n",
            "          9 :  -Inf :                                                                               - x[0] - x[1] - x[2] :  -1.0 :   True\n",
            "         10 :  -Inf :                                                                                 x[0] + x[1] + x[2] :   2.0 :   True\n",
            "         11 :  -Inf :                                                                                        x[5] + x[6] :   1.0 :   True\n",
            "         12 :  -Inf :                                                                                 x[3] + x[6] + x[9] :   2.0 :   True\n",
            "\n",
            "5 Declarations: x_index x constraints_index constraints objective\n"
          ],
          "name": "stdout"
        }
      ]
    },
    {
      "cell_type": "code",
      "metadata": {
        "id": "-H0MaTgPn9ed"
      },
      "source": [
        "!apt-get install -y -qq coinor-cbc"
      ],
      "execution_count": 55,
      "outputs": []
    },
    {
      "cell_type": "code",
      "metadata": {
        "id": "bMy2JYwzoEzh"
      },
      "source": [
        "opt_cbc=SolverFactory('cbc')\n"
      ],
      "execution_count": 56,
      "outputs": []
    },
    {
      "cell_type": "code",
      "metadata": {
        "colab": {
          "base_uri": "https://localhost:8080/"
        },
        "id": "D0hPavE5oLEJ",
        "outputId": "0b523eb6-942e-4b8f-b33e-52b6b4631614"
      },
      "source": [
        "result=opt_cbc.solve(model)\n",
        "print(result)\n"
      ],
      "execution_count": 57,
      "outputs": [
        {
          "output_type": "stream",
          "text": [
            "\n",
            "Problem: \n",
            "- Name: unknown\n",
            "  Lower bound: 41.0\n",
            "  Upper bound: 41.0\n",
            "  Number of objectives: 1\n",
            "  Number of constraints: 11\n",
            "  Number of variables: 11\n",
            "  Number of binary variables: 11\n",
            "  Number of integer variables: 11\n",
            "  Number of nonzeros: 11\n",
            "  Sense: maximize\n",
            "Solver: \n",
            "- Status: ok\n",
            "  User time: -1.0\n",
            "  System time: 0.0\n",
            "  Wallclock time: 0.01\n",
            "  Termination condition: optimal\n",
            "  Termination message: Model was solved to optimality (subject to tolerances), and an optimal solution is available.\n",
            "  Statistics: \n",
            "    Branch and bound: \n",
            "      Number of bounded subproblems: 0\n",
            "      Number of created subproblems: 0\n",
            "    Black box: \n",
            "      Number of iterations: 0\n",
            "  Error rc: 0\n",
            "  Time: 0.03220248222351074\n",
            "Solution: \n",
            "- number of solutions: 0\n",
            "  number of solutions displayed: 0\n",
            "\n"
          ],
          "name": "stdout"
        }
      ]
    },
    {
      "cell_type": "markdown",
      "metadata": {
        "id": "oTpQIljfjHz1"
      },
      "source": [
        "**optimal value and values of the decision variables:-**"
      ]
    },
    {
      "cell_type": "code",
      "metadata": {
        "colab": {
          "base_uri": "https://localhost:8080/"
        },
        "id": "fUCsz3kwoekB",
        "outputId": "1511259f-621c-484f-b13e-88ae6b1f0dbf"
      },
      "source": [
        "print(\"The optimal value is: \",model.objective())\n",
        "for j in col_indices:\n",
        "  print(f\"x[{j}]=\",model.x[j].value)\n",
        "  "
      ],
      "execution_count": 58,
      "outputs": [
        {
          "output_type": "stream",
          "text": [
            "The optimal value is:  41.0\n",
            "x[0]= 1.0\n",
            "x[1]= 1.0\n",
            "x[2]= 0.0\n",
            "x[3]= 1.0\n",
            "x[4]= 1.0\n",
            "x[5]= 0.0\n",
            "x[6]= 1.0\n",
            "x[7]= 1.0\n",
            "x[8]= 1.0\n",
            "x[9]= 0.0\n",
            "x[10]= 1.0\n"
          ],
          "name": "stdout"
        }
      ]
    },
    {
      "cell_type": "markdown",
      "metadata": {
        "id": "7c4ShzfQ5BMu"
      },
      "source": [
        "#Que.4"
      ]
    },
    {
      "cell_type": "markdown",
      "metadata": {
        "id": "s-Rf9TN2sfFs"
      },
      "source": [
        "modifying the model assuming that the variables are real."
      ]
    },
    {
      "cell_type": "code",
      "metadata": {
        "id": "Vv8unzMnqI4o"
      },
      "source": [
        "for j in row_indices:\n",
        "  model.constraints[j+1].deactivate()"
      ],
      "execution_count": 59,
      "outputs": []
    },
    {
      "cell_type": "code",
      "metadata": {
        "id": "cFejWnWBraaw"
      },
      "source": [
        "model.objective.deactivate()"
      ],
      "execution_count": 60,
      "outputs": []
    },
    {
      "cell_type": "code",
      "metadata": {
        "id": "gyXljrL2s5U_"
      },
      "source": [
        "model.y=Var(col_indices)"
      ],
      "execution_count": 61,
      "outputs": []
    },
    {
      "cell_type": "code",
      "metadata": {
        "id": "BPDrTOcNtJYk"
      },
      "source": [
        "for i in row_indices:\n",
        "  model.constraints.add(sum(constr_coef_A[i,j]*model.y[j] for j in col_indices)<=constr_rhs_b[i])"
      ],
      "execution_count": 62,
      "outputs": []
    },
    {
      "cell_type": "code",
      "metadata": {
        "id": "fFoIc3adtQag"
      },
      "source": [
        "model.new_objective=Objective(expr=summation(obj_coef,model.y),sense=maximize)"
      ],
      "execution_count": 63,
      "outputs": []
    },
    {
      "cell_type": "code",
      "metadata": {
        "id": "6fC0T8ZXto0P"
      },
      "source": [
        "lower_bound=np.array([0,0,0,0,0,0,0,0,0,0,0])\n",
        "upper_bound=np.array([1,1,1,1,1,1,1,1,1,1,1])\n"
      ],
      "execution_count": 64,
      "outputs": []
    },
    {
      "cell_type": "code",
      "metadata": {
        "id": "aLeIdA2gt1nD"
      },
      "source": [
        "for j in col_indices:\n",
        "  model.y[j].setlb(lower_bound[j])\n",
        "  model.y[j].setub(upper_bound[j])"
      ],
      "execution_count": 65,
      "outputs": []
    },
    {
      "cell_type": "code",
      "metadata": {
        "colab": {
          "base_uri": "https://localhost:8080/"
        },
        "id": "xdeTUHvQuB9F",
        "outputId": "2c48e485-7440-430b-83d6-59b68fd6c203"
      },
      "source": [
        "model.pprint()"
      ],
      "execution_count": 66,
      "outputs": [
        {
          "output_type": "stream",
          "text": [
            "3 Set Declarations\n",
            "    constraints_index : Size=1, Index=None, Ordered=Insertion\n",
            "        Key  : Dimen : Domain : Size : Members\n",
            "        None :     1 :    Any :   24 : {1, 2, 3, 4, 5, 6, 7, 8, 9, 10, 11, 12, 13, 14, 15, 16, 17, 18, 19, 20, 21, 22, 23, 24}\n",
            "    x_index : Size=1, Index=None, Ordered=False\n",
            "        Key  : Dimen : Domain : Size : Members\n",
            "        None :     1 :    Any :   11 : {0, 1, 2, 3, 4, 5, 6, 7, 8, 9, 10}\n",
            "    y_index : Size=1, Index=None, Ordered=False\n",
            "        Key  : Dimen : Domain : Size : Members\n",
            "        None :     1 :    Any :   11 : {0, 1, 2, 3, 4, 5, 6, 7, 8, 9, 10}\n",
            "\n",
            "2 Var Declarations\n",
            "    x : Size=11, Index=x_index\n",
            "        Key : Lower : Value : Upper : Fixed : Stale : Domain\n",
            "          0 :     0 :   1.0 :     1 : False : False : Binary\n",
            "          1 :     0 :   1.0 :     1 : False : False : Binary\n",
            "          2 :     0 :   0.0 :     1 : False : False : Binary\n",
            "          3 :     0 :   1.0 :     1 : False : False : Binary\n",
            "          4 :     0 :   1.0 :     1 : False : False : Binary\n",
            "          5 :     0 :   0.0 :     1 : False : False : Binary\n",
            "          6 :     0 :   1.0 :     1 : False : False : Binary\n",
            "          7 :     0 :   1.0 :     1 : False : False : Binary\n",
            "          8 :     0 :   1.0 :     1 : False : False : Binary\n",
            "          9 :     0 :   0.0 :     1 : False : False : Binary\n",
            "         10 :     0 :   1.0 :     1 : False : False : Binary\n",
            "    y : Size=11, Index=y_index\n",
            "        Key : Lower : Value : Upper : Fixed : Stale : Domain\n",
            "          0 :     0 :  None :     1 : False :  True :  Reals\n",
            "          1 :     0 :  None :     1 : False :  True :  Reals\n",
            "          2 :     0 :  None :     1 : False :  True :  Reals\n",
            "          3 :     0 :  None :     1 : False :  True :  Reals\n",
            "          4 :     0 :  None :     1 : False :  True :  Reals\n",
            "          5 :     0 :  None :     1 : False :  True :  Reals\n",
            "          6 :     0 :  None :     1 : False :  True :  Reals\n",
            "          7 :     0 :  None :     1 : False :  True :  Reals\n",
            "          8 :     0 :  None :     1 : False :  True :  Reals\n",
            "          9 :     0 :  None :     1 : False :  True :  Reals\n",
            "         10 :     0 :  None :     1 : False :  True :  Reals\n",
            "\n",
            "2 Objective Declarations\n",
            "    new_objective : Size=1, Index=None, Active=True\n",
            "        Key  : Active : Sense    : Expression\n",
            "        None :   True : maximize : 3*y[0] + 2*y[1] + 6*y[2] + 5*y[3] + 5*y[4] + 4*y[5] + 6*y[6] + 8*y[7] + 8*y[8] + 5*y[9] + 4*y[10]\n",
            "    objective : Size=1, Index=None, Active=False\n",
            "        Key  : Active : Sense    : Expression\n",
            "        None :  False : maximize : 3*x[0] + 2*x[1] + 6*x[2] + 5*x[3] + 5*x[4] + 4*x[5] + 6*x[6] + 8*x[7] + 8*x[8] + 5*x[9] + 4*x[10]\n",
            "\n",
            "1 Constraint Declarations\n",
            "    constraints : Size=24, Index=constraints_index, Active=True\n",
            "        Key : Lower : Body                                                                                               : Upper : Active\n",
            "          1 :  -Inf : -3*x[0] - 2*x[1] - 6*x[2] - 5*x[3] - 5*x[4] - 4*x[5] - 6*x[6] - 8*x[7] - 8*x[8] - 5*x[9] - 4*x[10] : -30.0 :  False\n",
            "          2 :  -Inf :                      - x[0] - x[1] - x[2] - x[3] - x[4] - x[5] - x[6] - x[7] - x[8] - x[9] - x[10] :  -5.0 :  False\n",
            "          3 :  -Inf :                        x[0] + x[1] + x[2] + x[3] + x[4] + x[5] + x[6] + x[7] + x[8] + x[9] + x[10] :   9.0 :  False\n",
            "          4 :  -Inf :                                                                                        x[2] + x[7] :   1.0 :  False\n",
            "          5 :  -Inf :                                                                                        x[4] + x[9] :   1.0 :  False\n",
            "          6 :  -Inf :                                                                                        x[2] + x[8] :   1.0 :  False\n",
            "          7 :  -Inf :                                                                                     - x[0] + x[10] :   0.0 :  False\n",
            "          8 :  -Inf :                                                                                       x[0] - x[10] :   1.0 :  False\n",
            "          9 :  -Inf :                                                                               - x[0] - x[1] - x[2] :  -1.0 :  False\n",
            "         10 :  -Inf :                                                                                 x[0] + x[1] + x[2] :   2.0 :  False\n",
            "         11 :  -Inf :                                                                                        x[5] + x[6] :   1.0 :  False\n",
            "         12 :  -Inf :                                                                                 x[3] + x[6] + x[9] :   2.0 :  False\n",
            "         13 :  -Inf : -3*y[0] - 2*y[1] - 6*y[2] - 5*y[3] - 5*y[4] - 4*y[5] - 6*y[6] - 8*y[7] - 8*y[8] - 5*y[9] - 4*y[10] : -30.0 :   True\n",
            "         14 :  -Inf :                      - y[0] - y[1] - y[2] - y[3] - y[4] - y[5] - y[6] - y[7] - y[8] - y[9] - y[10] :  -5.0 :   True\n",
            "         15 :  -Inf :                        y[0] + y[1] + y[2] + y[3] + y[4] + y[5] + y[6] + y[7] + y[8] + y[9] + y[10] :   9.0 :   True\n",
            "         16 :  -Inf :                                                                                        y[2] + y[7] :   1.0 :   True\n",
            "         17 :  -Inf :                                                                                        y[4] + y[9] :   1.0 :   True\n",
            "         18 :  -Inf :                                                                                        y[2] + y[8] :   1.0 :   True\n",
            "         19 :  -Inf :                                                                                     - y[0] + y[10] :   0.0 :   True\n",
            "         20 :  -Inf :                                                                                       y[0] - y[10] :   1.0 :   True\n",
            "         21 :  -Inf :                                                                               - y[0] - y[1] - y[2] :  -1.0 :   True\n",
            "         22 :  -Inf :                                                                                 y[0] + y[1] + y[2] :   2.0 :   True\n",
            "         23 :  -Inf :                                                                                        y[5] + y[6] :   1.0 :   True\n",
            "         24 :  -Inf :                                                                                 y[3] + y[6] + y[9] :   2.0 :   True\n",
            "\n",
            "8 Declarations: x_index x constraints_index constraints objective y_index y new_objective\n"
          ],
          "name": "stdout"
        }
      ]
    },
    {
      "cell_type": "code",
      "metadata": {
        "colab": {
          "base_uri": "https://localhost:8080/"
        },
        "id": "9kwW08NCuI8Q",
        "outputId": "8f0bb3b5-b348-4009-bbb5-d4b38d5ef56a"
      },
      "source": [
        "result=opt_cbc.solve(model)\n",
        "print(result)"
      ],
      "execution_count": 67,
      "outputs": [
        {
          "output_type": "stream",
          "text": [
            "\n",
            "Problem: \n",
            "- Name: unknown\n",
            "  Lower bound: 41.0\n",
            "  Upper bound: 41.0\n",
            "  Number of objectives: 1\n",
            "  Number of constraints: 13\n",
            "  Number of variables: 12\n",
            "  Number of nonzeros: 11\n",
            "  Sense: maximize\n",
            "Solver: \n",
            "- Status: ok\n",
            "  User time: -1.0\n",
            "  System time: 0.0\n",
            "  Wallclock time: 0.0\n",
            "  Termination condition: optimal\n",
            "  Termination message: Model was solved to optimality (subject to tolerances), and an optimal solution is available.\n",
            "  Statistics: \n",
            "    Branch and bound: \n",
            "      Number of bounded subproblems: None\n",
            "      Number of created subproblems: None\n",
            "    Black box: \n",
            "      Number of iterations: 6\n",
            "  Error rc: 0\n",
            "  Time: 0.02086615562438965\n",
            "Solution: \n",
            "- number of solutions: 0\n",
            "  number of solutions displayed: 0\n",
            "\n"
          ],
          "name": "stdout"
        }
      ]
    },
    {
      "cell_type": "markdown",
      "metadata": {
        "id": "4SoTBPkmtX_Z"
      },
      "source": [
        "**optimal vlaue and values of decision variables:-**"
      ]
    },
    {
      "cell_type": "code",
      "metadata": {
        "colab": {
          "base_uri": "https://localhost:8080/"
        },
        "id": "aQazdoqguXhK",
        "outputId": "0aa2e825-104e-4003-cc9d-42ccabd98e75"
      },
      "source": [
        "print(\"The optimal value is: \",model.new_objective())\n",
        "for j in col_indices:\n",
        "  print(f\"y[{j}]=\",model.y[j].value)"
      ],
      "execution_count": 68,
      "outputs": [
        {
          "output_type": "stream",
          "text": [
            "The optimal value is:  41.0\n",
            "y[0]= 1.0\n",
            "y[1]= 1.0\n",
            "y[2]= 0.0\n",
            "y[3]= 1.0\n",
            "y[4]= 1.0\n",
            "y[5]= 0.0\n",
            "y[6]= 1.0\n",
            "y[7]= 1.0\n",
            "y[8]= 1.0\n",
            "y[9]= 0.0\n",
            "y[10]= 1.0\n"
          ],
          "name": "stdout"
        }
      ]
    },
    {
      "cell_type": "markdown",
      "metadata": {
        "id": "YjyaALU0uQbZ"
      },
      "source": [
        "#Que.5\n",
        "\n",
        "In general,  the solution of the MILP can't be obtained by merely rounding the solution of the LP, we need to check the feasibility of the solution of the LP to the original MLIP\n",
        "\n",
        "here we are getting an optimal solution to the LP which is also feasible for the original MLIP,so here we can get the solution of the MLIP by merely rounding the solution of LP.\n"
      ]
    },
    {
      "cell_type": "markdown",
      "metadata": {
        "id": "8TM_iG_CwbVb"
      },
      "source": [
        "#Que.6\n",
        "\n",
        "The course timing for C11\n",
        "overlaps with the course timings of C7, C8, C9 so we need to add following constraints in our model.\n",
        "\n",
        "$x_7+x_{11}\\leq1\\\\ x_8+x_{11}\\leq1 \\\\ x_9+x_{11}\\leq1$\n",
        "\n",
        "After adding these constraints our model will be:\n",
        "\n",
        "$$\\text{max} \\sum_{i=0}^{i=11}a_ix_i , \\text{where }a_i \\text{ is the credit of course}\\ C_i$$\n",
        "subject to\n",
        "$$-\\sum_{i=0}^{i=11}a_i x_i\\leq -30\\\\ -\\sum_{i=0}^{i=11}x_i\\leq -5\\\\ \\sum_{i=0}^{i=11}x_i\\leq 9\\\\ x_2+x_7\\leq 1\\\\x_4+x_9\\leq1\\\\x_2+x_8\\leq1\\\\x_{10}-x_0\\leq0\\\\ x_0-x_{10}\\leq1\\\\-x_0-x_1-x_2\\leq-1\\\\x_0+x_1+x_2\\leq2\\\\x_5+x_6\\leq1\\\\x_3+x_6+x_9\\leq2\\\\x_7+x_{11}\\leq1\\\\ x_8+x_{11}\\leq1 \\\\ x_9+x_{11}\\leq1 $$\n",
        "\n",
        "\n"
      ]
    },
    {
      "cell_type": "markdown",
      "metadata": {
        "id": "E0BeIR4H2N0J"
      },
      "source": [
        "#Que.7"
      ]
    },
    {
      "cell_type": "code",
      "metadata": {
        "id": "Su93FWSlus9x"
      },
      "source": [
        "constr_new_coef_A=np.array([[-3,-2,-6,-5,-5,-4,-6,-8,-8,-5,-4,-9],\n",
        "                        [-1,-1,-1,-1,-1,-1,-1,-1,-1,-1,-1,0],\n",
        "                        [1,1,1,1,1,1,1,1,1,1,1,0],\n",
        "                        [0,0,1,0,0,0,0,1,0,0,0,0],\n",
        "                        [0,0,0,0,1,0,0,0,0,1,0,0],\n",
        "                        [0,0,1,0,0,0,0,0,1,0,0,0],\n",
        "                        [-1,0,0,0,0,0,0,0,0,0,1,0],\n",
        "                        [1,0,0,0,0,0,0,0,0,0,-1,0],\n",
        "                        [-1,-1,-1,0,0,0,0,0,0,0,0,0],\n",
        "                        [1,1,1,0,0,0,0,0,0,0,0,0],\n",
        "                        [0,0,0,0,0,1,1,0,0,0,0,0],\n",
        "                        [0,0,0,1,0,0,1,0,0,1,0,0],\n",
        "                        [0,0,0,0,0,0,0,1,0,0,0,1],\n",
        "                        [0,0,0,0,0,0,0,0,1,0,0,1],\n",
        "                        [0,0,0,0,0,0,0,0,0,1,0,1]\n",
        "                        ])\n",
        "obj_new_coef=np.array([3,2,6,5,5,4,6,8,8,5,4,9])\n",
        "N1=12\n",
        "M1=15\n",
        "col_new_indices=np.arange(N1)\n",
        "row_new_indices=np.arange(M1)\n",
        "modified_model=ConcreteModel()\n",
        "modified_model.x=Var(col_new_indices,domain=Binary)\n",
        "constr_new_rhs_b=np.array([-30,-5,9,1,1,1,0,1,-1,2,1,2,1,1,1])\n"
      ],
      "execution_count": 69,
      "outputs": []
    },
    {
      "cell_type": "code",
      "metadata": {
        "id": "dnL6x-mE0jRO"
      },
      "source": [
        "modified_model.objective=Objective(expr=summation(obj_new_coef,modified_model.x),sense=maximize)"
      ],
      "execution_count": 70,
      "outputs": []
    },
    {
      "cell_type": "code",
      "metadata": {
        "id": "mzNEie4I04nA"
      },
      "source": [
        "modified_model.constraints=ConstraintList()"
      ],
      "execution_count": 71,
      "outputs": []
    },
    {
      "cell_type": "code",
      "metadata": {
        "id": "5BOEoto10_4J"
      },
      "source": [
        "for i in row_new_indices:\n",
        "  modified_model.constraints.add(sum(constr_new_coef_A[i,j]*modified_model.x[j] for j in col_new_indices)<=constr_new_rhs_b[i])"
      ],
      "execution_count": 72,
      "outputs": []
    },
    {
      "cell_type": "code",
      "metadata": {
        "colab": {
          "base_uri": "https://localhost:8080/"
        },
        "id": "VEfDGHFp1pS2",
        "outputId": "5d3a6438-791d-400c-c4fb-7056a46203d8"
      },
      "source": [
        "modified_model.pprint()"
      ],
      "execution_count": 73,
      "outputs": [
        {
          "output_type": "stream",
          "text": [
            "2 Set Declarations\n",
            "    constraints_index : Size=1, Index=None, Ordered=Insertion\n",
            "        Key  : Dimen : Domain : Size : Members\n",
            "        None :     1 :    Any :   15 : {1, 2, 3, 4, 5, 6, 7, 8, 9, 10, 11, 12, 13, 14, 15}\n",
            "    x_index : Size=1, Index=None, Ordered=False\n",
            "        Key  : Dimen : Domain : Size : Members\n",
            "        None :     1 :    Any :   12 : {0, 1, 2, 3, 4, 5, 6, 7, 8, 9, 10, 11}\n",
            "\n",
            "1 Var Declarations\n",
            "    x : Size=12, Index=x_index\n",
            "        Key : Lower : Value : Upper : Fixed : Stale : Domain\n",
            "          0 :     0 :  None :     1 : False :  True : Binary\n",
            "          1 :     0 :  None :     1 : False :  True : Binary\n",
            "          2 :     0 :  None :     1 : False :  True : Binary\n",
            "          3 :     0 :  None :     1 : False :  True : Binary\n",
            "          4 :     0 :  None :     1 : False :  True : Binary\n",
            "          5 :     0 :  None :     1 : False :  True : Binary\n",
            "          6 :     0 :  None :     1 : False :  True : Binary\n",
            "          7 :     0 :  None :     1 : False :  True : Binary\n",
            "          8 :     0 :  None :     1 : False :  True : Binary\n",
            "          9 :     0 :  None :     1 : False :  True : Binary\n",
            "         10 :     0 :  None :     1 : False :  True : Binary\n",
            "         11 :     0 :  None :     1 : False :  True : Binary\n",
            "\n",
            "1 Objective Declarations\n",
            "    objective : Size=1, Index=None, Active=True\n",
            "        Key  : Active : Sense    : Expression\n",
            "        None :   True : maximize : 3*x[0] + 2*x[1] + 6*x[2] + 5*x[3] + 5*x[4] + 4*x[5] + 6*x[6] + 8*x[7] + 8*x[8] + 5*x[9] + 4*x[10] + 9*x[11]\n",
            "\n",
            "1 Constraint Declarations\n",
            "    constraints : Size=15, Index=constraints_index, Active=True\n",
            "        Key : Lower : Body                                                                                                         : Upper : Active\n",
            "          1 :  -Inf : -3*x[0] - 2*x[1] - 6*x[2] - 5*x[3] - 5*x[4] - 4*x[5] - 6*x[6] - 8*x[7] - 8*x[8] - 5*x[9] - 4*x[10] - 9*x[11] : -30.0 :   True\n",
            "          2 :  -Inf :                                - x[0] - x[1] - x[2] - x[3] - x[4] - x[5] - x[6] - x[7] - x[8] - x[9] - x[10] :  -5.0 :   True\n",
            "          3 :  -Inf :                                  x[0] + x[1] + x[2] + x[3] + x[4] + x[5] + x[6] + x[7] + x[8] + x[9] + x[10] :   9.0 :   True\n",
            "          4 :  -Inf :                                                                                                  x[2] + x[7] :   1.0 :   True\n",
            "          5 :  -Inf :                                                                                                  x[4] + x[9] :   1.0 :   True\n",
            "          6 :  -Inf :                                                                                                  x[2] + x[8] :   1.0 :   True\n",
            "          7 :  -Inf :                                                                                               - x[0] + x[10] :   0.0 :   True\n",
            "          8 :  -Inf :                                                                                                 x[0] - x[10] :   1.0 :   True\n",
            "          9 :  -Inf :                                                                                         - x[0] - x[1] - x[2] :  -1.0 :   True\n",
            "         10 :  -Inf :                                                                                           x[0] + x[1] + x[2] :   2.0 :   True\n",
            "         11 :  -Inf :                                                                                                  x[5] + x[6] :   1.0 :   True\n",
            "         12 :  -Inf :                                                                                           x[3] + x[6] + x[9] :   2.0 :   True\n",
            "         13 :  -Inf :                                                                                                 x[7] + x[11] :   1.0 :   True\n",
            "         14 :  -Inf :                                                                                                 x[8] + x[11] :   1.0 :   True\n",
            "         15 :  -Inf :                                                                                                 x[9] + x[11] :   1.0 :   True\n",
            "\n",
            "5 Declarations: x_index x objective constraints_index constraints\n"
          ],
          "name": "stdout"
        }
      ]
    },
    {
      "cell_type": "code",
      "metadata": {
        "colab": {
          "base_uri": "https://localhost:8080/"
        },
        "id": "NtVb1rTe1r9l",
        "outputId": "5296292c-159c-46c1-8c68-b1fd98d3a2fd"
      },
      "source": [
        "result=opt_cbc.solve(modified_model)\n",
        "print(result)"
      ],
      "execution_count": 74,
      "outputs": [
        {
          "output_type": "stream",
          "text": [
            "\n",
            "Problem: \n",
            "- Name: unknown\n",
            "  Lower bound: 41.0\n",
            "  Upper bound: 41.0\n",
            "  Number of objectives: 1\n",
            "  Number of constraints: 14\n",
            "  Number of variables: 12\n",
            "  Number of binary variables: 12\n",
            "  Number of integer variables: 12\n",
            "  Number of nonzeros: 12\n",
            "  Sense: maximize\n",
            "Solver: \n",
            "- Status: ok\n",
            "  User time: -1.0\n",
            "  System time: 0.0\n",
            "  Wallclock time: 0.0\n",
            "  Termination condition: optimal\n",
            "  Termination message: Model was solved to optimality (subject to tolerances), and an optimal solution is available.\n",
            "  Statistics: \n",
            "    Branch and bound: \n",
            "      Number of bounded subproblems: 0\n",
            "      Number of created subproblems: 0\n",
            "    Black box: \n",
            "      Number of iterations: 0\n",
            "  Error rc: 0\n",
            "  Time: 0.019463062286376953\n",
            "Solution: \n",
            "- number of solutions: 0\n",
            "  number of solutions displayed: 0\n",
            "\n"
          ],
          "name": "stdout"
        }
      ]
    },
    {
      "cell_type": "markdown",
      "metadata": {
        "id": "wduoSHHSxv_m"
      },
      "source": [
        "**optimal value and values of the decision variables:-** "
      ]
    },
    {
      "cell_type": "code",
      "metadata": {
        "colab": {
          "base_uri": "https://localhost:8080/"
        },
        "id": "cnP4JHvd12-x",
        "outputId": "440fc2da-d5e1-4068-9fd7-30ccab340e7f"
      },
      "source": [
        "print(\"The optimal value is: \",modified_model.objective())\n",
        "for j in col_new_indices:\n",
        "  print(f\"x[{j}]=\",modified_model.x[j].value)"
      ],
      "execution_count": 75,
      "outputs": [
        {
          "output_type": "stream",
          "text": [
            "The optimal value is:  41.0\n",
            "x[0]= 1.0\n",
            "x[1]= 1.0\n",
            "x[2]= 0.0\n",
            "x[3]= 1.0\n",
            "x[4]= 1.0\n",
            "x[5]= 0.0\n",
            "x[6]= 1.0\n",
            "x[7]= 1.0\n",
            "x[8]= 1.0\n",
            "x[9]= 0.0\n",
            "x[10]= 1.0\n",
            "x[11]= 0.0\n"
          ],
          "name": "stdout"
        }
      ]
    },
    {
      "cell_type": "markdown",
      "metadata": {
        "id": "a2m1EfE42W5r"
      },
      "source": [
        "#Que.8"
      ]
    },
    {
      "cell_type": "code",
      "metadata": {
        "id": "QLIbnsL22KIC"
      },
      "source": [
        "for j in row_new_indices:\n",
        "  modified_model.constraints[j+1].deactivate()"
      ],
      "execution_count": 76,
      "outputs": []
    },
    {
      "cell_type": "code",
      "metadata": {
        "id": "sextjLtc2okK"
      },
      "source": [
        "modified_model.y=Var(col_new_indices)"
      ],
      "execution_count": 77,
      "outputs": []
    },
    {
      "cell_type": "code",
      "metadata": {
        "id": "xbXunCP0qeJQ"
      },
      "source": [
        "modified_model.objective.deactivate()"
      ],
      "execution_count": 78,
      "outputs": []
    },
    {
      "cell_type": "code",
      "metadata": {
        "id": "q7ox7Rwi210n"
      },
      "source": [
        "modified_model.new_objective=Objective(expr=summation(obj_new_coef,modified_model.y),sense=maximize)"
      ],
      "execution_count": 79,
      "outputs": []
    },
    {
      "cell_type": "code",
      "metadata": {
        "id": "yNHf1rO-qwr_"
      },
      "source": [
        "for i in row_new_indices:\n",
        "  modified_model.constraints.add(sum(constr_new_coef_A[i,j]*modified_model.y[j] for j in col_new_indices)<=constr_new_rhs_b[i])"
      ],
      "execution_count": 80,
      "outputs": []
    },
    {
      "cell_type": "code",
      "metadata": {
        "id": "U3NZmZNK3ytc"
      },
      "source": [
        "new_lower_bound=np.array([0,0,0,0,0,0,0,0,0,0,0,0])\n",
        "new_upper_bound=np.array([1,1,1,1,1,1,1,1,1,1,1,1])"
      ],
      "execution_count": 81,
      "outputs": []
    },
    {
      "cell_type": "code",
      "metadata": {
        "id": "zkrc73494Daz"
      },
      "source": [
        "for j in col_new_indices:\n",
        "  modified_model.y[j].setlb(new_lower_bound[j])\n",
        "  modified_model.y[j].setub(new_upper_bound[j])"
      ],
      "execution_count": 82,
      "outputs": []
    },
    {
      "cell_type": "code",
      "metadata": {
        "colab": {
          "base_uri": "https://localhost:8080/"
        },
        "id": "oCXwJ5zx4Ry3",
        "outputId": "cd53ab8c-7128-4ac1-ca1d-2369df5c4537"
      },
      "source": [
        "modified_model.pprint()"
      ],
      "execution_count": 83,
      "outputs": [
        {
          "output_type": "stream",
          "text": [
            "3 Set Declarations\n",
            "    constraints_index : Size=1, Index=None, Ordered=Insertion\n",
            "        Key  : Dimen : Domain : Size : Members\n",
            "        None :     1 :    Any :   30 : {1, 2, 3, 4, 5, 6, 7, 8, 9, 10, 11, 12, 13, 14, 15, 16, 17, 18, 19, 20, 21, 22, 23, 24, 25, 26, 27, 28, 29, 30}\n",
            "    x_index : Size=1, Index=None, Ordered=False\n",
            "        Key  : Dimen : Domain : Size : Members\n",
            "        None :     1 :    Any :   12 : {0, 1, 2, 3, 4, 5, 6, 7, 8, 9, 10, 11}\n",
            "    y_index : Size=1, Index=None, Ordered=False\n",
            "        Key  : Dimen : Domain : Size : Members\n",
            "        None :     1 :    Any :   12 : {0, 1, 2, 3, 4, 5, 6, 7, 8, 9, 10, 11}\n",
            "\n",
            "2 Var Declarations\n",
            "    x : Size=12, Index=x_index\n",
            "        Key : Lower : Value : Upper : Fixed : Stale : Domain\n",
            "          0 :     0 :   1.0 :     1 : False : False : Binary\n",
            "          1 :     0 :   1.0 :     1 : False : False : Binary\n",
            "          2 :     0 :   0.0 :     1 : False : False : Binary\n",
            "          3 :     0 :   1.0 :     1 : False : False : Binary\n",
            "          4 :     0 :   1.0 :     1 : False : False : Binary\n",
            "          5 :     0 :   0.0 :     1 : False : False : Binary\n",
            "          6 :     0 :   1.0 :     1 : False : False : Binary\n",
            "          7 :     0 :   1.0 :     1 : False : False : Binary\n",
            "          8 :     0 :   1.0 :     1 : False : False : Binary\n",
            "          9 :     0 :   0.0 :     1 : False : False : Binary\n",
            "         10 :     0 :   1.0 :     1 : False : False : Binary\n",
            "         11 :     0 :   0.0 :     1 : False : False : Binary\n",
            "    y : Size=12, Index=y_index\n",
            "        Key : Lower : Value : Upper : Fixed : Stale : Domain\n",
            "          0 :     0 :  None :     1 : False :  True :  Reals\n",
            "          1 :     0 :  None :     1 : False :  True :  Reals\n",
            "          2 :     0 :  None :     1 : False :  True :  Reals\n",
            "          3 :     0 :  None :     1 : False :  True :  Reals\n",
            "          4 :     0 :  None :     1 : False :  True :  Reals\n",
            "          5 :     0 :  None :     1 : False :  True :  Reals\n",
            "          6 :     0 :  None :     1 : False :  True :  Reals\n",
            "          7 :     0 :  None :     1 : False :  True :  Reals\n",
            "          8 :     0 :  None :     1 : False :  True :  Reals\n",
            "          9 :     0 :  None :     1 : False :  True :  Reals\n",
            "         10 :     0 :  None :     1 : False :  True :  Reals\n",
            "         11 :     0 :  None :     1 : False :  True :  Reals\n",
            "\n",
            "2 Objective Declarations\n",
            "    new_objective : Size=1, Index=None, Active=True\n",
            "        Key  : Active : Sense    : Expression\n",
            "        None :   True : maximize : 3*y[0] + 2*y[1] + 6*y[2] + 5*y[3] + 5*y[4] + 4*y[5] + 6*y[6] + 8*y[7] + 8*y[8] + 5*y[9] + 4*y[10] + 9*y[11]\n",
            "    objective : Size=1, Index=None, Active=False\n",
            "        Key  : Active : Sense    : Expression\n",
            "        None :  False : maximize : 3*x[0] + 2*x[1] + 6*x[2] + 5*x[3] + 5*x[4] + 4*x[5] + 6*x[6] + 8*x[7] + 8*x[8] + 5*x[9] + 4*x[10] + 9*x[11]\n",
            "\n",
            "1 Constraint Declarations\n",
            "    constraints : Size=30, Index=constraints_index, Active=True\n",
            "        Key : Lower : Body                                                                                                         : Upper : Active\n",
            "          1 :  -Inf : -3*x[0] - 2*x[1] - 6*x[2] - 5*x[3] - 5*x[4] - 4*x[5] - 6*x[6] - 8*x[7] - 8*x[8] - 5*x[9] - 4*x[10] - 9*x[11] : -30.0 :  False\n",
            "          2 :  -Inf :                                - x[0] - x[1] - x[2] - x[3] - x[4] - x[5] - x[6] - x[7] - x[8] - x[9] - x[10] :  -5.0 :  False\n",
            "          3 :  -Inf :                                  x[0] + x[1] + x[2] + x[3] + x[4] + x[5] + x[6] + x[7] + x[8] + x[9] + x[10] :   9.0 :  False\n",
            "          4 :  -Inf :                                                                                                  x[2] + x[7] :   1.0 :  False\n",
            "          5 :  -Inf :                                                                                                  x[4] + x[9] :   1.0 :  False\n",
            "          6 :  -Inf :                                                                                                  x[2] + x[8] :   1.0 :  False\n",
            "          7 :  -Inf :                                                                                               - x[0] + x[10] :   0.0 :  False\n",
            "          8 :  -Inf :                                                                                                 x[0] - x[10] :   1.0 :  False\n",
            "          9 :  -Inf :                                                                                         - x[0] - x[1] - x[2] :  -1.0 :  False\n",
            "         10 :  -Inf :                                                                                           x[0] + x[1] + x[2] :   2.0 :  False\n",
            "         11 :  -Inf :                                                                                                  x[5] + x[6] :   1.0 :  False\n",
            "         12 :  -Inf :                                                                                           x[3] + x[6] + x[9] :   2.0 :  False\n",
            "         13 :  -Inf :                                                                                                 x[7] + x[11] :   1.0 :  False\n",
            "         14 :  -Inf :                                                                                                 x[8] + x[11] :   1.0 :  False\n",
            "         15 :  -Inf :                                                                                                 x[9] + x[11] :   1.0 :  False\n",
            "         16 :  -Inf : -3*y[0] - 2*y[1] - 6*y[2] - 5*y[3] - 5*y[4] - 4*y[5] - 6*y[6] - 8*y[7] - 8*y[8] - 5*y[9] - 4*y[10] - 9*y[11] : -30.0 :   True\n",
            "         17 :  -Inf :                                - y[0] - y[1] - y[2] - y[3] - y[4] - y[5] - y[6] - y[7] - y[8] - y[9] - y[10] :  -5.0 :   True\n",
            "         18 :  -Inf :                                  y[0] + y[1] + y[2] + y[3] + y[4] + y[5] + y[6] + y[7] + y[8] + y[9] + y[10] :   9.0 :   True\n",
            "         19 :  -Inf :                                                                                                  y[2] + y[7] :   1.0 :   True\n",
            "         20 :  -Inf :                                                                                                  y[4] + y[9] :   1.0 :   True\n",
            "         21 :  -Inf :                                                                                                  y[2] + y[8] :   1.0 :   True\n",
            "         22 :  -Inf :                                                                                               - y[0] + y[10] :   0.0 :   True\n",
            "         23 :  -Inf :                                                                                                 y[0] - y[10] :   1.0 :   True\n",
            "         24 :  -Inf :                                                                                         - y[0] - y[1] - y[2] :  -1.0 :   True\n",
            "         25 :  -Inf :                                                                                           y[0] + y[1] + y[2] :   2.0 :   True\n",
            "         26 :  -Inf :                                                                                                  y[5] + y[6] :   1.0 :   True\n",
            "         27 :  -Inf :                                                                                           y[3] + y[6] + y[9] :   2.0 :   True\n",
            "         28 :  -Inf :                                                                                                 y[7] + y[11] :   1.0 :   True\n",
            "         29 :  -Inf :                                                                                                 y[8] + y[11] :   1.0 :   True\n",
            "         30 :  -Inf :                                                                                                 y[9] + y[11] :   1.0 :   True\n",
            "\n",
            "8 Declarations: x_index x objective constraints_index constraints y_index y new_objective\n"
          ],
          "name": "stdout"
        }
      ]
    },
    {
      "cell_type": "code",
      "metadata": {
        "colab": {
          "base_uri": "https://localhost:8080/"
        },
        "id": "pnNKisy94V0B",
        "outputId": "66024592-8de9-4115-f55e-f70190060217"
      },
      "source": [
        "result=opt_cbc.solve(modified_model)\n",
        "print(result)\n",
        "print(\"The optimal value is: \",modified_model.new_objective())\n",
        "for j in col_new_indices:\n",
        "  print(f\"y[{j}]=\",modified_model.y[j].value)"
      ],
      "execution_count": 84,
      "outputs": [
        {
          "output_type": "stream",
          "text": [
            "\n",
            "Problem: \n",
            "- Name: unknown\n",
            "  Lower bound: 41.0\n",
            "  Upper bound: 41.0\n",
            "  Number of objectives: 1\n",
            "  Number of constraints: 16\n",
            "  Number of variables: 13\n",
            "  Number of nonzeros: 12\n",
            "  Sense: maximize\n",
            "Solver: \n",
            "- Status: ok\n",
            "  User time: -1.0\n",
            "  System time: 0.0\n",
            "  Wallclock time: 0.01\n",
            "  Termination condition: optimal\n",
            "  Termination message: Model was solved to optimality (subject to tolerances), and an optimal solution is available.\n",
            "  Statistics: \n",
            "    Branch and bound: \n",
            "      Number of bounded subproblems: None\n",
            "      Number of created subproblems: None\n",
            "    Black box: \n",
            "      Number of iterations: 12\n",
            "  Error rc: 0\n",
            "  Time: 0.03218245506286621\n",
            "Solution: \n",
            "- number of solutions: 0\n",
            "  number of solutions displayed: 0\n",
            "\n",
            "The optimal value is:  41.0\n",
            "y[0]= 1.0\n",
            "y[1]= 1.0\n",
            "y[2]= 0.0\n",
            "y[3]= 1.0\n",
            "y[4]= 1.0\n",
            "y[5]= 0.0\n",
            "y[6]= 1.0\n",
            "y[7]= 1.0\n",
            "y[8]= 1.0\n",
            "y[9]= 0.0\n",
            "y[10]= 1.0\n",
            "y[11]= 0.0\n"
          ],
          "name": "stdout"
        }
      ]
    },
    {
      "cell_type": "markdown",
      "metadata": {
        "id": "vxBz9EJHySi3"
      },
      "source": [
        "Here we are getting same solution of modified LP and the Modified MILP,so here the solution of the modified MILP can be obtained by merely rounding the solution of the\n",
        "corresponding modified LP"
      ]
    },
    {
      "cell_type": "code",
      "metadata": {
        "id": "WBEMrZOJ4keY"
      },
      "source": [
        ""
      ],
      "execution_count": 84,
      "outputs": []
    }
  ]
}