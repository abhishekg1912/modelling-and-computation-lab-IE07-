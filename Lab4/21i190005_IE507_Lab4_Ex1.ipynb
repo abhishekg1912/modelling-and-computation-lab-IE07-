{
  "nbformat": 4,
  "nbformat_minor": 0,
  "metadata": {
    "colab": {
      "name": "21i190005_IE507_Lab4_Ex1.ipynb",
      "provenance": [],
      "collapsed_sections": []
    },
    "kernelspec": {
      "name": "python3",
      "display_name": "Python 3"
    },
    "language_info": {
      "name": "python"
    }
  },
  "cells": [
    {
      "cell_type": "markdown",
      "metadata": {
        "id": "8L_GXz0ifpt1"
      },
      "source": [
        "**EXERCISE-1**\n",
        "\n",
        "---\n",
        "\n"
      ]
    },
    {
      "cell_type": "markdown",
      "metadata": {
        "id": "0vhrBU_x9Cja"
      },
      "source": [
        "Given optimization problem is:\n",
        "$$ \\text{max}\\ 0.85x_1+3.75x_2-8.75x_3-3.45x_4-22.38x_5+20x_6 \\\\ \\text{s.t.} -0.7x_1-3.9x_2-x_3+x_5\\leq 14.9\\\\ x_1-x_4-x_6\\leq0.9\\\\ -3x_2-2x_3-x_6\\leq -51.7\\\\ 4.8x_4+9.12x_5+7.2x_6\\leq 75 \\\\ -0.8x_1-1.5x_2+8x_3-2x_4+x_5\\leq-27\\\\x_i\\geq0 \\  \\forall \\ i \\in \\{1,2,...,5\\}\n",
        "$$"
      ]
    },
    {
      "cell_type": "code",
      "metadata": {
        "id": "_m3snJf6fRkT"
      },
      "source": [
        "!pip install -q pyomo"
      ],
      "execution_count": 25,
      "outputs": []
    },
    {
      "cell_type": "code",
      "metadata": {
        "id": "mbfLVLS6fuBt"
      },
      "source": [
        "from pyomo.environ import *"
      ],
      "execution_count": 26,
      "outputs": []
    },
    {
      "cell_type": "code",
      "metadata": {
        "id": "8NOeKr0hfycP"
      },
      "source": [
        "import numpy as np"
      ],
      "execution_count": 27,
      "outputs": []
    },
    {
      "cell_type": "code",
      "metadata": {
        "id": "Y-jAgWVZf2G6"
      },
      "source": [
        "coef = np.loadtxt('lab4_ex1_coef.txt', delimiter = ',')"
      ],
      "execution_count": 28,
      "outputs": []
    },
    {
      "cell_type": "code",
      "metadata": {
        "colab": {
          "base_uri": "https://localhost:8080/"
        },
        "id": "UFnIRUZTgZqK",
        "outputId": "730d0745-3ddf-48f2-8757-c83011617514"
      },
      "source": [
        "print(coef.shape)\n",
        "print('Number of rows:', coef.shape[0])\n",
        "print('Number of columns:', coef.shape[1])"
      ],
      "execution_count": 29,
      "outputs": [
        {
          "output_type": "stream",
          "text": [
            "(6, 7)\n",
            "Number of rows: 6\n",
            "Number of columns: 7\n"
          ],
          "name": "stdout"
        }
      ]
    },
    {
      "cell_type": "code",
      "metadata": {
        "colab": {
          "base_uri": "https://localhost:8080/"
        },
        "id": "9CQfkw6lhYB9",
        "outputId": "14978707-f37e-4df0-c978-c29011e1be2b"
      },
      "source": [
        "print(coef)"
      ],
      "execution_count": 30,
      "outputs": [
        {
          "output_type": "stream",
          "text": [
            "[[  0.85   3.75  -8.75  -3.45 -22.38  20.     0.  ]\n",
            " [ -0.7   -3.9   -1.     0.     1.     0.    14.9 ]\n",
            " [  1.     0.     0.    -1.     0.    -1.     0.9 ]\n",
            " [  0.    -3.    -2.     0.     0.    -1.   -51.7 ]\n",
            " [  0.     0.     0.     4.8    9.12   7.2   75.  ]\n",
            " [ -0.8   -1.5    8.    -2.     1.     0.   -27.  ]]\n"
          ],
          "name": "stdout"
        }
      ]
    },
    {
      "cell_type": "code",
      "metadata": {
        "id": "naGjv5Y9hZgb"
      },
      "source": [
        "model = ConcreteModel()"
      ],
      "execution_count": 31,
      "outputs": []
    },
    {
      "cell_type": "code",
      "metadata": {
        "id": "c6z-e8xghkAV"
      },
      "source": [
        "M = coef.shape[0] - 1 #number of constraints\n",
        "N = coef.shape[1] - 1 #number of decision variables"
      ],
      "execution_count": 32,
      "outputs": []
    },
    {
      "cell_type": "code",
      "metadata": {
        "colab": {
          "base_uri": "https://localhost:8080/"
        },
        "id": "D09WUcgkqOtR",
        "outputId": "60194b61-0994-4a0d-f59e-5e7320cfb896"
      },
      "source": [
        "print(M)\n",
        "print(N)"
      ],
      "execution_count": 33,
      "outputs": [
        {
          "output_type": "stream",
          "text": [
            "5\n",
            "6\n"
          ],
          "name": "stdout"
        }
      ]
    },
    {
      "cell_type": "code",
      "metadata": {
        "id": "viO8fcbwiXyU"
      },
      "source": [
        "obj_coef = coef[0,:-1]\n",
        "constr_coef = coef[1:,:-1]\n",
        "constr_rhs = coef[1:,-1]\n",
        "lower_bound = 0\n",
        "upper_bound = np.inf\n"
      ],
      "execution_count": 34,
      "outputs": []
    },
    {
      "cell_type": "code",
      "metadata": {
        "id": "4eqRb2x2kMMR"
      },
      "source": [
        "row_indices = np.arange(M)\n",
        "col_indices = np.arange(N)"
      ],
      "execution_count": 35,
      "outputs": []
    },
    {
      "cell_type": "code",
      "metadata": {
        "colab": {
          "base_uri": "https://localhost:8080/"
        },
        "id": "uNZ84dJbp_za",
        "outputId": "f2fc3c65-7813-4d44-8674-b4108a431479"
      },
      "source": [
        "print(col_indices)\n",
        "print(row_indices)"
      ],
      "execution_count": 36,
      "outputs": [
        {
          "output_type": "stream",
          "text": [
            "[0 1 2 3 4 5]\n",
            "[0 1 2 3 4]\n"
          ],
          "name": "stdout"
        }
      ]
    },
    {
      "cell_type": "code",
      "metadata": {
        "id": "o3zCIM_ZljsN"
      },
      "source": [
        "model.x = Var(col_indices)"
      ],
      "execution_count": 37,
      "outputs": []
    },
    {
      "cell_type": "code",
      "metadata": {
        "id": "FNARaN5Clspy"
      },
      "source": [
        "model.constraints = ConstraintList()"
      ],
      "execution_count": 38,
      "outputs": []
    },
    {
      "cell_type": "code",
      "metadata": {
        "id": "hyPEuQyDl66m"
      },
      "source": [
        "for i in row_indices:\n",
        "      model.constraints.add(sum(constr_coef[i][j]*model.x[j] for j in col_indices)<= constr_rhs[i])"
      ],
      "execution_count": 39,
      "outputs": []
    },
    {
      "cell_type": "code",
      "metadata": {
        "id": "KUKoxdYpoW9S"
      },
      "source": [
        "for j in col_indices:\n",
        "  model.x[j].setlb(lower_bound)\n",
        "  model.x[j].setub(upper_bound)"
      ],
      "execution_count": 40,
      "outputs": []
    },
    {
      "cell_type": "code",
      "metadata": {
        "id": "SHgVFj4ErKfV"
      },
      "source": [
        "model.objective = Objective(expr = sum(obj_coef[j]*model.x[j] for j in col_indices), sense = maximize)"
      ],
      "execution_count": 41,
      "outputs": []
    },
    {
      "cell_type": "code",
      "metadata": {
        "colab": {
          "base_uri": "https://localhost:8080/"
        },
        "id": "mWCaTeGLrmbB",
        "outputId": "97bab682-be76-4622-f2b8-7a7fe2926f03"
      },
      "source": [
        "model.pprint()"
      ],
      "execution_count": 42,
      "outputs": [
        {
          "output_type": "stream",
          "text": [
            "2 Set Declarations\n",
            "    constraints_index : Size=1, Index=None, Ordered=Insertion\n",
            "        Key  : Dimen : Domain : Size : Members\n",
            "        None :     1 :    Any :    5 : {1, 2, 3, 4, 5}\n",
            "    x_index : Size=1, Index=None, Ordered=False\n",
            "        Key  : Dimen : Domain : Size : Members\n",
            "        None :     1 :    Any :    6 : {0, 1, 2, 3, 4, 5}\n",
            "\n",
            "1 Var Declarations\n",
            "    x : Size=6, Index=x_index\n",
            "        Key : Lower : Value : Upper : Fixed : Stale : Domain\n",
            "          0 :     0 :  None :   inf : False :  True :  Reals\n",
            "          1 :     0 :  None :   inf : False :  True :  Reals\n",
            "          2 :     0 :  None :   inf : False :  True :  Reals\n",
            "          3 :     0 :  None :   inf : False :  True :  Reals\n",
            "          4 :     0 :  None :   inf : False :  True :  Reals\n",
            "          5 :     0 :  None :   inf : False :  True :  Reals\n",
            "\n",
            "1 Objective Declarations\n",
            "    objective : Size=1, Index=None, Active=True\n",
            "        Key  : Active : Sense    : Expression\n",
            "        None :   True : maximize : 0.85*x[0] + 3.75*x[1] - 8.75*x[2] - 3.45*x[3] - 22.38*x[4] + 20.0*x[5]\n",
            "\n",
            "1 Constraint Declarations\n",
            "    constraints : Size=5, Index=constraints_index, Active=True\n",
            "        Key : Lower : Body                                              : Upper : Active\n",
            "          1 :  -Inf :                -0.7*x[0] - 3.9*x[1] - x[2] + x[4] :  14.9 :   True\n",
            "          2 :  -Inf :                                x[0] - x[3] - x[5] :   0.9 :   True\n",
            "          3 :  -Inf :                       -3.0*x[1] - 2.0*x[2] - x[5] : -51.7 :   True\n",
            "          4 :  -Inf :                   4.8*x[3] + 9.12*x[4] + 7.2*x[5] :  75.0 :   True\n",
            "          5 :  -Inf : -0.8*x[0] - 1.5*x[1] + 8.0*x[2] - 2.0*x[3] + x[4] : -27.0 :   True\n",
            "\n",
            "5 Declarations: x_index x constraints_index constraints objective\n"
          ],
          "name": "stdout"
        }
      ]
    },
    {
      "cell_type": "code",
      "metadata": {
        "id": "aVolWJ55rpbk"
      },
      "source": [
        "!apt-get install -y -qq coinor-cbc"
      ],
      "execution_count": 43,
      "outputs": []
    },
    {
      "cell_type": "code",
      "metadata": {
        "id": "AMSMK_yMr1qG"
      },
      "source": [
        "opt_cbc = SolverFactory('cbc')"
      ],
      "execution_count": 44,
      "outputs": []
    },
    {
      "cell_type": "code",
      "metadata": {
        "colab": {
          "base_uri": "https://localhost:8080/"
        },
        "id": "UxsozmcBsChN",
        "outputId": "69565d01-e321-48ce-c585-02cd0903f823"
      },
      "source": [
        "result = opt_cbc.solve(model)\n",
        "print('Solver status:', result.solver.status)\n",
        "print('Solver termination condition:',result.solver.termination_condition)"
      ],
      "execution_count": 45,
      "outputs": [
        {
          "output_type": "stream",
          "text": [
            "WARNING: Loading a SolverResults object with a warning status into\n",
            "    model.name=\"unknown\";\n",
            "      - termination condition: unbounded\n",
            "      - message from solver: <undefined>\n",
            "Solver status: warning\n",
            "Solver termination condition: unbounded\n"
          ],
          "name": "stdout"
        }
      ]
    },
    {
      "cell_type": "markdown",
      "metadata": {
        "id": "aQbxaKbTz9EB"
      },
      "source": [
        "#Que.1(7)\n",
        "\n",
        "The termination condition is unbounded, i.e., in this problem, we can maximize the objective function indefinitely without violating the constraints.\n",
        "\n",
        "The solver status is warning.\n",
        "\n",
        "We were solving the problem in the wrong optimization sense, so the feasible region is unbounded."
      ]
    },
    {
      "cell_type": "code",
      "metadata": {
        "colab": {
          "base_uri": "https://localhost:8080/"
        },
        "id": "hlnfXTzzsKJu",
        "outputId": "15f1b3f7-31e6-4469-e2c0-3b7731760f2c"
      },
      "source": [
        "# reset the sense to minimize\n",
        "model.objective.set_sense(minimize)\n",
        "model.pprint()\n"
      ],
      "execution_count": 46,
      "outputs": [
        {
          "output_type": "stream",
          "text": [
            "2 Set Declarations\n",
            "    constraints_index : Size=1, Index=None, Ordered=Insertion\n",
            "        Key  : Dimen : Domain : Size : Members\n",
            "        None :     1 :    Any :    5 : {1, 2, 3, 4, 5}\n",
            "    x_index : Size=1, Index=None, Ordered=False\n",
            "        Key  : Dimen : Domain : Size : Members\n",
            "        None :     1 :    Any :    6 : {0, 1, 2, 3, 4, 5}\n",
            "\n",
            "1 Var Declarations\n",
            "    x : Size=6, Index=x_index\n",
            "        Key : Lower : Value : Upper : Fixed : Stale : Domain\n",
            "          0 :     0 :  None :   inf : False :  True :  Reals\n",
            "          1 :     0 :  None :   inf : False :  True :  Reals\n",
            "          2 :     0 :  None :   inf : False :  True :  Reals\n",
            "          3 :     0 :  None :   inf : False :  True :  Reals\n",
            "          4 :     0 :  None :   inf : False :  True :  Reals\n",
            "          5 :     0 :  None :   inf : False :  True :  Reals\n",
            "\n",
            "1 Objective Declarations\n",
            "    objective : Size=1, Index=None, Active=True\n",
            "        Key  : Active : Sense    : Expression\n",
            "        None :   True : minimize : 0.85*x[0] + 3.75*x[1] - 8.75*x[2] - 3.45*x[3] - 22.38*x[4] + 20.0*x[5]\n",
            "\n",
            "1 Constraint Declarations\n",
            "    constraints : Size=5, Index=constraints_index, Active=True\n",
            "        Key : Lower : Body                                              : Upper : Active\n",
            "          1 :  -Inf :                -0.7*x[0] - 3.9*x[1] - x[2] + x[4] :  14.9 :   True\n",
            "          2 :  -Inf :                                x[0] - x[3] - x[5] :   0.9 :   True\n",
            "          3 :  -Inf :                       -3.0*x[1] - 2.0*x[2] - x[5] : -51.7 :   True\n",
            "          4 :  -Inf :                   4.8*x[3] + 9.12*x[4] + 7.2*x[5] :  75.0 :   True\n",
            "          5 :  -Inf : -0.8*x[0] - 1.5*x[1] + 8.0*x[2] - 2.0*x[3] + x[4] : -27.0 :   True\n",
            "\n",
            "5 Declarations: x_index x constraints_index constraints objective\n"
          ],
          "name": "stdout"
        }
      ]
    },
    {
      "cell_type": "code",
      "metadata": {
        "colab": {
          "base_uri": "https://localhost:8080/"
        },
        "id": "tK77xc7GsvIY",
        "outputId": "434e8b84-7d17-4d67-c9bb-0267a7cf9624"
      },
      "source": [
        "result = opt_cbc.solve(model)\n",
        "print(result)\n",
        "print('SolverStatus:', result.solver.status)\n",
        "print('Termination Condition:', result.solver.termination_condition)"
      ],
      "execution_count": 47,
      "outputs": [
        {
          "output_type": "stream",
          "text": [
            "\n",
            "Problem: \n",
            "- Name: unknown\n",
            "  Lower bound: -97.02184211\n",
            "  Upper bound: -97.02184211\n",
            "  Number of objectives: 1\n",
            "  Number of constraints: 6\n",
            "  Number of variables: 7\n",
            "  Number of nonzeros: 6\n",
            "  Sense: minimize\n",
            "Solver: \n",
            "- Status: ok\n",
            "  User time: -1.0\n",
            "  System time: 0.0\n",
            "  Wallclock time: 0.0\n",
            "  Termination condition: optimal\n",
            "  Termination message: Model was solved to optimality (subject to tolerances), and an optimal solution is available.\n",
            "  Statistics: \n",
            "    Branch and bound: \n",
            "      Number of bounded subproblems: None\n",
            "      Number of created subproblems: None\n",
            "    Black box: \n",
            "      Number of iterations: 6\n",
            "  Error rc: 0\n",
            "  Time: 0.025729656219482422\n",
            "Solution: \n",
            "- number of solutions: 0\n",
            "  number of solutions displayed: 0\n",
            "\n",
            "SolverStatus: ok\n",
            "Termination Condition: optimal\n"
          ],
          "name": "stdout"
        }
      ]
    },
    {
      "cell_type": "markdown",
      "metadata": {
        "id": "G0KVb3gxH_Og"
      },
      "source": [
        "**optimal value,value of the decision variables and value of the constraints:-**"
      ]
    },
    {
      "cell_type": "code",
      "metadata": {
        "colab": {
          "base_uri": "https://localhost:8080/"
        },
        "id": "-SCfbsgWtD48",
        "outputId": "2f309f4c-1105-40e7-9df4-73ecc13fc89c"
      },
      "source": [
        "print('Objective Function:', model.objective())\n",
        "print('\\nDecision Variables: ')\n",
        "for j in col_indices:\n",
        "      print('x[',j,']= ', model.x[j].value)\n",
        "print('\\nConstraints:')\n",
        "model.constraints.display()      "
      ],
      "execution_count": 48,
      "outputs": [
        {
          "output_type": "stream",
          "text": [
            "Objective Function: -97.02184239599997\n",
            "\n",
            "Decision Variables: \n",
            "x[ 0 ]=  0.9\n",
            "x[ 1 ]=  23.002456\n",
            "x[ 2 ]=  0.0\n",
            "x[ 3 ]=  0.0\n",
            "x[ 4 ]=  8.2236842\n",
            "x[ 5 ]=  0.0\n",
            "\n",
            "Constraints:\n",
            "constraints : Size=5\n",
            "    Key : Lower : Body                : Upper\n",
            "      1 :  None :         -82.1158942 :  14.9\n",
            "      2 :  None :                 0.9 :   0.9\n",
            "      3 :  None :          -69.007368 : -51.7\n",
            "      4 :  None :   74.99999990399999 :  75.0\n",
            "      5 :  None : -26.999999799999998 : -27.0\n"
          ],
          "name": "stdout"
        }
      ]
    },
    {
      "cell_type": "markdown",
      "metadata": {
        "id": "3rmDYYkP6fhw"
      },
      "source": [
        "#Que.1(9)\n",
        "Optimal Objective Value= -97.02184\n",
        "\n",
        "value of the decision variables: $x_1 = 0.9\\\\ x_2 = 23.0024 \\\\ x_3 = 0 \\\\ x_4 = 0\\\\ x_5 = 8.2236842 \\\\ x_6 = 0$\n",
        "\n",
        "Constraint 2, 4 and 5 (4 and 5 in approximate sense) are active since they attain exact or approximate equality.\n",
        "\n",
        "\n",
        "After changing the sense from maximize to minimize, we are now getting an optimal solution. The previous termination condition was due to wrong sense of the optimization problem."
      ]
    },
    {
      "cell_type": "code",
      "metadata": {
        "id": "FRZ1kYtCtqvc"
      },
      "source": [
        ""
      ],
      "execution_count": 48,
      "outputs": []
    }
  ]
}