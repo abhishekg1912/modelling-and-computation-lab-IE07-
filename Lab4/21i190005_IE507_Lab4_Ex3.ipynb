{
  "nbformat": 4,
  "nbformat_minor": 0,
  "metadata": {
    "colab": {
      "name": "21i190005_IE507_Lab4_Ex3.ipynb",
      "provenance": [],
      "collapsed_sections": []
    },
    "kernelspec": {
      "name": "python3",
      "display_name": "Python 3"
    },
    "language_info": {
      "name": "python"
    }
  },
  "cells": [
    {
      "cell_type": "markdown",
      "metadata": {
        "id": "1W8eJbE1SUWK"
      },
      "source": [
        "**EXERCISE-3**"
      ]
    },
    {
      "cell_type": "code",
      "metadata": {
        "id": "ZIMUWFd9RtBv",
        "colab": {
          "base_uri": "https://localhost:8080/"
        },
        "outputId": "4eba33b1-99ab-43b1-fb0d-26acc54be605"
      },
      "source": [
        "!pip install -q pyomo"
      ],
      "execution_count": 1,
      "outputs": [
        {
          "output_type": "stream",
          "text": [
            "\u001b[K     |████████████████████████████████| 9.1 MB 8.0 MB/s \n",
            "\u001b[K     |████████████████████████████████| 49 kB 5.6 MB/s \n",
            "\u001b[?25h"
          ],
          "name": "stdout"
        }
      ]
    },
    {
      "cell_type": "code",
      "metadata": {
        "id": "dXcW8m_DRwrd"
      },
      "source": [
        "from pyomo.environ import *"
      ],
      "execution_count": 2,
      "outputs": []
    },
    {
      "cell_type": "code",
      "metadata": {
        "id": "XGdgfN3_R2fl"
      },
      "source": [
        "import numpy as np\n",
        "import pandas as pd"
      ],
      "execution_count": 3,
      "outputs": []
    },
    {
      "cell_type": "code",
      "metadata": {
        "id": "ZwM5dqOtR6dh"
      },
      "source": [
        "data_csv=pd.read_csv('lab4_ex3.csv')"
      ],
      "execution_count": 4,
      "outputs": []
    },
    {
      "cell_type": "markdown",
      "metadata": {
        "id": "d2OKDkkdSY8R"
      },
      "source": [
        "#Que.3(4)\n",
        "\n",
        "Let $x_i's$ be the number of drones of model i, where $i\\in \\{1,2,3,4,5\\}$ and \n",
        "\n",
        "let $x_1$ is the number of drones of MANAS \n",
        "\n",
        " $x_2$ is the number of drones of JAY\n",
        " \n",
        "$x_3$ is the number of drones of VEER \n",
        "\n",
        "$x_4$ is the number of drones of SPASHT \n",
        "\n",
        "and $x_5$ is the number of drones of DHAKSH.\n",
        "\n",
        "\n",
        "Now, as we want to maximize total carrying capacity. Hence, the Optimization model will be:\n",
        "$$ \\text{Max} \\  12x_1+14x_2+10x_3+15x_4+14x_5\\\\\n",
        "\\text{s.t.} \\ \\ \\ \\  \\ \\ \\  6x_1+7.5x_2+9.5x_3+10x_4+12.5x_5 \\leq 59 \\\\\n",
        "\\ \\ \\ \\ \\ \\ \\ 4.25x_1+3.25x_2+2.5x_3+3.45x_4+2.25x_5 \\leq 73 \\\\ x_i \\in \\mathbb{Z^+} \\text{for} \\ i\\in\\{1,2,...,5\\} $$\n",
        "\n",
        "In this problem $x_i's$ must be non negative integers as the number of drones can't be negative or in decimal."
      ]
    },
    {
      "cell_type": "code",
      "metadata": {
        "colab": {
          "base_uri": "https://localhost:8080/"
        },
        "id": "CS5Oj5sBSJBw",
        "outputId": "4ef0bcf9-e0e0-438d-c70b-e1ff0df40974"
      },
      "source": [
        "data_csv.columns"
      ],
      "execution_count": 5,
      "outputs": [
        {
          "output_type": "execute_result",
          "data": {
            "text/plain": [
              "Index(['Drone Model', 'Carrying Capacity', 'Cost', 'Parking Space'], dtype='object')"
            ]
          },
          "metadata": {},
          "execution_count": 5
        }
      ]
    },
    {
      "cell_type": "code",
      "metadata": {
        "id": "oDr1q2kiS1JA"
      },
      "source": [
        "model=ConcreteModel()"
      ],
      "execution_count": 6,
      "outputs": []
    },
    {
      "cell_type": "code",
      "metadata": {
        "id": "bXJEJrLwS4dc"
      },
      "source": [
        "N=len(data_csv.index)#N denotes the number of decision variables"
      ],
      "execution_count": 7,
      "outputs": []
    },
    {
      "cell_type": "code",
      "metadata": {
        "id": "-6enY5X-TZGC"
      },
      "source": [
        "M=2#M denotes the number of constraints"
      ],
      "execution_count": 8,
      "outputs": []
    },
    {
      "cell_type": "code",
      "metadata": {
        "id": "KXfEOPF8TdfC"
      },
      "source": [
        "col_indices=range(N)\n",
        "row_indices=range(M)"
      ],
      "execution_count": 9,
      "outputs": []
    },
    {
      "cell_type": "code",
      "metadata": {
        "id": "paftTOebTmdB"
      },
      "source": [
        "model.x=Var(col_indices,domain=NonNegativeIntegers)"
      ],
      "execution_count": 10,
      "outputs": []
    },
    {
      "cell_type": "code",
      "metadata": {
        "id": "7aDwHw1NUAAE"
      },
      "source": [
        "model.objective=Objective(expr=summation(data_csv['Carrying Capacity'],model.x),sense=maximize)"
      ],
      "execution_count": 11,
      "outputs": []
    },
    {
      "cell_type": "code",
      "metadata": {
        "id": "eHzOiv3bUZg-"
      },
      "source": [
        "model.constraints=ConstraintList()"
      ],
      "execution_count": 12,
      "outputs": []
    },
    {
      "cell_type": "code",
      "metadata": {
        "colab": {
          "base_uri": "https://localhost:8080/"
        },
        "id": "kswtIrwsUdZo",
        "outputId": "d3b84f81-9349-49ae-bfe1-afa5f4744e62"
      },
      "source": [
        "model.constraints.add(sum(data_csv['Cost'][j]*model.x[j] for j in col_indices)<=59)\n",
        "model.constraints.add(sum(data_csv['Parking Space'][j]*model.x[j] for j in col_indices)<=73)"
      ],
      "execution_count": 13,
      "outputs": [
        {
          "output_type": "execute_result",
          "data": {
            "text/plain": [
              "<pyomo.core.base.constraint._GeneralConstraintData at 0x7f75c2fcbb40>"
            ]
          },
          "metadata": {},
          "execution_count": 13
        }
      ]
    },
    {
      "cell_type": "code",
      "metadata": {
        "colab": {
          "base_uri": "https://localhost:8080/"
        },
        "id": "FzJWa-kpWoM4",
        "outputId": "8b42a4c4-2bea-4c25-fe74-296165611cfe"
      },
      "source": [
        "model.pprint()"
      ],
      "execution_count": 14,
      "outputs": [
        {
          "output_type": "stream",
          "text": [
            "2 Set Declarations\n",
            "    constraints_index : Size=1, Index=None, Ordered=Insertion\n",
            "        Key  : Dimen : Domain : Size : Members\n",
            "        None :     1 :    Any :    2 : {1, 2}\n",
            "    x_index : Size=1, Index=None, Ordered=False\n",
            "        Key  : Dimen : Domain : Size : Members\n",
            "        None :     1 :    Any :    5 : {0, 1, 2, 3, 4}\n",
            "\n",
            "1 Var Declarations\n",
            "    x : Size=5, Index=x_index\n",
            "        Key : Lower : Value : Upper : Fixed : Stale : Domain\n",
            "          0 :     0 :  None :  None : False :  True : NonNegativeIntegers\n",
            "          1 :     0 :  None :  None : False :  True : NonNegativeIntegers\n",
            "          2 :     0 :  None :  None : False :  True : NonNegativeIntegers\n",
            "          3 :     0 :  None :  None : False :  True : NonNegativeIntegers\n",
            "          4 :     0 :  None :  None : False :  True : NonNegativeIntegers\n",
            "\n",
            "1 Objective Declarations\n",
            "    objective : Size=1, Index=None, Active=True\n",
            "        Key  : Active : Sense    : Expression\n",
            "        None :   True : maximize : 12*x[0] + 14*x[1] + 10*x[2] + 15*x[3] + 14*x[4]\n",
            "\n",
            "1 Constraint Declarations\n",
            "    constraints : Size=2, Index=constraints_index, Active=True\n",
            "        Key : Lower : Body                                                     : Upper : Active\n",
            "          1 :  -Inf :   6.0*x[0] + 7.5*x[1] + 9.5*x[2] + 10.0*x[3] + 12.5*x[4] :  59.0 :   True\n",
            "          2 :  -Inf : 4.25*x[0] + 3.25*x[1] + 2.5*x[2] + 3.45*x[3] + 2.25*x[4] :  73.0 :   True\n",
            "\n",
            "5 Declarations: x_index x objective constraints_index constraints\n"
          ],
          "name": "stdout"
        }
      ]
    },
    {
      "cell_type": "code",
      "metadata": {
        "id": "czYRA6SFWvTq",
        "colab": {
          "base_uri": "https://localhost:8080/"
        },
        "outputId": "0cbde6a8-a425-40a0-ed75-b03e2f11cf51"
      },
      "source": [
        "!apt-get install -y -qq coinor-cbc"
      ],
      "execution_count": 15,
      "outputs": [
        {
          "output_type": "stream",
          "text": [
            "Selecting previously unselected package coinor-libcoinutils3v5.\n",
            "(Reading database ... 148489 files and directories currently installed.)\n",
            "Preparing to unpack .../0-coinor-libcoinutils3v5_2.10.14+repack1-1_amd64.deb ...\n",
            "Unpacking coinor-libcoinutils3v5 (2.10.14+repack1-1) ...\n",
            "Selecting previously unselected package coinor-libosi1v5.\n",
            "Preparing to unpack .../1-coinor-libosi1v5_0.107.9+repack1-1_amd64.deb ...\n",
            "Unpacking coinor-libosi1v5 (0.107.9+repack1-1) ...\n",
            "Selecting previously unselected package coinor-libclp1.\n",
            "Preparing to unpack .../2-coinor-libclp1_1.16.11+repack1-1_amd64.deb ...\n",
            "Unpacking coinor-libclp1 (1.16.11+repack1-1) ...\n",
            "Selecting previously unselected package coinor-libcgl1.\n",
            "Preparing to unpack .../3-coinor-libcgl1_0.59.10+repack1-1_amd64.deb ...\n",
            "Unpacking coinor-libcgl1 (0.59.10+repack1-1) ...\n",
            "Selecting previously unselected package coinor-libcbc3.\n",
            "Preparing to unpack .../4-coinor-libcbc3_2.9.9+repack1-1_amd64.deb ...\n",
            "Unpacking coinor-libcbc3 (2.9.9+repack1-1) ...\n",
            "Selecting previously unselected package coinor-cbc.\n",
            "Preparing to unpack .../5-coinor-cbc_2.9.9+repack1-1_amd64.deb ...\n",
            "Unpacking coinor-cbc (2.9.9+repack1-1) ...\n",
            "Setting up coinor-libcoinutils3v5 (2.10.14+repack1-1) ...\n",
            "Setting up coinor-libosi1v5 (0.107.9+repack1-1) ...\n",
            "Setting up coinor-libclp1 (1.16.11+repack1-1) ...\n",
            "Setting up coinor-libcgl1 (0.59.10+repack1-1) ...\n",
            "Setting up coinor-libcbc3 (2.9.9+repack1-1) ...\n",
            "Setting up coinor-cbc (2.9.9+repack1-1) ...\n",
            "Processing triggers for man-db (2.8.3-2ubuntu0.1) ...\n",
            "Processing triggers for libc-bin (2.27-3ubuntu1.2) ...\n",
            "/sbin/ldconfig.real: /usr/local/lib/python3.7/dist-packages/ideep4py/lib/libmkldnn.so.0 is not a symbolic link\n",
            "\n"
          ],
          "name": "stdout"
        }
      ]
    },
    {
      "cell_type": "code",
      "metadata": {
        "id": "5-yiaJIaW4eb"
      },
      "source": [
        "opt_cbc=SolverFactory('cbc')"
      ],
      "execution_count": 16,
      "outputs": []
    },
    {
      "cell_type": "code",
      "metadata": {
        "id": "f7ZpdikZW9EP"
      },
      "source": [
        "result1=opt_cbc.solve(model)\n",
        "\n"
      ],
      "execution_count": 17,
      "outputs": []
    },
    {
      "cell_type": "code",
      "metadata": {
        "colab": {
          "base_uri": "https://localhost:8080/"
        },
        "id": "VzXOl1kLXBCo",
        "outputId": "496d7b2e-2965-486b-f52a-2c8dff04e380"
      },
      "source": [
        "print('Solver status:', result1.solver.status)\n",
        "print('Solver termination condition:',result1.solver.termination_condition)"
      ],
      "execution_count": 18,
      "outputs": [
        {
          "output_type": "stream",
          "text": [
            "Solver status: ok\n",
            "Solver termination condition: optimal\n"
          ],
          "name": "stdout"
        }
      ]
    },
    {
      "cell_type": "markdown",
      "metadata": {
        "id": "_GiMbb-8XiWP"
      },
      "source": [
        "#Que.3(6)\n",
        "\n",
        "**optimal value and value of the decision variables:-**"
      ]
    },
    {
      "cell_type": "code",
      "metadata": {
        "colab": {
          "base_uri": "https://localhost:8080/"
        },
        "id": "w6w9qre_XKzR",
        "outputId": "0c9738e2-236d-47ec-b5a9-d77ad5c54342"
      },
      "source": [
        "print('\\nObjective = ', model.objective())\n",
        "\n",
        "print('\\nDecision Variables')\n",
        "for i in col_indices:\n",
        "  print(data_csv['Drone Model'][i],' = ', model.x[i].value)\n",
        "\n",
        "print('\\nConstraints')\n",
        "model.constraints.display()"
      ],
      "execution_count": 19,
      "outputs": [
        {
          "output_type": "stream",
          "text": [
            "\n",
            "Objective =  114.0\n",
            "\n",
            "Decision Variables\n",
            "MANAS  =  6.0\n",
            "JAY  =  3.0\n",
            "VEER  =  0.0\n",
            "SPASHT  =  0.0\n",
            "DHAKSH  =  0.0\n",
            "\n",
            "Constraints\n",
            "constraints : Size=2\n",
            "    Key : Lower : Body  : Upper\n",
            "      1 :  None :  58.5 :  59.0\n",
            "      2 :  None : 35.25 :  73.0\n"
          ],
          "name": "stdout"
        }
      ]
    },
    {
      "cell_type": "markdown",
      "metadata": {
        "id": "l-NB3NwzYG52"
      },
      "source": [
        "#Que.3(7)\n",
        "\n",
        "**removing the restrictions of decision variables:**"
      ]
    },
    {
      "cell_type": "code",
      "metadata": {
        "id": "2wjISZfzXUhv"
      },
      "source": [
        "model.x.domain=NonNegativeReals"
      ],
      "execution_count": 20,
      "outputs": []
    },
    {
      "cell_type": "code",
      "metadata": {
        "colab": {
          "base_uri": "https://localhost:8080/"
        },
        "id": "x8AnLS7qYaaH",
        "outputId": "18ef6226-773f-48fe-cecc-491f324b0cee"
      },
      "source": [
        "model.pprint()"
      ],
      "execution_count": 21,
      "outputs": [
        {
          "output_type": "stream",
          "text": [
            "2 Set Declarations\n",
            "    constraints_index : Size=1, Index=None, Ordered=Insertion\n",
            "        Key  : Dimen : Domain : Size : Members\n",
            "        None :     1 :    Any :    2 : {1, 2}\n",
            "    x_index : Size=1, Index=None, Ordered=False\n",
            "        Key  : Dimen : Domain : Size : Members\n",
            "        None :     1 :    Any :    5 : {0, 1, 2, 3, 4}\n",
            "\n",
            "1 Var Declarations\n",
            "    x : Size=5, Index=x_index\n",
            "        Key : Lower : Value : Upper : Fixed : Stale : Domain\n",
            "          0 :     0 :   6.0 :  None : False : False : NonNegativeReals\n",
            "          1 :     0 :   3.0 :  None : False : False : NonNegativeReals\n",
            "          2 :     0 :   0.0 :  None : False : False : NonNegativeReals\n",
            "          3 :     0 :   0.0 :  None : False : False : NonNegativeReals\n",
            "          4 :     0 :   0.0 :  None : False : False : NonNegativeReals\n",
            "\n",
            "1 Objective Declarations\n",
            "    objective : Size=1, Index=None, Active=True\n",
            "        Key  : Active : Sense    : Expression\n",
            "        None :   True : maximize : 12*x[0] + 14*x[1] + 10*x[2] + 15*x[3] + 14*x[4]\n",
            "\n",
            "1 Constraint Declarations\n",
            "    constraints : Size=2, Index=constraints_index, Active=True\n",
            "        Key : Lower : Body                                                     : Upper : Active\n",
            "          1 :  -Inf :   6.0*x[0] + 7.5*x[1] + 9.5*x[2] + 10.0*x[3] + 12.5*x[4] :  59.0 :   True\n",
            "          2 :  -Inf : 4.25*x[0] + 3.25*x[1] + 2.5*x[2] + 3.45*x[3] + 2.25*x[4] :  73.0 :   True\n",
            "\n",
            "5 Declarations: x_index x objective constraints_index constraints\n"
          ],
          "name": "stdout"
        }
      ]
    },
    {
      "cell_type": "code",
      "metadata": {
        "colab": {
          "base_uri": "https://localhost:8080/"
        },
        "id": "5nqKeBuFYiaN",
        "outputId": "fe9676e9-802c-4c29-e082-eef298c2994a"
      },
      "source": [
        "result2=opt_cbc.solve(model)\n",
        "print('Solver status:', result2.solver.status)\n",
        "print('Solver termination condition:',result2.solver.termination_condition)"
      ],
      "execution_count": 22,
      "outputs": [
        {
          "output_type": "stream",
          "text": [
            "Solver status: ok\n",
            "Solver termination condition: optimal\n"
          ],
          "name": "stdout"
        }
      ]
    },
    {
      "cell_type": "markdown",
      "metadata": {
        "id": "c9NPJ9hCY3-u"
      },
      "source": [
        "**optimal value and the value of the decision variables:**"
      ]
    },
    {
      "cell_type": "code",
      "metadata": {
        "colab": {
          "base_uri": "https://localhost:8080/"
        },
        "id": "aO4wWP_bYvbQ",
        "outputId": "6bebb5eb-8de2-4975-ae37-df9b42a2a925"
      },
      "source": [
        "print('\\nObjective = ', model.objective())\n",
        "\n",
        "print('\\nDecision Variables')\n",
        "for i in col_indices:\n",
        "  print(data_csv['Drone Model'][i],' = ', model.x[i].value)\n",
        "\n",
        "print('\\nConstraints')\n",
        "model.constraints.display()"
      ],
      "execution_count": 23,
      "outputs": [
        {
          "output_type": "stream",
          "text": [
            "\n",
            "Objective =  117.9999996\n",
            "\n",
            "Decision Variables\n",
            "MANAS  =  9.8333333\n",
            "JAY  =  0.0\n",
            "VEER  =  0.0\n",
            "SPASHT  =  0.0\n",
            "DHAKSH  =  0.0\n",
            "\n",
            "Constraints\n",
            "constraints : Size=2\n",
            "    Key : Lower : Body         : Upper\n",
            "      1 :  None :   58.9999998 :  59.0\n",
            "      2 :  None : 41.791666525 :  73.0\n"
          ],
          "name": "stdout"
        }
      ]
    },
    {
      "cell_type": "markdown",
      "metadata": {
        "id": "CJfW2rxEZLQO"
      },
      "source": [
        "#Que.3(8)\n",
        "\n",
        "No the solution of the MILP can't be obtained by merely rounding the solution of the LP.because here we are getting the number of MANAS drone is 9.83333 if we round off this then it will be 10 then the cost of buying 10 MANAS drone will go to 60 crore which doesn't satisfy the budget constraint of 59 crore.\n",
        "\n"
      ]
    },
    {
      "cell_type": "markdown",
      "metadata": {
        "id": "vLyxXcRoZmlP"
      },
      "source": [
        "#Que.3(9)"
      ]
    },
    {
      "cell_type": "markdown",
      "metadata": {
        "id": "ebA4-COWZrCD"
      },
      "source": [
        "**solving new LP after increasing the RHS side in our constraints:-**"
      ]
    },
    {
      "cell_type": "code",
      "metadata": {
        "id": "2kWtuF7CZlm6"
      },
      "source": [
        "for i in range(2):\n",
        "  model.constraints[i+1].deactivate()"
      ],
      "execution_count": 24,
      "outputs": []
    },
    {
      "cell_type": "code",
      "metadata": {
        "colab": {
          "base_uri": "https://localhost:8080/"
        },
        "id": "YdOWubI9Z9-1",
        "outputId": "264dadf7-255e-47aa-fe66-9f1eb287e2ab"
      },
      "source": [
        "model.constraints.add(sum(data_csv['Cost'][j]*model.x[j] for j in col_indices)<=71)\n",
        "model.constraints.add(sum(data_csv['Parking Space'][j]*model.x[j] for j in col_indices)<=87)"
      ],
      "execution_count": 25,
      "outputs": [
        {
          "output_type": "execute_result",
          "data": {
            "text/plain": [
              "<pyomo.core.base.constraint._GeneralConstraintData at 0x7f75c2fcb130>"
            ]
          },
          "metadata": {},
          "execution_count": 25
        }
      ]
    },
    {
      "cell_type": "code",
      "metadata": {
        "colab": {
          "base_uri": "https://localhost:8080/"
        },
        "id": "-cZte7XXaFdN",
        "outputId": "93b39d5b-9f31-4cbf-b91a-41210c284190"
      },
      "source": [
        "model.pprint()"
      ],
      "execution_count": 26,
      "outputs": [
        {
          "output_type": "stream",
          "text": [
            "2 Set Declarations\n",
            "    constraints_index : Size=1, Index=None, Ordered=Insertion\n",
            "        Key  : Dimen : Domain : Size : Members\n",
            "        None :     1 :    Any :    4 : {1, 2, 3, 4}\n",
            "    x_index : Size=1, Index=None, Ordered=False\n",
            "        Key  : Dimen : Domain : Size : Members\n",
            "        None :     1 :    Any :    5 : {0, 1, 2, 3, 4}\n",
            "\n",
            "1 Var Declarations\n",
            "    x : Size=5, Index=x_index\n",
            "        Key : Lower : Value     : Upper : Fixed : Stale : Domain\n",
            "          0 :     0 : 9.8333333 :  None : False : False : NonNegativeReals\n",
            "          1 :     0 :       0.0 :  None : False : False : NonNegativeReals\n",
            "          2 :     0 :       0.0 :  None : False : False : NonNegativeReals\n",
            "          3 :     0 :       0.0 :  None : False : False : NonNegativeReals\n",
            "          4 :     0 :       0.0 :  None : False : False : NonNegativeReals\n",
            "\n",
            "1 Objective Declarations\n",
            "    objective : Size=1, Index=None, Active=True\n",
            "        Key  : Active : Sense    : Expression\n",
            "        None :   True : maximize : 12*x[0] + 14*x[1] + 10*x[2] + 15*x[3] + 14*x[4]\n",
            "\n",
            "1 Constraint Declarations\n",
            "    constraints : Size=4, Index=constraints_index, Active=True\n",
            "        Key : Lower : Body                                                     : Upper : Active\n",
            "          1 :  -Inf :   6.0*x[0] + 7.5*x[1] + 9.5*x[2] + 10.0*x[3] + 12.5*x[4] :  59.0 :  False\n",
            "          2 :  -Inf : 4.25*x[0] + 3.25*x[1] + 2.5*x[2] + 3.45*x[3] + 2.25*x[4] :  73.0 :  False\n",
            "          3 :  -Inf :   6.0*x[0] + 7.5*x[1] + 9.5*x[2] + 10.0*x[3] + 12.5*x[4] :  71.0 :   True\n",
            "          4 :  -Inf : 4.25*x[0] + 3.25*x[1] + 2.5*x[2] + 3.45*x[3] + 2.25*x[4] :  87.0 :   True\n",
            "\n",
            "5 Declarations: x_index x objective constraints_index constraints\n"
          ],
          "name": "stdout"
        }
      ]
    },
    {
      "cell_type": "code",
      "metadata": {
        "colab": {
          "base_uri": "https://localhost:8080/"
        },
        "id": "03D8kPMGaGei",
        "outputId": "d9140794-59ed-446c-f4a4-0f13fb63f38a"
      },
      "source": [
        "result3=opt_cbc.solve(model)\n",
        "print('Solver status:', result3.solver.status)\n",
        "print('Solver termination condition:',result3.solver.termination_condition)"
      ],
      "execution_count": 27,
      "outputs": [
        {
          "output_type": "stream",
          "text": [
            "Solver status: ok\n",
            "Solver termination condition: optimal\n"
          ],
          "name": "stdout"
        }
      ]
    },
    {
      "cell_type": "markdown",
      "metadata": {
        "id": "a8PKsryYbeXO"
      },
      "source": [
        "**optimal value and values of the decision variables of new LP:**"
      ]
    },
    {
      "cell_type": "code",
      "metadata": {
        "colab": {
          "base_uri": "https://localhost:8080/"
        },
        "id": "sGhxQf7oaRy0",
        "outputId": "df746fea-3b65-4936-8f1d-5123e4fef581"
      },
      "source": [
        "print('\\nObjective = ', model.objective())\n",
        "\n",
        "print('\\nDecision Variables')\n",
        "for i in col_indices:\n",
        "  print(data_csv['Drone Model'][i],' = ', model.x[i].value)\n",
        "\n",
        "print('\\nConstraints')\n",
        "model.constraints.display()"
      ],
      "execution_count": 28,
      "outputs": [
        {
          "output_type": "stream",
          "text": [
            "\n",
            "Objective =  141.999996\n",
            "\n",
            "Decision Variables\n",
            "MANAS  =  11.833333\n",
            "JAY  =  0.0\n",
            "VEER  =  0.0\n",
            "SPASHT  =  0.0\n",
            "DHAKSH  =  0.0\n",
            "\n",
            "Constraints\n",
            "constraints : Size=4\n",
            "    Key : Lower : Body        : Upper\n",
            "      3 :  None :   70.999998 :  71.0\n",
            "      4 :  None : 50.29166525 :  87.0\n"
          ],
          "name": "stdout"
        }
      ]
    },
    {
      "cell_type": "markdown",
      "metadata": {
        "id": "W7Xhl3lJccEj"
      },
      "source": [
        "After increasing the RHS side of the constraints the optimal value of the new LP has increases and also the number of the MANAS drone increases."
      ]
    },
    {
      "cell_type": "markdown",
      "metadata": {
        "id": "uZP4qZYMbnm2"
      },
      "source": [
        "**Solving new MILP After increasing the RHS of the constraints:**"
      ]
    },
    {
      "cell_type": "code",
      "metadata": {
        "id": "hocVHRVDbTGV"
      },
      "source": [
        "model.x.domain=NonNegativeIntegers"
      ],
      "execution_count": 29,
      "outputs": []
    },
    {
      "cell_type": "code",
      "metadata": {
        "colab": {
          "base_uri": "https://localhost:8080/"
        },
        "id": "Y29rxVpybxN_",
        "outputId": "4cb49dd4-5121-406b-b192-8f86af5cd51e"
      },
      "source": [
        "model.pprint()"
      ],
      "execution_count": 30,
      "outputs": [
        {
          "output_type": "stream",
          "text": [
            "2 Set Declarations\n",
            "    constraints_index : Size=1, Index=None, Ordered=Insertion\n",
            "        Key  : Dimen : Domain : Size : Members\n",
            "        None :     1 :    Any :    4 : {1, 2, 3, 4}\n",
            "    x_index : Size=1, Index=None, Ordered=False\n",
            "        Key  : Dimen : Domain : Size : Members\n",
            "        None :     1 :    Any :    5 : {0, 1, 2, 3, 4}\n",
            "\n",
            "1 Var Declarations\n",
            "    x : Size=5, Index=x_index\n",
            "        Key : Lower : Value     : Upper : Fixed : Stale : Domain\n",
            "          0 :     0 : 11.833333 :  None : False : False : NonNegativeIntegers\n",
            "          1 :     0 :       0.0 :  None : False : False : NonNegativeIntegers\n",
            "          2 :     0 :       0.0 :  None : False : False : NonNegativeIntegers\n",
            "          3 :     0 :       0.0 :  None : False : False : NonNegativeIntegers\n",
            "          4 :     0 :       0.0 :  None : False : False : NonNegativeIntegers\n",
            "\n",
            "1 Objective Declarations\n",
            "    objective : Size=1, Index=None, Active=True\n",
            "        Key  : Active : Sense    : Expression\n",
            "        None :   True : maximize : 12*x[0] + 14*x[1] + 10*x[2] + 15*x[3] + 14*x[4]\n",
            "\n",
            "1 Constraint Declarations\n",
            "    constraints : Size=4, Index=constraints_index, Active=True\n",
            "        Key : Lower : Body                                                     : Upper : Active\n",
            "          1 :  -Inf :   6.0*x[0] + 7.5*x[1] + 9.5*x[2] + 10.0*x[3] + 12.5*x[4] :  59.0 :  False\n",
            "          2 :  -Inf : 4.25*x[0] + 3.25*x[1] + 2.5*x[2] + 3.45*x[3] + 2.25*x[4] :  73.0 :  False\n",
            "          3 :  -Inf :   6.0*x[0] + 7.5*x[1] + 9.5*x[2] + 10.0*x[3] + 12.5*x[4] :  71.0 :   True\n",
            "          4 :  -Inf : 4.25*x[0] + 3.25*x[1] + 2.5*x[2] + 3.45*x[3] + 2.25*x[4] :  87.0 :   True\n",
            "\n",
            "5 Declarations: x_index x objective constraints_index constraints\n"
          ],
          "name": "stdout"
        }
      ]
    },
    {
      "cell_type": "code",
      "metadata": {
        "colab": {
          "base_uri": "https://localhost:8080/"
        },
        "id": "DjcHoYbTbyuH",
        "outputId": "8410875a-063f-4b83-bb95-263c0a6f6424"
      },
      "source": [
        "result4=opt_cbc.solve(model)\n",
        "print('Solver status:', result3.solver.status)\n",
        "print('Solver termination condition:',result3.solver.termination_condition)"
      ],
      "execution_count": 31,
      "outputs": [
        {
          "output_type": "stream",
          "text": [
            "Solver status: ok\n",
            "Solver termination condition: optimal\n"
          ],
          "name": "stdout"
        }
      ]
    },
    {
      "cell_type": "markdown",
      "metadata": {
        "id": "vcYVgAFbcMH6"
      },
      "source": [
        "**optimal value and values of the decision variables of new MILP:**"
      ]
    },
    {
      "cell_type": "code",
      "metadata": {
        "colab": {
          "base_uri": "https://localhost:8080/"
        },
        "id": "NsabmK6Hb9TQ",
        "outputId": "ce3d2ca1-1bfe-4aef-ca81-9765c5263a20"
      },
      "source": [
        "print('\\nObjective = ', model.objective())\n",
        "\n",
        "print('\\nDecision Variables')\n",
        "for i in col_indices:\n",
        "  print(data_csv['Drone Model'][i],' = ', model.x[i].value)\n",
        "\n",
        "print('\\nConstraints')\n",
        "model.constraints.display()"
      ],
      "execution_count": 32,
      "outputs": [
        {
          "output_type": "stream",
          "text": [
            "\n",
            "Objective =  138.0\n",
            "\n",
            "Decision Variables\n",
            "MANAS  =  8.0\n",
            "JAY  =  3.0\n",
            "VEER  =  0.0\n",
            "SPASHT  =  0.0\n",
            "DHAKSH  =  0.0\n",
            "\n",
            "Constraints\n",
            "constraints : Size=4\n",
            "    Key : Lower : Body  : Upper\n",
            "      3 :  None :  70.5 :  71.0\n",
            "      4 :  None : 43.75 :  87.0\n"
          ],
          "name": "stdout"
        }
      ]
    },
    {
      "cell_type": "markdown",
      "metadata": {
        "id": "wglaI2O2cxV5"
      },
      "source": [
        "The optimal objective value has increased and no. of  MANAS drones has increased."
      ]
    },
    {
      "cell_type": "markdown",
      "metadata": {
        "id": "70gX6JmAdF-5"
      },
      "source": [
        "#Que.3(10)\n"
      ]
    },
    {
      "cell_type": "markdown",
      "metadata": {
        "id": "kM4SlwKZdLDY"
      },
      "source": [
        "**solving for the given first pair that is 67(budget) and 88(space)**"
      ]
    },
    {
      "cell_type": "code",
      "metadata": {
        "id": "FutDKPoYcAeN"
      },
      "source": [
        "model.constraints[3].deactivate()\n",
        "model.constraints[4].deactivate()"
      ],
      "execution_count": 33,
      "outputs": []
    },
    {
      "cell_type": "code",
      "metadata": {
        "colab": {
          "base_uri": "https://localhost:8080/"
        },
        "id": "8gboh_vjdd1U",
        "outputId": "9fcfa67c-3e31-425e-fe51-9ca501e27537"
      },
      "source": [
        "model.constraints.add(sum(data_csv['Cost'][j]*model.x[j] for j in col_indices)<=67)\n",
        "model.constraints.add(sum(data_csv['Parking Space'][j]*model.x[j] for j in col_indices)<=88)"
      ],
      "execution_count": 34,
      "outputs": [
        {
          "output_type": "execute_result",
          "data": {
            "text/plain": [
              "<pyomo.core.base.constraint._GeneralConstraintData at 0x7f75c2fda980>"
            ]
          },
          "metadata": {},
          "execution_count": 34
        }
      ]
    },
    {
      "cell_type": "code",
      "metadata": {
        "colab": {
          "base_uri": "https://localhost:8080/"
        },
        "id": "--UxfZ-Edi1L",
        "outputId": "d5da7245-2703-4596-94f9-829fb524793d"
      },
      "source": [
        "model.pprint()"
      ],
      "execution_count": 35,
      "outputs": [
        {
          "output_type": "stream",
          "text": [
            "2 Set Declarations\n",
            "    constraints_index : Size=1, Index=None, Ordered=Insertion\n",
            "        Key  : Dimen : Domain : Size : Members\n",
            "        None :     1 :    Any :    6 : {1, 2, 3, 4, 5, 6}\n",
            "    x_index : Size=1, Index=None, Ordered=False\n",
            "        Key  : Dimen : Domain : Size : Members\n",
            "        None :     1 :    Any :    5 : {0, 1, 2, 3, 4}\n",
            "\n",
            "1 Var Declarations\n",
            "    x : Size=5, Index=x_index\n",
            "        Key : Lower : Value : Upper : Fixed : Stale : Domain\n",
            "          0 :     0 :   8.0 :  None : False : False : NonNegativeIntegers\n",
            "          1 :     0 :   3.0 :  None : False : False : NonNegativeIntegers\n",
            "          2 :     0 :   0.0 :  None : False : False : NonNegativeIntegers\n",
            "          3 :     0 :   0.0 :  None : False : False : NonNegativeIntegers\n",
            "          4 :     0 :   0.0 :  None : False : False : NonNegativeIntegers\n",
            "\n",
            "1 Objective Declarations\n",
            "    objective : Size=1, Index=None, Active=True\n",
            "        Key  : Active : Sense    : Expression\n",
            "        None :   True : maximize : 12*x[0] + 14*x[1] + 10*x[2] + 15*x[3] + 14*x[4]\n",
            "\n",
            "1 Constraint Declarations\n",
            "    constraints : Size=6, Index=constraints_index, Active=True\n",
            "        Key : Lower : Body                                                     : Upper : Active\n",
            "          1 :  -Inf :   6.0*x[0] + 7.5*x[1] + 9.5*x[2] + 10.0*x[3] + 12.5*x[4] :  59.0 :  False\n",
            "          2 :  -Inf : 4.25*x[0] + 3.25*x[1] + 2.5*x[2] + 3.45*x[3] + 2.25*x[4] :  73.0 :  False\n",
            "          3 :  -Inf :   6.0*x[0] + 7.5*x[1] + 9.5*x[2] + 10.0*x[3] + 12.5*x[4] :  71.0 :  False\n",
            "          4 :  -Inf : 4.25*x[0] + 3.25*x[1] + 2.5*x[2] + 3.45*x[3] + 2.25*x[4] :  87.0 :  False\n",
            "          5 :  -Inf :   6.0*x[0] + 7.5*x[1] + 9.5*x[2] + 10.0*x[3] + 12.5*x[4] :  67.0 :   True\n",
            "          6 :  -Inf : 4.25*x[0] + 3.25*x[1] + 2.5*x[2] + 3.45*x[3] + 2.25*x[4] :  88.0 :   True\n",
            "\n",
            "5 Declarations: x_index x objective constraints_index constraints\n"
          ],
          "name": "stdout"
        }
      ]
    },
    {
      "cell_type": "markdown",
      "metadata": {
        "id": "wWSKKOpveOzH"
      },
      "source": [
        "#Solving MILP:-"
      ]
    },
    {
      "cell_type": "code",
      "metadata": {
        "colab": {
          "base_uri": "https://localhost:8080/"
        },
        "id": "YLr8XSN4dksD",
        "outputId": "4b391f2f-3da7-489c-f48c-37f165c441cc"
      },
      "source": [
        "result5=opt_cbc.solve(model)\n",
        "print('Solver status:', result3.solver.status)\n",
        "print('Solver termination condition:',result3.solver.termination_condition)"
      ],
      "execution_count": 36,
      "outputs": [
        {
          "output_type": "stream",
          "text": [
            "Solver status: ok\n",
            "Solver termination condition: optimal\n"
          ],
          "name": "stdout"
        }
      ]
    },
    {
      "cell_type": "code",
      "metadata": {
        "colab": {
          "base_uri": "https://localhost:8080/"
        },
        "id": "MAfUxmdTeGOs",
        "outputId": "7880b765-913c-4142-ce02-0c457a98b7e0"
      },
      "source": [
        "print('\\nObjective = ', model.objective())\n",
        "\n",
        "print('\\nDecision Variables')\n",
        "for i in col_indices:\n",
        "  print(data_csv['Drone Model'][i],' = ', model.x[i].value)\n",
        "\n",
        "print('\\nConstraints')\n",
        "model.constraints.display()"
      ],
      "execution_count": 37,
      "outputs": [
        {
          "output_type": "stream",
          "text": [
            "\n",
            "Objective =  132.0\n",
            "\n",
            "Decision Variables\n",
            "MANAS  =  11.0\n",
            "JAY  =  0.0\n",
            "VEER  =  0.0\n",
            "SPASHT  =  0.0\n",
            "DHAKSH  =  0.0\n",
            "\n",
            "Constraints\n",
            "constraints : Size=6\n",
            "    Key : Lower : Body  : Upper\n",
            "      5 :  None :  66.0 :  67.0\n",
            "      6 :  None : 46.75 :  88.0\n"
          ],
          "name": "stdout"
        }
      ]
    },
    {
      "cell_type": "markdown",
      "metadata": {
        "id": "tB8N1h-heVDo"
      },
      "source": [
        "#Solving LP:-"
      ]
    },
    {
      "cell_type": "code",
      "metadata": {
        "id": "kVNoh_P5eJFU"
      },
      "source": [
        "model.x.domain=NonNegativeReals"
      ],
      "execution_count": 38,
      "outputs": []
    },
    {
      "cell_type": "code",
      "metadata": {
        "colab": {
          "base_uri": "https://localhost:8080/"
        },
        "id": "Kxid9CF_ebDR",
        "outputId": "f3f10179-446b-4927-d234-d26a1bed1856"
      },
      "source": [
        "model.pprint()"
      ],
      "execution_count": 39,
      "outputs": [
        {
          "output_type": "stream",
          "text": [
            "2 Set Declarations\n",
            "    constraints_index : Size=1, Index=None, Ordered=Insertion\n",
            "        Key  : Dimen : Domain : Size : Members\n",
            "        None :     1 :    Any :    6 : {1, 2, 3, 4, 5, 6}\n",
            "    x_index : Size=1, Index=None, Ordered=False\n",
            "        Key  : Dimen : Domain : Size : Members\n",
            "        None :     1 :    Any :    5 : {0, 1, 2, 3, 4}\n",
            "\n",
            "1 Var Declarations\n",
            "    x : Size=5, Index=x_index\n",
            "        Key : Lower : Value : Upper : Fixed : Stale : Domain\n",
            "          0 :     0 :  11.0 :  None : False : False : NonNegativeReals\n",
            "          1 :     0 :   0.0 :  None : False : False : NonNegativeReals\n",
            "          2 :     0 :   0.0 :  None : False : False : NonNegativeReals\n",
            "          3 :     0 :   0.0 :  None : False : False : NonNegativeReals\n",
            "          4 :     0 :   0.0 :  None : False : False : NonNegativeReals\n",
            "\n",
            "1 Objective Declarations\n",
            "    objective : Size=1, Index=None, Active=True\n",
            "        Key  : Active : Sense    : Expression\n",
            "        None :   True : maximize : 12*x[0] + 14*x[1] + 10*x[2] + 15*x[3] + 14*x[4]\n",
            "\n",
            "1 Constraint Declarations\n",
            "    constraints : Size=6, Index=constraints_index, Active=True\n",
            "        Key : Lower : Body                                                     : Upper : Active\n",
            "          1 :  -Inf :   6.0*x[0] + 7.5*x[1] + 9.5*x[2] + 10.0*x[3] + 12.5*x[4] :  59.0 :  False\n",
            "          2 :  -Inf : 4.25*x[0] + 3.25*x[1] + 2.5*x[2] + 3.45*x[3] + 2.25*x[4] :  73.0 :  False\n",
            "          3 :  -Inf :   6.0*x[0] + 7.5*x[1] + 9.5*x[2] + 10.0*x[3] + 12.5*x[4] :  71.0 :  False\n",
            "          4 :  -Inf : 4.25*x[0] + 3.25*x[1] + 2.5*x[2] + 3.45*x[3] + 2.25*x[4] :  87.0 :  False\n",
            "          5 :  -Inf :   6.0*x[0] + 7.5*x[1] + 9.5*x[2] + 10.0*x[3] + 12.5*x[4] :  67.0 :   True\n",
            "          6 :  -Inf : 4.25*x[0] + 3.25*x[1] + 2.5*x[2] + 3.45*x[3] + 2.25*x[4] :  88.0 :   True\n",
            "\n",
            "5 Declarations: x_index x objective constraints_index constraints\n"
          ],
          "name": "stdout"
        }
      ]
    },
    {
      "cell_type": "code",
      "metadata": {
        "colab": {
          "base_uri": "https://localhost:8080/"
        },
        "id": "C5N2KzM1ecHp",
        "outputId": "16718549-0dc5-41ea-f785-372a863855ca"
      },
      "source": [
        "result6=opt_cbc.solve(model)\n",
        "print('\\nObjective = ', model.objective())\n",
        "\n",
        "print('\\nDecision Variables')\n",
        "for i in col_indices:\n",
        "  print(data_csv['Drone Model'][i],' = ', model.x[i].value)\n",
        "\n",
        "print('\\nConstraints')\n",
        "model.constraints.display()"
      ],
      "execution_count": 40,
      "outputs": [
        {
          "output_type": "stream",
          "text": [
            "\n",
            "Objective =  134.000004\n",
            "\n",
            "Decision Variables\n",
            "MANAS  =  11.166667\n",
            "JAY  =  0.0\n",
            "VEER  =  0.0\n",
            "SPASHT  =  0.0\n",
            "DHAKSH  =  0.0\n",
            "\n",
            "Constraints\n",
            "constraints : Size=6\n",
            "    Key : Lower : Body        : Upper\n",
            "      5 :  None :   67.000002 :  67.0\n",
            "      6 :  None : 47.45833475 :  88.0\n"
          ],
          "name": "stdout"
        }
      ]
    },
    {
      "cell_type": "markdown",
      "metadata": {
        "id": "dBG1e3jpelAM"
      },
      "source": [
        "**solving for the second pair that is 65(budget) and 89(space)**"
      ]
    },
    {
      "cell_type": "markdown",
      "metadata": {
        "id": "_xU7vADUeyp2"
      },
      "source": [
        "#Solving LP:-"
      ]
    },
    {
      "cell_type": "code",
      "metadata": {
        "colab": {
          "base_uri": "https://localhost:8080/"
        },
        "id": "UsQchkHsegtW",
        "outputId": "9a9af61e-c7d0-4abb-ab26-b0d35d292024"
      },
      "source": [
        "model.constraints[5].deactivate()\n",
        "model.constraints[6].deactivate()\n",
        "model.constraints.add(sum(data_csv['Cost'][j]*model.x[j] for j in col_indices)<=65)\n",
        "model.constraints.add(sum(data_csv['Parking Space'][j]*model.x[j] for j in col_indices)<=89)\n",
        "model.pprint()"
      ],
      "execution_count": 41,
      "outputs": [
        {
          "output_type": "stream",
          "text": [
            "2 Set Declarations\n",
            "    constraints_index : Size=1, Index=None, Ordered=Insertion\n",
            "        Key  : Dimen : Domain : Size : Members\n",
            "        None :     1 :    Any :    8 : {1, 2, 3, 4, 5, 6, 7, 8}\n",
            "    x_index : Size=1, Index=None, Ordered=False\n",
            "        Key  : Dimen : Domain : Size : Members\n",
            "        None :     1 :    Any :    5 : {0, 1, 2, 3, 4}\n",
            "\n",
            "1 Var Declarations\n",
            "    x : Size=5, Index=x_index\n",
            "        Key : Lower : Value     : Upper : Fixed : Stale : Domain\n",
            "          0 :     0 : 11.166667 :  None : False : False : NonNegativeReals\n",
            "          1 :     0 :       0.0 :  None : False : False : NonNegativeReals\n",
            "          2 :     0 :       0.0 :  None : False : False : NonNegativeReals\n",
            "          3 :     0 :       0.0 :  None : False : False : NonNegativeReals\n",
            "          4 :     0 :       0.0 :  None : False : False : NonNegativeReals\n",
            "\n",
            "1 Objective Declarations\n",
            "    objective : Size=1, Index=None, Active=True\n",
            "        Key  : Active : Sense    : Expression\n",
            "        None :   True : maximize : 12*x[0] + 14*x[1] + 10*x[2] + 15*x[3] + 14*x[4]\n",
            "\n",
            "1 Constraint Declarations\n",
            "    constraints : Size=8, Index=constraints_index, Active=True\n",
            "        Key : Lower : Body                                                     : Upper : Active\n",
            "          1 :  -Inf :   6.0*x[0] + 7.5*x[1] + 9.5*x[2] + 10.0*x[3] + 12.5*x[4] :  59.0 :  False\n",
            "          2 :  -Inf : 4.25*x[0] + 3.25*x[1] + 2.5*x[2] + 3.45*x[3] + 2.25*x[4] :  73.0 :  False\n",
            "          3 :  -Inf :   6.0*x[0] + 7.5*x[1] + 9.5*x[2] + 10.0*x[3] + 12.5*x[4] :  71.0 :  False\n",
            "          4 :  -Inf : 4.25*x[0] + 3.25*x[1] + 2.5*x[2] + 3.45*x[3] + 2.25*x[4] :  87.0 :  False\n",
            "          5 :  -Inf :   6.0*x[0] + 7.5*x[1] + 9.5*x[2] + 10.0*x[3] + 12.5*x[4] :  67.0 :  False\n",
            "          6 :  -Inf : 4.25*x[0] + 3.25*x[1] + 2.5*x[2] + 3.45*x[3] + 2.25*x[4] :  88.0 :  False\n",
            "          7 :  -Inf :   6.0*x[0] + 7.5*x[1] + 9.5*x[2] + 10.0*x[3] + 12.5*x[4] :  65.0 :   True\n",
            "          8 :  -Inf : 4.25*x[0] + 3.25*x[1] + 2.5*x[2] + 3.45*x[3] + 2.25*x[4] :  89.0 :   True\n",
            "\n",
            "5 Declarations: x_index x objective constraints_index constraints\n"
          ],
          "name": "stdout"
        }
      ]
    },
    {
      "cell_type": "code",
      "metadata": {
        "colab": {
          "base_uri": "https://localhost:8080/"
        },
        "id": "XfzSG5DTfFNp",
        "outputId": "ef8aa51a-b6e4-4d4b-d6b8-9e6ba2f829f0"
      },
      "source": [
        "result7=opt_cbc.solve(model)\n",
        "print('\\nObjective = ', model.objective())\n",
        "\n",
        "print('\\nDecision Variables')\n",
        "for i in col_indices:\n",
        "  print(data_csv['Drone Model'][i],' = ', model.x[i].value)\n",
        "\n",
        "print('\\nConstraints')\n",
        "model.constraints.display()"
      ],
      "execution_count": 42,
      "outputs": [
        {
          "output_type": "stream",
          "text": [
            "\n",
            "Objective =  129.999996\n",
            "\n",
            "Decision Variables\n",
            "MANAS  =  10.833333\n",
            "JAY  =  0.0\n",
            "VEER  =  0.0\n",
            "SPASHT  =  0.0\n",
            "DHAKSH  =  0.0\n",
            "\n",
            "Constraints\n",
            "constraints : Size=8\n",
            "    Key : Lower : Body        : Upper\n",
            "      7 :  None :   64.999998 :  65.0\n",
            "      8 :  None : 46.04166525 :  89.0\n"
          ],
          "name": "stdout"
        }
      ]
    },
    {
      "cell_type": "markdown",
      "metadata": {
        "id": "aG5xrfxlfPWI"
      },
      "source": [
        "#Solving MILP:-"
      ]
    },
    {
      "cell_type": "code",
      "metadata": {
        "colab": {
          "base_uri": "https://localhost:8080/"
        },
        "id": "l9CnH_W1fMfL",
        "outputId": "d580c49f-03c8-45f5-f035-55e141ca2783"
      },
      "source": [
        "model.x.domain=NonNegativeIntegers\n",
        "model.pprint()"
      ],
      "execution_count": 43,
      "outputs": [
        {
          "output_type": "stream",
          "text": [
            "2 Set Declarations\n",
            "    constraints_index : Size=1, Index=None, Ordered=Insertion\n",
            "        Key  : Dimen : Domain : Size : Members\n",
            "        None :     1 :    Any :    8 : {1, 2, 3, 4, 5, 6, 7, 8}\n",
            "    x_index : Size=1, Index=None, Ordered=False\n",
            "        Key  : Dimen : Domain : Size : Members\n",
            "        None :     1 :    Any :    5 : {0, 1, 2, 3, 4}\n",
            "\n",
            "1 Var Declarations\n",
            "    x : Size=5, Index=x_index\n",
            "        Key : Lower : Value     : Upper : Fixed : Stale : Domain\n",
            "          0 :     0 : 10.833333 :  None : False : False : NonNegativeIntegers\n",
            "          1 :     0 :       0.0 :  None : False : False : NonNegativeIntegers\n",
            "          2 :     0 :       0.0 :  None : False : False : NonNegativeIntegers\n",
            "          3 :     0 :       0.0 :  None : False : False : NonNegativeIntegers\n",
            "          4 :     0 :       0.0 :  None : False : False : NonNegativeIntegers\n",
            "\n",
            "1 Objective Declarations\n",
            "    objective : Size=1, Index=None, Active=True\n",
            "        Key  : Active : Sense    : Expression\n",
            "        None :   True : maximize : 12*x[0] + 14*x[1] + 10*x[2] + 15*x[3] + 14*x[4]\n",
            "\n",
            "1 Constraint Declarations\n",
            "    constraints : Size=8, Index=constraints_index, Active=True\n",
            "        Key : Lower : Body                                                     : Upper : Active\n",
            "          1 :  -Inf :   6.0*x[0] + 7.5*x[1] + 9.5*x[2] + 10.0*x[3] + 12.5*x[4] :  59.0 :  False\n",
            "          2 :  -Inf : 4.25*x[0] + 3.25*x[1] + 2.5*x[2] + 3.45*x[3] + 2.25*x[4] :  73.0 :  False\n",
            "          3 :  -Inf :   6.0*x[0] + 7.5*x[1] + 9.5*x[2] + 10.0*x[3] + 12.5*x[4] :  71.0 :  False\n",
            "          4 :  -Inf : 4.25*x[0] + 3.25*x[1] + 2.5*x[2] + 3.45*x[3] + 2.25*x[4] :  87.0 :  False\n",
            "          5 :  -Inf :   6.0*x[0] + 7.5*x[1] + 9.5*x[2] + 10.0*x[3] + 12.5*x[4] :  67.0 :  False\n",
            "          6 :  -Inf : 4.25*x[0] + 3.25*x[1] + 2.5*x[2] + 3.45*x[3] + 2.25*x[4] :  88.0 :  False\n",
            "          7 :  -Inf :   6.0*x[0] + 7.5*x[1] + 9.5*x[2] + 10.0*x[3] + 12.5*x[4] :  65.0 :   True\n",
            "          8 :  -Inf : 4.25*x[0] + 3.25*x[1] + 2.5*x[2] + 3.45*x[3] + 2.25*x[4] :  89.0 :   True\n",
            "\n",
            "5 Declarations: x_index x objective constraints_index constraints\n"
          ],
          "name": "stdout"
        }
      ]
    },
    {
      "cell_type": "code",
      "metadata": {
        "colab": {
          "base_uri": "https://localhost:8080/"
        },
        "id": "qkZglbRsfXBR",
        "outputId": "933bcd35-8e49-4161-c7e1-687378739150"
      },
      "source": [
        "result8=opt_cbc.solve(model)\n",
        "print('\\nObjective = ', model.objective())\n",
        "\n",
        "print('\\nDecision Variables')\n",
        "for i in col_indices:\n",
        "  print(data_csv['Drone Model'][i],' = ', model.x[i].value)\n",
        "\n",
        "print('\\nConstraints')\n",
        "model.constraints.display()"
      ],
      "execution_count": 44,
      "outputs": [
        {
          "output_type": "stream",
          "text": [
            "\n",
            "Objective =  126.0\n",
            "\n",
            "Decision Variables\n",
            "MANAS  =  7.0\n",
            "JAY  =  3.0\n",
            "VEER  =  0.0\n",
            "SPASHT  =  0.0\n",
            "DHAKSH  =  0.0\n",
            "\n",
            "Constraints\n",
            "constraints : Size=8\n",
            "    Key : Lower : Body : Upper\n",
            "      7 :  None : 64.5 :  65.0\n",
            "      8 :  None : 39.5 :  89.0\n"
          ],
          "name": "stdout"
        }
      ]
    },
    {
      "cell_type": "markdown",
      "metadata": {
        "id": "2NZUXkrwfpd2"
      },
      "source": [
        "**Solving for the third pair that is 63(budget) and 90(space)**"
      ]
    },
    {
      "cell_type": "markdown",
      "metadata": {
        "id": "HTJpPBoUgBNo"
      },
      "source": [
        "#Solving MILP:-"
      ]
    },
    {
      "cell_type": "code",
      "metadata": {
        "colab": {
          "base_uri": "https://localhost:8080/"
        },
        "id": "9qWthBosfd_T",
        "outputId": "e5bd7608-509c-435b-9d8c-3df02b5c14f2"
      },
      "source": [
        "model.constraints[7].deactivate()\n",
        "model.constraints[8].deactivate()\n",
        "model.constraints.add(sum(data_csv['Cost'][j]*model.x[j] for j in col_indices)<=63)\n",
        "model.constraints.add(sum(data_csv['Parking Space'][j]*model.x[j] for j in col_indices)<=90)\n",
        "model.pprint()"
      ],
      "execution_count": 45,
      "outputs": [
        {
          "output_type": "stream",
          "text": [
            "2 Set Declarations\n",
            "    constraints_index : Size=1, Index=None, Ordered=Insertion\n",
            "        Key  : Dimen : Domain : Size : Members\n",
            "        None :     1 :    Any :   10 : {1, 2, 3, 4, 5, 6, 7, 8, 9, 10}\n",
            "    x_index : Size=1, Index=None, Ordered=False\n",
            "        Key  : Dimen : Domain : Size : Members\n",
            "        None :     1 :    Any :    5 : {0, 1, 2, 3, 4}\n",
            "\n",
            "1 Var Declarations\n",
            "    x : Size=5, Index=x_index\n",
            "        Key : Lower : Value : Upper : Fixed : Stale : Domain\n",
            "          0 :     0 :   7.0 :  None : False : False : NonNegativeIntegers\n",
            "          1 :     0 :   3.0 :  None : False : False : NonNegativeIntegers\n",
            "          2 :     0 :   0.0 :  None : False : False : NonNegativeIntegers\n",
            "          3 :     0 :   0.0 :  None : False : False : NonNegativeIntegers\n",
            "          4 :     0 :   0.0 :  None : False : False : NonNegativeIntegers\n",
            "\n",
            "1 Objective Declarations\n",
            "    objective : Size=1, Index=None, Active=True\n",
            "        Key  : Active : Sense    : Expression\n",
            "        None :   True : maximize : 12*x[0] + 14*x[1] + 10*x[2] + 15*x[3] + 14*x[4]\n",
            "\n",
            "1 Constraint Declarations\n",
            "    constraints : Size=10, Index=constraints_index, Active=True\n",
            "        Key : Lower : Body                                                     : Upper : Active\n",
            "          1 :  -Inf :   6.0*x[0] + 7.5*x[1] + 9.5*x[2] + 10.0*x[3] + 12.5*x[4] :  59.0 :  False\n",
            "          2 :  -Inf : 4.25*x[0] + 3.25*x[1] + 2.5*x[2] + 3.45*x[3] + 2.25*x[4] :  73.0 :  False\n",
            "          3 :  -Inf :   6.0*x[0] + 7.5*x[1] + 9.5*x[2] + 10.0*x[3] + 12.5*x[4] :  71.0 :  False\n",
            "          4 :  -Inf : 4.25*x[0] + 3.25*x[1] + 2.5*x[2] + 3.45*x[3] + 2.25*x[4] :  87.0 :  False\n",
            "          5 :  -Inf :   6.0*x[0] + 7.5*x[1] + 9.5*x[2] + 10.0*x[3] + 12.5*x[4] :  67.0 :  False\n",
            "          6 :  -Inf : 4.25*x[0] + 3.25*x[1] + 2.5*x[2] + 3.45*x[3] + 2.25*x[4] :  88.0 :  False\n",
            "          7 :  -Inf :   6.0*x[0] + 7.5*x[1] + 9.5*x[2] + 10.0*x[3] + 12.5*x[4] :  65.0 :  False\n",
            "          8 :  -Inf : 4.25*x[0] + 3.25*x[1] + 2.5*x[2] + 3.45*x[3] + 2.25*x[4] :  89.0 :  False\n",
            "          9 :  -Inf :   6.0*x[0] + 7.5*x[1] + 9.5*x[2] + 10.0*x[3] + 12.5*x[4] :  63.0 :   True\n",
            "         10 :  -Inf : 4.25*x[0] + 3.25*x[1] + 2.5*x[2] + 3.45*x[3] + 2.25*x[4] :  90.0 :   True\n",
            "\n",
            "5 Declarations: x_index x objective constraints_index constraints\n"
          ],
          "name": "stdout"
        }
      ]
    },
    {
      "cell_type": "code",
      "metadata": {
        "colab": {
          "base_uri": "https://localhost:8080/"
        },
        "id": "89XnHtbOgK8F",
        "outputId": "4f7508de-1fc8-407d-b0c4-d937ff77a7d8"
      },
      "source": [
        "result9=opt_cbc.solve(model)\n",
        "print('\\nObjective = ', model.objective())\n",
        "\n",
        "print('\\nDecision Variables')\n",
        "for i in col_indices:\n",
        "  print(data_csv['Drone Model'][i],' = ', model.x[i].value)\n",
        "\n",
        "print('\\nConstraints')\n",
        "model.constraints.display()"
      ],
      "execution_count": 46,
      "outputs": [
        {
          "output_type": "stream",
          "text": [
            "\n",
            "Objective =  124.0\n",
            "\n",
            "Decision Variables\n",
            "MANAS  =  8.0\n",
            "JAY  =  2.0\n",
            "VEER  =  0.0\n",
            "SPASHT  =  0.0\n",
            "DHAKSH  =  0.0\n",
            "\n",
            "Constraints\n",
            "constraints : Size=10\n",
            "    Key : Lower : Body : Upper\n",
            "      9 :  None : 63.0 :  63.0\n",
            "     10 :  None : 40.5 :  90.0\n"
          ],
          "name": "stdout"
        }
      ]
    },
    {
      "cell_type": "markdown",
      "metadata": {
        "id": "5R_V0HFqgVjs"
      },
      "source": [
        "#Solving LP:-"
      ]
    },
    {
      "cell_type": "code",
      "metadata": {
        "id": "E7DG1ffHgQML"
      },
      "source": [
        "model.x.domain=NonNegativeReals"
      ],
      "execution_count": 47,
      "outputs": []
    },
    {
      "cell_type": "code",
      "metadata": {
        "colab": {
          "base_uri": "https://localhost:8080/"
        },
        "id": "EuOmZZJcgaaw",
        "outputId": "c6e69ee5-d0dd-4e01-ca95-c8ce0164a0d3"
      },
      "source": [
        "model.pprint()"
      ],
      "execution_count": 48,
      "outputs": [
        {
          "output_type": "stream",
          "text": [
            "2 Set Declarations\n",
            "    constraints_index : Size=1, Index=None, Ordered=Insertion\n",
            "        Key  : Dimen : Domain : Size : Members\n",
            "        None :     1 :    Any :   10 : {1, 2, 3, 4, 5, 6, 7, 8, 9, 10}\n",
            "    x_index : Size=1, Index=None, Ordered=False\n",
            "        Key  : Dimen : Domain : Size : Members\n",
            "        None :     1 :    Any :    5 : {0, 1, 2, 3, 4}\n",
            "\n",
            "1 Var Declarations\n",
            "    x : Size=5, Index=x_index\n",
            "        Key : Lower : Value : Upper : Fixed : Stale : Domain\n",
            "          0 :     0 :   8.0 :  None : False : False : NonNegativeReals\n",
            "          1 :     0 :   2.0 :  None : False : False : NonNegativeReals\n",
            "          2 :     0 :   0.0 :  None : False : False : NonNegativeReals\n",
            "          3 :     0 :   0.0 :  None : False : False : NonNegativeReals\n",
            "          4 :     0 :   0.0 :  None : False : False : NonNegativeReals\n",
            "\n",
            "1 Objective Declarations\n",
            "    objective : Size=1, Index=None, Active=True\n",
            "        Key  : Active : Sense    : Expression\n",
            "        None :   True : maximize : 12*x[0] + 14*x[1] + 10*x[2] + 15*x[3] + 14*x[4]\n",
            "\n",
            "1 Constraint Declarations\n",
            "    constraints : Size=10, Index=constraints_index, Active=True\n",
            "        Key : Lower : Body                                                     : Upper : Active\n",
            "          1 :  -Inf :   6.0*x[0] + 7.5*x[1] + 9.5*x[2] + 10.0*x[3] + 12.5*x[4] :  59.0 :  False\n",
            "          2 :  -Inf : 4.25*x[0] + 3.25*x[1] + 2.5*x[2] + 3.45*x[3] + 2.25*x[4] :  73.0 :  False\n",
            "          3 :  -Inf :   6.0*x[0] + 7.5*x[1] + 9.5*x[2] + 10.0*x[3] + 12.5*x[4] :  71.0 :  False\n",
            "          4 :  -Inf : 4.25*x[0] + 3.25*x[1] + 2.5*x[2] + 3.45*x[3] + 2.25*x[4] :  87.0 :  False\n",
            "          5 :  -Inf :   6.0*x[0] + 7.5*x[1] + 9.5*x[2] + 10.0*x[3] + 12.5*x[4] :  67.0 :  False\n",
            "          6 :  -Inf : 4.25*x[0] + 3.25*x[1] + 2.5*x[2] + 3.45*x[3] + 2.25*x[4] :  88.0 :  False\n",
            "          7 :  -Inf :   6.0*x[0] + 7.5*x[1] + 9.5*x[2] + 10.0*x[3] + 12.5*x[4] :  65.0 :  False\n",
            "          8 :  -Inf : 4.25*x[0] + 3.25*x[1] + 2.5*x[2] + 3.45*x[3] + 2.25*x[4] :  89.0 :  False\n",
            "          9 :  -Inf :   6.0*x[0] + 7.5*x[1] + 9.5*x[2] + 10.0*x[3] + 12.5*x[4] :  63.0 :   True\n",
            "         10 :  -Inf : 4.25*x[0] + 3.25*x[1] + 2.5*x[2] + 3.45*x[3] + 2.25*x[4] :  90.0 :   True\n",
            "\n",
            "5 Declarations: x_index x objective constraints_index constraints\n"
          ],
          "name": "stdout"
        }
      ]
    },
    {
      "cell_type": "code",
      "metadata": {
        "colab": {
          "base_uri": "https://localhost:8080/"
        },
        "id": "3F2b6FFigbdZ",
        "outputId": "07d091d7-e4de-448b-ccff-d88ed3dcf48e"
      },
      "source": [
        "result10=opt_cbc.solve(model)\n",
        "print('\\nObjective = ', model.objective())\n",
        "\n",
        "print('\\nDecision Variables')\n",
        "for i in col_indices:\n",
        "  print(data_csv['Drone Model'][i],' = ', model.x[i].value)\n",
        "\n",
        "print('\\nConstraints')\n",
        "model.constraints.display()"
      ],
      "execution_count": 49,
      "outputs": [
        {
          "output_type": "stream",
          "text": [
            "\n",
            "Objective =  126.0\n",
            "\n",
            "Decision Variables\n",
            "MANAS  =  10.5\n",
            "JAY  =  0.0\n",
            "VEER  =  0.0\n",
            "SPASHT  =  0.0\n",
            "DHAKSH  =  0.0\n",
            "\n",
            "Constraints\n",
            "constraints : Size=10\n",
            "    Key : Lower : Body   : Upper\n",
            "      9 :  None :   63.0 :  63.0\n",
            "     10 :  None : 44.625 :  90.0\n"
          ],
          "name": "stdout"
        }
      ]
    },
    {
      "cell_type": "markdown",
      "metadata": {
        "id": "1L_0ezjqgsNf"
      },
      "source": [
        "**solving for the 4th pair that is 61(budget) and 91(space):-**"
      ]
    },
    {
      "cell_type": "markdown",
      "metadata": {
        "id": "U2-TdZdHg56D"
      },
      "source": [
        "#Solving LP:-"
      ]
    },
    {
      "cell_type": "code",
      "metadata": {
        "colab": {
          "base_uri": "https://localhost:8080/"
        },
        "id": "y9fnpGVpgeke",
        "outputId": "ec35734e-2ed1-4bc9-b378-57aef67ed811"
      },
      "source": [
        "model.constraints[9].deactivate()\n",
        "model.constraints[10].deactivate()\n",
        "model.constraints.add(sum(data_csv['Cost'][j]*model.x[j] for j in col_indices)<=61)\n",
        "model.constraints.add(sum(data_csv['Parking Space'][j]*model.x[j] for j in col_indices)<=91)\n",
        "model.pprint()"
      ],
      "execution_count": 50,
      "outputs": [
        {
          "output_type": "stream",
          "text": [
            "2 Set Declarations\n",
            "    constraints_index : Size=1, Index=None, Ordered=Insertion\n",
            "        Key  : Dimen : Domain : Size : Members\n",
            "        None :     1 :    Any :   12 : {1, 2, 3, 4, 5, 6, 7, 8, 9, 10, 11, 12}\n",
            "    x_index : Size=1, Index=None, Ordered=False\n",
            "        Key  : Dimen : Domain : Size : Members\n",
            "        None :     1 :    Any :    5 : {0, 1, 2, 3, 4}\n",
            "\n",
            "1 Var Declarations\n",
            "    x : Size=5, Index=x_index\n",
            "        Key : Lower : Value : Upper : Fixed : Stale : Domain\n",
            "          0 :     0 :  10.5 :  None : False : False : NonNegativeReals\n",
            "          1 :     0 :   0.0 :  None : False : False : NonNegativeReals\n",
            "          2 :     0 :   0.0 :  None : False : False : NonNegativeReals\n",
            "          3 :     0 :   0.0 :  None : False : False : NonNegativeReals\n",
            "          4 :     0 :   0.0 :  None : False : False : NonNegativeReals\n",
            "\n",
            "1 Objective Declarations\n",
            "    objective : Size=1, Index=None, Active=True\n",
            "        Key  : Active : Sense    : Expression\n",
            "        None :   True : maximize : 12*x[0] + 14*x[1] + 10*x[2] + 15*x[3] + 14*x[4]\n",
            "\n",
            "1 Constraint Declarations\n",
            "    constraints : Size=12, Index=constraints_index, Active=True\n",
            "        Key : Lower : Body                                                     : Upper : Active\n",
            "          1 :  -Inf :   6.0*x[0] + 7.5*x[1] + 9.5*x[2] + 10.0*x[3] + 12.5*x[4] :  59.0 :  False\n",
            "          2 :  -Inf : 4.25*x[0] + 3.25*x[1] + 2.5*x[2] + 3.45*x[3] + 2.25*x[4] :  73.0 :  False\n",
            "          3 :  -Inf :   6.0*x[0] + 7.5*x[1] + 9.5*x[2] + 10.0*x[3] + 12.5*x[4] :  71.0 :  False\n",
            "          4 :  -Inf : 4.25*x[0] + 3.25*x[1] + 2.5*x[2] + 3.45*x[3] + 2.25*x[4] :  87.0 :  False\n",
            "          5 :  -Inf :   6.0*x[0] + 7.5*x[1] + 9.5*x[2] + 10.0*x[3] + 12.5*x[4] :  67.0 :  False\n",
            "          6 :  -Inf : 4.25*x[0] + 3.25*x[1] + 2.5*x[2] + 3.45*x[3] + 2.25*x[4] :  88.0 :  False\n",
            "          7 :  -Inf :   6.0*x[0] + 7.5*x[1] + 9.5*x[2] + 10.0*x[3] + 12.5*x[4] :  65.0 :  False\n",
            "          8 :  -Inf : 4.25*x[0] + 3.25*x[1] + 2.5*x[2] + 3.45*x[3] + 2.25*x[4] :  89.0 :  False\n",
            "          9 :  -Inf :   6.0*x[0] + 7.5*x[1] + 9.5*x[2] + 10.0*x[3] + 12.5*x[4] :  63.0 :  False\n",
            "         10 :  -Inf : 4.25*x[0] + 3.25*x[1] + 2.5*x[2] + 3.45*x[3] + 2.25*x[4] :  90.0 :  False\n",
            "         11 :  -Inf :   6.0*x[0] + 7.5*x[1] + 9.5*x[2] + 10.0*x[3] + 12.5*x[4] :  61.0 :   True\n",
            "         12 :  -Inf : 4.25*x[0] + 3.25*x[1] + 2.5*x[2] + 3.45*x[3] + 2.25*x[4] :  91.0 :   True\n",
            "\n",
            "5 Declarations: x_index x objective constraints_index constraints\n"
          ],
          "name": "stdout"
        }
      ]
    },
    {
      "cell_type": "code",
      "metadata": {
        "colab": {
          "base_uri": "https://localhost:8080/"
        },
        "id": "zE--za4ZhCGk",
        "outputId": "ae93211f-018c-4e6e-f7c0-14c60fbd5149"
      },
      "source": [
        "result11=opt_cbc.solve(model)\n",
        "print('\\nObjective = ', model.objective())\n",
        "\n",
        "print('\\nDecision Variables')\n",
        "for i in col_indices:\n",
        "  print(data_csv['Drone Model'][i],' = ', model.x[i].value)\n",
        "\n",
        "print('\\nConstraints')\n",
        "model.constraints.display()"
      ],
      "execution_count": 51,
      "outputs": [
        {
          "output_type": "stream",
          "text": [
            "\n",
            "Objective =  122.000004\n",
            "\n",
            "Decision Variables\n",
            "MANAS  =  10.166667\n",
            "JAY  =  0.0\n",
            "VEER  =  0.0\n",
            "SPASHT  =  0.0\n",
            "DHAKSH  =  0.0\n",
            "\n",
            "Constraints\n",
            "constraints : Size=12\n",
            "    Key : Lower : Body        : Upper\n",
            "     11 :  None :   61.000002 :  61.0\n",
            "     12 :  None : 43.20833475 :  91.0\n"
          ],
          "name": "stdout"
        }
      ]
    },
    {
      "cell_type": "markdown",
      "metadata": {
        "id": "srjxBA0fhcwm"
      },
      "source": [
        "#solving MILP:-"
      ]
    },
    {
      "cell_type": "code",
      "metadata": {
        "colab": {
          "base_uri": "https://localhost:8080/"
        },
        "id": "65vcjg_fhKRr",
        "outputId": "1b5abbca-2183-491f-dcc1-8f000e0cde6a"
      },
      "source": [
        "model.x.domain=NonNegativeIntegers\n",
        "model.pprint()"
      ],
      "execution_count": 52,
      "outputs": [
        {
          "output_type": "stream",
          "text": [
            "2 Set Declarations\n",
            "    constraints_index : Size=1, Index=None, Ordered=Insertion\n",
            "        Key  : Dimen : Domain : Size : Members\n",
            "        None :     1 :    Any :   12 : {1, 2, 3, 4, 5, 6, 7, 8, 9, 10, 11, 12}\n",
            "    x_index : Size=1, Index=None, Ordered=False\n",
            "        Key  : Dimen : Domain : Size : Members\n",
            "        None :     1 :    Any :    5 : {0, 1, 2, 3, 4}\n",
            "\n",
            "1 Var Declarations\n",
            "    x : Size=5, Index=x_index\n",
            "        Key : Lower : Value     : Upper : Fixed : Stale : Domain\n",
            "          0 :     0 : 10.166667 :  None : False : False : NonNegativeIntegers\n",
            "          1 :     0 :       0.0 :  None : False : False : NonNegativeIntegers\n",
            "          2 :     0 :       0.0 :  None : False : False : NonNegativeIntegers\n",
            "          3 :     0 :       0.0 :  None : False : False : NonNegativeIntegers\n",
            "          4 :     0 :       0.0 :  None : False : False : NonNegativeIntegers\n",
            "\n",
            "1 Objective Declarations\n",
            "    objective : Size=1, Index=None, Active=True\n",
            "        Key  : Active : Sense    : Expression\n",
            "        None :   True : maximize : 12*x[0] + 14*x[1] + 10*x[2] + 15*x[3] + 14*x[4]\n",
            "\n",
            "1 Constraint Declarations\n",
            "    constraints : Size=12, Index=constraints_index, Active=True\n",
            "        Key : Lower : Body                                                     : Upper : Active\n",
            "          1 :  -Inf :   6.0*x[0] + 7.5*x[1] + 9.5*x[2] + 10.0*x[3] + 12.5*x[4] :  59.0 :  False\n",
            "          2 :  -Inf : 4.25*x[0] + 3.25*x[1] + 2.5*x[2] + 3.45*x[3] + 2.25*x[4] :  73.0 :  False\n",
            "          3 :  -Inf :   6.0*x[0] + 7.5*x[1] + 9.5*x[2] + 10.0*x[3] + 12.5*x[4] :  71.0 :  False\n",
            "          4 :  -Inf : 4.25*x[0] + 3.25*x[1] + 2.5*x[2] + 3.45*x[3] + 2.25*x[4] :  87.0 :  False\n",
            "          5 :  -Inf :   6.0*x[0] + 7.5*x[1] + 9.5*x[2] + 10.0*x[3] + 12.5*x[4] :  67.0 :  False\n",
            "          6 :  -Inf : 4.25*x[0] + 3.25*x[1] + 2.5*x[2] + 3.45*x[3] + 2.25*x[4] :  88.0 :  False\n",
            "          7 :  -Inf :   6.0*x[0] + 7.5*x[1] + 9.5*x[2] + 10.0*x[3] + 12.5*x[4] :  65.0 :  False\n",
            "          8 :  -Inf : 4.25*x[0] + 3.25*x[1] + 2.5*x[2] + 3.45*x[3] + 2.25*x[4] :  89.0 :  False\n",
            "          9 :  -Inf :   6.0*x[0] + 7.5*x[1] + 9.5*x[2] + 10.0*x[3] + 12.5*x[4] :  63.0 :  False\n",
            "         10 :  -Inf : 4.25*x[0] + 3.25*x[1] + 2.5*x[2] + 3.45*x[3] + 2.25*x[4] :  90.0 :  False\n",
            "         11 :  -Inf :   6.0*x[0] + 7.5*x[1] + 9.5*x[2] + 10.0*x[3] + 12.5*x[4] :  61.0 :   True\n",
            "         12 :  -Inf : 4.25*x[0] + 3.25*x[1] + 2.5*x[2] + 3.45*x[3] + 2.25*x[4] :  91.0 :   True\n",
            "\n",
            "5 Declarations: x_index x objective constraints_index constraints\n"
          ],
          "name": "stdout"
        }
      ]
    },
    {
      "cell_type": "code",
      "metadata": {
        "colab": {
          "base_uri": "https://localhost:8080/"
        },
        "id": "mf9KVqgRhkWS",
        "outputId": "67721931-b28c-4135-b314-863790ca0f8d"
      },
      "source": [
        "result12=opt_cbc.solve(model)\n",
        "print('\\nObjective = ', model.objective())\n",
        "\n",
        "print('\\nDecision Variables')\n",
        "for i in col_indices:\n",
        "  print(data_csv['Drone Model'][i],' = ', model.x[i].value)\n",
        "\n",
        "print('\\nConstraints')\n",
        "model.constraints.display()"
      ],
      "execution_count": 53,
      "outputs": [
        {
          "output_type": "stream",
          "text": [
            "\n",
            "Objective =  120.0\n",
            "\n",
            "Decision Variables\n",
            "MANAS  =  10.0\n",
            "JAY  =  0.0\n",
            "VEER  =  0.0\n",
            "SPASHT  =  0.0\n",
            "DHAKSH  =  0.0\n",
            "\n",
            "Constraints\n",
            "constraints : Size=12\n",
            "    Key : Lower : Body : Upper\n",
            "     11 :  None : 60.0 :  61.0\n",
            "     12 :  None : 42.5 :  91.0\n"
          ],
          "name": "stdout"
        }
      ]
    },
    {
      "cell_type": "markdown",
      "metadata": {
        "id": "yV9OQz7_h8SU"
      },
      "source": [
        "The optimal value decreases as we go from pair 1 to 4 because from pair 1 to 4 the budget is decreasing.\n",
        "\n"
      ]
    },
    {
      "cell_type": "code",
      "metadata": {
        "id": "pjQ0W4fzhssH"
      },
      "source": [
        ""
      ],
      "execution_count": 53,
      "outputs": []
    }
  ]
}