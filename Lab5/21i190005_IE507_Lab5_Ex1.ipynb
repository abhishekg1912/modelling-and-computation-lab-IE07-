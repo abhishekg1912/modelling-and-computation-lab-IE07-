{
  "nbformat": 4,
  "nbformat_minor": 0,
  "metadata": {
    "colab": {
      "name": "21i190005_IE507_Lab5_Ex1.ipynb",
      "provenance": []
    },
    "kernelspec": {
      "name": "python3",
      "display_name": "Python 3"
    },
    "language_info": {
      "name": "python"
    }
  },
  "cells": [
    {
      "cell_type": "markdown",
      "metadata": {
        "id": "6NgF-RPf6Pa0"
      },
      "source": [
        "#EXERCISE-1"
      ]
    },
    {
      "cell_type": "markdown",
      "metadata": {
        "id": "4HrWafe48AIx"
      },
      "source": [
        "Let $C[w,m]$ is the cost of transporting one truck load form $w$ to $m$,\n",
        "$x_{wm}$ is the number of truck loads from warehourse $w$ to market $m$,\n",
        "$S_{w}$ is the available stock at warehouse $w$ and also let $d_m$ is the total demand of market $m$.\n",
        "\n",
        "so our general optimization problem will be:\n",
        "$$ \\text{min} \\sum_{w} \\sum_{m}C[w,m]x_{wm}\\\\\\text{s.t}\\ \\ \\ \\sum_{m}x_{wm}\\leq S_w,\\\\\\sum_{w}x_{wm}=d_m,\\\\x_{wm}\\geq 0 \\ \\ \\forall w,m$$"
      ]
    },
    {
      "cell_type": "code",
      "metadata": {
        "id": "NXe8G4du0TZW"
      },
      "source": [
        "!pip install -q pyomo"
      ],
      "execution_count": 38,
      "outputs": []
    },
    {
      "cell_type": "code",
      "metadata": {
        "id": "S-oawy9qCeJN"
      },
      "source": [
        "from pyomo.environ import *"
      ],
      "execution_count": 39,
      "outputs": []
    },
    {
      "cell_type": "code",
      "metadata": {
        "id": "xvfeAvQFCi9H"
      },
      "source": [
        "import numpy as np"
      ],
      "execution_count": 40,
      "outputs": []
    },
    {
      "cell_type": "code",
      "metadata": {
        "id": "Anm6IL48DH4A"
      },
      "source": [
        "import pandas as pd"
      ],
      "execution_count": 41,
      "outputs": []
    },
    {
      "cell_type": "code",
      "metadata": {
        "id": "CNxNlqy0Clsq"
      },
      "source": [
        "data_csv=pd.read_csv('lab5_ex1.csv')"
      ],
      "execution_count": 42,
      "outputs": []
    },
    {
      "cell_type": "code",
      "metadata": {
        "colab": {
          "base_uri": "https://localhost:8080/"
        },
        "id": "sNO9WSOiDM8m",
        "outputId": "1e6fd802-d4be-45af-a3db-33b70c55d67e"
      },
      "source": [
        "data_csv.index"
      ],
      "execution_count": 43,
      "outputs": [
        {
          "output_type": "execute_result",
          "data": {
            "text/plain": [
              "RangeIndex(start=0, stop=9, step=1)"
            ]
          },
          "metadata": {},
          "execution_count": 43
        }
      ]
    },
    {
      "cell_type": "code",
      "metadata": {
        "colab": {
          "base_uri": "https://localhost:8080/"
        },
        "id": "VcNJu8uzDkhW",
        "outputId": "18175eed-bcbf-4044-e0d6-fad5c2fddc00"
      },
      "source": [
        "print(\"Number of rows: \",len(data_csv.index))"
      ],
      "execution_count": 44,
      "outputs": [
        {
          "output_type": "stream",
          "name": "stdout",
          "text": [
            "Number of rows:  9\n"
          ]
        }
      ]
    },
    {
      "cell_type": "code",
      "metadata": {
        "colab": {
          "base_uri": "https://localhost:8080/"
        },
        "id": "jKcFA0BpD2pB",
        "outputId": "15d7ce19-49e1-4315-b73f-70c1958265c0"
      },
      "source": [
        "for j in range(len(data_csv.index)):\n",
        "  print(data_csv.iloc[j,:])\n",
        "  print(\"\\n\")"
      ],
      "execution_count": 45,
      "outputs": [
        {
          "output_type": "stream",
          "name": "stdout",
          "text": [
            "Warehouses      Ahmedabad\n",
            "Hassan                627\n",
            "Jodhpur               617\n",
            "Trichy               1270\n",
            "Simla                2072\n",
            "Vijayawada           1415\n",
            "Dibrugarh            2943\n",
            "Raipur               1064\n",
            "Agartala             4265\n",
            "Avail. Stock          185\n",
            "Name: 0, dtype: object\n",
            "\n",
            "\n",
            "Warehouses      Bengaluru\n",
            "Hassan                159\n",
            "Jodhpur              1432\n",
            "Trichy                351\n",
            "Simla                3372\n",
            "Vijayawada            237\n",
            "Dibrugarh            3373\n",
            "Raipur               1456\n",
            "Agartala             5059\n",
            "Avail. Stock          350\n",
            "Name: 1, dtype: object\n",
            "\n",
            "\n",
            "Warehouses      Chennai\n",
            "Hassan              609\n",
            "Jodhpur            1943\n",
            "Trichy               77\n",
            "Simla              3365\n",
            "Vijayawada          298\n",
            "Dibrugarh          3021\n",
            "Raipur             1484\n",
            "Agartala           4803\n",
            "Avail. Stock        405\n",
            "Name: 2, dtype: object\n",
            "\n",
            "\n",
            "Warehouses      Delhi\n",
            "Hassan           2143\n",
            "Jodhpur           671\n",
            "Trichy           3876\n",
            "Simla             537\n",
            "Vijayawada       1902\n",
            "Dibrugarh        1941\n",
            "Raipur           1682\n",
            "Agartala         3348\n",
            "Avail. Stock      280\n",
            "Name: 3, dtype: object\n",
            "\n",
            "\n",
            "Warehouses      Kolkata\n",
            "Hassan             2742\n",
            "Jodhpur            2089\n",
            "Trichy             1931\n",
            "Simla              2199\n",
            "Vijayawada         1226\n",
            "Dibrugarh           739\n",
            "Raipur              691\n",
            "Agartala           1128\n",
            "Avail. Stock        105\n",
            "Name: 4, dtype: object\n",
            "\n",
            "\n",
            "Warehouses      Lucknow\n",
            "Hassan             2053\n",
            "Jodhpur             860\n",
            "Trichy             2995\n",
            "Simla                68\n",
            "Vijayawada         2069\n",
            "Dibrugarh          2065\n",
            "Raipur              993\n",
            "Agartala           3342\n",
            "Avail. Stock         75\n",
            "Name: 5, dtype: object\n",
            "\n",
            "\n",
            "Warehouses      Mumbai\n",
            "Hassan             656\n",
            "Jodhpur            817\n",
            "Trichy            1245\n",
            "Simla             2141\n",
            "Vijayawada        1534\n",
            "Dibrugarh         3351\n",
            "Raipur            1137\n",
            "Agartala          3887\n",
            "Avail. Stock       425\n",
            "Name: 6, dtype: object\n",
            "\n",
            "\n",
            "Warehouses      Hyderabad\n",
            "Hassan                195\n",
            "Jodhpur              1862\n",
            "Trichy               1331\n",
            "Simla                2921\n",
            "Vijayawada            402\n",
            "Dibrugarh            2825\n",
            "Raipur                563\n",
            "Agartala             4441\n",
            "Avail. Stock          270\n",
            "Name: 7, dtype: object\n",
            "\n",
            "\n",
            "Warehouses      Demand\n",
            "Hassan             175\n",
            "Jodhpur            400\n",
            "Trichy             550\n",
            "Simla               70\n",
            "Vijayawada         650\n",
            "Dibrugarh          100\n",
            "Raipur              65\n",
            "Agartala            85\n",
            "Avail. Stock      2095\n",
            "Name: 8, dtype: object\n",
            "\n",
            "\n"
          ]
        }
      ]
    },
    {
      "cell_type": "code",
      "metadata": {
        "colab": {
          "base_uri": "https://localhost:8080/"
        },
        "id": "3WNym1C6EA2N",
        "outputId": "7fa7b398-1343-4fbd-f4ec-0cada46525ce"
      },
      "source": [
        "for j in range(len(data_csv.columns)):\n",
        "  print(data_csv.iloc[:,j])\n",
        "  print(\"\\n\")"
      ],
      "execution_count": 46,
      "outputs": [
        {
          "output_type": "stream",
          "name": "stdout",
          "text": [
            "0    Ahmedabad\n",
            "1    Bengaluru\n",
            "2      Chennai\n",
            "3        Delhi\n",
            "4      Kolkata\n",
            "5      Lucknow\n",
            "6       Mumbai\n",
            "7    Hyderabad\n",
            "8       Demand\n",
            "Name: Warehouses, dtype: object\n",
            "\n",
            "\n",
            "0     627\n",
            "1     159\n",
            "2     609\n",
            "3    2143\n",
            "4    2742\n",
            "5    2053\n",
            "6     656\n",
            "7     195\n",
            "8     175\n",
            "Name: Hassan, dtype: int64\n",
            "\n",
            "\n",
            "0     617\n",
            "1    1432\n",
            "2    1943\n",
            "3     671\n",
            "4    2089\n",
            "5     860\n",
            "6     817\n",
            "7    1862\n",
            "8     400\n",
            "Name: Jodhpur, dtype: int64\n",
            "\n",
            "\n",
            "0    1270\n",
            "1     351\n",
            "2      77\n",
            "3    3876\n",
            "4    1931\n",
            "5    2995\n",
            "6    1245\n",
            "7    1331\n",
            "8     550\n",
            "Name: Trichy, dtype: int64\n",
            "\n",
            "\n",
            "0    2072\n",
            "1    3372\n",
            "2    3365\n",
            "3     537\n",
            "4    2199\n",
            "5      68\n",
            "6    2141\n",
            "7    2921\n",
            "8      70\n",
            "Name: Simla, dtype: int64\n",
            "\n",
            "\n",
            "0    1415\n",
            "1     237\n",
            "2     298\n",
            "3    1902\n",
            "4    1226\n",
            "5    2069\n",
            "6    1534\n",
            "7     402\n",
            "8     650\n",
            "Name: Vijayawada, dtype: int64\n",
            "\n",
            "\n",
            "0    2943\n",
            "1    3373\n",
            "2    3021\n",
            "3    1941\n",
            "4     739\n",
            "5    2065\n",
            "6    3351\n",
            "7    2825\n",
            "8     100\n",
            "Name: Dibrugarh, dtype: int64\n",
            "\n",
            "\n",
            "0    1064\n",
            "1    1456\n",
            "2    1484\n",
            "3    1682\n",
            "4     691\n",
            "5     993\n",
            "6    1137\n",
            "7     563\n",
            "8      65\n",
            "Name: Raipur, dtype: int64\n",
            "\n",
            "\n",
            "0    4265\n",
            "1    5059\n",
            "2    4803\n",
            "3    3348\n",
            "4    1128\n",
            "5    3342\n",
            "6    3887\n",
            "7    4441\n",
            "8      85\n",
            "Name: Agartala, dtype: int64\n",
            "\n",
            "\n",
            "0     185\n",
            "1     350\n",
            "2     405\n",
            "3     280\n",
            "4     105\n",
            "5      75\n",
            "6     425\n",
            "7     270\n",
            "8    2095\n",
            "Name: Avail. Stock, dtype: int64\n",
            "\n",
            "\n"
          ]
        }
      ]
    },
    {
      "cell_type": "code",
      "metadata": {
        "id": "TL7TKxKiEvwO"
      },
      "source": [
        "M=len(data_csv.index)-1#number of rows\n",
        "N=len(data_csv.columns)-2#Number of columns"
      ],
      "execution_count": 47,
      "outputs": []
    },
    {
      "cell_type": "code",
      "metadata": {
        "colab": {
          "base_uri": "https://localhost:8080/"
        },
        "id": "Ux3AoTk0FlWF",
        "outputId": "83e6ede2-4fe8-4f66-abcd-b489909b46f8"
      },
      "source": [
        "print(\"number of rows: \",M)\n",
        "print(\"number of columns: \",N)"
      ],
      "execution_count": 48,
      "outputs": [
        {
          "output_type": "stream",
          "name": "stdout",
          "text": [
            "number of rows:  8\n",
            "number of columns:  8\n"
          ]
        }
      ]
    },
    {
      "cell_type": "code",
      "metadata": {
        "id": "BqUCBY_zFtLG"
      },
      "source": [
        "model=ConcreteModel()"
      ],
      "execution_count": 49,
      "outputs": []
    },
    {
      "cell_type": "code",
      "metadata": {
        "id": "JF77z9ckF2gu"
      },
      "source": [
        "col_indices=range(N)\n",
        "row_indices=range(M)\n",
        "model.x=Var(row_indices,col_indices,domain=NonNegativeReals)"
      ],
      "execution_count": 50,
      "outputs": []
    },
    {
      "cell_type": "code",
      "metadata": {
        "colab": {
          "base_uri": "https://localhost:8080/"
        },
        "id": "1JomSAMGGTpO",
        "outputId": "4d3aa15e-bcd2-4492-b0f3-0e2973599ed1"
      },
      "source": [
        "for i in row_indices:\n",
        "  model.objective=Objective(expr=sum(data_csv.iloc[i,j+1]*model.x[i,j] for j in col_indices for i in row_indices),sense=minimize)"
      ],
      "execution_count": 51,
      "outputs": [
        {
          "output_type": "stream",
          "name": "stdout",
          "text": [
            "WARNING: Implicitly replacing the Component attribute objective (type=<class\n",
            "    'pyomo.core.base.objective.ScalarObjective'>) on block unknown with a new\n",
            "    Component (type=<class 'pyomo.core.base.objective.ScalarObjective'>). This\n",
            "    is usually indicative of a modelling error. To avoid this warning, use\n",
            "    block.del_component() and block.add_component().\n",
            "WARNING: Implicitly replacing the Component attribute objective (type=<class\n",
            "    'pyomo.core.base.objective.ScalarObjective'>) on block unknown with a new\n",
            "    Component (type=<class 'pyomo.core.base.objective.ScalarObjective'>). This\n",
            "    is usually indicative of a modelling error. To avoid this warning, use\n",
            "    block.del_component() and block.add_component().\n",
            "WARNING: Implicitly replacing the Component attribute objective (type=<class\n",
            "    'pyomo.core.base.objective.ScalarObjective'>) on block unknown with a new\n",
            "    Component (type=<class 'pyomo.core.base.objective.ScalarObjective'>). This\n",
            "    is usually indicative of a modelling error. To avoid this warning, use\n",
            "    block.del_component() and block.add_component().\n",
            "WARNING: Implicitly replacing the Component attribute objective (type=<class\n",
            "    'pyomo.core.base.objective.ScalarObjective'>) on block unknown with a new\n",
            "    Component (type=<class 'pyomo.core.base.objective.ScalarObjective'>). This\n",
            "    is usually indicative of a modelling error. To avoid this warning, use\n",
            "    block.del_component() and block.add_component().\n",
            "WARNING: Implicitly replacing the Component attribute objective (type=<class\n",
            "    'pyomo.core.base.objective.ScalarObjective'>) on block unknown with a new\n",
            "    Component (type=<class 'pyomo.core.base.objective.ScalarObjective'>). This\n",
            "    is usually indicative of a modelling error. To avoid this warning, use\n",
            "    block.del_component() and block.add_component().\n",
            "WARNING: Implicitly replacing the Component attribute objective (type=<class\n",
            "    'pyomo.core.base.objective.ScalarObjective'>) on block unknown with a new\n",
            "    Component (type=<class 'pyomo.core.base.objective.ScalarObjective'>). This\n",
            "    is usually indicative of a modelling error. To avoid this warning, use\n",
            "    block.del_component() and block.add_component().\n",
            "WARNING: Implicitly replacing the Component attribute objective (type=<class\n",
            "    'pyomo.core.base.objective.ScalarObjective'>) on block unknown with a new\n",
            "    Component (type=<class 'pyomo.core.base.objective.ScalarObjective'>). This\n",
            "    is usually indicative of a modelling error. To avoid this warning, use\n",
            "    block.del_component() and block.add_component().\n"
          ]
        }
      ]
    },
    {
      "cell_type": "code",
      "metadata": {
        "id": "konQH4Z3Ha3a"
      },
      "source": [
        "model.constraints=ConstraintList()"
      ],
      "execution_count": 52,
      "outputs": []
    },
    {
      "cell_type": "code",
      "metadata": {
        "id": "T1_to6KoHnC-"
      },
      "source": [
        "for i in row_indices:\n",
        "  model.constraints.add(sum(model.x[i,j]for j in col_indices)<=data_csv.iloc[i,N+1])"
      ],
      "execution_count": 53,
      "outputs": []
    },
    {
      "cell_type": "code",
      "metadata": {
        "id": "6ePOzGLTKY7o"
      },
      "source": [
        "for j in col_indices:\n",
        "  model.constraints.add(sum(model.x[i,j]for i in row_indices)==data_csv.iloc[M,j+1])"
      ],
      "execution_count": 54,
      "outputs": []
    },
    {
      "cell_type": "code",
      "metadata": {
        "colab": {
          "base_uri": "https://localhost:8080/"
        },
        "id": "bE3xGo0UKvoi",
        "outputId": "b0698d30-51a4-4f80-e11b-bb8875fe8229"
      },
      "source": [
        "model.pprint()"
      ],
      "execution_count": 55,
      "outputs": [
        {
          "output_type": "stream",
          "name": "stdout",
          "text": [
            "4 Set Declarations\n",
            "    constraints_index : Size=1, Index=None, Ordered=Insertion\n",
            "        Key  : Dimen : Domain : Size : Members\n",
            "        None :     1 :    Any :   16 : {1, 2, 3, 4, 5, 6, 7, 8, 9, 10, 11, 12, 13, 14, 15, 16}\n",
            "    x_index : Size=1, Index=None, Ordered=False\n",
            "        Key  : Dimen : Domain              : Size : Members\n",
            "        None :     2 : x_index_0*x_index_1 :   64 : {(0, 0), (0, 1), (0, 2), (0, 3), (0, 4), (0, 5), (0, 6), (0, 7), (1, 0), (1, 1), (1, 2), (1, 3), (1, 4), (1, 5), (1, 6), (1, 7), (2, 0), (2, 1), (2, 2), (2, 3), (2, 4), (2, 5), (2, 6), (2, 7), (3, 0), (3, 1), (3, 2), (3, 3), (3, 4), (3, 5), (3, 6), (3, 7), (4, 0), (4, 1), (4, 2), (4, 3), (4, 4), (4, 5), (4, 6), (4, 7), (5, 0), (5, 1), (5, 2), (5, 3), (5, 4), (5, 5), (5, 6), (5, 7), (6, 0), (6, 1), (6, 2), (6, 3), (6, 4), (6, 5), (6, 6), (6, 7), (7, 0), (7, 1), (7, 2), (7, 3), (7, 4), (7, 5), (7, 6), (7, 7)}\n",
            "    x_index_0 : Size=1, Index=None, Ordered=False\n",
            "        Key  : Dimen : Domain : Size : Members\n",
            "        None :     1 :    Any :    8 : {0, 1, 2, 3, 4, 5, 6, 7}\n",
            "    x_index_1 : Size=1, Index=None, Ordered=False\n",
            "        Key  : Dimen : Domain : Size : Members\n",
            "        None :     1 :    Any :    8 : {0, 1, 2, 3, 4, 5, 6, 7}\n",
            "\n",
            "1 Var Declarations\n",
            "    x : Size=64, Index=x_index\n",
            "        Key    : Lower : Value : Upper : Fixed : Stale : Domain\n",
            "        (0, 0) :     0 :  None :  None : False :  True : NonNegativeReals\n",
            "        (0, 1) :     0 :  None :  None : False :  True : NonNegativeReals\n",
            "        (0, 2) :     0 :  None :  None : False :  True : NonNegativeReals\n",
            "        (0, 3) :     0 :  None :  None : False :  True : NonNegativeReals\n",
            "        (0, 4) :     0 :  None :  None : False :  True : NonNegativeReals\n",
            "        (0, 5) :     0 :  None :  None : False :  True : NonNegativeReals\n",
            "        (0, 6) :     0 :  None :  None : False :  True : NonNegativeReals\n",
            "        (0, 7) :     0 :  None :  None : False :  True : NonNegativeReals\n",
            "        (1, 0) :     0 :  None :  None : False :  True : NonNegativeReals\n",
            "        (1, 1) :     0 :  None :  None : False :  True : NonNegativeReals\n",
            "        (1, 2) :     0 :  None :  None : False :  True : NonNegativeReals\n",
            "        (1, 3) :     0 :  None :  None : False :  True : NonNegativeReals\n",
            "        (1, 4) :     0 :  None :  None : False :  True : NonNegativeReals\n",
            "        (1, 5) :     0 :  None :  None : False :  True : NonNegativeReals\n",
            "        (1, 6) :     0 :  None :  None : False :  True : NonNegativeReals\n",
            "        (1, 7) :     0 :  None :  None : False :  True : NonNegativeReals\n",
            "        (2, 0) :     0 :  None :  None : False :  True : NonNegativeReals\n",
            "        (2, 1) :     0 :  None :  None : False :  True : NonNegativeReals\n",
            "        (2, 2) :     0 :  None :  None : False :  True : NonNegativeReals\n",
            "        (2, 3) :     0 :  None :  None : False :  True : NonNegativeReals\n",
            "        (2, 4) :     0 :  None :  None : False :  True : NonNegativeReals\n",
            "        (2, 5) :     0 :  None :  None : False :  True : NonNegativeReals\n",
            "        (2, 6) :     0 :  None :  None : False :  True : NonNegativeReals\n",
            "        (2, 7) :     0 :  None :  None : False :  True : NonNegativeReals\n",
            "        (3, 0) :     0 :  None :  None : False :  True : NonNegativeReals\n",
            "        (3, 1) :     0 :  None :  None : False :  True : NonNegativeReals\n",
            "        (3, 2) :     0 :  None :  None : False :  True : NonNegativeReals\n",
            "        (3, 3) :     0 :  None :  None : False :  True : NonNegativeReals\n",
            "        (3, 4) :     0 :  None :  None : False :  True : NonNegativeReals\n",
            "        (3, 5) :     0 :  None :  None : False :  True : NonNegativeReals\n",
            "        (3, 6) :     0 :  None :  None : False :  True : NonNegativeReals\n",
            "        (3, 7) :     0 :  None :  None : False :  True : NonNegativeReals\n",
            "        (4, 0) :     0 :  None :  None : False :  True : NonNegativeReals\n",
            "        (4, 1) :     0 :  None :  None : False :  True : NonNegativeReals\n",
            "        (4, 2) :     0 :  None :  None : False :  True : NonNegativeReals\n",
            "        (4, 3) :     0 :  None :  None : False :  True : NonNegativeReals\n",
            "        (4, 4) :     0 :  None :  None : False :  True : NonNegativeReals\n",
            "        (4, 5) :     0 :  None :  None : False :  True : NonNegativeReals\n",
            "        (4, 6) :     0 :  None :  None : False :  True : NonNegativeReals\n",
            "        (4, 7) :     0 :  None :  None : False :  True : NonNegativeReals\n",
            "        (5, 0) :     0 :  None :  None : False :  True : NonNegativeReals\n",
            "        (5, 1) :     0 :  None :  None : False :  True : NonNegativeReals\n",
            "        (5, 2) :     0 :  None :  None : False :  True : NonNegativeReals\n",
            "        (5, 3) :     0 :  None :  None : False :  True : NonNegativeReals\n",
            "        (5, 4) :     0 :  None :  None : False :  True : NonNegativeReals\n",
            "        (5, 5) :     0 :  None :  None : False :  True : NonNegativeReals\n",
            "        (5, 6) :     0 :  None :  None : False :  True : NonNegativeReals\n",
            "        (5, 7) :     0 :  None :  None : False :  True : NonNegativeReals\n",
            "        (6, 0) :     0 :  None :  None : False :  True : NonNegativeReals\n",
            "        (6, 1) :     0 :  None :  None : False :  True : NonNegativeReals\n",
            "        (6, 2) :     0 :  None :  None : False :  True : NonNegativeReals\n",
            "        (6, 3) :     0 :  None :  None : False :  True : NonNegativeReals\n",
            "        (6, 4) :     0 :  None :  None : False :  True : NonNegativeReals\n",
            "        (6, 5) :     0 :  None :  None : False :  True : NonNegativeReals\n",
            "        (6, 6) :     0 :  None :  None : False :  True : NonNegativeReals\n",
            "        (6, 7) :     0 :  None :  None : False :  True : NonNegativeReals\n",
            "        (7, 0) :     0 :  None :  None : False :  True : NonNegativeReals\n",
            "        (7, 1) :     0 :  None :  None : False :  True : NonNegativeReals\n",
            "        (7, 2) :     0 :  None :  None : False :  True : NonNegativeReals\n",
            "        (7, 3) :     0 :  None :  None : False :  True : NonNegativeReals\n",
            "        (7, 4) :     0 :  None :  None : False :  True : NonNegativeReals\n",
            "        (7, 5) :     0 :  None :  None : False :  True : NonNegativeReals\n",
            "        (7, 6) :     0 :  None :  None : False :  True : NonNegativeReals\n",
            "        (7, 7) :     0 :  None :  None : False :  True : NonNegativeReals\n",
            "\n",
            "1 Objective Declarations\n",
            "    objective : Size=1, Index=None, Active=True\n",
            "        Key  : Active : Sense    : Expression\n",
            "        None :   True : minimize : 627*x[0,0] + 159*x[1,0] + 609*x[2,0] + 2143*x[3,0] + 2742*x[4,0] + 2053*x[5,0] + 656*x[6,0] + 195*x[7,0] + 617*x[0,1] + 1432*x[1,1] + 1943*x[2,1] + 671*x[3,1] + 2089*x[4,1] + 860*x[5,1] + 817*x[6,1] + 1862*x[7,1] + 1270*x[0,2] + 351*x[1,2] + 77*x[2,2] + 3876*x[3,2] + 1931*x[4,2] + 2995*x[5,2] + 1245*x[6,2] + 1331*x[7,2] + 2072*x[0,3] + 3372*x[1,3] + 3365*x[2,3] + 537*x[3,3] + 2199*x[4,3] + 68*x[5,3] + 2141*x[6,3] + 2921*x[7,3] + 1415*x[0,4] + 237*x[1,4] + 298*x[2,4] + 1902*x[3,4] + 1226*x[4,4] + 2069*x[5,4] + 1534*x[6,4] + 402*x[7,4] + 2943*x[0,5] + 3373*x[1,5] + 3021*x[2,5] + 1941*x[3,5] + 739*x[4,5] + 2065*x[5,5] + 3351*x[6,5] + 2825*x[7,5] + 1064*x[0,6] + 1456*x[1,6] + 1484*x[2,6] + 1682*x[3,6] + 691*x[4,6] + 993*x[5,6] + 1137*x[6,6] + 563*x[7,6] + 4265*x[0,7] + 5059*x[1,7] + 4803*x[2,7] + 3348*x[3,7] + 1128*x[4,7] + 3342*x[5,7] + 3887*x[6,7] + 4441*x[7,7]\n",
            "\n",
            "1 Constraint Declarations\n",
            "    constraints : Size=16, Index=constraints_index, Active=True\n",
            "        Key : Lower : Body                                                                  : Upper : Active\n",
            "          1 :  -Inf : x[0,0] + x[0,1] + x[0,2] + x[0,3] + x[0,4] + x[0,5] + x[0,6] + x[0,7] : 185.0 :   True\n",
            "          2 :  -Inf : x[1,0] + x[1,1] + x[1,2] + x[1,3] + x[1,4] + x[1,5] + x[1,6] + x[1,7] : 350.0 :   True\n",
            "          3 :  -Inf : x[2,0] + x[2,1] + x[2,2] + x[2,3] + x[2,4] + x[2,5] + x[2,6] + x[2,7] : 405.0 :   True\n",
            "          4 :  -Inf : x[3,0] + x[3,1] + x[3,2] + x[3,3] + x[3,4] + x[3,5] + x[3,6] + x[3,7] : 280.0 :   True\n",
            "          5 :  -Inf : x[4,0] + x[4,1] + x[4,2] + x[4,3] + x[4,4] + x[4,5] + x[4,6] + x[4,7] : 105.0 :   True\n",
            "          6 :  -Inf : x[5,0] + x[5,1] + x[5,2] + x[5,3] + x[5,4] + x[5,5] + x[5,6] + x[5,7] :  75.0 :   True\n",
            "          7 :  -Inf : x[6,0] + x[6,1] + x[6,2] + x[6,3] + x[6,4] + x[6,5] + x[6,6] + x[6,7] : 425.0 :   True\n",
            "          8 :  -Inf : x[7,0] + x[7,1] + x[7,2] + x[7,3] + x[7,4] + x[7,5] + x[7,6] + x[7,7] : 270.0 :   True\n",
            "          9 : 175.0 : x[0,0] + x[1,0] + x[2,0] + x[3,0] + x[4,0] + x[5,0] + x[6,0] + x[7,0] : 175.0 :   True\n",
            "         10 : 400.0 : x[0,1] + x[1,1] + x[2,1] + x[3,1] + x[4,1] + x[5,1] + x[6,1] + x[7,1] : 400.0 :   True\n",
            "         11 : 550.0 : x[0,2] + x[1,2] + x[2,2] + x[3,2] + x[4,2] + x[5,2] + x[6,2] + x[7,2] : 550.0 :   True\n",
            "         12 :  70.0 : x[0,3] + x[1,3] + x[2,3] + x[3,3] + x[4,3] + x[5,3] + x[6,3] + x[7,3] :  70.0 :   True\n",
            "         13 : 650.0 : x[0,4] + x[1,4] + x[2,4] + x[3,4] + x[4,4] + x[5,4] + x[6,4] + x[7,4] : 650.0 :   True\n",
            "         14 : 100.0 : x[0,5] + x[1,5] + x[2,5] + x[3,5] + x[4,5] + x[5,5] + x[6,5] + x[7,5] : 100.0 :   True\n",
            "         15 :  65.0 : x[0,6] + x[1,6] + x[2,6] + x[3,6] + x[4,6] + x[5,6] + x[6,6] + x[7,6] :  65.0 :   True\n",
            "         16 :  85.0 : x[0,7] + x[1,7] + x[2,7] + x[3,7] + x[4,7] + x[5,7] + x[6,7] + x[7,7] :  85.0 :   True\n",
            "\n",
            "7 Declarations: x_index_0 x_index_1 x_index x objective constraints_index constraints\n"
          ]
        }
      ]
    },
    {
      "cell_type": "code",
      "metadata": {
        "id": "A9kyCmTSKxIF"
      },
      "source": [
        "!apt-get install -y -qq coinor-cbc"
      ],
      "execution_count": 56,
      "outputs": []
    },
    {
      "cell_type": "code",
      "metadata": {
        "colab": {
          "base_uri": "https://localhost:8080/"
        },
        "id": "TpRJPU6GK6jV",
        "outputId": "f86320d8-766b-421e-f812-5f31a4c6cc69"
      },
      "source": [
        "opt_cbc=SolverFactory('cbc')\n",
        "result=opt_cbc.solve(model)\n",
        "print(result)"
      ],
      "execution_count": 57,
      "outputs": [
        {
          "output_type": "stream",
          "name": "stdout",
          "text": [
            "\n",
            "Problem: \n",
            "- Name: unknown\n",
            "  Lower bound: 1166465.0\n",
            "  Upper bound: 1166465.0\n",
            "  Number of objectives: 1\n",
            "  Number of constraints: 17\n",
            "  Number of variables: 65\n",
            "  Number of nonzeros: 64\n",
            "  Sense: minimize\n",
            "Solver: \n",
            "- Status: ok\n",
            "  User time: -1.0\n",
            "  System time: 0.0\n",
            "  Wallclock time: 0.0\n",
            "  Termination condition: optimal\n",
            "  Termination message: Model was solved to optimality (subject to tolerances), and an optimal solution is available.\n",
            "  Statistics: \n",
            "    Branch and bound: \n",
            "      Number of bounded subproblems: None\n",
            "      Number of created subproblems: None\n",
            "    Black box: \n",
            "      Number of iterations: 19\n",
            "  Error rc: 0\n",
            "  Time: 0.014536380767822266\n",
            "Solution: \n",
            "- number of solutions: 0\n",
            "  number of solutions displayed: 0\n",
            "\n"
          ]
        }
      ]
    },
    {
      "cell_type": "code",
      "metadata": {
        "colab": {
          "base_uri": "https://localhost:8080/"
        },
        "id": "IMgv6DKPLI30",
        "outputId": "b29b958f-5775-44ad-ac30-be32796e450f"
      },
      "source": [
        "print('Solver status:', result.solver.status)\n",
        "print('Solver termination condition:',result.solver.termination_condition)"
      ],
      "execution_count": 58,
      "outputs": [
        {
          "output_type": "stream",
          "name": "stdout",
          "text": [
            "Solver status: ok\n",
            "Solver termination condition: optimal\n"
          ]
        }
      ]
    },
    {
      "cell_type": "code",
      "metadata": {
        "colab": {
          "base_uri": "https://localhost:8080/"
        },
        "id": "T-eCIoihL4sI",
        "outputId": "1ef0de05-2b79-4bac-a54d-27ec49a464ea"
      },
      "source": [
        "# display solution\n",
        "print('\\nObjective = ', model.objective())\n",
        "\n",
        "print('\\nDecision Variables')\n",
        "for i in row_indices:\n",
        "  for j in col_indices:\n",
        "    print('Num of truck loads between ',data_csv['Warehouses'][i],' and ', data_csv.columns[j+1],':', model.x[i,j].value)\n",
        "\n",
        "print('\\nConstraints')\n",
        "model.constraints.display()"
      ],
      "execution_count": 59,
      "outputs": [
        {
          "output_type": "stream",
          "name": "stdout",
          "text": [
            "\n",
            "Objective =  1166465.0\n",
            "\n",
            "Decision Variables\n",
            "Num of truck loads between  Ahmedabad  and  Hassan : 0.0\n",
            "Num of truck loads between  Ahmedabad  and  Jodhpur : 185.0\n",
            "Num of truck loads between  Ahmedabad  and  Trichy : 0.0\n",
            "Num of truck loads between  Ahmedabad  and  Simla : 0.0\n",
            "Num of truck loads between  Ahmedabad  and  Vijayawada : 0.0\n",
            "Num of truck loads between  Ahmedabad  and  Dibrugarh : 0.0\n",
            "Num of truck loads between  Ahmedabad  and  Raipur : 0.0\n",
            "Num of truck loads between  Ahmedabad  and  Agartala : 0.0\n",
            "Num of truck loads between  Bengaluru  and  Hassan : 0.0\n",
            "Num of truck loads between  Bengaluru  and  Jodhpur : 0.0\n",
            "Num of truck loads between  Bengaluru  and  Trichy : 0.0\n",
            "Num of truck loads between  Bengaluru  and  Simla : 0.0\n",
            "Num of truck loads between  Bengaluru  and  Vijayawada : 350.0\n",
            "Num of truck loads between  Bengaluru  and  Dibrugarh : 0.0\n",
            "Num of truck loads between  Bengaluru  and  Raipur : 0.0\n",
            "Num of truck loads between  Bengaluru  and  Agartala : 0.0\n",
            "Num of truck loads between  Chennai  and  Hassan : 0.0\n",
            "Num of truck loads between  Chennai  and  Jodhpur : 0.0\n",
            "Num of truck loads between  Chennai  and  Trichy : 375.0\n",
            "Num of truck loads between  Chennai  and  Simla : 0.0\n",
            "Num of truck loads between  Chennai  and  Vijayawada : 30.0\n",
            "Num of truck loads between  Chennai  and  Dibrugarh : 0.0\n",
            "Num of truck loads between  Chennai  and  Raipur : 0.0\n",
            "Num of truck loads between  Chennai  and  Agartala : 0.0\n",
            "Num of truck loads between  Delhi  and  Hassan : 0.0\n",
            "Num of truck loads between  Delhi  and  Jodhpur : 200.0\n",
            "Num of truck loads between  Delhi  and  Trichy : 0.0\n",
            "Num of truck loads between  Delhi  and  Simla : 0.0\n",
            "Num of truck loads between  Delhi  and  Vijayawada : 0.0\n",
            "Num of truck loads between  Delhi  and  Dibrugarh : 80.0\n",
            "Num of truck loads between  Delhi  and  Raipur : 0.0\n",
            "Num of truck loads between  Delhi  and  Agartala : 0.0\n",
            "Num of truck loads between  Kolkata  and  Hassan : 0.0\n",
            "Num of truck loads between  Kolkata  and  Jodhpur : 0.0\n",
            "Num of truck loads between  Kolkata  and  Trichy : 0.0\n",
            "Num of truck loads between  Kolkata  and  Simla : 0.0\n",
            "Num of truck loads between  Kolkata  and  Vijayawada : 0.0\n",
            "Num of truck loads between  Kolkata  and  Dibrugarh : 20.0\n",
            "Num of truck loads between  Kolkata  and  Raipur : 0.0\n",
            "Num of truck loads between  Kolkata  and  Agartala : 85.0\n",
            "Num of truck loads between  Lucknow  and  Hassan : 0.0\n",
            "Num of truck loads between  Lucknow  and  Jodhpur : 0.0\n",
            "Num of truck loads between  Lucknow  and  Trichy : 0.0\n",
            "Num of truck loads between  Lucknow  and  Simla : 70.0\n",
            "Num of truck loads between  Lucknow  and  Vijayawada : 0.0\n",
            "Num of truck loads between  Lucknow  and  Dibrugarh : 0.0\n",
            "Num of truck loads between  Lucknow  and  Raipur : 5.0\n",
            "Num of truck loads between  Lucknow  and  Agartala : 0.0\n",
            "Num of truck loads between  Mumbai  and  Hassan : 175.0\n",
            "Num of truck loads between  Mumbai  and  Jodhpur : 15.0\n",
            "Num of truck loads between  Mumbai  and  Trichy : 175.0\n",
            "Num of truck loads between  Mumbai  and  Simla : 0.0\n",
            "Num of truck loads between  Mumbai  and  Vijayawada : 0.0\n",
            "Num of truck loads between  Mumbai  and  Dibrugarh : 0.0\n",
            "Num of truck loads between  Mumbai  and  Raipur : 60.0\n",
            "Num of truck loads between  Mumbai  and  Agartala : 0.0\n",
            "Num of truck loads between  Hyderabad  and  Hassan : 0.0\n",
            "Num of truck loads between  Hyderabad  and  Jodhpur : 0.0\n",
            "Num of truck loads between  Hyderabad  and  Trichy : 0.0\n",
            "Num of truck loads between  Hyderabad  and  Simla : 0.0\n",
            "Num of truck loads between  Hyderabad  and  Vijayawada : 270.0\n",
            "Num of truck loads between  Hyderabad  and  Dibrugarh : 0.0\n",
            "Num of truck loads between  Hyderabad  and  Raipur : 0.0\n",
            "Num of truck loads between  Hyderabad  and  Agartala : 0.0\n",
            "\n",
            "Constraints\n",
            "constraints : Size=16\n",
            "    Key : Lower : Body  : Upper\n",
            "      1 :  None : 185.0 : 185.0\n",
            "      2 :  None : 350.0 : 350.0\n",
            "      3 :  None : 405.0 : 405.0\n",
            "      4 :  None : 280.0 : 280.0\n",
            "      5 :  None : 105.0 : 105.0\n",
            "      6 :  None :  75.0 :  75.0\n",
            "      7 :  None : 425.0 : 425.0\n",
            "      8 :  None : 270.0 : 270.0\n",
            "      9 : 175.0 : 175.0 : 175.0\n",
            "     10 : 400.0 : 400.0 : 400.0\n",
            "     11 : 550.0 : 550.0 : 550.0\n",
            "     12 :  70.0 :  70.0 :  70.0\n",
            "     13 : 650.0 : 650.0 : 650.0\n",
            "     14 : 100.0 : 100.0 : 100.0\n",
            "     15 :  65.0 :  65.0 :  65.0\n",
            "     16 :  85.0 :  85.0 :  85.0\n"
          ]
        }
      ]
    },
    {
      "cell_type": "markdown",
      "metadata": {
        "id": "VVPiIONONduX"
      },
      "source": [
        "#Que.1(7)\n",
        "\n",
        "**optimal cost and number of truck loads of WMUs from warehouses to different markets**"
      ]
    },
    {
      "cell_type": "code",
      "metadata": {
        "colab": {
          "base_uri": "https://localhost:8080/"
        },
        "id": "5v5Asz0BMOPy",
        "outputId": "d2986c3c-bb08-4be0-d2a5-c047cd7ee134"
      },
      "source": [
        "print('optimal total cost = ', model.objective())\n",
        "\n",
        "print('\\nDecision Variables')\n",
        "for i in row_indices:\n",
        "  for j in col_indices:\n",
        "    if model.x[i,j].value>0:\n",
        "      print('Num of truck loads between ',data_csv['Warehouses'][i],' and ', data_csv.columns[j+1],':', model.x[i,j].value)"
      ],
      "execution_count": 60,
      "outputs": [
        {
          "output_type": "stream",
          "name": "stdout",
          "text": [
            "optimal total cost =  1166465.0\n",
            "\n",
            "Decision Variables\n",
            "Num of truck loads between  Ahmedabad  and  Jodhpur : 185.0\n",
            "Num of truck loads between  Bengaluru  and  Vijayawada : 350.0\n",
            "Num of truck loads between  Chennai  and  Trichy : 375.0\n",
            "Num of truck loads between  Chennai  and  Vijayawada : 30.0\n",
            "Num of truck loads between  Delhi  and  Jodhpur : 200.0\n",
            "Num of truck loads between  Delhi  and  Dibrugarh : 80.0\n",
            "Num of truck loads between  Kolkata  and  Dibrugarh : 20.0\n",
            "Num of truck loads between  Kolkata  and  Agartala : 85.0\n",
            "Num of truck loads between  Lucknow  and  Simla : 70.0\n",
            "Num of truck loads between  Lucknow  and  Raipur : 5.0\n",
            "Num of truck loads between  Mumbai  and  Hassan : 175.0\n",
            "Num of truck loads between  Mumbai  and  Jodhpur : 15.0\n",
            "Num of truck loads between  Mumbai  and  Trichy : 175.0\n",
            "Num of truck loads between  Mumbai  and  Raipur : 60.0\n",
            "Num of truck loads between  Hyderabad  and  Vijayawada : 270.0\n"
          ]
        }
      ]
    },
    {
      "cell_type": "markdown",
      "metadata": {
        "id": "1OR5v3iPdkNL"
      },
      "source": [
        "#Que.1(8)\n",
        "\n",
        "We will increase the cost of bengaluru to hassan to 2000000 which is very very much bigger than the other costs. So the solver will automatically block all the transportation between bengaluru and hassan."
      ]
    },
    {
      "cell_type": "code",
      "metadata": {
        "id": "gMkC7bCdNrk-"
      },
      "source": [
        "#changing the entry of the csv file and increasing the cost of bengaluru to hassan to 5000 so that the trasportation on this route will be zero. \n",
        "data_csv.loc[1,'Hassan']=2000000"
      ],
      "execution_count": 61,
      "outputs": []
    },
    {
      "cell_type": "code",
      "metadata": {
        "colab": {
          "base_uri": "https://localhost:8080/"
        },
        "id": "yENQZdu3e62N",
        "outputId": "440056ac-dbfe-4382-d7fd-47b2af9943af"
      },
      "source": [
        "print(data_csv)"
      ],
      "execution_count": 62,
      "outputs": [
        {
          "output_type": "stream",
          "name": "stdout",
          "text": [
            "  Warehouses   Hassan  Jodhpur  ...  Raipur  Agartala  Avail. Stock\n",
            "0  Ahmedabad      627      617  ...    1064      4265           185\n",
            "1  Bengaluru  2000000     1432  ...    1456      5059           350\n",
            "2    Chennai      609     1943  ...    1484      4803           405\n",
            "3      Delhi     2143      671  ...    1682      3348           280\n",
            "4    Kolkata     2742     2089  ...     691      1128           105\n",
            "5    Lucknow     2053      860  ...     993      3342            75\n",
            "6     Mumbai      656      817  ...    1137      3887           425\n",
            "7  Hyderabad      195     1862  ...     563      4441           270\n",
            "8     Demand      175      400  ...      65        85          2095\n",
            "\n",
            "[9 rows x 10 columns]\n"
          ]
        }
      ]
    },
    {
      "cell_type": "code",
      "metadata": {
        "colab": {
          "base_uri": "https://localhost:8080/"
        },
        "id": "OqtEzzA1e-bt",
        "outputId": "985fe2c3-4f82-4728-e341-6c420e706191"
      },
      "source": [
        "for i in row_indices:\n",
        "  model.updated_objective=Objective(expr=sum(data_csv.iloc[i,j+1]*model.x[i,j] for j in col_indices for i in row_indices),sense=minimize)"
      ],
      "execution_count": 63,
      "outputs": [
        {
          "output_type": "stream",
          "name": "stdout",
          "text": [
            "WARNING: Implicitly replacing the Component attribute updated_objective\n",
            "    (type=<class 'pyomo.core.base.objective.ScalarObjective'>) on block\n",
            "    unknown with a new Component (type=<class\n",
            "    'pyomo.core.base.objective.ScalarObjective'>). This is usually indicative\n",
            "    of a modelling error. To avoid this warning, use block.del_component() and\n",
            "    block.add_component().\n",
            "WARNING: Implicitly replacing the Component attribute updated_objective\n",
            "    (type=<class 'pyomo.core.base.objective.ScalarObjective'>) on block\n",
            "    unknown with a new Component (type=<class\n",
            "    'pyomo.core.base.objective.ScalarObjective'>). This is usually indicative\n",
            "    of a modelling error. To avoid this warning, use block.del_component() and\n",
            "    block.add_component().\n",
            "WARNING: Implicitly replacing the Component attribute updated_objective\n",
            "    (type=<class 'pyomo.core.base.objective.ScalarObjective'>) on block\n",
            "    unknown with a new Component (type=<class\n",
            "    'pyomo.core.base.objective.ScalarObjective'>). This is usually indicative\n",
            "    of a modelling error. To avoid this warning, use block.del_component() and\n",
            "    block.add_component().\n",
            "WARNING: Implicitly replacing the Component attribute updated_objective\n",
            "    (type=<class 'pyomo.core.base.objective.ScalarObjective'>) on block\n",
            "    unknown with a new Component (type=<class\n",
            "    'pyomo.core.base.objective.ScalarObjective'>). This is usually indicative\n",
            "    of a modelling error. To avoid this warning, use block.del_component() and\n",
            "    block.add_component().\n",
            "WARNING: Implicitly replacing the Component attribute updated_objective\n",
            "    (type=<class 'pyomo.core.base.objective.ScalarObjective'>) on block\n",
            "    unknown with a new Component (type=<class\n",
            "    'pyomo.core.base.objective.ScalarObjective'>). This is usually indicative\n",
            "    of a modelling error. To avoid this warning, use block.del_component() and\n",
            "    block.add_component().\n",
            "WARNING: Implicitly replacing the Component attribute updated_objective\n",
            "    (type=<class 'pyomo.core.base.objective.ScalarObjective'>) on block\n",
            "    unknown with a new Component (type=<class\n",
            "    'pyomo.core.base.objective.ScalarObjective'>). This is usually indicative\n",
            "    of a modelling error. To avoid this warning, use block.del_component() and\n",
            "    block.add_component().\n",
            "WARNING: Implicitly replacing the Component attribute updated_objective\n",
            "    (type=<class 'pyomo.core.base.objective.ScalarObjective'>) on block\n",
            "    unknown with a new Component (type=<class\n",
            "    'pyomo.core.base.objective.ScalarObjective'>). This is usually indicative\n",
            "    of a modelling error. To avoid this warning, use block.del_component() and\n",
            "    block.add_component().\n"
          ]
        }
      ]
    },
    {
      "cell_type": "code",
      "metadata": {
        "id": "3Ukb1P5qfXYA"
      },
      "source": [
        "model.objective.deactivate()"
      ],
      "execution_count": 64,
      "outputs": []
    },
    {
      "cell_type": "code",
      "metadata": {
        "colab": {
          "base_uri": "https://localhost:8080/"
        },
        "id": "y7AC58sofbNQ",
        "outputId": "ea8f1552-284f-40ea-8437-390dee496805"
      },
      "source": [
        "model.pprint()"
      ],
      "execution_count": 65,
      "outputs": [
        {
          "output_type": "stream",
          "name": "stdout",
          "text": [
            "4 Set Declarations\n",
            "    constraints_index : Size=1, Index=None, Ordered=Insertion\n",
            "        Key  : Dimen : Domain : Size : Members\n",
            "        None :     1 :    Any :   16 : {1, 2, 3, 4, 5, 6, 7, 8, 9, 10, 11, 12, 13, 14, 15, 16}\n",
            "    x_index : Size=1, Index=None, Ordered=False\n",
            "        Key  : Dimen : Domain              : Size : Members\n",
            "        None :     2 : x_index_0*x_index_1 :   64 : {(0, 0), (0, 1), (0, 2), (0, 3), (0, 4), (0, 5), (0, 6), (0, 7), (1, 0), (1, 1), (1, 2), (1, 3), (1, 4), (1, 5), (1, 6), (1, 7), (2, 0), (2, 1), (2, 2), (2, 3), (2, 4), (2, 5), (2, 6), (2, 7), (3, 0), (3, 1), (3, 2), (3, 3), (3, 4), (3, 5), (3, 6), (3, 7), (4, 0), (4, 1), (4, 2), (4, 3), (4, 4), (4, 5), (4, 6), (4, 7), (5, 0), (5, 1), (5, 2), (5, 3), (5, 4), (5, 5), (5, 6), (5, 7), (6, 0), (6, 1), (6, 2), (6, 3), (6, 4), (6, 5), (6, 6), (6, 7), (7, 0), (7, 1), (7, 2), (7, 3), (7, 4), (7, 5), (7, 6), (7, 7)}\n",
            "    x_index_0 : Size=1, Index=None, Ordered=False\n",
            "        Key  : Dimen : Domain : Size : Members\n",
            "        None :     1 :    Any :    8 : {0, 1, 2, 3, 4, 5, 6, 7}\n",
            "    x_index_1 : Size=1, Index=None, Ordered=False\n",
            "        Key  : Dimen : Domain : Size : Members\n",
            "        None :     1 :    Any :    8 : {0, 1, 2, 3, 4, 5, 6, 7}\n",
            "\n",
            "1 Var Declarations\n",
            "    x : Size=64, Index=x_index\n",
            "        Key    : Lower : Value : Upper : Fixed : Stale : Domain\n",
            "        (0, 0) :     0 :   0.0 :  None : False : False : NonNegativeReals\n",
            "        (0, 1) :     0 : 185.0 :  None : False : False : NonNegativeReals\n",
            "        (0, 2) :     0 :   0.0 :  None : False : False : NonNegativeReals\n",
            "        (0, 3) :     0 :   0.0 :  None : False : False : NonNegativeReals\n",
            "        (0, 4) :     0 :   0.0 :  None : False : False : NonNegativeReals\n",
            "        (0, 5) :     0 :   0.0 :  None : False : False : NonNegativeReals\n",
            "        (0, 6) :     0 :   0.0 :  None : False : False : NonNegativeReals\n",
            "        (0, 7) :     0 :   0.0 :  None : False : False : NonNegativeReals\n",
            "        (1, 0) :     0 :   0.0 :  None : False : False : NonNegativeReals\n",
            "        (1, 1) :     0 :   0.0 :  None : False : False : NonNegativeReals\n",
            "        (1, 2) :     0 :   0.0 :  None : False : False : NonNegativeReals\n",
            "        (1, 3) :     0 :   0.0 :  None : False : False : NonNegativeReals\n",
            "        (1, 4) :     0 : 350.0 :  None : False : False : NonNegativeReals\n",
            "        (1, 5) :     0 :   0.0 :  None : False : False : NonNegativeReals\n",
            "        (1, 6) :     0 :   0.0 :  None : False : False : NonNegativeReals\n",
            "        (1, 7) :     0 :   0.0 :  None : False : False : NonNegativeReals\n",
            "        (2, 0) :     0 :   0.0 :  None : False : False : NonNegativeReals\n",
            "        (2, 1) :     0 :   0.0 :  None : False : False : NonNegativeReals\n",
            "        (2, 2) :     0 : 375.0 :  None : False : False : NonNegativeReals\n",
            "        (2, 3) :     0 :   0.0 :  None : False : False : NonNegativeReals\n",
            "        (2, 4) :     0 :  30.0 :  None : False : False : NonNegativeReals\n",
            "        (2, 5) :     0 :   0.0 :  None : False : False : NonNegativeReals\n",
            "        (2, 6) :     0 :   0.0 :  None : False : False : NonNegativeReals\n",
            "        (2, 7) :     0 :   0.0 :  None : False : False : NonNegativeReals\n",
            "        (3, 0) :     0 :   0.0 :  None : False : False : NonNegativeReals\n",
            "        (3, 1) :     0 : 200.0 :  None : False : False : NonNegativeReals\n",
            "        (3, 2) :     0 :   0.0 :  None : False : False : NonNegativeReals\n",
            "        (3, 3) :     0 :   0.0 :  None : False : False : NonNegativeReals\n",
            "        (3, 4) :     0 :   0.0 :  None : False : False : NonNegativeReals\n",
            "        (3, 5) :     0 :  80.0 :  None : False : False : NonNegativeReals\n",
            "        (3, 6) :     0 :   0.0 :  None : False : False : NonNegativeReals\n",
            "        (3, 7) :     0 :   0.0 :  None : False : False : NonNegativeReals\n",
            "        (4, 0) :     0 :   0.0 :  None : False : False : NonNegativeReals\n",
            "        (4, 1) :     0 :   0.0 :  None : False : False : NonNegativeReals\n",
            "        (4, 2) :     0 :   0.0 :  None : False : False : NonNegativeReals\n",
            "        (4, 3) :     0 :   0.0 :  None : False : False : NonNegativeReals\n",
            "        (4, 4) :     0 :   0.0 :  None : False : False : NonNegativeReals\n",
            "        (4, 5) :     0 :  20.0 :  None : False : False : NonNegativeReals\n",
            "        (4, 6) :     0 :   0.0 :  None : False : False : NonNegativeReals\n",
            "        (4, 7) :     0 :  85.0 :  None : False : False : NonNegativeReals\n",
            "        (5, 0) :     0 :   0.0 :  None : False : False : NonNegativeReals\n",
            "        (5, 1) :     0 :   0.0 :  None : False : False : NonNegativeReals\n",
            "        (5, 2) :     0 :   0.0 :  None : False : False : NonNegativeReals\n",
            "        (5, 3) :     0 :  70.0 :  None : False : False : NonNegativeReals\n",
            "        (5, 4) :     0 :   0.0 :  None : False : False : NonNegativeReals\n",
            "        (5, 5) :     0 :   0.0 :  None : False : False : NonNegativeReals\n",
            "        (5, 6) :     0 :   5.0 :  None : False : False : NonNegativeReals\n",
            "        (5, 7) :     0 :   0.0 :  None : False : False : NonNegativeReals\n",
            "        (6, 0) :     0 : 175.0 :  None : False : False : NonNegativeReals\n",
            "        (6, 1) :     0 :  15.0 :  None : False : False : NonNegativeReals\n",
            "        (6, 2) :     0 : 175.0 :  None : False : False : NonNegativeReals\n",
            "        (6, 3) :     0 :   0.0 :  None : False : False : NonNegativeReals\n",
            "        (6, 4) :     0 :   0.0 :  None : False : False : NonNegativeReals\n",
            "        (6, 5) :     0 :   0.0 :  None : False : False : NonNegativeReals\n",
            "        (6, 6) :     0 :  60.0 :  None : False : False : NonNegativeReals\n",
            "        (6, 7) :     0 :   0.0 :  None : False : False : NonNegativeReals\n",
            "        (7, 0) :     0 :   0.0 :  None : False : False : NonNegativeReals\n",
            "        (7, 1) :     0 :   0.0 :  None : False : False : NonNegativeReals\n",
            "        (7, 2) :     0 :   0.0 :  None : False : False : NonNegativeReals\n",
            "        (7, 3) :     0 :   0.0 :  None : False : False : NonNegativeReals\n",
            "        (7, 4) :     0 : 270.0 :  None : False : False : NonNegativeReals\n",
            "        (7, 5) :     0 :   0.0 :  None : False : False : NonNegativeReals\n",
            "        (7, 6) :     0 :   0.0 :  None : False : False : NonNegativeReals\n",
            "        (7, 7) :     0 :   0.0 :  None : False : False : NonNegativeReals\n",
            "\n",
            "2 Objective Declarations\n",
            "    objective : Size=1, Index=None, Active=False\n",
            "        Key  : Active : Sense    : Expression\n",
            "        None :  False : minimize : 627*x[0,0] + 159*x[1,0] + 609*x[2,0] + 2143*x[3,0] + 2742*x[4,0] + 2053*x[5,0] + 656*x[6,0] + 195*x[7,0] + 617*x[0,1] + 1432*x[1,1] + 1943*x[2,1] + 671*x[3,1] + 2089*x[4,1] + 860*x[5,1] + 817*x[6,1] + 1862*x[7,1] + 1270*x[0,2] + 351*x[1,2] + 77*x[2,2] + 3876*x[3,2] + 1931*x[4,2] + 2995*x[5,2] + 1245*x[6,2] + 1331*x[7,2] + 2072*x[0,3] + 3372*x[1,3] + 3365*x[2,3] + 537*x[3,3] + 2199*x[4,3] + 68*x[5,3] + 2141*x[6,3] + 2921*x[7,3] + 1415*x[0,4] + 237*x[1,4] + 298*x[2,4] + 1902*x[3,4] + 1226*x[4,4] + 2069*x[5,4] + 1534*x[6,4] + 402*x[7,4] + 2943*x[0,5] + 3373*x[1,5] + 3021*x[2,5] + 1941*x[3,5] + 739*x[4,5] + 2065*x[5,5] + 3351*x[6,5] + 2825*x[7,5] + 1064*x[0,6] + 1456*x[1,6] + 1484*x[2,6] + 1682*x[3,6] + 691*x[4,6] + 993*x[5,6] + 1137*x[6,6] + 563*x[7,6] + 4265*x[0,7] + 5059*x[1,7] + 4803*x[2,7] + 3348*x[3,7] + 1128*x[4,7] + 3342*x[5,7] + 3887*x[6,7] + 4441*x[7,7]\n",
            "    updated_objective : Size=1, Index=None, Active=True\n",
            "        Key  : Active : Sense    : Expression\n",
            "        None :   True : minimize : 627*x[0,0] + 2000000*x[1,0] + 609*x[2,0] + 2143*x[3,0] + 2742*x[4,0] + 2053*x[5,0] + 656*x[6,0] + 195*x[7,0] + 617*x[0,1] + 1432*x[1,1] + 1943*x[2,1] + 671*x[3,1] + 2089*x[4,1] + 860*x[5,1] + 817*x[6,1] + 1862*x[7,1] + 1270*x[0,2] + 351*x[1,2] + 77*x[2,2] + 3876*x[3,2] + 1931*x[4,2] + 2995*x[5,2] + 1245*x[6,2] + 1331*x[7,2] + 2072*x[0,3] + 3372*x[1,3] + 3365*x[2,3] + 537*x[3,3] + 2199*x[4,3] + 68*x[5,3] + 2141*x[6,3] + 2921*x[7,3] + 1415*x[0,4] + 237*x[1,4] + 298*x[2,4] + 1902*x[3,4] + 1226*x[4,4] + 2069*x[5,4] + 1534*x[6,4] + 402*x[7,4] + 2943*x[0,5] + 3373*x[1,5] + 3021*x[2,5] + 1941*x[3,5] + 739*x[4,5] + 2065*x[5,5] + 3351*x[6,5] + 2825*x[7,5] + 1064*x[0,6] + 1456*x[1,6] + 1484*x[2,6] + 1682*x[3,6] + 691*x[4,6] + 993*x[5,6] + 1137*x[6,6] + 563*x[7,6] + 4265*x[0,7] + 5059*x[1,7] + 4803*x[2,7] + 3348*x[3,7] + 1128*x[4,7] + 3342*x[5,7] + 3887*x[6,7] + 4441*x[7,7]\n",
            "\n",
            "1 Constraint Declarations\n",
            "    constraints : Size=16, Index=constraints_index, Active=True\n",
            "        Key : Lower : Body                                                                  : Upper : Active\n",
            "          1 :  -Inf : x[0,0] + x[0,1] + x[0,2] + x[0,3] + x[0,4] + x[0,5] + x[0,6] + x[0,7] : 185.0 :   True\n",
            "          2 :  -Inf : x[1,0] + x[1,1] + x[1,2] + x[1,3] + x[1,4] + x[1,5] + x[1,6] + x[1,7] : 350.0 :   True\n",
            "          3 :  -Inf : x[2,0] + x[2,1] + x[2,2] + x[2,3] + x[2,4] + x[2,5] + x[2,6] + x[2,7] : 405.0 :   True\n",
            "          4 :  -Inf : x[3,0] + x[3,1] + x[3,2] + x[3,3] + x[3,4] + x[3,5] + x[3,6] + x[3,7] : 280.0 :   True\n",
            "          5 :  -Inf : x[4,0] + x[4,1] + x[4,2] + x[4,3] + x[4,4] + x[4,5] + x[4,6] + x[4,7] : 105.0 :   True\n",
            "          6 :  -Inf : x[5,0] + x[5,1] + x[5,2] + x[5,3] + x[5,4] + x[5,5] + x[5,6] + x[5,7] :  75.0 :   True\n",
            "          7 :  -Inf : x[6,0] + x[6,1] + x[6,2] + x[6,3] + x[6,4] + x[6,5] + x[6,6] + x[6,7] : 425.0 :   True\n",
            "          8 :  -Inf : x[7,0] + x[7,1] + x[7,2] + x[7,3] + x[7,4] + x[7,5] + x[7,6] + x[7,7] : 270.0 :   True\n",
            "          9 : 175.0 : x[0,0] + x[1,0] + x[2,0] + x[3,0] + x[4,0] + x[5,0] + x[6,0] + x[7,0] : 175.0 :   True\n",
            "         10 : 400.0 : x[0,1] + x[1,1] + x[2,1] + x[3,1] + x[4,1] + x[5,1] + x[6,1] + x[7,1] : 400.0 :   True\n",
            "         11 : 550.0 : x[0,2] + x[1,2] + x[2,2] + x[3,2] + x[4,2] + x[5,2] + x[6,2] + x[7,2] : 550.0 :   True\n",
            "         12 :  70.0 : x[0,3] + x[1,3] + x[2,3] + x[3,3] + x[4,3] + x[5,3] + x[6,3] + x[7,3] :  70.0 :   True\n",
            "         13 : 650.0 : x[0,4] + x[1,4] + x[2,4] + x[3,4] + x[4,4] + x[5,4] + x[6,4] + x[7,4] : 650.0 :   True\n",
            "         14 : 100.0 : x[0,5] + x[1,5] + x[2,5] + x[3,5] + x[4,5] + x[5,5] + x[6,5] + x[7,5] : 100.0 :   True\n",
            "         15 :  65.0 : x[0,6] + x[1,6] + x[2,6] + x[3,6] + x[4,6] + x[5,6] + x[6,6] + x[7,6] :  65.0 :   True\n",
            "         16 :  85.0 : x[0,7] + x[1,7] + x[2,7] + x[3,7] + x[4,7] + x[5,7] + x[6,7] + x[7,7] :  85.0 :   True\n",
            "\n",
            "8 Declarations: x_index_0 x_index_1 x_index x objective constraints_index constraints updated_objective\n"
          ]
        }
      ]
    },
    {
      "cell_type": "code",
      "metadata": {
        "id": "bSFo7Vuxfcuo"
      },
      "source": [
        "result2=opt_cbc.solve(model)\n"
      ],
      "execution_count": 66,
      "outputs": []
    },
    {
      "cell_type": "markdown",
      "metadata": {
        "id": "Fc9aZFLUdpMP"
      },
      "source": [
        "#Que.1(9)\n",
        "\n",
        "**new solution value and non zero flows in the network:-**"
      ]
    },
    {
      "cell_type": "code",
      "metadata": {
        "id": "SXdFIR90fjqG",
        "colab": {
          "base_uri": "https://localhost:8080/"
        },
        "outputId": "3825c786-e822-4028-b9f5-2277e95c5e19"
      },
      "source": [
        "print('\\nObjective = ', model.updated_objective())\n",
        "\n",
        "print('\\nDecision Variables')\n",
        "for i in row_indices:\n",
        "  for j in col_indices:\n",
        "    if model.x[i,j].value>0:\n",
        "      print('Num of truck loads between ',data_csv['Warehouses'][i],' and ', data_csv.columns[j+1],':', model.x[i,j].value)"
      ],
      "execution_count": 67,
      "outputs": [
        {
          "output_type": "stream",
          "name": "stdout",
          "text": [
            "\n",
            "Objective =  1166465.0\n",
            "\n",
            "Decision Variables\n",
            "Num of truck loads between  Ahmedabad  and  Jodhpur : 185.0\n",
            "Num of truck loads between  Bengaluru  and  Vijayawada : 350.0\n",
            "Num of truck loads between  Chennai  and  Trichy : 375.0\n",
            "Num of truck loads between  Chennai  and  Vijayawada : 30.0\n",
            "Num of truck loads between  Delhi  and  Jodhpur : 200.0\n",
            "Num of truck loads between  Delhi  and  Dibrugarh : 80.0\n",
            "Num of truck loads between  Kolkata  and  Dibrugarh : 20.0\n",
            "Num of truck loads between  Kolkata  and  Agartala : 85.0\n",
            "Num of truck loads between  Lucknow  and  Simla : 70.0\n",
            "Num of truck loads between  Lucknow  and  Raipur : 5.0\n",
            "Num of truck loads between  Mumbai  and  Hassan : 175.0\n",
            "Num of truck loads between  Mumbai  and  Jodhpur : 15.0\n",
            "Num of truck loads between  Mumbai  and  Trichy : 175.0\n",
            "Num of truck loads between  Mumbai  and  Raipur : 60.0\n",
            "Num of truck loads between  Hyderabad  and  Vijayawada : 270.0\n"
          ]
        }
      ]
    },
    {
      "cell_type": "markdown",
      "metadata": {
        "id": "cifCSPm3dU1S"
      },
      "source": [
        "We were not transporting any truckloads from bengaluru to hassan already even before the extreme hike in cost. So the increase in cost didn't make any impact upon the optimal solution."
      ]
    },
    {
      "cell_type": "markdown",
      "metadata": {
        "id": "-SDlLLyCdb4R"
      },
      "source": [
        "#Que.1(10)\n",
        "\n",
        "As before, we will change the Lucknow-simla cost and Kolkata-Agartala cost to very large to block the transportation between these places."
      ]
    },
    {
      "cell_type": "code",
      "metadata": {
        "id": "5azIH1fUdTC0"
      },
      "source": [
        "data_csv.loc[5,'Simla']=2000000\n",
        "data_csv.loc[4,'Agartala']=2000000"
      ],
      "execution_count": 68,
      "outputs": []
    },
    {
      "cell_type": "code",
      "metadata": {
        "colab": {
          "base_uri": "https://localhost:8080/"
        },
        "id": "R6GJTzQTfXnp",
        "outputId": "7cbd923a-7180-4285-d00e-9620f9d9895a"
      },
      "source": [
        "print(data_csv)"
      ],
      "execution_count": 69,
      "outputs": [
        {
          "output_type": "stream",
          "name": "stdout",
          "text": [
            "  Warehouses   Hassan  Jodhpur  ...  Raipur  Agartala  Avail. Stock\n",
            "0  Ahmedabad      627      617  ...    1064      4265           185\n",
            "1  Bengaluru  2000000     1432  ...    1456      5059           350\n",
            "2    Chennai      609     1943  ...    1484      4803           405\n",
            "3      Delhi     2143      671  ...    1682      3348           280\n",
            "4    Kolkata     2742     2089  ...     691   2000000           105\n",
            "5    Lucknow     2053      860  ...     993      3342            75\n",
            "6     Mumbai      656      817  ...    1137      3887           425\n",
            "7  Hyderabad      195     1862  ...     563      4441           270\n",
            "8     Demand      175      400  ...      65        85          2095\n",
            "\n",
            "[9 rows x 10 columns]\n"
          ]
        }
      ]
    },
    {
      "cell_type": "code",
      "metadata": {
        "colab": {
          "base_uri": "https://localhost:8080/"
        },
        "id": "yCKgDcZkfZar",
        "outputId": "d2b391f0-ae09-47ed-e5ee-2b596f8c5bfb"
      },
      "source": [
        "model.updated_objective.deactivate()\n",
        "for i in row_indices:\n",
        "  model.updated2_objective=Objective(expr=sum(data_csv.iloc[i,j+1]*model.x[i,j] for j in col_indices for i in row_indices),sense=minimize)"
      ],
      "execution_count": 70,
      "outputs": [
        {
          "output_type": "stream",
          "name": "stdout",
          "text": [
            "WARNING: Implicitly replacing the Component attribute updated2_objective\n",
            "    (type=<class 'pyomo.core.base.objective.ScalarObjective'>) on block\n",
            "    unknown with a new Component (type=<class\n",
            "    'pyomo.core.base.objective.ScalarObjective'>). This is usually indicative\n",
            "    of a modelling error. To avoid this warning, use block.del_component() and\n",
            "    block.add_component().\n",
            "WARNING: Implicitly replacing the Component attribute updated2_objective\n",
            "    (type=<class 'pyomo.core.base.objective.ScalarObjective'>) on block\n",
            "    unknown with a new Component (type=<class\n",
            "    'pyomo.core.base.objective.ScalarObjective'>). This is usually indicative\n",
            "    of a modelling error. To avoid this warning, use block.del_component() and\n",
            "    block.add_component().\n",
            "WARNING: Implicitly replacing the Component attribute updated2_objective\n",
            "    (type=<class 'pyomo.core.base.objective.ScalarObjective'>) on block\n",
            "    unknown with a new Component (type=<class\n",
            "    'pyomo.core.base.objective.ScalarObjective'>). This is usually indicative\n",
            "    of a modelling error. To avoid this warning, use block.del_component() and\n",
            "    block.add_component().\n",
            "WARNING: Implicitly replacing the Component attribute updated2_objective\n",
            "    (type=<class 'pyomo.core.base.objective.ScalarObjective'>) on block\n",
            "    unknown with a new Component (type=<class\n",
            "    'pyomo.core.base.objective.ScalarObjective'>). This is usually indicative\n",
            "    of a modelling error. To avoid this warning, use block.del_component() and\n",
            "    block.add_component().\n",
            "WARNING: Implicitly replacing the Component attribute updated2_objective\n",
            "    (type=<class 'pyomo.core.base.objective.ScalarObjective'>) on block\n",
            "    unknown with a new Component (type=<class\n",
            "    'pyomo.core.base.objective.ScalarObjective'>). This is usually indicative\n",
            "    of a modelling error. To avoid this warning, use block.del_component() and\n",
            "    block.add_component().\n",
            "WARNING: Implicitly replacing the Component attribute updated2_objective\n",
            "    (type=<class 'pyomo.core.base.objective.ScalarObjective'>) on block\n",
            "    unknown with a new Component (type=<class\n",
            "    'pyomo.core.base.objective.ScalarObjective'>). This is usually indicative\n",
            "    of a modelling error. To avoid this warning, use block.del_component() and\n",
            "    block.add_component().\n",
            "WARNING: Implicitly replacing the Component attribute updated2_objective\n",
            "    (type=<class 'pyomo.core.base.objective.ScalarObjective'>) on block\n",
            "    unknown with a new Component (type=<class\n",
            "    'pyomo.core.base.objective.ScalarObjective'>). This is usually indicative\n",
            "    of a modelling error. To avoid this warning, use block.del_component() and\n",
            "    block.add_component().\n"
          ]
        }
      ]
    },
    {
      "cell_type": "code",
      "metadata": {
        "colab": {
          "base_uri": "https://localhost:8080/"
        },
        "id": "o5Ctlv4kgIyb",
        "outputId": "873be2ce-eec3-4527-ac6d-f246f3cd5ed1"
      },
      "source": [
        "model.pprint()"
      ],
      "execution_count": 71,
      "outputs": [
        {
          "output_type": "stream",
          "name": "stdout",
          "text": [
            "4 Set Declarations\n",
            "    constraints_index : Size=1, Index=None, Ordered=Insertion\n",
            "        Key  : Dimen : Domain : Size : Members\n",
            "        None :     1 :    Any :   16 : {1, 2, 3, 4, 5, 6, 7, 8, 9, 10, 11, 12, 13, 14, 15, 16}\n",
            "    x_index : Size=1, Index=None, Ordered=False\n",
            "        Key  : Dimen : Domain              : Size : Members\n",
            "        None :     2 : x_index_0*x_index_1 :   64 : {(0, 0), (0, 1), (0, 2), (0, 3), (0, 4), (0, 5), (0, 6), (0, 7), (1, 0), (1, 1), (1, 2), (1, 3), (1, 4), (1, 5), (1, 6), (1, 7), (2, 0), (2, 1), (2, 2), (2, 3), (2, 4), (2, 5), (2, 6), (2, 7), (3, 0), (3, 1), (3, 2), (3, 3), (3, 4), (3, 5), (3, 6), (3, 7), (4, 0), (4, 1), (4, 2), (4, 3), (4, 4), (4, 5), (4, 6), (4, 7), (5, 0), (5, 1), (5, 2), (5, 3), (5, 4), (5, 5), (5, 6), (5, 7), (6, 0), (6, 1), (6, 2), (6, 3), (6, 4), (6, 5), (6, 6), (6, 7), (7, 0), (7, 1), (7, 2), (7, 3), (7, 4), (7, 5), (7, 6), (7, 7)}\n",
            "    x_index_0 : Size=1, Index=None, Ordered=False\n",
            "        Key  : Dimen : Domain : Size : Members\n",
            "        None :     1 :    Any :    8 : {0, 1, 2, 3, 4, 5, 6, 7}\n",
            "    x_index_1 : Size=1, Index=None, Ordered=False\n",
            "        Key  : Dimen : Domain : Size : Members\n",
            "        None :     1 :    Any :    8 : {0, 1, 2, 3, 4, 5, 6, 7}\n",
            "\n",
            "1 Var Declarations\n",
            "    x : Size=64, Index=x_index\n",
            "        Key    : Lower : Value : Upper : Fixed : Stale : Domain\n",
            "        (0, 0) :     0 :   0.0 :  None : False : False : NonNegativeReals\n",
            "        (0, 1) :     0 : 185.0 :  None : False : False : NonNegativeReals\n",
            "        (0, 2) :     0 :   0.0 :  None : False : False : NonNegativeReals\n",
            "        (0, 3) :     0 :   0.0 :  None : False : False : NonNegativeReals\n",
            "        (0, 4) :     0 :   0.0 :  None : False : False : NonNegativeReals\n",
            "        (0, 5) :     0 :   0.0 :  None : False : False : NonNegativeReals\n",
            "        (0, 6) :     0 :   0.0 :  None : False : False : NonNegativeReals\n",
            "        (0, 7) :     0 :   0.0 :  None : False : False : NonNegativeReals\n",
            "        (1, 0) :     0 :   0.0 :  None : False : False : NonNegativeReals\n",
            "        (1, 1) :     0 :   0.0 :  None : False : False : NonNegativeReals\n",
            "        (1, 2) :     0 :   0.0 :  None : False : False : NonNegativeReals\n",
            "        (1, 3) :     0 :   0.0 :  None : False : False : NonNegativeReals\n",
            "        (1, 4) :     0 : 350.0 :  None : False : False : NonNegativeReals\n",
            "        (1, 5) :     0 :   0.0 :  None : False : False : NonNegativeReals\n",
            "        (1, 6) :     0 :   0.0 :  None : False : False : NonNegativeReals\n",
            "        (1, 7) :     0 :   0.0 :  None : False : False : NonNegativeReals\n",
            "        (2, 0) :     0 :   0.0 :  None : False : False : NonNegativeReals\n",
            "        (2, 1) :     0 :   0.0 :  None : False : False : NonNegativeReals\n",
            "        (2, 2) :     0 : 375.0 :  None : False : False : NonNegativeReals\n",
            "        (2, 3) :     0 :   0.0 :  None : False : False : NonNegativeReals\n",
            "        (2, 4) :     0 :  30.0 :  None : False : False : NonNegativeReals\n",
            "        (2, 5) :     0 :   0.0 :  None : False : False : NonNegativeReals\n",
            "        (2, 6) :     0 :   0.0 :  None : False : False : NonNegativeReals\n",
            "        (2, 7) :     0 :   0.0 :  None : False : False : NonNegativeReals\n",
            "        (3, 0) :     0 :   0.0 :  None : False : False : NonNegativeReals\n",
            "        (3, 1) :     0 : 200.0 :  None : False : False : NonNegativeReals\n",
            "        (3, 2) :     0 :   0.0 :  None : False : False : NonNegativeReals\n",
            "        (3, 3) :     0 :   0.0 :  None : False : False : NonNegativeReals\n",
            "        (3, 4) :     0 :   0.0 :  None : False : False : NonNegativeReals\n",
            "        (3, 5) :     0 :  80.0 :  None : False : False : NonNegativeReals\n",
            "        (3, 6) :     0 :   0.0 :  None : False : False : NonNegativeReals\n",
            "        (3, 7) :     0 :   0.0 :  None : False : False : NonNegativeReals\n",
            "        (4, 0) :     0 :   0.0 :  None : False : False : NonNegativeReals\n",
            "        (4, 1) :     0 :   0.0 :  None : False : False : NonNegativeReals\n",
            "        (4, 2) :     0 :   0.0 :  None : False : False : NonNegativeReals\n",
            "        (4, 3) :     0 :   0.0 :  None : False : False : NonNegativeReals\n",
            "        (4, 4) :     0 :   0.0 :  None : False : False : NonNegativeReals\n",
            "        (4, 5) :     0 :  20.0 :  None : False : False : NonNegativeReals\n",
            "        (4, 6) :     0 :   0.0 :  None : False : False : NonNegativeReals\n",
            "        (4, 7) :     0 :  85.0 :  None : False : False : NonNegativeReals\n",
            "        (5, 0) :     0 :   0.0 :  None : False : False : NonNegativeReals\n",
            "        (5, 1) :     0 :   0.0 :  None : False : False : NonNegativeReals\n",
            "        (5, 2) :     0 :   0.0 :  None : False : False : NonNegativeReals\n",
            "        (5, 3) :     0 :  70.0 :  None : False : False : NonNegativeReals\n",
            "        (5, 4) :     0 :   0.0 :  None : False : False : NonNegativeReals\n",
            "        (5, 5) :     0 :   0.0 :  None : False : False : NonNegativeReals\n",
            "        (5, 6) :     0 :   5.0 :  None : False : False : NonNegativeReals\n",
            "        (5, 7) :     0 :   0.0 :  None : False : False : NonNegativeReals\n",
            "        (6, 0) :     0 : 175.0 :  None : False : False : NonNegativeReals\n",
            "        (6, 1) :     0 :  15.0 :  None : False : False : NonNegativeReals\n",
            "        (6, 2) :     0 : 175.0 :  None : False : False : NonNegativeReals\n",
            "        (6, 3) :     0 :   0.0 :  None : False : False : NonNegativeReals\n",
            "        (6, 4) :     0 :   0.0 :  None : False : False : NonNegativeReals\n",
            "        (6, 5) :     0 :   0.0 :  None : False : False : NonNegativeReals\n",
            "        (6, 6) :     0 :  60.0 :  None : False : False : NonNegativeReals\n",
            "        (6, 7) :     0 :   0.0 :  None : False : False : NonNegativeReals\n",
            "        (7, 0) :     0 :   0.0 :  None : False : False : NonNegativeReals\n",
            "        (7, 1) :     0 :   0.0 :  None : False : False : NonNegativeReals\n",
            "        (7, 2) :     0 :   0.0 :  None : False : False : NonNegativeReals\n",
            "        (7, 3) :     0 :   0.0 :  None : False : False : NonNegativeReals\n",
            "        (7, 4) :     0 : 270.0 :  None : False : False : NonNegativeReals\n",
            "        (7, 5) :     0 :   0.0 :  None : False : False : NonNegativeReals\n",
            "        (7, 6) :     0 :   0.0 :  None : False : False : NonNegativeReals\n",
            "        (7, 7) :     0 :   0.0 :  None : False : False : NonNegativeReals\n",
            "\n",
            "3 Objective Declarations\n",
            "    objective : Size=1, Index=None, Active=False\n",
            "        Key  : Active : Sense    : Expression\n",
            "        None :  False : minimize : 627*x[0,0] + 159*x[1,0] + 609*x[2,0] + 2143*x[3,0] + 2742*x[4,0] + 2053*x[5,0] + 656*x[6,0] + 195*x[7,0] + 617*x[0,1] + 1432*x[1,1] + 1943*x[2,1] + 671*x[3,1] + 2089*x[4,1] + 860*x[5,1] + 817*x[6,1] + 1862*x[7,1] + 1270*x[0,2] + 351*x[1,2] + 77*x[2,2] + 3876*x[3,2] + 1931*x[4,2] + 2995*x[5,2] + 1245*x[6,2] + 1331*x[7,2] + 2072*x[0,3] + 3372*x[1,3] + 3365*x[2,3] + 537*x[3,3] + 2199*x[4,3] + 68*x[5,3] + 2141*x[6,3] + 2921*x[7,3] + 1415*x[0,4] + 237*x[1,4] + 298*x[2,4] + 1902*x[3,4] + 1226*x[4,4] + 2069*x[5,4] + 1534*x[6,4] + 402*x[7,4] + 2943*x[0,5] + 3373*x[1,5] + 3021*x[2,5] + 1941*x[3,5] + 739*x[4,5] + 2065*x[5,5] + 3351*x[6,5] + 2825*x[7,5] + 1064*x[0,6] + 1456*x[1,6] + 1484*x[2,6] + 1682*x[3,6] + 691*x[4,6] + 993*x[5,6] + 1137*x[6,6] + 563*x[7,6] + 4265*x[0,7] + 5059*x[1,7] + 4803*x[2,7] + 3348*x[3,7] + 1128*x[4,7] + 3342*x[5,7] + 3887*x[6,7] + 4441*x[7,7]\n",
            "    updated2_objective : Size=1, Index=None, Active=True\n",
            "        Key  : Active : Sense    : Expression\n",
            "        None :   True : minimize : 627*x[0,0] + 2000000*x[1,0] + 609*x[2,0] + 2143*x[3,0] + 2742*x[4,0] + 2053*x[5,0] + 656*x[6,0] + 195*x[7,0] + 617*x[0,1] + 1432*x[1,1] + 1943*x[2,1] + 671*x[3,1] + 2089*x[4,1] + 860*x[5,1] + 817*x[6,1] + 1862*x[7,1] + 1270*x[0,2] + 351*x[1,2] + 77*x[2,2] + 3876*x[3,2] + 1931*x[4,2] + 2995*x[5,2] + 1245*x[6,2] + 1331*x[7,2] + 2072*x[0,3] + 3372*x[1,3] + 3365*x[2,3] + 537*x[3,3] + 2199*x[4,3] + 2000000*x[5,3] + 2141*x[6,3] + 2921*x[7,3] + 1415*x[0,4] + 237*x[1,4] + 298*x[2,4] + 1902*x[3,4] + 1226*x[4,4] + 2069*x[5,4] + 1534*x[6,4] + 402*x[7,4] + 2943*x[0,5] + 3373*x[1,5] + 3021*x[2,5] + 1941*x[3,5] + 739*x[4,5] + 2065*x[5,5] + 3351*x[6,5] + 2825*x[7,5] + 1064*x[0,6] + 1456*x[1,6] + 1484*x[2,6] + 1682*x[3,6] + 691*x[4,6] + 993*x[5,6] + 1137*x[6,6] + 563*x[7,6] + 4265*x[0,7] + 5059*x[1,7] + 4803*x[2,7] + 3348*x[3,7] + 2000000*x[4,7] + 3342*x[5,7] + 3887*x[6,7] + 4441*x[7,7]\n",
            "    updated_objective : Size=1, Index=None, Active=False\n",
            "        Key  : Active : Sense    : Expression\n",
            "        None :  False : minimize : 627*x[0,0] + 2000000*x[1,0] + 609*x[2,0] + 2143*x[3,0] + 2742*x[4,0] + 2053*x[5,0] + 656*x[6,0] + 195*x[7,0] + 617*x[0,1] + 1432*x[1,1] + 1943*x[2,1] + 671*x[3,1] + 2089*x[4,1] + 860*x[5,1] + 817*x[6,1] + 1862*x[7,1] + 1270*x[0,2] + 351*x[1,2] + 77*x[2,2] + 3876*x[3,2] + 1931*x[4,2] + 2995*x[5,2] + 1245*x[6,2] + 1331*x[7,2] + 2072*x[0,3] + 3372*x[1,3] + 3365*x[2,3] + 537*x[3,3] + 2199*x[4,3] + 68*x[5,3] + 2141*x[6,3] + 2921*x[7,3] + 1415*x[0,4] + 237*x[1,4] + 298*x[2,4] + 1902*x[3,4] + 1226*x[4,4] + 2069*x[5,4] + 1534*x[6,4] + 402*x[7,4] + 2943*x[0,5] + 3373*x[1,5] + 3021*x[2,5] + 1941*x[3,5] + 739*x[4,5] + 2065*x[5,5] + 3351*x[6,5] + 2825*x[7,5] + 1064*x[0,6] + 1456*x[1,6] + 1484*x[2,6] + 1682*x[3,6] + 691*x[4,6] + 993*x[5,6] + 1137*x[6,6] + 563*x[7,6] + 4265*x[0,7] + 5059*x[1,7] + 4803*x[2,7] + 3348*x[3,7] + 1128*x[4,7] + 3342*x[5,7] + 3887*x[6,7] + 4441*x[7,7]\n",
            "\n",
            "1 Constraint Declarations\n",
            "    constraints : Size=16, Index=constraints_index, Active=True\n",
            "        Key : Lower : Body                                                                  : Upper : Active\n",
            "          1 :  -Inf : x[0,0] + x[0,1] + x[0,2] + x[0,3] + x[0,4] + x[0,5] + x[0,6] + x[0,7] : 185.0 :   True\n",
            "          2 :  -Inf : x[1,0] + x[1,1] + x[1,2] + x[1,3] + x[1,4] + x[1,5] + x[1,6] + x[1,7] : 350.0 :   True\n",
            "          3 :  -Inf : x[2,0] + x[2,1] + x[2,2] + x[2,3] + x[2,4] + x[2,5] + x[2,6] + x[2,7] : 405.0 :   True\n",
            "          4 :  -Inf : x[3,0] + x[3,1] + x[3,2] + x[3,3] + x[3,4] + x[3,5] + x[3,6] + x[3,7] : 280.0 :   True\n",
            "          5 :  -Inf : x[4,0] + x[4,1] + x[4,2] + x[4,3] + x[4,4] + x[4,5] + x[4,6] + x[4,7] : 105.0 :   True\n",
            "          6 :  -Inf : x[5,0] + x[5,1] + x[5,2] + x[5,3] + x[5,4] + x[5,5] + x[5,6] + x[5,7] :  75.0 :   True\n",
            "          7 :  -Inf : x[6,0] + x[6,1] + x[6,2] + x[6,3] + x[6,4] + x[6,5] + x[6,6] + x[6,7] : 425.0 :   True\n",
            "          8 :  -Inf : x[7,0] + x[7,1] + x[7,2] + x[7,3] + x[7,4] + x[7,5] + x[7,6] + x[7,7] : 270.0 :   True\n",
            "          9 : 175.0 : x[0,0] + x[1,0] + x[2,0] + x[3,0] + x[4,0] + x[5,0] + x[6,0] + x[7,0] : 175.0 :   True\n",
            "         10 : 400.0 : x[0,1] + x[1,1] + x[2,1] + x[3,1] + x[4,1] + x[5,1] + x[6,1] + x[7,1] : 400.0 :   True\n",
            "         11 : 550.0 : x[0,2] + x[1,2] + x[2,2] + x[3,2] + x[4,2] + x[5,2] + x[6,2] + x[7,2] : 550.0 :   True\n",
            "         12 :  70.0 : x[0,3] + x[1,3] + x[2,3] + x[3,3] + x[4,3] + x[5,3] + x[6,3] + x[7,3] :  70.0 :   True\n",
            "         13 : 650.0 : x[0,4] + x[1,4] + x[2,4] + x[3,4] + x[4,4] + x[5,4] + x[6,4] + x[7,4] : 650.0 :   True\n",
            "         14 : 100.0 : x[0,5] + x[1,5] + x[2,5] + x[3,5] + x[4,5] + x[5,5] + x[6,5] + x[7,5] : 100.0 :   True\n",
            "         15 :  65.0 : x[0,6] + x[1,6] + x[2,6] + x[3,6] + x[4,6] + x[5,6] + x[6,6] + x[7,6] :  65.0 :   True\n",
            "         16 :  85.0 : x[0,7] + x[1,7] + x[2,7] + x[3,7] + x[4,7] + x[5,7] + x[6,7] + x[7,7] :  85.0 :   True\n",
            "\n",
            "9 Declarations: x_index_0 x_index_1 x_index x objective constraints_index constraints updated_objective updated2_objective\n"
          ]
        }
      ]
    },
    {
      "cell_type": "code",
      "metadata": {
        "id": "WG-VkfMngKyh"
      },
      "source": [
        "result3=opt_cbc.solve(model)"
      ],
      "execution_count": 72,
      "outputs": []
    },
    {
      "cell_type": "markdown",
      "metadata": {
        "id": "dQGLe1CciOe1"
      },
      "source": [
        "#Que.1(11)\n",
        "\n",
        "**new solution value and non zero flows in the network:-**"
      ]
    },
    {
      "cell_type": "code",
      "metadata": {
        "colab": {
          "base_uri": "https://localhost:8080/"
        },
        "id": "WS_Yl-grhARo",
        "outputId": "8dd37f8a-8f1c-46d4-bb7d-de9281a3e6dc"
      },
      "source": [
        "print('\\nObjective = ', model.updated2_objective())\n",
        "\n",
        "print('\\nDecision Variables')\n",
        "for i in row_indices:\n",
        "  for j in col_indices:\n",
        "    if model.x[i,j].value>0:\n",
        "      print('Num of truck loads between ',data_csv['Warehouses'][i],' and ', data_csv.columns[j+1],':', model.x[i,j].value)\n",
        "model.constraints.display()"
      ],
      "execution_count": 73,
      "outputs": [
        {
          "output_type": "stream",
          "name": "stdout",
          "text": [
            "\n",
            "Objective =  1289875.0\n",
            "\n",
            "Decision Variables\n",
            "Num of truck loads between  Ahmedabad  and  Jodhpur : 185.0\n",
            "Num of truck loads between  Bengaluru  and  Vijayawada : 350.0\n",
            "Num of truck loads between  Chennai  and  Trichy : 375.0\n",
            "Num of truck loads between  Chennai  and  Vijayawada : 30.0\n",
            "Num of truck loads between  Delhi  and  Jodhpur : 200.0\n",
            "Num of truck loads between  Delhi  and  Simla : 70.0\n",
            "Num of truck loads between  Delhi  and  Agartala : 10.0\n",
            "Num of truck loads between  Kolkata  and  Dibrugarh : 100.0\n",
            "Num of truck loads between  Kolkata  and  Raipur : 5.0\n",
            "Num of truck loads between  Lucknow  and  Agartala : 75.0\n",
            "Num of truck loads between  Mumbai  and  Hassan : 175.0\n",
            "Num of truck loads between  Mumbai  and  Jodhpur : 15.0\n",
            "Num of truck loads between  Mumbai  and  Trichy : 175.0\n",
            "Num of truck loads between  Mumbai  and  Raipur : 60.0\n",
            "Num of truck loads between  Hyderabad  and  Vijayawada : 270.0\n",
            "constraints : Size=16\n",
            "    Key : Lower : Body  : Upper\n",
            "      1 :  None : 185.0 : 185.0\n",
            "      2 :  None : 350.0 : 350.0\n",
            "      3 :  None : 405.0 : 405.0\n",
            "      4 :  None : 280.0 : 280.0\n",
            "      5 :  None : 105.0 : 105.0\n",
            "      6 :  None :  75.0 :  75.0\n",
            "      7 :  None : 425.0 : 425.0\n",
            "      8 :  None : 270.0 : 270.0\n",
            "      9 : 175.0 : 175.0 : 175.0\n",
            "     10 : 400.0 : 400.0 : 400.0\n",
            "     11 : 550.0 : 550.0 : 550.0\n",
            "     12 :  70.0 :  70.0 :  70.0\n",
            "     13 : 650.0 : 650.0 : 650.0\n",
            "     14 : 100.0 : 100.0 : 100.0\n",
            "     15 :  65.0 :  65.0 :  65.0\n",
            "     16 :  85.0 :  85.0 :  85.0\n"
          ]
        }
      ]
    },
    {
      "cell_type": "markdown",
      "metadata": {
        "id": "utZ_gPLL_QCu"
      },
      "source": [
        "Objective cost is increasing because Before the change, all the supply for simla was going from Lucknow, and Kolkata - Agartala route was also active for transportation, to get the minimum objective cost value.\n",
        "\n",
        "But by making tremendous changes in the cost ,  we have blocked both of these routes. So we have to complete our supply from other warehouses in a higher cost, that's why the objective cost has increased."
      ]
    },
    {
      "cell_type": "code",
      "metadata": {
        "id": "SAuy2_GRhHke"
      },
      "source": [
        ""
      ],
      "execution_count": 73,
      "outputs": []
    }
  ]
}