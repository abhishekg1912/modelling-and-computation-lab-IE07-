{
  "nbformat": 4,
  "nbformat_minor": 0,
  "metadata": {
    "colab": {
      "name": "21i190005_IE507_Lab5_Ex2.ipynb",
      "provenance": [],
      "collapsed_sections": []
    },
    "kernelspec": {
      "name": "python3",
      "display_name": "Python 3"
    },
    "language_info": {
      "name": "python"
    }
  },
  "cells": [
    {
      "cell_type": "markdown",
      "metadata": {
        "id": "pwVo06qPkWzD"
      },
      "source": [
        "#EXERCISE-2"
      ]
    },
    {
      "cell_type": "markdown",
      "metadata": {
        "id": "96B5UjFckuJ1"
      },
      "source": [
        "Let $x_{ij}$ is a variable such that:\n",
        "$$x_{ij}= \\begin{cases} \n",
        "      0 & \\text{if factory}\\  i \\text{ doesn't located at location}\\ j\\\\\n",
        "      1 & \\text{if factory}\\  i \\text{ is located at location}\\ j\n",
        "   \\end{cases}\n",
        "$$\n",
        "and also let that $c_{ij}$ is the setup cost of factory $i$ at location $j$.\n",
        "and we have to minimize the costs of assigning\n",
        "all the facilities to the locations. so our model will be:\n",
        "$$\\text{min} \\sum_{i=1}^{12}\\sum_{j=1}^{12}c_{ij}x_{ij}\\\\\n",
        "  \\text{s.t} \\sum_{i=1}^{12}x_{ij}=1\\\\\n",
        "  \\sum_{j=1}^{12}x_{ij}=1\\\\\n",
        "  x_{ij}\\in\\{0,1\\}\\ \\forall\\  i,j\\in\\{1,2,3,...,12\\}$$\n"
      ]
    },
    {
      "cell_type": "code",
      "metadata": {
        "id": "jDVta4SLNxYw",
        "colab": {
          "base_uri": "https://localhost:8080/"
        },
        "outputId": "cf69f7ea-3fc3-4c58-d918-86be6bb2cf7a"
      },
      "source": [
        " !pip install -q pyomo"
      ],
      "execution_count": 1,
      "outputs": [
        {
          "output_type": "stream",
          "name": "stdout",
          "text": [
            "\u001b[K     |████████████████████████████████| 9.1 MB 7.0 MB/s \n",
            "\u001b[K     |████████████████████████████████| 49 kB 6.2 MB/s \n",
            "\u001b[?25h"
          ]
        }
      ]
    },
    {
      "cell_type": "code",
      "metadata": {
        "id": "lZQgr3EgsZae"
      },
      "source": [
        "from pyomo.environ import *"
      ],
      "execution_count": 2,
      "outputs": []
    },
    {
      "cell_type": "code",
      "metadata": {
        "id": "lneh9kpususP"
      },
      "source": [
        "import numpy as np"
      ],
      "execution_count": 3,
      "outputs": []
    },
    {
      "cell_type": "code",
      "metadata": {
        "id": "yhUELbfns1sx"
      },
      "source": [
        "coef=np.loadtxt('lab5_ex2.txt')"
      ],
      "execution_count": 4,
      "outputs": []
    },
    {
      "cell_type": "code",
      "metadata": {
        "colab": {
          "base_uri": "https://localhost:8080/"
        },
        "id": "vU9i_77StZys",
        "outputId": "dd0f45e1-2cd6-49d2-ae89-01b155f946d5"
      },
      "source": [
        "print(coef)"
      ],
      "execution_count": 5,
      "outputs": [
        {
          "output_type": "stream",
          "name": "stdout",
          "text": [
            "[[22. 22. 19. 22. 22. 24. 18. 17. 21. 23. 19. 21.]\n",
            " [18. 12. 18. 19. 22. 21. 17. 20. 16. 17. 17. 24.]\n",
            " [19. 21. 17. 19. 17. 19. 24. 16. 18. 16. 20. 24.]\n",
            " [18. 24. 20. 21. 21. 21. 22. 19. 18. 21. 23. 23.]\n",
            " [23. 20. 19. 18. 20. 23. 22. 25. 24. 19. 21. 23.]\n",
            " [24. 16. 15. 16. 24. 21. 23. 21. 20. 20. 22. 19.]\n",
            " [22. 22. 21. 23. 18. 17. 16. 19. 24. 20. 20. 23.]\n",
            " [23. 17. 17. 17. 22. 24. 23. 20. 22. 19. 23. 21.]\n",
            " [21. 22. 21. 24. 20. 23. 19. 18. 23. 15. 25. 21.]\n",
            " [19. 19. 18. 19. 26. 24. 19. 17. 18. 20. 21. 20.]\n",
            " [20. 22. 23. 20. 22. 20. 20. 19. 17. 19. 20. 24.]\n",
            " [21. 25. 21. 19. 21. 19. 18. 16. 22. 24. 25. 24.]]\n"
          ]
        }
      ]
    },
    {
      "cell_type": "code",
      "metadata": {
        "colab": {
          "base_uri": "https://localhost:8080/"
        },
        "id": "XreoCHAiv1a5",
        "outputId": "ab9f1bbf-b11c-4990-e58e-ad60cfc80fae"
      },
      "source": [
        "coef.shape"
      ],
      "execution_count": 6,
      "outputs": [
        {
          "output_type": "execute_result",
          "data": {
            "text/plain": [
              "(12, 12)"
            ]
          },
          "metadata": {},
          "execution_count": 6
        }
      ]
    },
    {
      "cell_type": "code",
      "metadata": {
        "id": "4ZEurR23w4TA"
      },
      "source": [
        "M=12#number of rows\n",
        "N=12#number of columns"
      ],
      "execution_count": 7,
      "outputs": []
    },
    {
      "cell_type": "code",
      "metadata": {
        "id": "kgQHqqbgxBiN"
      },
      "source": [
        "model=ConcreteModel()"
      ],
      "execution_count": 8,
      "outputs": []
    },
    {
      "cell_type": "code",
      "metadata": {
        "id": "AkCFE7HTxOO8"
      },
      "source": [
        "row_indices=np.arange(M)\n",
        "col_indices=np.arange(N)"
      ],
      "execution_count": 9,
      "outputs": []
    },
    {
      "cell_type": "code",
      "metadata": {
        "id": "VR1uOvWUxYY1"
      },
      "source": [
        "model.x=Var(col_indices,row_indices,domain=Binary)"
      ],
      "execution_count": 10,
      "outputs": []
    },
    {
      "cell_type": "code",
      "metadata": {
        "id": "6WtjsSawxhxS"
      },
      "source": [
        "model.objective=Objective(expr=sum(model.x[i,j]*coef[i,j] for j in col_indices for i in row_indices),sense=minimize)"
      ],
      "execution_count": 11,
      "outputs": []
    },
    {
      "cell_type": "code",
      "metadata": {
        "id": "oQMu541zx8Ex"
      },
      "source": [
        "model.constraints=ConstraintList()"
      ],
      "execution_count": 12,
      "outputs": []
    },
    {
      "cell_type": "code",
      "metadata": {
        "id": "x4KdfA73zLwU"
      },
      "source": [
        "for i in row_indices:\n",
        "  model.constraints.add(sum(model.x[i,j] for j in col_indices)==1)\n",
        "  "
      ],
      "execution_count": 13,
      "outputs": []
    },
    {
      "cell_type": "code",
      "metadata": {
        "id": "3sdfqGG_zxXu"
      },
      "source": [
        "for j in col_indices:\n",
        "  model.constraints.add(sum(model.x[i,j] for i in row_indices)==1)"
      ],
      "execution_count": 14,
      "outputs": []
    },
    {
      "cell_type": "code",
      "metadata": {
        "colab": {
          "base_uri": "https://localhost:8080/"
        },
        "id": "DXVKh2Ra0AxK",
        "outputId": "9e289f4c-c4d5-4701-bdfd-bf991a8b9348"
      },
      "source": [
        "model.pprint()"
      ],
      "execution_count": 15,
      "outputs": [
        {
          "output_type": "stream",
          "name": "stdout",
          "text": [
            "4 Set Declarations\n",
            "    constraints_index : Size=1, Index=None, Ordered=Insertion\n",
            "        Key  : Dimen : Domain : Size : Members\n",
            "        None :     1 :    Any :   24 : {1, 2, 3, 4, 5, 6, 7, 8, 9, 10, 11, 12, 13, 14, 15, 16, 17, 18, 19, 20, 21, 22, 23, 24}\n",
            "    x_index : Size=1, Index=None, Ordered=False\n",
            "        Key  : Dimen : Domain              : Size : Members\n",
            "        None :     2 : x_index_0*x_index_1 :  144 : {(0, 0), (0, 1), (0, 2), (0, 3), (0, 4), (0, 5), (0, 6), (0, 7), (0, 8), (0, 9), (0, 10), (0, 11), (1, 0), (1, 1), (1, 2), (1, 3), (1, 4), (1, 5), (1, 6), (1, 7), (1, 8), (1, 9), (1, 10), (1, 11), (2, 0), (2, 1), (2, 2), (2, 3), (2, 4), (2, 5), (2, 6), (2, 7), (2, 8), (2, 9), (2, 10), (2, 11), (3, 0), (3, 1), (3, 2), (3, 3), (3, 4), (3, 5), (3, 6), (3, 7), (3, 8), (3, 9), (3, 10), (3, 11), (4, 0), (4, 1), (4, 2), (4, 3), (4, 4), (4, 5), (4, 6), (4, 7), (4, 8), (4, 9), (4, 10), (4, 11), (5, 0), (5, 1), (5, 2), (5, 3), (5, 4), (5, 5), (5, 6), (5, 7), (5, 8), (5, 9), (5, 10), (5, 11), (6, 0), (6, 1), (6, 2), (6, 3), (6, 4), (6, 5), (6, 6), (6, 7), (6, 8), (6, 9), (6, 10), (6, 11), (7, 0), (7, 1), (7, 2), (7, 3), (7, 4), (7, 5), (7, 6), (7, 7), (7, 8), (7, 9), (7, 10), (7, 11), (8, 0), (8, 1), (8, 2), (8, 3), (8, 4), (8, 5), (8, 6), (8, 7), (8, 8), (8, 9), (8, 10), (8, 11), (9, 0), (9, 1), (9, 2), (9, 3), (9, 4), (9, 5), (9, 6), (9, 7), (9, 8), (9, 9), (9, 10), (9, 11), (10, 0), (10, 1), (10, 2), (10, 3), (10, 4), (10, 5), (10, 6), (10, 7), (10, 8), (10, 9), (10, 10), (10, 11), (11, 0), (11, 1), (11, 2), (11, 3), (11, 4), (11, 5), (11, 6), (11, 7), (11, 8), (11, 9), (11, 10), (11, 11)}\n",
            "    x_index_0 : Size=1, Index=None, Ordered=False\n",
            "        Key  : Dimen : Domain : Size : Members\n",
            "        None :     1 :    Any :   12 : {0, 1, 2, 3, 4, 5, 6, 7, 8, 9, 10, 11}\n",
            "    x_index_1 : Size=1, Index=None, Ordered=False\n",
            "        Key  : Dimen : Domain : Size : Members\n",
            "        None :     1 :    Any :   12 : {0, 1, 2, 3, 4, 5, 6, 7, 8, 9, 10, 11}\n",
            "\n",
            "1 Var Declarations\n",
            "    x : Size=144, Index=x_index\n",
            "        Key      : Lower : Value : Upper : Fixed : Stale : Domain\n",
            "          (0, 0) :     0 :  None :     1 : False :  True : Binary\n",
            "          (0, 1) :     0 :  None :     1 : False :  True : Binary\n",
            "          (0, 2) :     0 :  None :     1 : False :  True : Binary\n",
            "          (0, 3) :     0 :  None :     1 : False :  True : Binary\n",
            "          (0, 4) :     0 :  None :     1 : False :  True : Binary\n",
            "          (0, 5) :     0 :  None :     1 : False :  True : Binary\n",
            "          (0, 6) :     0 :  None :     1 : False :  True : Binary\n",
            "          (0, 7) :     0 :  None :     1 : False :  True : Binary\n",
            "          (0, 8) :     0 :  None :     1 : False :  True : Binary\n",
            "          (0, 9) :     0 :  None :     1 : False :  True : Binary\n",
            "         (0, 10) :     0 :  None :     1 : False :  True : Binary\n",
            "         (0, 11) :     0 :  None :     1 : False :  True : Binary\n",
            "          (1, 0) :     0 :  None :     1 : False :  True : Binary\n",
            "          (1, 1) :     0 :  None :     1 : False :  True : Binary\n",
            "          (1, 2) :     0 :  None :     1 : False :  True : Binary\n",
            "          (1, 3) :     0 :  None :     1 : False :  True : Binary\n",
            "          (1, 4) :     0 :  None :     1 : False :  True : Binary\n",
            "          (1, 5) :     0 :  None :     1 : False :  True : Binary\n",
            "          (1, 6) :     0 :  None :     1 : False :  True : Binary\n",
            "          (1, 7) :     0 :  None :     1 : False :  True : Binary\n",
            "          (1, 8) :     0 :  None :     1 : False :  True : Binary\n",
            "          (1, 9) :     0 :  None :     1 : False :  True : Binary\n",
            "         (1, 10) :     0 :  None :     1 : False :  True : Binary\n",
            "         (1, 11) :     0 :  None :     1 : False :  True : Binary\n",
            "          (2, 0) :     0 :  None :     1 : False :  True : Binary\n",
            "          (2, 1) :     0 :  None :     1 : False :  True : Binary\n",
            "          (2, 2) :     0 :  None :     1 : False :  True : Binary\n",
            "          (2, 3) :     0 :  None :     1 : False :  True : Binary\n",
            "          (2, 4) :     0 :  None :     1 : False :  True : Binary\n",
            "          (2, 5) :     0 :  None :     1 : False :  True : Binary\n",
            "          (2, 6) :     0 :  None :     1 : False :  True : Binary\n",
            "          (2, 7) :     0 :  None :     1 : False :  True : Binary\n",
            "          (2, 8) :     0 :  None :     1 : False :  True : Binary\n",
            "          (2, 9) :     0 :  None :     1 : False :  True : Binary\n",
            "         (2, 10) :     0 :  None :     1 : False :  True : Binary\n",
            "         (2, 11) :     0 :  None :     1 : False :  True : Binary\n",
            "          (3, 0) :     0 :  None :     1 : False :  True : Binary\n",
            "          (3, 1) :     0 :  None :     1 : False :  True : Binary\n",
            "          (3, 2) :     0 :  None :     1 : False :  True : Binary\n",
            "          (3, 3) :     0 :  None :     1 : False :  True : Binary\n",
            "          (3, 4) :     0 :  None :     1 : False :  True : Binary\n",
            "          (3, 5) :     0 :  None :     1 : False :  True : Binary\n",
            "          (3, 6) :     0 :  None :     1 : False :  True : Binary\n",
            "          (3, 7) :     0 :  None :     1 : False :  True : Binary\n",
            "          (3, 8) :     0 :  None :     1 : False :  True : Binary\n",
            "          (3, 9) :     0 :  None :     1 : False :  True : Binary\n",
            "         (3, 10) :     0 :  None :     1 : False :  True : Binary\n",
            "         (3, 11) :     0 :  None :     1 : False :  True : Binary\n",
            "          (4, 0) :     0 :  None :     1 : False :  True : Binary\n",
            "          (4, 1) :     0 :  None :     1 : False :  True : Binary\n",
            "          (4, 2) :     0 :  None :     1 : False :  True : Binary\n",
            "          (4, 3) :     0 :  None :     1 : False :  True : Binary\n",
            "          (4, 4) :     0 :  None :     1 : False :  True : Binary\n",
            "          (4, 5) :     0 :  None :     1 : False :  True : Binary\n",
            "          (4, 6) :     0 :  None :     1 : False :  True : Binary\n",
            "          (4, 7) :     0 :  None :     1 : False :  True : Binary\n",
            "          (4, 8) :     0 :  None :     1 : False :  True : Binary\n",
            "          (4, 9) :     0 :  None :     1 : False :  True : Binary\n",
            "         (4, 10) :     0 :  None :     1 : False :  True : Binary\n",
            "         (4, 11) :     0 :  None :     1 : False :  True : Binary\n",
            "          (5, 0) :     0 :  None :     1 : False :  True : Binary\n",
            "          (5, 1) :     0 :  None :     1 : False :  True : Binary\n",
            "          (5, 2) :     0 :  None :     1 : False :  True : Binary\n",
            "          (5, 3) :     0 :  None :     1 : False :  True : Binary\n",
            "          (5, 4) :     0 :  None :     1 : False :  True : Binary\n",
            "          (5, 5) :     0 :  None :     1 : False :  True : Binary\n",
            "          (5, 6) :     0 :  None :     1 : False :  True : Binary\n",
            "          (5, 7) :     0 :  None :     1 : False :  True : Binary\n",
            "          (5, 8) :     0 :  None :     1 : False :  True : Binary\n",
            "          (5, 9) :     0 :  None :     1 : False :  True : Binary\n",
            "         (5, 10) :     0 :  None :     1 : False :  True : Binary\n",
            "         (5, 11) :     0 :  None :     1 : False :  True : Binary\n",
            "          (6, 0) :     0 :  None :     1 : False :  True : Binary\n",
            "          (6, 1) :     0 :  None :     1 : False :  True : Binary\n",
            "          (6, 2) :     0 :  None :     1 : False :  True : Binary\n",
            "          (6, 3) :     0 :  None :     1 : False :  True : Binary\n",
            "          (6, 4) :     0 :  None :     1 : False :  True : Binary\n",
            "          (6, 5) :     0 :  None :     1 : False :  True : Binary\n",
            "          (6, 6) :     0 :  None :     1 : False :  True : Binary\n",
            "          (6, 7) :     0 :  None :     1 : False :  True : Binary\n",
            "          (6, 8) :     0 :  None :     1 : False :  True : Binary\n",
            "          (6, 9) :     0 :  None :     1 : False :  True : Binary\n",
            "         (6, 10) :     0 :  None :     1 : False :  True : Binary\n",
            "         (6, 11) :     0 :  None :     1 : False :  True : Binary\n",
            "          (7, 0) :     0 :  None :     1 : False :  True : Binary\n",
            "          (7, 1) :     0 :  None :     1 : False :  True : Binary\n",
            "          (7, 2) :     0 :  None :     1 : False :  True : Binary\n",
            "          (7, 3) :     0 :  None :     1 : False :  True : Binary\n",
            "          (7, 4) :     0 :  None :     1 : False :  True : Binary\n",
            "          (7, 5) :     0 :  None :     1 : False :  True : Binary\n",
            "          (7, 6) :     0 :  None :     1 : False :  True : Binary\n",
            "          (7, 7) :     0 :  None :     1 : False :  True : Binary\n",
            "          (7, 8) :     0 :  None :     1 : False :  True : Binary\n",
            "          (7, 9) :     0 :  None :     1 : False :  True : Binary\n",
            "         (7, 10) :     0 :  None :     1 : False :  True : Binary\n",
            "         (7, 11) :     0 :  None :     1 : False :  True : Binary\n",
            "          (8, 0) :     0 :  None :     1 : False :  True : Binary\n",
            "          (8, 1) :     0 :  None :     1 : False :  True : Binary\n",
            "          (8, 2) :     0 :  None :     1 : False :  True : Binary\n",
            "          (8, 3) :     0 :  None :     1 : False :  True : Binary\n",
            "          (8, 4) :     0 :  None :     1 : False :  True : Binary\n",
            "          (8, 5) :     0 :  None :     1 : False :  True : Binary\n",
            "          (8, 6) :     0 :  None :     1 : False :  True : Binary\n",
            "          (8, 7) :     0 :  None :     1 : False :  True : Binary\n",
            "          (8, 8) :     0 :  None :     1 : False :  True : Binary\n",
            "          (8, 9) :     0 :  None :     1 : False :  True : Binary\n",
            "         (8, 10) :     0 :  None :     1 : False :  True : Binary\n",
            "         (8, 11) :     0 :  None :     1 : False :  True : Binary\n",
            "          (9, 0) :     0 :  None :     1 : False :  True : Binary\n",
            "          (9, 1) :     0 :  None :     1 : False :  True : Binary\n",
            "          (9, 2) :     0 :  None :     1 : False :  True : Binary\n",
            "          (9, 3) :     0 :  None :     1 : False :  True : Binary\n",
            "          (9, 4) :     0 :  None :     1 : False :  True : Binary\n",
            "          (9, 5) :     0 :  None :     1 : False :  True : Binary\n",
            "          (9, 6) :     0 :  None :     1 : False :  True : Binary\n",
            "          (9, 7) :     0 :  None :     1 : False :  True : Binary\n",
            "          (9, 8) :     0 :  None :     1 : False :  True : Binary\n",
            "          (9, 9) :     0 :  None :     1 : False :  True : Binary\n",
            "         (9, 10) :     0 :  None :     1 : False :  True : Binary\n",
            "         (9, 11) :     0 :  None :     1 : False :  True : Binary\n",
            "         (10, 0) :     0 :  None :     1 : False :  True : Binary\n",
            "         (10, 1) :     0 :  None :     1 : False :  True : Binary\n",
            "         (10, 2) :     0 :  None :     1 : False :  True : Binary\n",
            "         (10, 3) :     0 :  None :     1 : False :  True : Binary\n",
            "         (10, 4) :     0 :  None :     1 : False :  True : Binary\n",
            "         (10, 5) :     0 :  None :     1 : False :  True : Binary\n",
            "         (10, 6) :     0 :  None :     1 : False :  True : Binary\n",
            "         (10, 7) :     0 :  None :     1 : False :  True : Binary\n",
            "         (10, 8) :     0 :  None :     1 : False :  True : Binary\n",
            "         (10, 9) :     0 :  None :     1 : False :  True : Binary\n",
            "        (10, 10) :     0 :  None :     1 : False :  True : Binary\n",
            "        (10, 11) :     0 :  None :     1 : False :  True : Binary\n",
            "         (11, 0) :     0 :  None :     1 : False :  True : Binary\n",
            "         (11, 1) :     0 :  None :     1 : False :  True : Binary\n",
            "         (11, 2) :     0 :  None :     1 : False :  True : Binary\n",
            "         (11, 3) :     0 :  None :     1 : False :  True : Binary\n",
            "         (11, 4) :     0 :  None :     1 : False :  True : Binary\n",
            "         (11, 5) :     0 :  None :     1 : False :  True : Binary\n",
            "         (11, 6) :     0 :  None :     1 : False :  True : Binary\n",
            "         (11, 7) :     0 :  None :     1 : False :  True : Binary\n",
            "         (11, 8) :     0 :  None :     1 : False :  True : Binary\n",
            "         (11, 9) :     0 :  None :     1 : False :  True : Binary\n",
            "        (11, 10) :     0 :  None :     1 : False :  True : Binary\n",
            "        (11, 11) :     0 :  None :     1 : False :  True : Binary\n",
            "\n",
            "1 Objective Declarations\n",
            "    objective : Size=1, Index=None, Active=True\n",
            "        Key  : Active : Sense    : Expression\n",
            "        None :   True : minimize : 22.0*x[0,0] + 18.0*x[1,0] + 19.0*x[2,0] + 18.0*x[3,0] + 23.0*x[4,0] + 24.0*x[5,0] + 22.0*x[6,0] + 23.0*x[7,0] + 21.0*x[8,0] + 19.0*x[9,0] + 20.0*x[10,0] + 21.0*x[11,0] + 22.0*x[0,1] + 12.0*x[1,1] + 21.0*x[2,1] + 24.0*x[3,1] + 20.0*x[4,1] + 16.0*x[5,1] + 22.0*x[6,1] + 17.0*x[7,1] + 22.0*x[8,1] + 19.0*x[9,1] + 22.0*x[10,1] + 25.0*x[11,1] + 19.0*x[0,2] + 18.0*x[1,2] + 17.0*x[2,2] + 20.0*x[3,2] + 19.0*x[4,2] + 15.0*x[5,2] + 21.0*x[6,2] + 17.0*x[7,2] + 21.0*x[8,2] + 18.0*x[9,2] + 23.0*x[10,2] + 21.0*x[11,2] + 22.0*x[0,3] + 19.0*x[1,3] + 19.0*x[2,3] + 21.0*x[3,3] + 18.0*x[4,3] + 16.0*x[5,3] + 23.0*x[6,3] + 17.0*x[7,3] + 24.0*x[8,3] + 19.0*x[9,3] + 20.0*x[10,3] + 19.0*x[11,3] + 22.0*x[0,4] + 22.0*x[1,4] + 17.0*x[2,4] + 21.0*x[3,4] + 20.0*x[4,4] + 24.0*x[5,4] + 18.0*x[6,4] + 22.0*x[7,4] + 20.0*x[8,4] + 26.0*x[9,4] + 22.0*x[10,4] + 21.0*x[11,4] + 24.0*x[0,5] + 21.0*x[1,5] + 19.0*x[2,5] + 21.0*x[3,5] + 23.0*x[4,5] + 21.0*x[5,5] + 17.0*x[6,5] + 24.0*x[7,5] + 23.0*x[8,5] + 24.0*x[9,5] + 20.0*x[10,5] + 19.0*x[11,5] + 18.0*x[0,6] + 17.0*x[1,6] + 24.0*x[2,6] + 22.0*x[3,6] + 22.0*x[4,6] + 23.0*x[5,6] + 16.0*x[6,6] + 23.0*x[7,6] + 19.0*x[8,6] + 19.0*x[9,6] + 20.0*x[10,6] + 18.0*x[11,6] + 17.0*x[0,7] + 20.0*x[1,7] + 16.0*x[2,7] + 19.0*x[3,7] + 25.0*x[4,7] + 21.0*x[5,7] + 19.0*x[6,7] + 20.0*x[7,7] + 18.0*x[8,7] + 17.0*x[9,7] + 19.0*x[10,7] + 16.0*x[11,7] + 21.0*x[0,8] + 16.0*x[1,8] + 18.0*x[2,8] + 18.0*x[3,8] + 24.0*x[4,8] + 20.0*x[5,8] + 24.0*x[6,8] + 22.0*x[7,8] + 23.0*x[8,8] + 18.0*x[9,8] + 17.0*x[10,8] + 22.0*x[11,8] + 23.0*x[0,9] + 17.0*x[1,9] + 16.0*x[2,9] + 21.0*x[3,9] + 19.0*x[4,9] + 20.0*x[5,9] + 20.0*x[6,9] + 19.0*x[7,9] + 15.0*x[8,9] + 20.0*x[9,9] + 19.0*x[10,9] + 24.0*x[11,9] + 19.0*x[0,10] + 17.0*x[1,10] + 20.0*x[2,10] + 23.0*x[3,10] + 21.0*x[4,10] + 22.0*x[5,10] + 20.0*x[6,10] + 23.0*x[7,10] + 25.0*x[8,10] + 21.0*x[9,10] + 20.0*x[10,10] + 25.0*x[11,10] + 21.0*x[0,11] + 24.0*x[1,11] + 24.0*x[2,11] + 23.0*x[3,11] + 23.0*x[4,11] + 19.0*x[5,11] + 23.0*x[6,11] + 21.0*x[7,11] + 21.0*x[8,11] + 20.0*x[9,11] + 24.0*x[10,11] + 24.0*x[11,11]\n",
            "\n",
            "1 Constraint Declarations\n",
            "    constraints : Size=24, Index=constraints_index, Active=True\n",
            "        Key : Lower : Body                                                                                                                    : Upper : Active\n",
            "          1 :   1.0 :             x[0,0] + x[0,1] + x[0,2] + x[0,3] + x[0,4] + x[0,5] + x[0,6] + x[0,7] + x[0,8] + x[0,9] + x[0,10] + x[0,11] :   1.0 :   True\n",
            "          2 :   1.0 :             x[1,0] + x[1,1] + x[1,2] + x[1,3] + x[1,4] + x[1,5] + x[1,6] + x[1,7] + x[1,8] + x[1,9] + x[1,10] + x[1,11] :   1.0 :   True\n",
            "          3 :   1.0 :             x[2,0] + x[2,1] + x[2,2] + x[2,3] + x[2,4] + x[2,5] + x[2,6] + x[2,7] + x[2,8] + x[2,9] + x[2,10] + x[2,11] :   1.0 :   True\n",
            "          4 :   1.0 :             x[3,0] + x[3,1] + x[3,2] + x[3,3] + x[3,4] + x[3,5] + x[3,6] + x[3,7] + x[3,8] + x[3,9] + x[3,10] + x[3,11] :   1.0 :   True\n",
            "          5 :   1.0 :             x[4,0] + x[4,1] + x[4,2] + x[4,3] + x[4,4] + x[4,5] + x[4,6] + x[4,7] + x[4,8] + x[4,9] + x[4,10] + x[4,11] :   1.0 :   True\n",
            "          6 :   1.0 :             x[5,0] + x[5,1] + x[5,2] + x[5,3] + x[5,4] + x[5,5] + x[5,6] + x[5,7] + x[5,8] + x[5,9] + x[5,10] + x[5,11] :   1.0 :   True\n",
            "          7 :   1.0 :             x[6,0] + x[6,1] + x[6,2] + x[6,3] + x[6,4] + x[6,5] + x[6,6] + x[6,7] + x[6,8] + x[6,9] + x[6,10] + x[6,11] :   1.0 :   True\n",
            "          8 :   1.0 :             x[7,0] + x[7,1] + x[7,2] + x[7,3] + x[7,4] + x[7,5] + x[7,6] + x[7,7] + x[7,8] + x[7,9] + x[7,10] + x[7,11] :   1.0 :   True\n",
            "          9 :   1.0 :             x[8,0] + x[8,1] + x[8,2] + x[8,3] + x[8,4] + x[8,5] + x[8,6] + x[8,7] + x[8,8] + x[8,9] + x[8,10] + x[8,11] :   1.0 :   True\n",
            "         10 :   1.0 :             x[9,0] + x[9,1] + x[9,2] + x[9,3] + x[9,4] + x[9,5] + x[9,6] + x[9,7] + x[9,8] + x[9,9] + x[9,10] + x[9,11] :   1.0 :   True\n",
            "         11 :   1.0 : x[10,0] + x[10,1] + x[10,2] + x[10,3] + x[10,4] + x[10,5] + x[10,6] + x[10,7] + x[10,8] + x[10,9] + x[10,10] + x[10,11] :   1.0 :   True\n",
            "         12 :   1.0 : x[11,0] + x[11,1] + x[11,2] + x[11,3] + x[11,4] + x[11,5] + x[11,6] + x[11,7] + x[11,8] + x[11,9] + x[11,10] + x[11,11] :   1.0 :   True\n",
            "         13 :   1.0 :             x[0,0] + x[1,0] + x[2,0] + x[3,0] + x[4,0] + x[5,0] + x[6,0] + x[7,0] + x[8,0] + x[9,0] + x[10,0] + x[11,0] :   1.0 :   True\n",
            "         14 :   1.0 :             x[0,1] + x[1,1] + x[2,1] + x[3,1] + x[4,1] + x[5,1] + x[6,1] + x[7,1] + x[8,1] + x[9,1] + x[10,1] + x[11,1] :   1.0 :   True\n",
            "         15 :   1.0 :             x[0,2] + x[1,2] + x[2,2] + x[3,2] + x[4,2] + x[5,2] + x[6,2] + x[7,2] + x[8,2] + x[9,2] + x[10,2] + x[11,2] :   1.0 :   True\n",
            "         16 :   1.0 :             x[0,3] + x[1,3] + x[2,3] + x[3,3] + x[4,3] + x[5,3] + x[6,3] + x[7,3] + x[8,3] + x[9,3] + x[10,3] + x[11,3] :   1.0 :   True\n",
            "         17 :   1.0 :             x[0,4] + x[1,4] + x[2,4] + x[3,4] + x[4,4] + x[5,4] + x[6,4] + x[7,4] + x[8,4] + x[9,4] + x[10,4] + x[11,4] :   1.0 :   True\n",
            "         18 :   1.0 :             x[0,5] + x[1,5] + x[2,5] + x[3,5] + x[4,5] + x[5,5] + x[6,5] + x[7,5] + x[8,5] + x[9,5] + x[10,5] + x[11,5] :   1.0 :   True\n",
            "         19 :   1.0 :             x[0,6] + x[1,6] + x[2,6] + x[3,6] + x[4,6] + x[5,6] + x[6,6] + x[7,6] + x[8,6] + x[9,6] + x[10,6] + x[11,6] :   1.0 :   True\n",
            "         20 :   1.0 :             x[0,7] + x[1,7] + x[2,7] + x[3,7] + x[4,7] + x[5,7] + x[6,7] + x[7,7] + x[8,7] + x[9,7] + x[10,7] + x[11,7] :   1.0 :   True\n",
            "         21 :   1.0 :             x[0,8] + x[1,8] + x[2,8] + x[3,8] + x[4,8] + x[5,8] + x[6,8] + x[7,8] + x[8,8] + x[9,8] + x[10,8] + x[11,8] :   1.0 :   True\n",
            "         22 :   1.0 :             x[0,9] + x[1,9] + x[2,9] + x[3,9] + x[4,9] + x[5,9] + x[6,9] + x[7,9] + x[8,9] + x[9,9] + x[10,9] + x[11,9] :   1.0 :   True\n",
            "         23 :   1.0 : x[0,10] + x[1,10] + x[2,10] + x[3,10] + x[4,10] + x[5,10] + x[6,10] + x[7,10] + x[8,10] + x[9,10] + x[10,10] + x[11,10] :   1.0 :   True\n",
            "         24 :   1.0 : x[0,11] + x[1,11] + x[2,11] + x[3,11] + x[4,11] + x[5,11] + x[6,11] + x[7,11] + x[8,11] + x[9,11] + x[10,11] + x[11,11] :   1.0 :   True\n",
            "\n",
            "7 Declarations: x_index_0 x_index_1 x_index x objective constraints_index constraints\n"
          ]
        }
      ]
    },
    {
      "cell_type": "code",
      "metadata": {
        "id": "1PZwuE3g0Dm0",
        "colab": {
          "base_uri": "https://localhost:8080/"
        },
        "outputId": "cf4f0f5a-f246-4942-c566-e87fec81d4c2"
      },
      "source": [
        "!apt-get install -y -qq coinor-cbc"
      ],
      "execution_count": 16,
      "outputs": [
        {
          "output_type": "stream",
          "name": "stdout",
          "text": [
            "Selecting previously unselected package coinor-libcoinutils3v5.\n",
            "(Reading database ... 148492 files and directories currently installed.)\n",
            "Preparing to unpack .../0-coinor-libcoinutils3v5_2.10.14+repack1-1_amd64.deb ...\n",
            "Unpacking coinor-libcoinutils3v5 (2.10.14+repack1-1) ...\n",
            "Selecting previously unselected package coinor-libosi1v5.\n",
            "Preparing to unpack .../1-coinor-libosi1v5_0.107.9+repack1-1_amd64.deb ...\n",
            "Unpacking coinor-libosi1v5 (0.107.9+repack1-1) ...\n",
            "Selecting previously unselected package coinor-libclp1.\n",
            "Preparing to unpack .../2-coinor-libclp1_1.16.11+repack1-1_amd64.deb ...\n",
            "Unpacking coinor-libclp1 (1.16.11+repack1-1) ...\n",
            "Selecting previously unselected package coinor-libcgl1.\n",
            "Preparing to unpack .../3-coinor-libcgl1_0.59.10+repack1-1_amd64.deb ...\n",
            "Unpacking coinor-libcgl1 (0.59.10+repack1-1) ...\n",
            "Selecting previously unselected package coinor-libcbc3.\n",
            "Preparing to unpack .../4-coinor-libcbc3_2.9.9+repack1-1_amd64.deb ...\n",
            "Unpacking coinor-libcbc3 (2.9.9+repack1-1) ...\n",
            "Selecting previously unselected package coinor-cbc.\n",
            "Preparing to unpack .../5-coinor-cbc_2.9.9+repack1-1_amd64.deb ...\n",
            "Unpacking coinor-cbc (2.9.9+repack1-1) ...\n",
            "Setting up coinor-libcoinutils3v5 (2.10.14+repack1-1) ...\n",
            "Setting up coinor-libosi1v5 (0.107.9+repack1-1) ...\n",
            "Setting up coinor-libclp1 (1.16.11+repack1-1) ...\n",
            "Setting up coinor-libcgl1 (0.59.10+repack1-1) ...\n",
            "Setting up coinor-libcbc3 (2.9.9+repack1-1) ...\n",
            "Setting up coinor-cbc (2.9.9+repack1-1) ...\n",
            "Processing triggers for man-db (2.8.3-2ubuntu0.1) ...\n",
            "Processing triggers for libc-bin (2.27-3ubuntu1.2) ...\n",
            "/sbin/ldconfig.real: /usr/local/lib/python3.7/dist-packages/ideep4py/lib/libmkldnn.so.0 is not a symbolic link\n",
            "\n"
          ]
        }
      ]
    },
    {
      "cell_type": "code",
      "metadata": {
        "id": "fnudAog61CBu"
      },
      "source": [
        "opt_cbc=SolverFactory('cbc')"
      ],
      "execution_count": 17,
      "outputs": []
    },
    {
      "cell_type": "code",
      "metadata": {
        "colab": {
          "base_uri": "https://localhost:8080/"
        },
        "id": "WDL8FPf71HSr",
        "outputId": "8bd151e3-9319-478f-d9be-ca511fc6693f"
      },
      "source": [
        "result=opt_cbc.solve(model)\n",
        "print(result)"
      ],
      "execution_count": 18,
      "outputs": [
        {
          "output_type": "stream",
          "name": "stdout",
          "text": [
            "\n",
            "Problem: \n",
            "- Name: unknown\n",
            "  Lower bound: 203.0\n",
            "  Upper bound: 203.0\n",
            "  Number of objectives: 1\n",
            "  Number of constraints: 24\n",
            "  Number of variables: 144\n",
            "  Number of binary variables: 144\n",
            "  Number of integer variables: 144\n",
            "  Number of nonzeros: 144\n",
            "  Sense: minimize\n",
            "Solver: \n",
            "- Status: ok\n",
            "  User time: -1.0\n",
            "  System time: 0.01\n",
            "  Wallclock time: 0.01\n",
            "  Termination condition: optimal\n",
            "  Termination message: Model was solved to optimality (subject to tolerances), and an optimal solution is available.\n",
            "  Statistics: \n",
            "    Branch and bound: \n",
            "      Number of bounded subproblems: 0\n",
            "      Number of created subproblems: 0\n",
            "    Black box: \n",
            "      Number of iterations: 0\n",
            "  Error rc: 0\n",
            "  Time: 0.024378061294555664\n",
            "Solution: \n",
            "- number of solutions: 0\n",
            "  number of solutions displayed: 0\n",
            "\n"
          ]
        }
      ]
    },
    {
      "cell_type": "markdown",
      "metadata": {
        "id": "gpke-7DLe1K1"
      },
      "source": [
        "#Que.2(8)"
      ]
    },
    {
      "cell_type": "code",
      "metadata": {
        "colab": {
          "base_uri": "https://localhost:8080/"
        },
        "id": "fSO6IPX01RRF",
        "outputId": "f421aa7c-c60c-413b-e6da-cc78ebdd5c6f"
      },
      "source": [
        "print(\"Total optimal cost:-\",model.objective())\n",
        "print('\\nDecision Variables')\n",
        "for i in row_indices:\n",
        "  for j in col_indices:\n",
        "    if model.x[i,j].value>0:\n",
        "      print(f'factory {i+1} must be opened at location {j+1}')"
      ],
      "execution_count": 19,
      "outputs": [
        {
          "output_type": "stream",
          "name": "stdout",
          "text": [
            "Total optimal cost:- 203.0\n",
            "\n",
            "Decision Variables\n",
            "factory 1 must be opened at location 7\n",
            "factory 2 must be opened at location 2\n",
            "factory 3 must be opened at location 5\n",
            "factory 4 must be opened at location 1\n",
            "factory 5 must be opened at location 11\n",
            "factory 6 must be opened at location 3\n",
            "factory 7 must be opened at location 6\n",
            "factory 8 must be opened at location 4\n",
            "factory 9 must be opened at location 10\n",
            "factory 10 must be opened at location 12\n",
            "factory 11 must be opened at location 9\n",
            "factory 12 must be opened at location 8\n"
          ]
        }
      ]
    },
    {
      "cell_type": "markdown",
      "metadata": {
        "id": "62lax0jx8uEr"
      },
      "source": [
        "#Que.2(9)"
      ]
    },
    {
      "cell_type": "code",
      "metadata": {
        "id": "KTaqmiwp8M5X"
      },
      "source": [
        "model.x.domain=Reals"
      ],
      "execution_count": 20,
      "outputs": []
    },
    {
      "cell_type": "code",
      "metadata": {
        "id": "NPbvIcrf-NTw"
      },
      "source": [
        "for i in row_indices:\n",
        "  for j in col_indices:\n",
        "    model.x[i,j].setlb(0)\n",
        "    model.x[i,j].setub(1)"
      ],
      "execution_count": 21,
      "outputs": []
    },
    {
      "cell_type": "code",
      "metadata": {
        "colab": {
          "base_uri": "https://localhost:8080/"
        },
        "id": "jeT9rFXm8tBm",
        "outputId": "9f21763d-9502-4e35-b269-0d497f45c55a"
      },
      "source": [
        "model.pprint()"
      ],
      "execution_count": 22,
      "outputs": [
        {
          "output_type": "stream",
          "name": "stdout",
          "text": [
            "4 Set Declarations\n",
            "    constraints_index : Size=1, Index=None, Ordered=Insertion\n",
            "        Key  : Dimen : Domain : Size : Members\n",
            "        None :     1 :    Any :   24 : {1, 2, 3, 4, 5, 6, 7, 8, 9, 10, 11, 12, 13, 14, 15, 16, 17, 18, 19, 20, 21, 22, 23, 24}\n",
            "    x_index : Size=1, Index=None, Ordered=False\n",
            "        Key  : Dimen : Domain              : Size : Members\n",
            "        None :     2 : x_index_0*x_index_1 :  144 : {(0, 0), (0, 1), (0, 2), (0, 3), (0, 4), (0, 5), (0, 6), (0, 7), (0, 8), (0, 9), (0, 10), (0, 11), (1, 0), (1, 1), (1, 2), (1, 3), (1, 4), (1, 5), (1, 6), (1, 7), (1, 8), (1, 9), (1, 10), (1, 11), (2, 0), (2, 1), (2, 2), (2, 3), (2, 4), (2, 5), (2, 6), (2, 7), (2, 8), (2, 9), (2, 10), (2, 11), (3, 0), (3, 1), (3, 2), (3, 3), (3, 4), (3, 5), (3, 6), (3, 7), (3, 8), (3, 9), (3, 10), (3, 11), (4, 0), (4, 1), (4, 2), (4, 3), (4, 4), (4, 5), (4, 6), (4, 7), (4, 8), (4, 9), (4, 10), (4, 11), (5, 0), (5, 1), (5, 2), (5, 3), (5, 4), (5, 5), (5, 6), (5, 7), (5, 8), (5, 9), (5, 10), (5, 11), (6, 0), (6, 1), (6, 2), (6, 3), (6, 4), (6, 5), (6, 6), (6, 7), (6, 8), (6, 9), (6, 10), (6, 11), (7, 0), (7, 1), (7, 2), (7, 3), (7, 4), (7, 5), (7, 6), (7, 7), (7, 8), (7, 9), (7, 10), (7, 11), (8, 0), (8, 1), (8, 2), (8, 3), (8, 4), (8, 5), (8, 6), (8, 7), (8, 8), (8, 9), (8, 10), (8, 11), (9, 0), (9, 1), (9, 2), (9, 3), (9, 4), (9, 5), (9, 6), (9, 7), (9, 8), (9, 9), (9, 10), (9, 11), (10, 0), (10, 1), (10, 2), (10, 3), (10, 4), (10, 5), (10, 6), (10, 7), (10, 8), (10, 9), (10, 10), (10, 11), (11, 0), (11, 1), (11, 2), (11, 3), (11, 4), (11, 5), (11, 6), (11, 7), (11, 8), (11, 9), (11, 10), (11, 11)}\n",
            "    x_index_0 : Size=1, Index=None, Ordered=False\n",
            "        Key  : Dimen : Domain : Size : Members\n",
            "        None :     1 :    Any :   12 : {0, 1, 2, 3, 4, 5, 6, 7, 8, 9, 10, 11}\n",
            "    x_index_1 : Size=1, Index=None, Ordered=False\n",
            "        Key  : Dimen : Domain : Size : Members\n",
            "        None :     1 :    Any :   12 : {0, 1, 2, 3, 4, 5, 6, 7, 8, 9, 10, 11}\n",
            "\n",
            "1 Var Declarations\n",
            "    x : Size=144, Index=x_index\n",
            "        Key      : Lower : Value : Upper : Fixed : Stale : Domain\n",
            "          (0, 0) :     0 :   0.0 :     1 : False : False :  Reals\n",
            "          (0, 1) :     0 :   0.0 :     1 : False : False :  Reals\n",
            "          (0, 2) :     0 :   0.0 :     1 : False : False :  Reals\n",
            "          (0, 3) :     0 :   0.0 :     1 : False : False :  Reals\n",
            "          (0, 4) :     0 :   0.0 :     1 : False : False :  Reals\n",
            "          (0, 5) :     0 :   0.0 :     1 : False : False :  Reals\n",
            "          (0, 6) :     0 :   1.0 :     1 : False : False :  Reals\n",
            "          (0, 7) :     0 :   0.0 :     1 : False : False :  Reals\n",
            "          (0, 8) :     0 :   0.0 :     1 : False : False :  Reals\n",
            "          (0, 9) :     0 :   0.0 :     1 : False : False :  Reals\n",
            "         (0, 10) :     0 :   0.0 :     1 : False : False :  Reals\n",
            "         (0, 11) :     0 :   0.0 :     1 : False : False :  Reals\n",
            "          (1, 0) :     0 :   0.0 :     1 : False : False :  Reals\n",
            "          (1, 1) :     0 :   1.0 :     1 : False : False :  Reals\n",
            "          (1, 2) :     0 :   0.0 :     1 : False : False :  Reals\n",
            "          (1, 3) :     0 :   0.0 :     1 : False : False :  Reals\n",
            "          (1, 4) :     0 :   0.0 :     1 : False : False :  Reals\n",
            "          (1, 5) :     0 :   0.0 :     1 : False : False :  Reals\n",
            "          (1, 6) :     0 :   0.0 :     1 : False : False :  Reals\n",
            "          (1, 7) :     0 :   0.0 :     1 : False : False :  Reals\n",
            "          (1, 8) :     0 :   0.0 :     1 : False : False :  Reals\n",
            "          (1, 9) :     0 :   0.0 :     1 : False : False :  Reals\n",
            "         (1, 10) :     0 :   0.0 :     1 : False : False :  Reals\n",
            "         (1, 11) :     0 :   0.0 :     1 : False : False :  Reals\n",
            "          (2, 0) :     0 :   0.0 :     1 : False : False :  Reals\n",
            "          (2, 1) :     0 :   0.0 :     1 : False : False :  Reals\n",
            "          (2, 2) :     0 :   0.0 :     1 : False : False :  Reals\n",
            "          (2, 3) :     0 :   0.0 :     1 : False : False :  Reals\n",
            "          (2, 4) :     0 :   1.0 :     1 : False : False :  Reals\n",
            "          (2, 5) :     0 :   0.0 :     1 : False : False :  Reals\n",
            "          (2, 6) :     0 :   0.0 :     1 : False : False :  Reals\n",
            "          (2, 7) :     0 :   0.0 :     1 : False : False :  Reals\n",
            "          (2, 8) :     0 :   0.0 :     1 : False : False :  Reals\n",
            "          (2, 9) :     0 :   0.0 :     1 : False : False :  Reals\n",
            "         (2, 10) :     0 :   0.0 :     1 : False : False :  Reals\n",
            "         (2, 11) :     0 :   0.0 :     1 : False : False :  Reals\n",
            "          (3, 0) :     0 :   1.0 :     1 : False : False :  Reals\n",
            "          (3, 1) :     0 :   0.0 :     1 : False : False :  Reals\n",
            "          (3, 2) :     0 :   0.0 :     1 : False : False :  Reals\n",
            "          (3, 3) :     0 :   0.0 :     1 : False : False :  Reals\n",
            "          (3, 4) :     0 :   0.0 :     1 : False : False :  Reals\n",
            "          (3, 5) :     0 :   0.0 :     1 : False : False :  Reals\n",
            "          (3, 6) :     0 :   0.0 :     1 : False : False :  Reals\n",
            "          (3, 7) :     0 :   0.0 :     1 : False : False :  Reals\n",
            "          (3, 8) :     0 :   0.0 :     1 : False : False :  Reals\n",
            "          (3, 9) :     0 :   0.0 :     1 : False : False :  Reals\n",
            "         (3, 10) :     0 :   0.0 :     1 : False : False :  Reals\n",
            "         (3, 11) :     0 :   0.0 :     1 : False : False :  Reals\n",
            "          (4, 0) :     0 :   0.0 :     1 : False : False :  Reals\n",
            "          (4, 1) :     0 :   0.0 :     1 : False : False :  Reals\n",
            "          (4, 2) :     0 :   0.0 :     1 : False : False :  Reals\n",
            "          (4, 3) :     0 :   0.0 :     1 : False : False :  Reals\n",
            "          (4, 4) :     0 :   0.0 :     1 : False : False :  Reals\n",
            "          (4, 5) :     0 :   0.0 :     1 : False : False :  Reals\n",
            "          (4, 6) :     0 :   0.0 :     1 : False : False :  Reals\n",
            "          (4, 7) :     0 :   0.0 :     1 : False : False :  Reals\n",
            "          (4, 8) :     0 :   0.0 :     1 : False : False :  Reals\n",
            "          (4, 9) :     0 :   0.0 :     1 : False : False :  Reals\n",
            "         (4, 10) :     0 :   1.0 :     1 : False : False :  Reals\n",
            "         (4, 11) :     0 :   0.0 :     1 : False : False :  Reals\n",
            "          (5, 0) :     0 :   0.0 :     1 : False : False :  Reals\n",
            "          (5, 1) :     0 :   0.0 :     1 : False : False :  Reals\n",
            "          (5, 2) :     0 :   1.0 :     1 : False : False :  Reals\n",
            "          (5, 3) :     0 :   0.0 :     1 : False : False :  Reals\n",
            "          (5, 4) :     0 :   0.0 :     1 : False : False :  Reals\n",
            "          (5, 5) :     0 :   0.0 :     1 : False : False :  Reals\n",
            "          (5, 6) :     0 :   0.0 :     1 : False : False :  Reals\n",
            "          (5, 7) :     0 :   0.0 :     1 : False : False :  Reals\n",
            "          (5, 8) :     0 :   0.0 :     1 : False : False :  Reals\n",
            "          (5, 9) :     0 :   0.0 :     1 : False : False :  Reals\n",
            "         (5, 10) :     0 :   0.0 :     1 : False : False :  Reals\n",
            "         (5, 11) :     0 :   0.0 :     1 : False : False :  Reals\n",
            "          (6, 0) :     0 :   0.0 :     1 : False : False :  Reals\n",
            "          (6, 1) :     0 :   0.0 :     1 : False : False :  Reals\n",
            "          (6, 2) :     0 :   0.0 :     1 : False : False :  Reals\n",
            "          (6, 3) :     0 :   0.0 :     1 : False : False :  Reals\n",
            "          (6, 4) :     0 :   0.0 :     1 : False : False :  Reals\n",
            "          (6, 5) :     0 :   1.0 :     1 : False : False :  Reals\n",
            "          (6, 6) :     0 :   0.0 :     1 : False : False :  Reals\n",
            "          (6, 7) :     0 :   0.0 :     1 : False : False :  Reals\n",
            "          (6, 8) :     0 :   0.0 :     1 : False : False :  Reals\n",
            "          (6, 9) :     0 :   0.0 :     1 : False : False :  Reals\n",
            "         (6, 10) :     0 :   0.0 :     1 : False : False :  Reals\n",
            "         (6, 11) :     0 :   0.0 :     1 : False : False :  Reals\n",
            "          (7, 0) :     0 :   0.0 :     1 : False : False :  Reals\n",
            "          (7, 1) :     0 :   0.0 :     1 : False : False :  Reals\n",
            "          (7, 2) :     0 :   0.0 :     1 : False : False :  Reals\n",
            "          (7, 3) :     0 :   1.0 :     1 : False : False :  Reals\n",
            "          (7, 4) :     0 :   0.0 :     1 : False : False :  Reals\n",
            "          (7, 5) :     0 :   0.0 :     1 : False : False :  Reals\n",
            "          (7, 6) :     0 :   0.0 :     1 : False : False :  Reals\n",
            "          (7, 7) :     0 :   0.0 :     1 : False : False :  Reals\n",
            "          (7, 8) :     0 :   0.0 :     1 : False : False :  Reals\n",
            "          (7, 9) :     0 :   0.0 :     1 : False : False :  Reals\n",
            "         (7, 10) :     0 :   0.0 :     1 : False : False :  Reals\n",
            "         (7, 11) :     0 :   0.0 :     1 : False : False :  Reals\n",
            "          (8, 0) :     0 :   0.0 :     1 : False : False :  Reals\n",
            "          (8, 1) :     0 :   0.0 :     1 : False : False :  Reals\n",
            "          (8, 2) :     0 :   0.0 :     1 : False : False :  Reals\n",
            "          (8, 3) :     0 :   0.0 :     1 : False : False :  Reals\n",
            "          (8, 4) :     0 :   0.0 :     1 : False : False :  Reals\n",
            "          (8, 5) :     0 :   0.0 :     1 : False : False :  Reals\n",
            "          (8, 6) :     0 :   0.0 :     1 : False : False :  Reals\n",
            "          (8, 7) :     0 :   0.0 :     1 : False : False :  Reals\n",
            "          (8, 8) :     0 :   0.0 :     1 : False : False :  Reals\n",
            "          (8, 9) :     0 :   1.0 :     1 : False : False :  Reals\n",
            "         (8, 10) :     0 :   0.0 :     1 : False : False :  Reals\n",
            "         (8, 11) :     0 :   0.0 :     1 : False : False :  Reals\n",
            "          (9, 0) :     0 :   0.0 :     1 : False : False :  Reals\n",
            "          (9, 1) :     0 :   0.0 :     1 : False : False :  Reals\n",
            "          (9, 2) :     0 :   0.0 :     1 : False : False :  Reals\n",
            "          (9, 3) :     0 :   0.0 :     1 : False : False :  Reals\n",
            "          (9, 4) :     0 :   0.0 :     1 : False : False :  Reals\n",
            "          (9, 5) :     0 :   0.0 :     1 : False : False :  Reals\n",
            "          (9, 6) :     0 :   0.0 :     1 : False : False :  Reals\n",
            "          (9, 7) :     0 :   0.0 :     1 : False : False :  Reals\n",
            "          (9, 8) :     0 :   0.0 :     1 : False : False :  Reals\n",
            "          (9, 9) :     0 :   0.0 :     1 : False : False :  Reals\n",
            "         (9, 10) :     0 :   0.0 :     1 : False : False :  Reals\n",
            "         (9, 11) :     0 :   1.0 :     1 : False : False :  Reals\n",
            "         (10, 0) :     0 :   0.0 :     1 : False : False :  Reals\n",
            "         (10, 1) :     0 :   0.0 :     1 : False : False :  Reals\n",
            "         (10, 2) :     0 :   0.0 :     1 : False : False :  Reals\n",
            "         (10, 3) :     0 :   0.0 :     1 : False : False :  Reals\n",
            "         (10, 4) :     0 :   0.0 :     1 : False : False :  Reals\n",
            "         (10, 5) :     0 :   0.0 :     1 : False : False :  Reals\n",
            "         (10, 6) :     0 :   0.0 :     1 : False : False :  Reals\n",
            "         (10, 7) :     0 :   0.0 :     1 : False : False :  Reals\n",
            "         (10, 8) :     0 :   1.0 :     1 : False : False :  Reals\n",
            "         (10, 9) :     0 :   0.0 :     1 : False : False :  Reals\n",
            "        (10, 10) :     0 :   0.0 :     1 : False : False :  Reals\n",
            "        (10, 11) :     0 :   0.0 :     1 : False : False :  Reals\n",
            "         (11, 0) :     0 :   0.0 :     1 : False : False :  Reals\n",
            "         (11, 1) :     0 :   0.0 :     1 : False : False :  Reals\n",
            "         (11, 2) :     0 :   0.0 :     1 : False : False :  Reals\n",
            "         (11, 3) :     0 :   0.0 :     1 : False : False :  Reals\n",
            "         (11, 4) :     0 :   0.0 :     1 : False : False :  Reals\n",
            "         (11, 5) :     0 :   0.0 :     1 : False : False :  Reals\n",
            "         (11, 6) :     0 :   0.0 :     1 : False : False :  Reals\n",
            "         (11, 7) :     0 :   1.0 :     1 : False : False :  Reals\n",
            "         (11, 8) :     0 :   0.0 :     1 : False : False :  Reals\n",
            "         (11, 9) :     0 :   0.0 :     1 : False : False :  Reals\n",
            "        (11, 10) :     0 :   0.0 :     1 : False : False :  Reals\n",
            "        (11, 11) :     0 :   0.0 :     1 : False : False :  Reals\n",
            "\n",
            "1 Objective Declarations\n",
            "    objective : Size=1, Index=None, Active=True\n",
            "        Key  : Active : Sense    : Expression\n",
            "        None :   True : minimize : 22.0*x[0,0] + 18.0*x[1,0] + 19.0*x[2,0] + 18.0*x[3,0] + 23.0*x[4,0] + 24.0*x[5,0] + 22.0*x[6,0] + 23.0*x[7,0] + 21.0*x[8,0] + 19.0*x[9,0] + 20.0*x[10,0] + 21.0*x[11,0] + 22.0*x[0,1] + 12.0*x[1,1] + 21.0*x[2,1] + 24.0*x[3,1] + 20.0*x[4,1] + 16.0*x[5,1] + 22.0*x[6,1] + 17.0*x[7,1] + 22.0*x[8,1] + 19.0*x[9,1] + 22.0*x[10,1] + 25.0*x[11,1] + 19.0*x[0,2] + 18.0*x[1,2] + 17.0*x[2,2] + 20.0*x[3,2] + 19.0*x[4,2] + 15.0*x[5,2] + 21.0*x[6,2] + 17.0*x[7,2] + 21.0*x[8,2] + 18.0*x[9,2] + 23.0*x[10,2] + 21.0*x[11,2] + 22.0*x[0,3] + 19.0*x[1,3] + 19.0*x[2,3] + 21.0*x[3,3] + 18.0*x[4,3] + 16.0*x[5,3] + 23.0*x[6,3] + 17.0*x[7,3] + 24.0*x[8,3] + 19.0*x[9,3] + 20.0*x[10,3] + 19.0*x[11,3] + 22.0*x[0,4] + 22.0*x[1,4] + 17.0*x[2,4] + 21.0*x[3,4] + 20.0*x[4,4] + 24.0*x[5,4] + 18.0*x[6,4] + 22.0*x[7,4] + 20.0*x[8,4] + 26.0*x[9,4] + 22.0*x[10,4] + 21.0*x[11,4] + 24.0*x[0,5] + 21.0*x[1,5] + 19.0*x[2,5] + 21.0*x[3,5] + 23.0*x[4,5] + 21.0*x[5,5] + 17.0*x[6,5] + 24.0*x[7,5] + 23.0*x[8,5] + 24.0*x[9,5] + 20.0*x[10,5] + 19.0*x[11,5] + 18.0*x[0,6] + 17.0*x[1,6] + 24.0*x[2,6] + 22.0*x[3,6] + 22.0*x[4,6] + 23.0*x[5,6] + 16.0*x[6,6] + 23.0*x[7,6] + 19.0*x[8,6] + 19.0*x[9,6] + 20.0*x[10,6] + 18.0*x[11,6] + 17.0*x[0,7] + 20.0*x[1,7] + 16.0*x[2,7] + 19.0*x[3,7] + 25.0*x[4,7] + 21.0*x[5,7] + 19.0*x[6,7] + 20.0*x[7,7] + 18.0*x[8,7] + 17.0*x[9,7] + 19.0*x[10,7] + 16.0*x[11,7] + 21.0*x[0,8] + 16.0*x[1,8] + 18.0*x[2,8] + 18.0*x[3,8] + 24.0*x[4,8] + 20.0*x[5,8] + 24.0*x[6,8] + 22.0*x[7,8] + 23.0*x[8,8] + 18.0*x[9,8] + 17.0*x[10,8] + 22.0*x[11,8] + 23.0*x[0,9] + 17.0*x[1,9] + 16.0*x[2,9] + 21.0*x[3,9] + 19.0*x[4,9] + 20.0*x[5,9] + 20.0*x[6,9] + 19.0*x[7,9] + 15.0*x[8,9] + 20.0*x[9,9] + 19.0*x[10,9] + 24.0*x[11,9] + 19.0*x[0,10] + 17.0*x[1,10] + 20.0*x[2,10] + 23.0*x[3,10] + 21.0*x[4,10] + 22.0*x[5,10] + 20.0*x[6,10] + 23.0*x[7,10] + 25.0*x[8,10] + 21.0*x[9,10] + 20.0*x[10,10] + 25.0*x[11,10] + 21.0*x[0,11] + 24.0*x[1,11] + 24.0*x[2,11] + 23.0*x[3,11] + 23.0*x[4,11] + 19.0*x[5,11] + 23.0*x[6,11] + 21.0*x[7,11] + 21.0*x[8,11] + 20.0*x[9,11] + 24.0*x[10,11] + 24.0*x[11,11]\n",
            "\n",
            "1 Constraint Declarations\n",
            "    constraints : Size=24, Index=constraints_index, Active=True\n",
            "        Key : Lower : Body                                                                                                                    : Upper : Active\n",
            "          1 :   1.0 :             x[0,0] + x[0,1] + x[0,2] + x[0,3] + x[0,4] + x[0,5] + x[0,6] + x[0,7] + x[0,8] + x[0,9] + x[0,10] + x[0,11] :   1.0 :   True\n",
            "          2 :   1.0 :             x[1,0] + x[1,1] + x[1,2] + x[1,3] + x[1,4] + x[1,5] + x[1,6] + x[1,7] + x[1,8] + x[1,9] + x[1,10] + x[1,11] :   1.0 :   True\n",
            "          3 :   1.0 :             x[2,0] + x[2,1] + x[2,2] + x[2,3] + x[2,4] + x[2,5] + x[2,6] + x[2,7] + x[2,8] + x[2,9] + x[2,10] + x[2,11] :   1.0 :   True\n",
            "          4 :   1.0 :             x[3,0] + x[3,1] + x[3,2] + x[3,3] + x[3,4] + x[3,5] + x[3,6] + x[3,7] + x[3,8] + x[3,9] + x[3,10] + x[3,11] :   1.0 :   True\n",
            "          5 :   1.0 :             x[4,0] + x[4,1] + x[4,2] + x[4,3] + x[4,4] + x[4,5] + x[4,6] + x[4,7] + x[4,8] + x[4,9] + x[4,10] + x[4,11] :   1.0 :   True\n",
            "          6 :   1.0 :             x[5,0] + x[5,1] + x[5,2] + x[5,3] + x[5,4] + x[5,5] + x[5,6] + x[5,7] + x[5,8] + x[5,9] + x[5,10] + x[5,11] :   1.0 :   True\n",
            "          7 :   1.0 :             x[6,0] + x[6,1] + x[6,2] + x[6,3] + x[6,4] + x[6,5] + x[6,6] + x[6,7] + x[6,8] + x[6,9] + x[6,10] + x[6,11] :   1.0 :   True\n",
            "          8 :   1.0 :             x[7,0] + x[7,1] + x[7,2] + x[7,3] + x[7,4] + x[7,5] + x[7,6] + x[7,7] + x[7,8] + x[7,9] + x[7,10] + x[7,11] :   1.0 :   True\n",
            "          9 :   1.0 :             x[8,0] + x[8,1] + x[8,2] + x[8,3] + x[8,4] + x[8,5] + x[8,6] + x[8,7] + x[8,8] + x[8,9] + x[8,10] + x[8,11] :   1.0 :   True\n",
            "         10 :   1.0 :             x[9,0] + x[9,1] + x[9,2] + x[9,3] + x[9,4] + x[9,5] + x[9,6] + x[9,7] + x[9,8] + x[9,9] + x[9,10] + x[9,11] :   1.0 :   True\n",
            "         11 :   1.0 : x[10,0] + x[10,1] + x[10,2] + x[10,3] + x[10,4] + x[10,5] + x[10,6] + x[10,7] + x[10,8] + x[10,9] + x[10,10] + x[10,11] :   1.0 :   True\n",
            "         12 :   1.0 : x[11,0] + x[11,1] + x[11,2] + x[11,3] + x[11,4] + x[11,5] + x[11,6] + x[11,7] + x[11,8] + x[11,9] + x[11,10] + x[11,11] :   1.0 :   True\n",
            "         13 :   1.0 :             x[0,0] + x[1,0] + x[2,0] + x[3,0] + x[4,0] + x[5,0] + x[6,0] + x[7,0] + x[8,0] + x[9,0] + x[10,0] + x[11,0] :   1.0 :   True\n",
            "         14 :   1.0 :             x[0,1] + x[1,1] + x[2,1] + x[3,1] + x[4,1] + x[5,1] + x[6,1] + x[7,1] + x[8,1] + x[9,1] + x[10,1] + x[11,1] :   1.0 :   True\n",
            "         15 :   1.0 :             x[0,2] + x[1,2] + x[2,2] + x[3,2] + x[4,2] + x[5,2] + x[6,2] + x[7,2] + x[8,2] + x[9,2] + x[10,2] + x[11,2] :   1.0 :   True\n",
            "         16 :   1.0 :             x[0,3] + x[1,3] + x[2,3] + x[3,3] + x[4,3] + x[5,3] + x[6,3] + x[7,3] + x[8,3] + x[9,3] + x[10,3] + x[11,3] :   1.0 :   True\n",
            "         17 :   1.0 :             x[0,4] + x[1,4] + x[2,4] + x[3,4] + x[4,4] + x[5,4] + x[6,4] + x[7,4] + x[8,4] + x[9,4] + x[10,4] + x[11,4] :   1.0 :   True\n",
            "         18 :   1.0 :             x[0,5] + x[1,5] + x[2,5] + x[3,5] + x[4,5] + x[5,5] + x[6,5] + x[7,5] + x[8,5] + x[9,5] + x[10,5] + x[11,5] :   1.0 :   True\n",
            "         19 :   1.0 :             x[0,6] + x[1,6] + x[2,6] + x[3,6] + x[4,6] + x[5,6] + x[6,6] + x[7,6] + x[8,6] + x[9,6] + x[10,6] + x[11,6] :   1.0 :   True\n",
            "         20 :   1.0 :             x[0,7] + x[1,7] + x[2,7] + x[3,7] + x[4,7] + x[5,7] + x[6,7] + x[7,7] + x[8,7] + x[9,7] + x[10,7] + x[11,7] :   1.0 :   True\n",
            "         21 :   1.0 :             x[0,8] + x[1,8] + x[2,8] + x[3,8] + x[4,8] + x[5,8] + x[6,8] + x[7,8] + x[8,8] + x[9,8] + x[10,8] + x[11,8] :   1.0 :   True\n",
            "         22 :   1.0 :             x[0,9] + x[1,9] + x[2,9] + x[3,9] + x[4,9] + x[5,9] + x[6,9] + x[7,9] + x[8,9] + x[9,9] + x[10,9] + x[11,9] :   1.0 :   True\n",
            "         23 :   1.0 : x[0,10] + x[1,10] + x[2,10] + x[3,10] + x[4,10] + x[5,10] + x[6,10] + x[7,10] + x[8,10] + x[9,10] + x[10,10] + x[11,10] :   1.0 :   True\n",
            "         24 :   1.0 : x[0,11] + x[1,11] + x[2,11] + x[3,11] + x[4,11] + x[5,11] + x[6,11] + x[7,11] + x[8,11] + x[9,11] + x[10,11] + x[11,11] :   1.0 :   True\n",
            "\n",
            "7 Declarations: x_index_0 x_index_1 x_index x objective constraints_index constraints\n"
          ]
        }
      ]
    },
    {
      "cell_type": "code",
      "metadata": {
        "id": "P2nYbfRc87Ks"
      },
      "source": [
        "result=opt_cbc.solve(model)"
      ],
      "execution_count": 23,
      "outputs": []
    },
    {
      "cell_type": "code",
      "metadata": {
        "colab": {
          "base_uri": "https://localhost:8080/"
        },
        "id": "PRLs5UmO9LwY",
        "outputId": "570a857e-8ffa-4b81-cc4e-57c9e0ded5bf"
      },
      "source": [
        "print(result)"
      ],
      "execution_count": 24,
      "outputs": [
        {
          "output_type": "stream",
          "name": "stdout",
          "text": [
            "\n",
            "Problem: \n",
            "- Name: unknown\n",
            "  Lower bound: 203.0\n",
            "  Upper bound: 203.0\n",
            "  Number of objectives: 1\n",
            "  Number of constraints: 25\n",
            "  Number of variables: 145\n",
            "  Number of nonzeros: 144\n",
            "  Sense: minimize\n",
            "Solver: \n",
            "- Status: ok\n",
            "  User time: -1.0\n",
            "  System time: 0.0\n",
            "  Wallclock time: 0.0\n",
            "  Termination condition: optimal\n",
            "  Termination message: Model was solved to optimality (subject to tolerances), and an optimal solution is available.\n",
            "  Statistics: \n",
            "    Branch and bound: \n",
            "      Number of bounded subproblems: None\n",
            "      Number of created subproblems: None\n",
            "    Black box: \n",
            "      Number of iterations: 30\n",
            "  Error rc: 0\n",
            "  Time: 0.046530723571777344\n",
            "Solution: \n",
            "- number of solutions: 0\n",
            "  number of solutions displayed: 0\n",
            "\n"
          ]
        }
      ]
    },
    {
      "cell_type": "code",
      "metadata": {
        "colab": {
          "base_uri": "https://localhost:8080/"
        },
        "id": "7rqB9VRE9QuA",
        "outputId": "a8b5aeaf-311b-4baf-ad30-0791f69aaae1"
      },
      "source": [
        "print(\"Total optimal cost:-\",model.objective())\n",
        "print('\\nDecision Variables')\n",
        "for i in row_indices:\n",
        "  for j in col_indices:\n",
        "    if model.x[i,j].value>0:\n",
        "      print(f'factory {i+1} must be opened at location {j+1},  i.e.  x[{i+1},{j+1}]={model.x[i,j].value}')"
      ],
      "execution_count": 25,
      "outputs": [
        {
          "output_type": "stream",
          "name": "stdout",
          "text": [
            "Total optimal cost:- 203.0\n",
            "\n",
            "Decision Variables\n",
            "factory 1 must be opened at location 7,  i.e.  x[1,7]=1.0\n",
            "factory 2 must be opened at location 2,  i.e.  x[2,2]=1.0\n",
            "factory 3 must be opened at location 5,  i.e.  x[3,5]=1.0\n",
            "factory 4 must be opened at location 1,  i.e.  x[4,1]=1.0\n",
            "factory 5 must be opened at location 11,  i.e.  x[5,11]=1.0\n",
            "factory 6 must be opened at location 3,  i.e.  x[6,3]=1.0\n",
            "factory 7 must be opened at location 6,  i.e.  x[7,6]=1.0\n",
            "factory 8 must be opened at location 4,  i.e.  x[8,4]=1.0\n",
            "factory 9 must be opened at location 10,  i.e.  x[9,10]=1.0\n",
            "factory 10 must be opened at location 12,  i.e.  x[10,12]=1.0\n",
            "factory 11 must be opened at location 9,  i.e.  x[11,9]=1.0\n",
            "factory 12 must be opened at location 8,  i.e.  x[12,8]=1.0\n"
          ]
        }
      ]
    },
    {
      "cell_type": "markdown",
      "metadata": {
        "id": "AC9atk0KSfdd"
      },
      "source": [
        "#Que.2(10)"
      ]
    },
    {
      "cell_type": "markdown",
      "metadata": {
        "id": "vVzEukfehMgc"
      },
      "source": [
        "Yes,the optimal cost of both problems is same and the values of decision variables are still integer-valued.\n",
        "\n",
        "we are getting same optimal value because when a variable(whose value increases gives the optimum value)starts increasing from zero then it increases to the maximum value.so that we can minimize the cost as much as possible that's why the values of decision variables are still integer-valued.\n"
      ]
    },
    {
      "cell_type": "code",
      "metadata": {
        "id": "M2cr9vmw9VDG"
      },
      "source": [
        ""
      ],
      "execution_count": 25,
      "outputs": []
    },
    {
      "cell_type": "markdown",
      "metadata": {
        "id": "5RYbb13sSj0H"
      },
      "source": [
        "#Que.2(12)"
      ]
    },
    {
      "cell_type": "markdown",
      "metadata": {
        "id": "wOnc97JJSqRU"
      },
      "source": [
        "since facility 2 cannot be assigned to location 4, facility\n",
        "10 cannot be assigned to location 6 and facility 6 cannot be assigned to location 11,hence we will add some more constraints in our pyomo model.\n",
        "those constraints will be:\n",
        "$$x_{1,3}=0\\\\x_{9,5}=0\\\\x_{5,10}=0$$"
      ]
    },
    {
      "cell_type": "code",
      "metadata": {
        "colab": {
          "base_uri": "https://localhost:8080/"
        },
        "id": "q-ctumXHSleN",
        "outputId": "1b463714-0e99-424f-f568-289dd7fed772"
      },
      "source": [
        "model.constraints.add(expr=model.x[1,3]==0)\n",
        "model.constraints.add(expr=model.x[9,5]==0)\n",
        "model.constraints.add(expr=model.x[5,10]==0)"
      ],
      "execution_count": 26,
      "outputs": [
        {
          "output_type": "execute_result",
          "data": {
            "text/plain": [
              "<pyomo.core.base.constraint._GeneralConstraintData at 0x7f9d38a52980>"
            ]
          },
          "metadata": {},
          "execution_count": 26
        }
      ]
    },
    {
      "cell_type": "code",
      "metadata": {
        "id": "YCX41oXiTqk2"
      },
      "source": [
        "model.x.domain=Binary"
      ],
      "execution_count": 27,
      "outputs": []
    },
    {
      "cell_type": "code",
      "metadata": {
        "colab": {
          "base_uri": "https://localhost:8080/"
        },
        "id": "G1xCrzExTaUN",
        "outputId": "91d34fd3-9685-4df1-8234-9b26577bc728"
      },
      "source": [
        "model.pprint()"
      ],
      "execution_count": 28,
      "outputs": [
        {
          "output_type": "stream",
          "name": "stdout",
          "text": [
            "4 Set Declarations\n",
            "    constraints_index : Size=1, Index=None, Ordered=Insertion\n",
            "        Key  : Dimen : Domain : Size : Members\n",
            "        None :     1 :    Any :   27 : {1, 2, 3, 4, 5, 6, 7, 8, 9, 10, 11, 12, 13, 14, 15, 16, 17, 18, 19, 20, 21, 22, 23, 24, 25, 26, 27}\n",
            "    x_index : Size=1, Index=None, Ordered=False\n",
            "        Key  : Dimen : Domain              : Size : Members\n",
            "        None :     2 : x_index_0*x_index_1 :  144 : {(0, 0), (0, 1), (0, 2), (0, 3), (0, 4), (0, 5), (0, 6), (0, 7), (0, 8), (0, 9), (0, 10), (0, 11), (1, 0), (1, 1), (1, 2), (1, 3), (1, 4), (1, 5), (1, 6), (1, 7), (1, 8), (1, 9), (1, 10), (1, 11), (2, 0), (2, 1), (2, 2), (2, 3), (2, 4), (2, 5), (2, 6), (2, 7), (2, 8), (2, 9), (2, 10), (2, 11), (3, 0), (3, 1), (3, 2), (3, 3), (3, 4), (3, 5), (3, 6), (3, 7), (3, 8), (3, 9), (3, 10), (3, 11), (4, 0), (4, 1), (4, 2), (4, 3), (4, 4), (4, 5), (4, 6), (4, 7), (4, 8), (4, 9), (4, 10), (4, 11), (5, 0), (5, 1), (5, 2), (5, 3), (5, 4), (5, 5), (5, 6), (5, 7), (5, 8), (5, 9), (5, 10), (5, 11), (6, 0), (6, 1), (6, 2), (6, 3), (6, 4), (6, 5), (6, 6), (6, 7), (6, 8), (6, 9), (6, 10), (6, 11), (7, 0), (7, 1), (7, 2), (7, 3), (7, 4), (7, 5), (7, 6), (7, 7), (7, 8), (7, 9), (7, 10), (7, 11), (8, 0), (8, 1), (8, 2), (8, 3), (8, 4), (8, 5), (8, 6), (8, 7), (8, 8), (8, 9), (8, 10), (8, 11), (9, 0), (9, 1), (9, 2), (9, 3), (9, 4), (9, 5), (9, 6), (9, 7), (9, 8), (9, 9), (9, 10), (9, 11), (10, 0), (10, 1), (10, 2), (10, 3), (10, 4), (10, 5), (10, 6), (10, 7), (10, 8), (10, 9), (10, 10), (10, 11), (11, 0), (11, 1), (11, 2), (11, 3), (11, 4), (11, 5), (11, 6), (11, 7), (11, 8), (11, 9), (11, 10), (11, 11)}\n",
            "    x_index_0 : Size=1, Index=None, Ordered=False\n",
            "        Key  : Dimen : Domain : Size : Members\n",
            "        None :     1 :    Any :   12 : {0, 1, 2, 3, 4, 5, 6, 7, 8, 9, 10, 11}\n",
            "    x_index_1 : Size=1, Index=None, Ordered=False\n",
            "        Key  : Dimen : Domain : Size : Members\n",
            "        None :     1 :    Any :   12 : {0, 1, 2, 3, 4, 5, 6, 7, 8, 9, 10, 11}\n",
            "\n",
            "1 Var Declarations\n",
            "    x : Size=144, Index=x_index\n",
            "        Key      : Lower : Value : Upper : Fixed : Stale : Domain\n",
            "          (0, 0) :     0 :   0.0 :     1 : False : False : Binary\n",
            "          (0, 1) :     0 :   0.0 :     1 : False : False : Binary\n",
            "          (0, 2) :     0 :   0.0 :     1 : False : False : Binary\n",
            "          (0, 3) :     0 :   0.0 :     1 : False : False : Binary\n",
            "          (0, 4) :     0 :   0.0 :     1 : False : False : Binary\n",
            "          (0, 5) :     0 :   0.0 :     1 : False : False : Binary\n",
            "          (0, 6) :     0 :   1.0 :     1 : False : False : Binary\n",
            "          (0, 7) :     0 :   0.0 :     1 : False : False : Binary\n",
            "          (0, 8) :     0 :   0.0 :     1 : False : False : Binary\n",
            "          (0, 9) :     0 :   0.0 :     1 : False : False : Binary\n",
            "         (0, 10) :     0 :   0.0 :     1 : False : False : Binary\n",
            "         (0, 11) :     0 :   0.0 :     1 : False : False : Binary\n",
            "          (1, 0) :     0 :   0.0 :     1 : False : False : Binary\n",
            "          (1, 1) :     0 :   1.0 :     1 : False : False : Binary\n",
            "          (1, 2) :     0 :   0.0 :     1 : False : False : Binary\n",
            "          (1, 3) :     0 :   0.0 :     1 : False : False : Binary\n",
            "          (1, 4) :     0 :   0.0 :     1 : False : False : Binary\n",
            "          (1, 5) :     0 :   0.0 :     1 : False : False : Binary\n",
            "          (1, 6) :     0 :   0.0 :     1 : False : False : Binary\n",
            "          (1, 7) :     0 :   0.0 :     1 : False : False : Binary\n",
            "          (1, 8) :     0 :   0.0 :     1 : False : False : Binary\n",
            "          (1, 9) :     0 :   0.0 :     1 : False : False : Binary\n",
            "         (1, 10) :     0 :   0.0 :     1 : False : False : Binary\n",
            "         (1, 11) :     0 :   0.0 :     1 : False : False : Binary\n",
            "          (2, 0) :     0 :   0.0 :     1 : False : False : Binary\n",
            "          (2, 1) :     0 :   0.0 :     1 : False : False : Binary\n",
            "          (2, 2) :     0 :   0.0 :     1 : False : False : Binary\n",
            "          (2, 3) :     0 :   0.0 :     1 : False : False : Binary\n",
            "          (2, 4) :     0 :   1.0 :     1 : False : False : Binary\n",
            "          (2, 5) :     0 :   0.0 :     1 : False : False : Binary\n",
            "          (2, 6) :     0 :   0.0 :     1 : False : False : Binary\n",
            "          (2, 7) :     0 :   0.0 :     1 : False : False : Binary\n",
            "          (2, 8) :     0 :   0.0 :     1 : False : False : Binary\n",
            "          (2, 9) :     0 :   0.0 :     1 : False : False : Binary\n",
            "         (2, 10) :     0 :   0.0 :     1 : False : False : Binary\n",
            "         (2, 11) :     0 :   0.0 :     1 : False : False : Binary\n",
            "          (3, 0) :     0 :   1.0 :     1 : False : False : Binary\n",
            "          (3, 1) :     0 :   0.0 :     1 : False : False : Binary\n",
            "          (3, 2) :     0 :   0.0 :     1 : False : False : Binary\n",
            "          (3, 3) :     0 :   0.0 :     1 : False : False : Binary\n",
            "          (3, 4) :     0 :   0.0 :     1 : False : False : Binary\n",
            "          (3, 5) :     0 :   0.0 :     1 : False : False : Binary\n",
            "          (3, 6) :     0 :   0.0 :     1 : False : False : Binary\n",
            "          (3, 7) :     0 :   0.0 :     1 : False : False : Binary\n",
            "          (3, 8) :     0 :   0.0 :     1 : False : False : Binary\n",
            "          (3, 9) :     0 :   0.0 :     1 : False : False : Binary\n",
            "         (3, 10) :     0 :   0.0 :     1 : False : False : Binary\n",
            "         (3, 11) :     0 :   0.0 :     1 : False : False : Binary\n",
            "          (4, 0) :     0 :   0.0 :     1 : False : False : Binary\n",
            "          (4, 1) :     0 :   0.0 :     1 : False : False : Binary\n",
            "          (4, 2) :     0 :   0.0 :     1 : False : False : Binary\n",
            "          (4, 3) :     0 :   0.0 :     1 : False : False : Binary\n",
            "          (4, 4) :     0 :   0.0 :     1 : False : False : Binary\n",
            "          (4, 5) :     0 :   0.0 :     1 : False : False : Binary\n",
            "          (4, 6) :     0 :   0.0 :     1 : False : False : Binary\n",
            "          (4, 7) :     0 :   0.0 :     1 : False : False : Binary\n",
            "          (4, 8) :     0 :   0.0 :     1 : False : False : Binary\n",
            "          (4, 9) :     0 :   0.0 :     1 : False : False : Binary\n",
            "         (4, 10) :     0 :   1.0 :     1 : False : False : Binary\n",
            "         (4, 11) :     0 :   0.0 :     1 : False : False : Binary\n",
            "          (5, 0) :     0 :   0.0 :     1 : False : False : Binary\n",
            "          (5, 1) :     0 :   0.0 :     1 : False : False : Binary\n",
            "          (5, 2) :     0 :   1.0 :     1 : False : False : Binary\n",
            "          (5, 3) :     0 :   0.0 :     1 : False : False : Binary\n",
            "          (5, 4) :     0 :   0.0 :     1 : False : False : Binary\n",
            "          (5, 5) :     0 :   0.0 :     1 : False : False : Binary\n",
            "          (5, 6) :     0 :   0.0 :     1 : False : False : Binary\n",
            "          (5, 7) :     0 :   0.0 :     1 : False : False : Binary\n",
            "          (5, 8) :     0 :   0.0 :     1 : False : False : Binary\n",
            "          (5, 9) :     0 :   0.0 :     1 : False : False : Binary\n",
            "         (5, 10) :     0 :   0.0 :     1 : False : False : Binary\n",
            "         (5, 11) :     0 :   0.0 :     1 : False : False : Binary\n",
            "          (6, 0) :     0 :   0.0 :     1 : False : False : Binary\n",
            "          (6, 1) :     0 :   0.0 :     1 : False : False : Binary\n",
            "          (6, 2) :     0 :   0.0 :     1 : False : False : Binary\n",
            "          (6, 3) :     0 :   0.0 :     1 : False : False : Binary\n",
            "          (6, 4) :     0 :   0.0 :     1 : False : False : Binary\n",
            "          (6, 5) :     0 :   1.0 :     1 : False : False : Binary\n",
            "          (6, 6) :     0 :   0.0 :     1 : False : False : Binary\n",
            "          (6, 7) :     0 :   0.0 :     1 : False : False : Binary\n",
            "          (6, 8) :     0 :   0.0 :     1 : False : False : Binary\n",
            "          (6, 9) :     0 :   0.0 :     1 : False : False : Binary\n",
            "         (6, 10) :     0 :   0.0 :     1 : False : False : Binary\n",
            "         (6, 11) :     0 :   0.0 :     1 : False : False : Binary\n",
            "          (7, 0) :     0 :   0.0 :     1 : False : False : Binary\n",
            "          (7, 1) :     0 :   0.0 :     1 : False : False : Binary\n",
            "          (7, 2) :     0 :   0.0 :     1 : False : False : Binary\n",
            "          (7, 3) :     0 :   1.0 :     1 : False : False : Binary\n",
            "          (7, 4) :     0 :   0.0 :     1 : False : False : Binary\n",
            "          (7, 5) :     0 :   0.0 :     1 : False : False : Binary\n",
            "          (7, 6) :     0 :   0.0 :     1 : False : False : Binary\n",
            "          (7, 7) :     0 :   0.0 :     1 : False : False : Binary\n",
            "          (7, 8) :     0 :   0.0 :     1 : False : False : Binary\n",
            "          (7, 9) :     0 :   0.0 :     1 : False : False : Binary\n",
            "         (7, 10) :     0 :   0.0 :     1 : False : False : Binary\n",
            "         (7, 11) :     0 :   0.0 :     1 : False : False : Binary\n",
            "          (8, 0) :     0 :   0.0 :     1 : False : False : Binary\n",
            "          (8, 1) :     0 :   0.0 :     1 : False : False : Binary\n",
            "          (8, 2) :     0 :   0.0 :     1 : False : False : Binary\n",
            "          (8, 3) :     0 :   0.0 :     1 : False : False : Binary\n",
            "          (8, 4) :     0 :   0.0 :     1 : False : False : Binary\n",
            "          (8, 5) :     0 :   0.0 :     1 : False : False : Binary\n",
            "          (8, 6) :     0 :   0.0 :     1 : False : False : Binary\n",
            "          (8, 7) :     0 :   0.0 :     1 : False : False : Binary\n",
            "          (8, 8) :     0 :   0.0 :     1 : False : False : Binary\n",
            "          (8, 9) :     0 :   1.0 :     1 : False : False : Binary\n",
            "         (8, 10) :     0 :   0.0 :     1 : False : False : Binary\n",
            "         (8, 11) :     0 :   0.0 :     1 : False : False : Binary\n",
            "          (9, 0) :     0 :   0.0 :     1 : False : False : Binary\n",
            "          (9, 1) :     0 :   0.0 :     1 : False : False : Binary\n",
            "          (9, 2) :     0 :   0.0 :     1 : False : False : Binary\n",
            "          (9, 3) :     0 :   0.0 :     1 : False : False : Binary\n",
            "          (9, 4) :     0 :   0.0 :     1 : False : False : Binary\n",
            "          (9, 5) :     0 :   0.0 :     1 : False : False : Binary\n",
            "          (9, 6) :     0 :   0.0 :     1 : False : False : Binary\n",
            "          (9, 7) :     0 :   0.0 :     1 : False : False : Binary\n",
            "          (9, 8) :     0 :   0.0 :     1 : False : False : Binary\n",
            "          (9, 9) :     0 :   0.0 :     1 : False : False : Binary\n",
            "         (9, 10) :     0 :   0.0 :     1 : False : False : Binary\n",
            "         (9, 11) :     0 :   1.0 :     1 : False : False : Binary\n",
            "         (10, 0) :     0 :   0.0 :     1 : False : False : Binary\n",
            "         (10, 1) :     0 :   0.0 :     1 : False : False : Binary\n",
            "         (10, 2) :     0 :   0.0 :     1 : False : False : Binary\n",
            "         (10, 3) :     0 :   0.0 :     1 : False : False : Binary\n",
            "         (10, 4) :     0 :   0.0 :     1 : False : False : Binary\n",
            "         (10, 5) :     0 :   0.0 :     1 : False : False : Binary\n",
            "         (10, 6) :     0 :   0.0 :     1 : False : False : Binary\n",
            "         (10, 7) :     0 :   0.0 :     1 : False : False : Binary\n",
            "         (10, 8) :     0 :   1.0 :     1 : False : False : Binary\n",
            "         (10, 9) :     0 :   0.0 :     1 : False : False : Binary\n",
            "        (10, 10) :     0 :   0.0 :     1 : False : False : Binary\n",
            "        (10, 11) :     0 :   0.0 :     1 : False : False : Binary\n",
            "         (11, 0) :     0 :   0.0 :     1 : False : False : Binary\n",
            "         (11, 1) :     0 :   0.0 :     1 : False : False : Binary\n",
            "         (11, 2) :     0 :   0.0 :     1 : False : False : Binary\n",
            "         (11, 3) :     0 :   0.0 :     1 : False : False : Binary\n",
            "         (11, 4) :     0 :   0.0 :     1 : False : False : Binary\n",
            "         (11, 5) :     0 :   0.0 :     1 : False : False : Binary\n",
            "         (11, 6) :     0 :   0.0 :     1 : False : False : Binary\n",
            "         (11, 7) :     0 :   1.0 :     1 : False : False : Binary\n",
            "         (11, 8) :     0 :   0.0 :     1 : False : False : Binary\n",
            "         (11, 9) :     0 :   0.0 :     1 : False : False : Binary\n",
            "        (11, 10) :     0 :   0.0 :     1 : False : False : Binary\n",
            "        (11, 11) :     0 :   0.0 :     1 : False : False : Binary\n",
            "\n",
            "1 Objective Declarations\n",
            "    objective : Size=1, Index=None, Active=True\n",
            "        Key  : Active : Sense    : Expression\n",
            "        None :   True : minimize : 22.0*x[0,0] + 18.0*x[1,0] + 19.0*x[2,0] + 18.0*x[3,0] + 23.0*x[4,0] + 24.0*x[5,0] + 22.0*x[6,0] + 23.0*x[7,0] + 21.0*x[8,0] + 19.0*x[9,0] + 20.0*x[10,0] + 21.0*x[11,0] + 22.0*x[0,1] + 12.0*x[1,1] + 21.0*x[2,1] + 24.0*x[3,1] + 20.0*x[4,1] + 16.0*x[5,1] + 22.0*x[6,1] + 17.0*x[7,1] + 22.0*x[8,1] + 19.0*x[9,1] + 22.0*x[10,1] + 25.0*x[11,1] + 19.0*x[0,2] + 18.0*x[1,2] + 17.0*x[2,2] + 20.0*x[3,2] + 19.0*x[4,2] + 15.0*x[5,2] + 21.0*x[6,2] + 17.0*x[7,2] + 21.0*x[8,2] + 18.0*x[9,2] + 23.0*x[10,2] + 21.0*x[11,2] + 22.0*x[0,3] + 19.0*x[1,3] + 19.0*x[2,3] + 21.0*x[3,3] + 18.0*x[4,3] + 16.0*x[5,3] + 23.0*x[6,3] + 17.0*x[7,3] + 24.0*x[8,3] + 19.0*x[9,3] + 20.0*x[10,3] + 19.0*x[11,3] + 22.0*x[0,4] + 22.0*x[1,4] + 17.0*x[2,4] + 21.0*x[3,4] + 20.0*x[4,4] + 24.0*x[5,4] + 18.0*x[6,4] + 22.0*x[7,4] + 20.0*x[8,4] + 26.0*x[9,4] + 22.0*x[10,4] + 21.0*x[11,4] + 24.0*x[0,5] + 21.0*x[1,5] + 19.0*x[2,5] + 21.0*x[3,5] + 23.0*x[4,5] + 21.0*x[5,5] + 17.0*x[6,5] + 24.0*x[7,5] + 23.0*x[8,5] + 24.0*x[9,5] + 20.0*x[10,5] + 19.0*x[11,5] + 18.0*x[0,6] + 17.0*x[1,6] + 24.0*x[2,6] + 22.0*x[3,6] + 22.0*x[4,6] + 23.0*x[5,6] + 16.0*x[6,6] + 23.0*x[7,6] + 19.0*x[8,6] + 19.0*x[9,6] + 20.0*x[10,6] + 18.0*x[11,6] + 17.0*x[0,7] + 20.0*x[1,7] + 16.0*x[2,7] + 19.0*x[3,7] + 25.0*x[4,7] + 21.0*x[5,7] + 19.0*x[6,7] + 20.0*x[7,7] + 18.0*x[8,7] + 17.0*x[9,7] + 19.0*x[10,7] + 16.0*x[11,7] + 21.0*x[0,8] + 16.0*x[1,8] + 18.0*x[2,8] + 18.0*x[3,8] + 24.0*x[4,8] + 20.0*x[5,8] + 24.0*x[6,8] + 22.0*x[7,8] + 23.0*x[8,8] + 18.0*x[9,8] + 17.0*x[10,8] + 22.0*x[11,8] + 23.0*x[0,9] + 17.0*x[1,9] + 16.0*x[2,9] + 21.0*x[3,9] + 19.0*x[4,9] + 20.0*x[5,9] + 20.0*x[6,9] + 19.0*x[7,9] + 15.0*x[8,9] + 20.0*x[9,9] + 19.0*x[10,9] + 24.0*x[11,9] + 19.0*x[0,10] + 17.0*x[1,10] + 20.0*x[2,10] + 23.0*x[3,10] + 21.0*x[4,10] + 22.0*x[5,10] + 20.0*x[6,10] + 23.0*x[7,10] + 25.0*x[8,10] + 21.0*x[9,10] + 20.0*x[10,10] + 25.0*x[11,10] + 21.0*x[0,11] + 24.0*x[1,11] + 24.0*x[2,11] + 23.0*x[3,11] + 23.0*x[4,11] + 19.0*x[5,11] + 23.0*x[6,11] + 21.0*x[7,11] + 21.0*x[8,11] + 20.0*x[9,11] + 24.0*x[10,11] + 24.0*x[11,11]\n",
            "\n",
            "1 Constraint Declarations\n",
            "    constraints : Size=27, Index=constraints_index, Active=True\n",
            "        Key : Lower : Body                                                                                                                    : Upper : Active\n",
            "          1 :   1.0 :             x[0,0] + x[0,1] + x[0,2] + x[0,3] + x[0,4] + x[0,5] + x[0,6] + x[0,7] + x[0,8] + x[0,9] + x[0,10] + x[0,11] :   1.0 :   True\n",
            "          2 :   1.0 :             x[1,0] + x[1,1] + x[1,2] + x[1,3] + x[1,4] + x[1,5] + x[1,6] + x[1,7] + x[1,8] + x[1,9] + x[1,10] + x[1,11] :   1.0 :   True\n",
            "          3 :   1.0 :             x[2,0] + x[2,1] + x[2,2] + x[2,3] + x[2,4] + x[2,5] + x[2,6] + x[2,7] + x[2,8] + x[2,9] + x[2,10] + x[2,11] :   1.0 :   True\n",
            "          4 :   1.0 :             x[3,0] + x[3,1] + x[3,2] + x[3,3] + x[3,4] + x[3,5] + x[3,6] + x[3,7] + x[3,8] + x[3,9] + x[3,10] + x[3,11] :   1.0 :   True\n",
            "          5 :   1.0 :             x[4,0] + x[4,1] + x[4,2] + x[4,3] + x[4,4] + x[4,5] + x[4,6] + x[4,7] + x[4,8] + x[4,9] + x[4,10] + x[4,11] :   1.0 :   True\n",
            "          6 :   1.0 :             x[5,0] + x[5,1] + x[5,2] + x[5,3] + x[5,4] + x[5,5] + x[5,6] + x[5,7] + x[5,8] + x[5,9] + x[5,10] + x[5,11] :   1.0 :   True\n",
            "          7 :   1.0 :             x[6,0] + x[6,1] + x[6,2] + x[6,3] + x[6,4] + x[6,5] + x[6,6] + x[6,7] + x[6,8] + x[6,9] + x[6,10] + x[6,11] :   1.0 :   True\n",
            "          8 :   1.0 :             x[7,0] + x[7,1] + x[7,2] + x[7,3] + x[7,4] + x[7,5] + x[7,6] + x[7,7] + x[7,8] + x[7,9] + x[7,10] + x[7,11] :   1.0 :   True\n",
            "          9 :   1.0 :             x[8,0] + x[8,1] + x[8,2] + x[8,3] + x[8,4] + x[8,5] + x[8,6] + x[8,7] + x[8,8] + x[8,9] + x[8,10] + x[8,11] :   1.0 :   True\n",
            "         10 :   1.0 :             x[9,0] + x[9,1] + x[9,2] + x[9,3] + x[9,4] + x[9,5] + x[9,6] + x[9,7] + x[9,8] + x[9,9] + x[9,10] + x[9,11] :   1.0 :   True\n",
            "         11 :   1.0 : x[10,0] + x[10,1] + x[10,2] + x[10,3] + x[10,4] + x[10,5] + x[10,6] + x[10,7] + x[10,8] + x[10,9] + x[10,10] + x[10,11] :   1.0 :   True\n",
            "         12 :   1.0 : x[11,0] + x[11,1] + x[11,2] + x[11,3] + x[11,4] + x[11,5] + x[11,6] + x[11,7] + x[11,8] + x[11,9] + x[11,10] + x[11,11] :   1.0 :   True\n",
            "         13 :   1.0 :             x[0,0] + x[1,0] + x[2,0] + x[3,0] + x[4,0] + x[5,0] + x[6,0] + x[7,0] + x[8,0] + x[9,0] + x[10,0] + x[11,0] :   1.0 :   True\n",
            "         14 :   1.0 :             x[0,1] + x[1,1] + x[2,1] + x[3,1] + x[4,1] + x[5,1] + x[6,1] + x[7,1] + x[8,1] + x[9,1] + x[10,1] + x[11,1] :   1.0 :   True\n",
            "         15 :   1.0 :             x[0,2] + x[1,2] + x[2,2] + x[3,2] + x[4,2] + x[5,2] + x[6,2] + x[7,2] + x[8,2] + x[9,2] + x[10,2] + x[11,2] :   1.0 :   True\n",
            "         16 :   1.0 :             x[0,3] + x[1,3] + x[2,3] + x[3,3] + x[4,3] + x[5,3] + x[6,3] + x[7,3] + x[8,3] + x[9,3] + x[10,3] + x[11,3] :   1.0 :   True\n",
            "         17 :   1.0 :             x[0,4] + x[1,4] + x[2,4] + x[3,4] + x[4,4] + x[5,4] + x[6,4] + x[7,4] + x[8,4] + x[9,4] + x[10,4] + x[11,4] :   1.0 :   True\n",
            "         18 :   1.0 :             x[0,5] + x[1,5] + x[2,5] + x[3,5] + x[4,5] + x[5,5] + x[6,5] + x[7,5] + x[8,5] + x[9,5] + x[10,5] + x[11,5] :   1.0 :   True\n",
            "         19 :   1.0 :             x[0,6] + x[1,6] + x[2,6] + x[3,6] + x[4,6] + x[5,6] + x[6,6] + x[7,6] + x[8,6] + x[9,6] + x[10,6] + x[11,6] :   1.0 :   True\n",
            "         20 :   1.0 :             x[0,7] + x[1,7] + x[2,7] + x[3,7] + x[4,7] + x[5,7] + x[6,7] + x[7,7] + x[8,7] + x[9,7] + x[10,7] + x[11,7] :   1.0 :   True\n",
            "         21 :   1.0 :             x[0,8] + x[1,8] + x[2,8] + x[3,8] + x[4,8] + x[5,8] + x[6,8] + x[7,8] + x[8,8] + x[9,8] + x[10,8] + x[11,8] :   1.0 :   True\n",
            "         22 :   1.0 :             x[0,9] + x[1,9] + x[2,9] + x[3,9] + x[4,9] + x[5,9] + x[6,9] + x[7,9] + x[8,9] + x[9,9] + x[10,9] + x[11,9] :   1.0 :   True\n",
            "         23 :   1.0 : x[0,10] + x[1,10] + x[2,10] + x[3,10] + x[4,10] + x[5,10] + x[6,10] + x[7,10] + x[8,10] + x[9,10] + x[10,10] + x[11,10] :   1.0 :   True\n",
            "         24 :   1.0 : x[0,11] + x[1,11] + x[2,11] + x[3,11] + x[4,11] + x[5,11] + x[6,11] + x[7,11] + x[8,11] + x[9,11] + x[10,11] + x[11,11] :   1.0 :   True\n",
            "         25 :   0.0 :                                                                                                                  x[1,3] :   0.0 :   True\n",
            "         26 :   0.0 :                                                                                                                  x[9,5] :   0.0 :   True\n",
            "         27 :   0.0 :                                                                                                                 x[5,10] :   0.0 :   True\n",
            "\n",
            "7 Declarations: x_index_0 x_index_1 x_index x objective constraints_index constraints\n"
          ]
        }
      ]
    },
    {
      "cell_type": "code",
      "metadata": {
        "colab": {
          "base_uri": "https://localhost:8080/"
        },
        "id": "myo_MFK9Tb6o",
        "outputId": "f4cc80f7-94bd-4d09-d3eb-49b1a875cee7"
      },
      "source": [
        "result=opt_cbc.solve(model)\n",
        "print(result)"
      ],
      "execution_count": 29,
      "outputs": [
        {
          "output_type": "stream",
          "name": "stdout",
          "text": [
            "\n",
            "Problem: \n",
            "- Name: unknown\n",
            "  Lower bound: 203.0\n",
            "  Upper bound: 203.0\n",
            "  Number of objectives: 1\n",
            "  Number of constraints: 24\n",
            "  Number of variables: 141\n",
            "  Number of binary variables: 144\n",
            "  Number of integer variables: 144\n",
            "  Number of nonzeros: 141\n",
            "  Sense: minimize\n",
            "Solver: \n",
            "- Status: ok\n",
            "  User time: -1.0\n",
            "  System time: 0.01\n",
            "  Wallclock time: 0.01\n",
            "  Termination condition: optimal\n",
            "  Termination message: Model was solved to optimality (subject to tolerances), and an optimal solution is available.\n",
            "  Statistics: \n",
            "    Branch and bound: \n",
            "      Number of bounded subproblems: 0\n",
            "      Number of created subproblems: 0\n",
            "    Black box: \n",
            "      Number of iterations: 0\n",
            "  Error rc: 0\n",
            "  Time: 0.038988351821899414\n",
            "Solution: \n",
            "- number of solutions: 0\n",
            "  number of solutions displayed: 0\n",
            "\n"
          ]
        }
      ]
    },
    {
      "cell_type": "code",
      "metadata": {
        "colab": {
          "base_uri": "https://localhost:8080/"
        },
        "id": "lCh8AA7Pmhs4",
        "outputId": "5ab2f3e4-6e06-4aee-c5e7-ff75a63dda69"
      },
      "source": [
        "print(\"Total optimal cost:-\",model.objective())\n",
        "print('\\nDecision Variables')\n",
        "for i in row_indices:\n",
        "  for j in col_indices:\n",
        "    if model.x[i,j].value>0:\n",
        "      print(f'factory {i+1} must be opened at location {j+1}')"
      ],
      "execution_count": 30,
      "outputs": [
        {
          "output_type": "stream",
          "name": "stdout",
          "text": [
            "Total optimal cost:- 203.0\n",
            "\n",
            "Decision Variables\n",
            "factory 1 must be opened at location 7\n",
            "factory 2 must be opened at location 2\n",
            "factory 3 must be opened at location 5\n",
            "factory 4 must be opened at location 1\n",
            "factory 5 must be opened at location 11\n",
            "factory 6 must be opened at location 3\n",
            "factory 7 must be opened at location 6\n",
            "factory 8 must be opened at location 4\n",
            "factory 9 must be opened at location 10\n",
            "factory 10 must be opened at location 12\n",
            "factory 11 must be opened at location 9\n",
            "factory 12 must be opened at location 8\n"
          ]
        }
      ]
    },
    {
      "cell_type": "markdown",
      "metadata": {
        "id": "D_40PRg4fuXp"
      },
      "source": [
        "After adding three more restriction in our model,the optimal cost is same as before because in the previous optimal solution these restriction were already fulfilled so adding these restriciton didn't make any impact on the solution."
      ]
    },
    {
      "cell_type": "code",
      "metadata": {
        "id": "y2wyedQNTjXP"
      },
      "source": [
        ""
      ],
      "execution_count": 30,
      "outputs": []
    }
  ]
}