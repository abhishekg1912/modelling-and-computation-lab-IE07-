{
  "nbformat": 4,
  "nbformat_minor": 0,
  "metadata": {
    "colab": {
      "name": "21i190005_IE507_Lab6_Ex1.ipynb",
      "provenance": []
    },
    "kernelspec": {
      "name": "python3",
      "display_name": "Python 3"
    },
    "language_info": {
      "name": "python"
    }
  },
  "cells": [
    {
      "cell_type": "code",
      "metadata": {
        "id": "WBkRdFKNDczU"
      },
      "source": [
        "!pip install -q pyomo"
      ],
      "execution_count": 26,
      "outputs": []
    },
    {
      "cell_type": "code",
      "metadata": {
        "id": "M7Lst2KFEg5j"
      },
      "source": [
        "from pyomo.environ import *"
      ],
      "execution_count": 27,
      "outputs": []
    },
    {
      "cell_type": "code",
      "metadata": {
        "id": "L9fs75gYEoVb"
      },
      "source": [
        "import numpy as np"
      ],
      "execution_count": 28,
      "outputs": []
    },
    {
      "cell_type": "code",
      "metadata": {
        "id": "WSgS_ADLErYo"
      },
      "source": [
        "import pandas as pd\n"
      ],
      "execution_count": 29,
      "outputs": []
    },
    {
      "cell_type": "markdown",
      "metadata": {
        "id": "bn_f_ECLE3wN"
      },
      "source": [
        "In this lab, we will consider non-linear problems which can be converted to linear programs. One famous example is the absolute value function given as: \n",
        "\\begin{align}\n",
        "|x| = \\begin{cases}\n",
        "        x  & \\text{ if } x\\geq 0 \\\\ \n",
        "        -x & \\text{ otherwise }.\n",
        "      \\end{cases}\n",
        "\\end{align}\n",
        "\n",
        "\n",
        "We will now consider the absolute value function appearing in the objective function. Consider the optimization problem $\\textbf{(OP)}$:\n",
        "\\begin{align}\n",
        "\\min \\ |x_1| + |x_2| + |x_3| + |x_4| + |x_5| &  \\nonumber \\\\\n",
        "{\\rm{s.t.}} \\ 85 x_1 + 92 x_2 + 45 x_3 + 27 x_4 + 31 x_5 & \\geq 1 \\nonumber \\\\\n",
        "92 x_1 + 54 x_2 + 22 x_3 + 20 x_4 + 7 x_5 & \\geq 1 \\nonumber \\\\\n",
        "96 x_1 + 67 x_2 + 29 x_3 + 20 x_4 + 11 x_5 & \\geq 1 \\nonumber \\\\\n",
        "-91 x_1 - 57 x_2 - 33 x_3 - 23 x_4 - 12 x_5 & \\geq 1 \\nonumber \\\\\n",
        "-99 x_1 - 75 x_2 - 26 x_3 - 24 x_4 - 41 x_5 & \\geq 1 \\nonumber \\\\\n",
        "-98 x_1 - 99 x_2 - 57 x_3 - 45 x_4 - 65 x_5 & \\geq 1 \\nonumber\n",
        "\\end{align}\n",
        "\n",
        "In this optimization problem $\\textbf{(OP)}$, we wish to minimize the sum of absolute values of the decision variables. Such problems are useful when the decision variables might take both positive and negative values, and we want to optimize the magnitudes of the decision variables. \n",
        "\n",
        "We will now consider two possible ways to solve this problem. \n",
        "\n",
        "$\\textbf{Approach 1:}$ \n",
        "\n",
        "We can use a substitution of the absolute function values of the variables to new variables as $u_i = |x_i|, \\ \\forall i \\in \\{1,\\ldots,5\\}$. With this substitution, note that we have $u_i\\geq 0, \\ \\forall i \\in \\{1,\\ldots,5\\}$. Also, the following inequalities are satisfied: $x_i \\leq u_i, -x_i \\leq u_i, \\ \\forall i \\in \\{1,\\ldots,5\\}$. Thus we can transform the problem $\\textbf{(OP)}$ as the following optimization problem $\\textbf{(OP1)}$, where the absolute values of $x_i$ are replaced with $u_i$ and constraints related to the new variables $u_i$ are introduced. Thus we have the problem $\\textbf{(OP1)}$:\n",
        "\n",
        "\\begin{align}\n",
        "\\min \\ u_1 + u_2 + u_3 + u_4 + u_5 &  \\nonumber \\\\\n",
        "{\\rm{s.t.}} \\ 85 x_1 + 92 x_2 + 45 x_3 + 27 x_4 + 31 x_5 & \\geq 1 \\nonumber \\\\\n",
        "92 x_1 + 54 x_2 + 22 x_3 + 20 x_4 + 7 x_5 & \\geq 1 \\nonumber \\\\\n",
        "96 x_1 + 67 x_2 + 29 x_3 + 20 x_4 + 11 x_5 & \\geq 1 \\nonumber \\\\\n",
        "-91 x_1 - 57 x_2 - 33 x_3 - 23 x_4 - 12 x_5 & \\geq 1 \\nonumber \\\\\n",
        "-99 x_1 - 75 x_2 - 26 x_3 - 24 x_4 - 41 x_5 & \\geq 1 \\nonumber \\\\\n",
        "-98 x_1 - 99 x_2 - 57 x_3 - 45 x_4 - 65 x_5 & \\geq 1 \\nonumber \\\\\n",
        "u_i \\geq x_i, & \\  \\forall i \\in \\{1,\\ldots,5\\} \\nonumber \\\\ \n",
        "u_i \\geq -x_i, & \\  \\forall i \\in \\{1,\\ldots,5\\} \\nonumber \\\\ \n",
        "u_i \\geq 0, & \\ \\forall i \\in \\{1,\\ldots,5\\}. \n",
        "\\end{align}\n",
        "\n",
        "Note that the number of decision variables in $\\textbf{(OP1)}$ is twice the number of decision variables in $\\textbf{(OP)}$. However the objective function and the constraints in $\\textbf{(OP1)}$ are now linear, and thus $\\textbf{(OP1)}$ is a linear program. \n",
        "\n",
        "\n"
      ]
    },
    {
      "cell_type": "code",
      "metadata": {
        "id": "uN1KNGGjEuzX"
      },
      "source": [
        "coef = np.loadtxt('lab6_practice_coef.txt', delimiter=',')"
      ],
      "execution_count": 30,
      "outputs": []
    },
    {
      "cell_type": "code",
      "metadata": {
        "colab": {
          "base_uri": "https://localhost:8080/"
        },
        "id": "94k_C87oFcwl",
        "outputId": "4b1dd5cd-d900-4827-940c-f5e12495b910"
      },
      "source": [
        "print(coef.shape)\n",
        "print('Num rows:',coef.shape[0])\n",
        "print('Num cols:',coef.shape[1])"
      ],
      "execution_count": 31,
      "outputs": [
        {
          "output_type": "stream",
          "name": "stdout",
          "text": [
            "(17, 11)\n",
            "Num rows: 17\n",
            "Num cols: 11\n"
          ]
        }
      ]
    },
    {
      "cell_type": "code",
      "metadata": {
        "colab": {
          "base_uri": "https://localhost:8080/"
        },
        "id": "Z-QEpC4BFgKD",
        "outputId": "d02d74ab-66e9-4b93-c509-cd34f5c7726c"
      },
      "source": [
        "print(coef)"
      ],
      "execution_count": 32,
      "outputs": [
        {
          "output_type": "stream",
          "name": "stdout",
          "text": [
            "[[  0.   0.   0.   0.   0.   1.   1.   1.   1.   1.   0.]\n",
            " [ 85.  92.  45.  27.  31.   0.   0.   0.   0.   0.   1.]\n",
            " [ 92.  54.  22.  20.   7.   0.   0.   0.   0.   0.   1.]\n",
            " [ 96.  67.  29.  20.  11.   0.   0.   0.   0.   0.   1.]\n",
            " [-91. -57. -33. -23. -12.   0.   0.   0.   0.   0.   1.]\n",
            " [-99. -75. -26. -24. -41.   0.   0.   0.   0.   0.   1.]\n",
            " [-98. -99. -57. -45. -65.   0.   0.   0.   0.   0.   1.]\n",
            " [ -1.   0.   0.   0.   0.   1.   0.   0.   0.   0.   0.]\n",
            " [  0.  -1.   0.   0.   0.   0.   1.   0.   0.   0.   0.]\n",
            " [  0.   0.  -1.   0.   0.   0.   0.   1.   0.   0.   0.]\n",
            " [  0.   0.   0.  -1.   0.   0.   0.   0.   1.   0.   0.]\n",
            " [  0.   0.   0.   0.  -1.   0.   0.   0.   0.   1.   0.]\n",
            " [  1.   0.   0.   0.   0.   1.   0.   0.   0.   0.   0.]\n",
            " [  0.   1.   0.   0.   0.   0.   1.   0.   0.   0.   0.]\n",
            " [  0.   0.   1.   0.   0.   0.   0.   1.   0.   0.   0.]\n",
            " [  0.   0.   0.   1.   0.   0.   0.   0.   1.   0.   0.]\n",
            " [  0.   0.   0.   0.   1.   0.   0.   0.   0.   1.   0.]]\n"
          ]
        }
      ]
    },
    {
      "cell_type": "code",
      "metadata": {
        "id": "8jjjp_G1Fi3d"
      },
      "source": [
        "model=ConcreteModel()"
      ],
      "execution_count": 33,
      "outputs": []
    },
    {
      "cell_type": "code",
      "metadata": {
        "id": "cNSE7dq7Fm5O"
      },
      "source": [
        "N=coef.shape[1]-1"
      ],
      "execution_count": 34,
      "outputs": []
    },
    {
      "cell_type": "code",
      "metadata": {
        "id": "N29mY6leFtKm"
      },
      "source": [
        "M=coef.shape[0]-1"
      ],
      "execution_count": 35,
      "outputs": []
    },
    {
      "cell_type": "code",
      "metadata": {
        "colab": {
          "base_uri": "https://localhost:8080/"
        },
        "id": "JHkZpZ8aFxpj",
        "outputId": "c61222ae-14d8-465b-a128-4b2f55b64487"
      },
      "source": [
        "obj_coef = coef[0,:-1]\n",
        "print(obj_coef.shape)\n",
        "print(obj_coef)"
      ],
      "execution_count": 36,
      "outputs": [
        {
          "output_type": "stream",
          "name": "stdout",
          "text": [
            "(10,)\n",
            "[0. 0. 0. 0. 0. 1. 1. 1. 1. 1.]\n"
          ]
        }
      ]
    },
    {
      "cell_type": "code",
      "metadata": {
        "colab": {
          "base_uri": "https://localhost:8080/"
        },
        "id": "tlWzajPfFz_u",
        "outputId": "71fe04cb-c855-46c2-9bd8-0afd23458729"
      },
      "source": [
        "constr_coef = coef[1:,:-1]\n",
        "print(constr_coef.shape)\n",
        "print(constr_coef)"
      ],
      "execution_count": 37,
      "outputs": [
        {
          "output_type": "stream",
          "name": "stdout",
          "text": [
            "(16, 10)\n",
            "[[ 85.  92.  45.  27.  31.   0.   0.   0.   0.   0.]\n",
            " [ 92.  54.  22.  20.   7.   0.   0.   0.   0.   0.]\n",
            " [ 96.  67.  29.  20.  11.   0.   0.   0.   0.   0.]\n",
            " [-91. -57. -33. -23. -12.   0.   0.   0.   0.   0.]\n",
            " [-99. -75. -26. -24. -41.   0.   0.   0.   0.   0.]\n",
            " [-98. -99. -57. -45. -65.   0.   0.   0.   0.   0.]\n",
            " [ -1.   0.   0.   0.   0.   1.   0.   0.   0.   0.]\n",
            " [  0.  -1.   0.   0.   0.   0.   1.   0.   0.   0.]\n",
            " [  0.   0.  -1.   0.   0.   0.   0.   1.   0.   0.]\n",
            " [  0.   0.   0.  -1.   0.   0.   0.   0.   1.   0.]\n",
            " [  0.   0.   0.   0.  -1.   0.   0.   0.   0.   1.]\n",
            " [  1.   0.   0.   0.   0.   1.   0.   0.   0.   0.]\n",
            " [  0.   1.   0.   0.   0.   0.   1.   0.   0.   0.]\n",
            " [  0.   0.   1.   0.   0.   0.   0.   1.   0.   0.]\n",
            " [  0.   0.   0.   1.   0.   0.   0.   0.   1.   0.]\n",
            " [  0.   0.   0.   0.   1.   0.   0.   0.   0.   1.]]\n"
          ]
        }
      ]
    },
    {
      "cell_type": "code",
      "metadata": {
        "colab": {
          "base_uri": "https://localhost:8080/"
        },
        "id": "lInpmbACF3XQ",
        "outputId": "2a3116aa-9ef0-4b41-8187-fe5b72084a93"
      },
      "source": [
        "constr_rhs = coef[1:,-1]\n",
        "print(constr_rhs.shape)\n",
        "print(constr_rhs)"
      ],
      "execution_count": 38,
      "outputs": [
        {
          "output_type": "stream",
          "name": "stdout",
          "text": [
            "(16,)\n",
            "[1. 1. 1. 1. 1. 1. 0. 0. 0. 0. 0. 0. 0. 0. 0. 0.]\n"
          ]
        }
      ]
    },
    {
      "cell_type": "code",
      "metadata": {
        "colab": {
          "base_uri": "https://localhost:8080/"
        },
        "id": "77jOP81IF89e",
        "outputId": "ea33d99a-52e5-4651-ccc1-3dda9348024f"
      },
      "source": [
        "col_indices_x = np.arange(int(N/2))\n",
        "print(col_indices_x)"
      ],
      "execution_count": 39,
      "outputs": [
        {
          "output_type": "stream",
          "name": "stdout",
          "text": [
            "[0 1 2 3 4]\n"
          ]
        }
      ]
    },
    {
      "cell_type": "code",
      "metadata": {
        "id": "kxT2rr3lGIpn"
      },
      "source": [
        "model.x = Var(col_indices_x)"
      ],
      "execution_count": 40,
      "outputs": []
    },
    {
      "cell_type": "code",
      "metadata": {
        "colab": {
          "base_uri": "https://localhost:8080/"
        },
        "id": "8mVs58lCGM4s",
        "outputId": "58ed2eef-c2ca-4341-b4c9-1c90b3377be2"
      },
      "source": [
        "col_indices_u = np.arange(int(N/2))\n",
        "print(col_indices_u)"
      ],
      "execution_count": 41,
      "outputs": [
        {
          "output_type": "stream",
          "name": "stdout",
          "text": [
            "[0 1 2 3 4]\n"
          ]
        }
      ]
    },
    {
      "cell_type": "code",
      "metadata": {
        "id": "0KLl-p8cGXkA"
      },
      "source": [
        "model.u = Var(col_indices_u, domain=NonNegativeReals)"
      ],
      "execution_count": 42,
      "outputs": []
    },
    {
      "cell_type": "code",
      "metadata": {
        "colab": {
          "base_uri": "https://localhost:8080/"
        },
        "id": "7wyQDcFvGbSZ",
        "outputId": "48957ab7-d98d-4b8c-9403-886b35d62e8d"
      },
      "source": [
        "row_indices = np.arange(M)\n",
        "print(row_indices)"
      ],
      "execution_count": 43,
      "outputs": [
        {
          "output_type": "stream",
          "name": "stdout",
          "text": [
            "[ 0  1  2  3  4  5  6  7  8  9 10 11 12 13 14 15]\n"
          ]
        }
      ]
    },
    {
      "cell_type": "code",
      "metadata": {
        "id": "pBSqv5IIGfTr"
      },
      "source": [
        "model.constraints = ConstraintList()"
      ],
      "execution_count": 44,
      "outputs": []
    },
    {
      "cell_type": "code",
      "metadata": {
        "id": "8P321PJ6HJIL"
      },
      "source": [
        "for i in row_indices:\n",
        "  model.constraints.add(summation(constr_coef[i][0:int(N/2)],model.x) + summation(constr_coef[i][int(N/2):N],model.u) >= constr_rhs[i])"
      ],
      "execution_count": 45,
      "outputs": []
    },
    {
      "cell_type": "code",
      "metadata": {
        "id": "i3alzz4EHTj8"
      },
      "source": [
        "model.objective = Objective(expr = summation(obj_coef[0:int(N/2)],model.x) + summation(obj_coef[int(N/2):N],model.u), sense=minimize)"
      ],
      "execution_count": 46,
      "outputs": []
    },
    {
      "cell_type": "code",
      "metadata": {
        "colab": {
          "base_uri": "https://localhost:8080/"
        },
        "id": "ehBcA3oZH2lg",
        "outputId": "29d91f0e-c37b-4c0e-8b0e-19d4c37fe90e"
      },
      "source": [
        "model.pprint()"
      ],
      "execution_count": 47,
      "outputs": [
        {
          "output_type": "stream",
          "name": "stdout",
          "text": [
            "3 Set Declarations\n",
            "    constraints_index : Size=1, Index=None, Ordered=Insertion\n",
            "        Key  : Dimen : Domain : Size : Members\n",
            "        None :     1 :    Any :   16 : {1, 2, 3, 4, 5, 6, 7, 8, 9, 10, 11, 12, 13, 14, 15, 16}\n",
            "    u_index : Size=1, Index=None, Ordered=False\n",
            "        Key  : Dimen : Domain : Size : Members\n",
            "        None :     1 :    Any :    5 : {0, 1, 2, 3, 4}\n",
            "    x_index : Size=1, Index=None, Ordered=False\n",
            "        Key  : Dimen : Domain : Size : Members\n",
            "        None :     1 :    Any :    5 : {0, 1, 2, 3, 4}\n",
            "\n",
            "2 Var Declarations\n",
            "    u : Size=5, Index=u_index\n",
            "        Key : Lower : Value : Upper : Fixed : Stale : Domain\n",
            "          0 :     0 :  None :  None : False :  True : NonNegativeReals\n",
            "          1 :     0 :  None :  None : False :  True : NonNegativeReals\n",
            "          2 :     0 :  None :  None : False :  True : NonNegativeReals\n",
            "          3 :     0 :  None :  None : False :  True : NonNegativeReals\n",
            "          4 :     0 :  None :  None : False :  True : NonNegativeReals\n",
            "    x : Size=5, Index=x_index\n",
            "        Key : Lower : Value : Upper : Fixed : Stale : Domain\n",
            "          0 :  None :  None :  None : False :  True :  Reals\n",
            "          1 :  None :  None :  None : False :  True :  Reals\n",
            "          2 :  None :  None :  None : False :  True :  Reals\n",
            "          3 :  None :  None :  None : False :  True :  Reals\n",
            "          4 :  None :  None :  None : False :  True :  Reals\n",
            "\n",
            "1 Objective Declarations\n",
            "    objective : Size=1, Index=None, Active=True\n",
            "        Key  : Active : Sense    : Expression\n",
            "        None :   True : minimize :  + (u[0] + u[1] + u[2] + u[3] + u[4])\n",
            "\n",
            "1 Constraint Declarations\n",
            "    constraints : Size=16, Index=constraints_index, Active=True\n",
            "        Key : Lower : Body                                                             : Upper : Active\n",
            "          1 :   1.0 :   85.0*x[0] + 92.0*x[1] + 45.0*x[2] + 27.0*x[3] + 31.0*x[4] + () :  +Inf :   True\n",
            "          2 :   1.0 :    92.0*x[0] + 54.0*x[1] + 22.0*x[2] + 20.0*x[3] + 7.0*x[4] + () :  +Inf :   True\n",
            "          3 :   1.0 :   96.0*x[0] + 67.0*x[1] + 29.0*x[2] + 20.0*x[3] + 11.0*x[4] + () :  +Inf :   True\n",
            "          4 :   1.0 : - 91.0*x[0] - 57.0*x[1] - 33.0*x[2] - 23.0*x[3] - 12.0*x[4] + () :  +Inf :   True\n",
            "          5 :   1.0 : - 99.0*x[0] - 75.0*x[1] - 26.0*x[2] - 24.0*x[3] - 41.0*x[4] + () :  +Inf :   True\n",
            "          6 :   1.0 : - 98.0*x[0] - 99.0*x[1] - 57.0*x[2] - 45.0*x[3] - 65.0*x[4] + () :  +Inf :   True\n",
            "          7 :   0.0 :                                                  - x[0] + (u[0]) :  +Inf :   True\n",
            "          8 :   0.0 :                                                  - x[1] + (u[1]) :  +Inf :   True\n",
            "          9 :   0.0 :                                                  - x[2] + (u[2]) :  +Inf :   True\n",
            "         10 :   0.0 :                                                  - x[3] + (u[3]) :  +Inf :   True\n",
            "         11 :   0.0 :                                                  - x[4] + (u[4]) :  +Inf :   True\n",
            "         12 :   0.0 :                                                    x[0] + (u[0]) :  +Inf :   True\n",
            "         13 :   0.0 :                                                    x[1] + (u[1]) :  +Inf :   True\n",
            "         14 :   0.0 :                                                    x[2] + (u[2]) :  +Inf :   True\n",
            "         15 :   0.0 :                                                    x[3] + (u[3]) :  +Inf :   True\n",
            "         16 :   0.0 :                                                    x[4] + (u[4]) :  +Inf :   True\n",
            "\n",
            "7 Declarations: x_index x u_index u constraints_index constraints objective\n"
          ]
        }
      ]
    },
    {
      "cell_type": "code",
      "metadata": {
        "colab": {
          "base_uri": "https://localhost:8080/"
        },
        "id": "2fvNEX1yH4gt",
        "outputId": "32b7a283-868b-43c2-ca12-345104a8021a"
      },
      "source": [
        "!apt-get install -y -qq coinor-cbc"
      ],
      "execution_count": 48,
      "outputs": [
        {
          "output_type": "stream",
          "name": "stdout",
          "text": [
            "Selecting previously unselected package coinor-libcoinutils3v5.\n",
            "(Reading database ... 148492 files and directories currently installed.)\n",
            "Preparing to unpack .../0-coinor-libcoinutils3v5_2.10.14+repack1-1_amd64.deb ...\n",
            "Unpacking coinor-libcoinutils3v5 (2.10.14+repack1-1) ...\n",
            "Selecting previously unselected package coinor-libosi1v5.\n",
            "Preparing to unpack .../1-coinor-libosi1v5_0.107.9+repack1-1_amd64.deb ...\n",
            "Unpacking coinor-libosi1v5 (0.107.9+repack1-1) ...\n",
            "Selecting previously unselected package coinor-libclp1.\n",
            "Preparing to unpack .../2-coinor-libclp1_1.16.11+repack1-1_amd64.deb ...\n",
            "Unpacking coinor-libclp1 (1.16.11+repack1-1) ...\n",
            "Selecting previously unselected package coinor-libcgl1.\n",
            "Preparing to unpack .../3-coinor-libcgl1_0.59.10+repack1-1_amd64.deb ...\n",
            "Unpacking coinor-libcgl1 (0.59.10+repack1-1) ...\n",
            "Selecting previously unselected package coinor-libcbc3.\n",
            "Preparing to unpack .../4-coinor-libcbc3_2.9.9+repack1-1_amd64.deb ...\n",
            "Unpacking coinor-libcbc3 (2.9.9+repack1-1) ...\n",
            "Selecting previously unselected package coinor-cbc.\n",
            "Preparing to unpack .../5-coinor-cbc_2.9.9+repack1-1_amd64.deb ...\n",
            "Unpacking coinor-cbc (2.9.9+repack1-1) ...\n",
            "Setting up coinor-libcoinutils3v5 (2.10.14+repack1-1) ...\n",
            "Setting up coinor-libosi1v5 (0.107.9+repack1-1) ...\n",
            "Setting up coinor-libclp1 (1.16.11+repack1-1) ...\n",
            "Setting up coinor-libcgl1 (0.59.10+repack1-1) ...\n",
            "Setting up coinor-libcbc3 (2.9.9+repack1-1) ...\n",
            "Setting up coinor-cbc (2.9.9+repack1-1) ...\n",
            "Processing triggers for man-db (2.8.3-2ubuntu0.1) ...\n",
            "Processing triggers for libc-bin (2.27-3ubuntu1.2) ...\n",
            "/sbin/ldconfig.real: /usr/local/lib/python3.7/dist-packages/ideep4py/lib/libmkldnn.so.0 is not a symbolic link\n",
            "\n"
          ]
        }
      ]
    },
    {
      "cell_type": "code",
      "metadata": {
        "id": "AJGtp7zPIbcx"
      },
      "source": [
        "opt_cbc=SolverFactory('cbc')"
      ],
      "execution_count": 49,
      "outputs": []
    },
    {
      "cell_type": "code",
      "metadata": {
        "id": "mizeCz56Ijsx"
      },
      "source": [
        "result1=opt_cbc.solve(model)"
      ],
      "execution_count": 50,
      "outputs": []
    },
    {
      "cell_type": "markdown",
      "metadata": {
        "id": "r-vs-dhQJE3E"
      },
      "source": [
        "#Que.2"
      ]
    },
    {
      "cell_type": "code",
      "metadata": {
        "colab": {
          "base_uri": "https://localhost:8080/"
        },
        "id": "ALJ0Icp-IofL",
        "outputId": "58935ab6-6cdd-4544-98b4-9270b5e09ff0"
      },
      "source": [
        "print('Solver status:', result1.solver.status)\n",
        "print('Solver termination condition:',result1.solver.termination_condition)"
      ],
      "execution_count": 51,
      "outputs": [
        {
          "output_type": "stream",
          "name": "stdout",
          "text": [
            "Solver status: ok\n",
            "Solver termination condition: optimal\n"
          ]
        }
      ]
    },
    {
      "cell_type": "markdown",
      "metadata": {
        "id": "an-2wQalI6Cw"
      },
      "source": [
        "The Solver status is ok and the termination condition is Optimal"
      ]
    },
    {
      "cell_type": "code",
      "metadata": {
        "colab": {
          "base_uri": "https://localhost:8080/"
        },
        "id": "JwL2JTlqI5G4",
        "outputId": "f53e4b2f-9f6a-4057-c230-811b9fa265ca"
      },
      "source": [
        "print('\\nObjective = ', model.objective())\n",
        "\n",
        "print('\\nDecision Variables')\n",
        "for j in col_indices_x:\n",
        "    print('x[',j,']:', model.x[j].value)\n",
        "\n",
        "for j in col_indices_u:\n",
        "    print('u[',j,']:', model.u[j].value)\n",
        "\n",
        "print('\\nConstraints')\n",
        "model.constraints.display()"
      ],
      "execution_count": 52,
      "outputs": [
        {
          "output_type": "stream",
          "name": "stdout",
          "text": [
            "\n",
            "Objective =  0.547955725\n",
            "\n",
            "Decision Variables\n",
            "x[ 0 ]: -0.046448575\n",
            "x[ 1 ]: 0.18612441\n",
            "x[ 2 ]: -0.17131802\n",
            "x[ 3 ]: 0.0\n",
            "x[ 4 ]: -0.14406472\n",
            "u[ 0 ]: 0.046448575\n",
            "u[ 1 ]: 0.18612441\n",
            "u[ 2 ]: 0.17131802\n",
            "u[ 3 ]: 0.0\n",
            "u[ 4 ]: 0.14406472\n",
            "\n",
            "Constraints\n",
            "constraints : Size=16\n",
            "    Key : Lower : Body               : Upper\n",
            "      1 :   1.0 : 0.9999996250000001 :  None\n",
            "      2 :   1.0 : 0.9999997599999997 :  None\n",
            "      3 :   1.0 :  1.458337769999999 :  None\n",
            "      4 :   1.0 : 1.0000002550000002 :  None\n",
            "      5 :   1.0 :  1.000000215000001 :  None\n",
            "      6 :   1.0 : 5.2549776999999995 :  None\n",
            "      7 :   0.0 :         0.09289715 :  None\n",
            "      8 :   0.0 :                0.0 :  None\n",
            "      9 :   0.0 :         0.34263604 :  None\n",
            "     10 :   0.0 :                0.0 :  None\n",
            "     11 :   0.0 :         0.28812944 :  None\n",
            "     12 :   0.0 :                0.0 :  None\n",
            "     13 :   0.0 :         0.37224882 :  None\n",
            "     14 :   0.0 :                0.0 :  None\n",
            "     15 :   0.0 :                0.0 :  None\n",
            "     16 :   0.0 :                0.0 :  None\n"
          ]
        }
      ]
    },
    {
      "cell_type": "markdown",
      "metadata": {
        "id": "V4W6hdT9JcJd"
      },
      "source": [
        "Yes,The solver yields an optimal solution."
      ]
    },
    {
      "cell_type": "markdown",
      "metadata": {
        "id": "kYmqVFAfJraP"
      },
      "source": [
        "#Que.3"
      ]
    },
    {
      "cell_type": "markdown",
      "metadata": {
        "id": "yAbZX-OdJ5Zj"
      },
      "source": [
        "The objective Function value is:0.547955725\n",
        "\n",
        "The values of decision variales are:\n",
        "$$\n",
        "x_1= -0.046448575\\\\\n",
        "x_2= 0.18612441\\\\\n",
        "x_3= -0.17131802\\\\\n",
        "x_4= 0.0\\\\\n",
        "x_5= -0.14406472\\\\\n",
        "u_1= 0.046448575\\\\\n",
        "u_2= 0.18612441\\\\\n",
        "u_3= 0.17131802\\\\\n",
        "u_4= 0.0\\\\\n",
        "u_5= 0.14406472 $$ \n",
        "\n",
        "Contraints 1,2,4,5,8,10,12,14,15 and 16 are active as they hold at equality.\n",
        "and rest constraints are not active as they don't hold at equality.\n",
        "\n"
      ]
    },
    {
      "cell_type": "markdown",
      "metadata": {
        "id": "UXlhqCf0MVJp"
      },
      "source": [
        "Recall our optimization problem $\\textbf{(OP)}$:\n",
        "\\begin{align}\n",
        "\\min \\ |x_1| + |x_2| + |x_3| + |x_4| + |x_5| &  \\nonumber \\\\\n",
        "{\\rm{s.t.}} \\ 85 x_1 + 92 x_2 + 45 x_3 + 27 x_4 + 31 x_5 & \\geq 1 \\nonumber \\\\\n",
        "92 x_1 + 54 x_2 + 22 x_3 + 20 x_4 + 7 x_5 & \\geq 1 \\nonumber \\\\\n",
        "96 x_1 + 67 x_2 + 29 x_3 + 20 x_4 + 11 x_5 & \\geq 1 \\nonumber \\\\\n",
        "-91 x_1 - 57 x_2 - 33 x_3 - 23 x_4 - 12 x_5 & \\geq 1 \\nonumber \\\\\n",
        "-99 x_1 - 75 x_2 - 26 x_3 - 24 x_4 - 41 x_5 & \\geq 1 \\nonumber \\\\\n",
        "-98 x_1 - 99 x_2 - 57 x_3 - 45 x_4 - 65 x_5 & \\geq 1 \\nonumber\n",
        "\\end{align}\n",
        "\n",
        "Now we will consider a different approach to make the problem $\\textbf{(OP)}$ linear. \n",
        "\n",
        "$\\textbf{Approach 2:}$\n",
        "\n",
        "In this approach we will use some fundamental properties of real numbers. Indeed, for any real number $x$, we can write $x=a-b$ where $a\\geq 0, b\\geq 0$. \n",
        "\n",
        "Hence we can substitute $|x| = |a-b|, \\ a\\geq 0, b\\geq 0$. \n",
        "\n",
        "Now we will consider another interesting property of real numbers: \n",
        "$|u-v| = u+v \\iff u\\geq 0, v\\geq 0, uv = 0$. \n",
        "\n",
        "Using this property we can write $|x| = a+b, \\ a\\geq 0, \\ b\\geq 0$. Note that this replacement will imply that $ab=0$. \n",
        "\n",
        "Thus we can transform the optimization problem $\\textbf{(OP)}$ into a new optimization problem $\\textbf{(OP2)}$ where $x_i = a_i - b_i, \\text{ and } |x_i| = a_i + b_i, \\ \\forall i \\in \\{1,\\ldots,5\\}$ where $a_i \\geq 0, b_i \\geq 0, \\forall i \\in \\{1,\\ldots,5\\}$. Thus we have the new optimization problem $\\textbf{(OP2)}$: \n",
        "\n",
        "\\begin{align}\n",
        "\\min \\ (a_1 + b_1) +  (a_2 + b_2) + (a_3 + b_3) + (a_4 + b_4) + (a_5 + b_5) &  \\nonumber \\\\\n",
        "{\\rm{s.t.}} \\ 85 (a_1-b_1) + 92 (a_2-b_2) + 45 (a_3-b_3) + 27 (a_4-b_4) + 31 (a_5-b_5) & \\geq 1 \\nonumber \\\\\n",
        "92 (a_1-b_1) + 54 (a_2-b_2) + 22 (a_3-b_3) + 20 (a_4-b_4) + 7 (a_5-b_5) & \\geq 1 \\nonumber \\\\\n",
        "96 (a_1-b_1) + 67 (a_2-b_2) + 29 (a_3-b_3) + 20 (a_4-b_4) + 11 (a_5-b_5) & \\geq 1 \\nonumber \\\\\n",
        "-91 (a_1-b_1) - 57 (a_2-b_2) - 33 (a_3-b_3) - 23 (a_4-b_4) - 12 (a_5-b_5) & \\geq 1 \\nonumber \\\\\n",
        "-99 (a_1-b_1) - 75 (a_2-b_2) - 26 (a_3-b_3) - 24 (a_4-b_4) - 41 (a_5-b_5) & \\geq 1 \\nonumber \\\\\n",
        "-98 (a_1-b_1) - 99 (a_2-b_2) - 57 (a_3-b_3) - 45 (a_4-b_4) - 65 (a_5-b_5) & \\geq 1 \\nonumber \\\\ \n",
        "a_i \\geq 0, \\ b_i \\geq 0, & \\ \\forall i \\in \\{1,\\ldots,5\\}. \\nonumber \n",
        "\\end{align}\n"
      ]
    },
    {
      "cell_type": "code",
      "metadata": {
        "id": "-JdmyPy8JV-l"
      },
      "source": [
        "coef_op2=np.loadtxt('lab6_practice_coef_0P2.txt',delimiter=',')"
      ],
      "execution_count": 54,
      "outputs": []
    },
    {
      "cell_type": "code",
      "metadata": {
        "colab": {
          "base_uri": "https://localhost:8080/"
        },
        "id": "7xfpdrbNNTe7",
        "outputId": "f83db26f-8fcd-475b-db56-b04144dc9cdc"
      },
      "source": [
        "print(coef_op2.shape)\n",
        "print('Number of rows:',coef_op2.shape[0])\n",
        "print('Number of columns:',coef_op2.shape[1])"
      ],
      "execution_count": 55,
      "outputs": [
        {
          "output_type": "stream",
          "name": "stdout",
          "text": [
            "(7, 11)\n",
            "Number of rows: 7\n",
            "Number of columns: 11\n"
          ]
        }
      ]
    },
    {
      "cell_type": "code",
      "metadata": {
        "colab": {
          "base_uri": "https://localhost:8080/"
        },
        "id": "Cw2Ao-qTNzI3",
        "outputId": "2efcf701-3022-4100-86e1-b5fce2c3c7b3"
      },
      "source": [
        "print(coef_op2)"
      ],
      "execution_count": 56,
      "outputs": [
        {
          "output_type": "stream",
          "name": "stdout",
          "text": [
            "[[  1.   1.   1.   1.   1.   1.   1.   1.   1.   1.   0.]\n",
            " [ 85.  92.  45.  27.  31. -85. -92. -45. -27. -31.   1.]\n",
            " [ 92.  54.  22.  20.   7. -92. -54. -22. -20.  -7.   1.]\n",
            " [ 96.  67.  29.  20.  11. -96. -67. -29. -20. -11.   1.]\n",
            " [-91. -57. -33. -23. -12.  91.  57.  33.  23.  12.   1.]\n",
            " [-99. -75. -26. -24. -41.  99.  75.  26.  24.  41.   1.]\n",
            " [-98. -99. -57. -45. -65.  98.  99.  57.  45.  65.   1.]]\n"
          ]
        }
      ]
    },
    {
      "cell_type": "code",
      "metadata": {
        "id": "uh6D4AtRN2Fy"
      },
      "source": [
        "N=coef_op2.shape[1]-1\n",
        "M=coef_op2.shape[0]-1\n",
        "obj_coef_op2=coef_op2[0,:-1]"
      ],
      "execution_count": 59,
      "outputs": []
    },
    {
      "cell_type": "code",
      "metadata": {
        "colab": {
          "base_uri": "https://localhost:8080/"
        },
        "id": "CBFcPknqOEQN",
        "outputId": "f5183d8f-e759-4f50-b0c8-1b013a591ce4"
      },
      "source": [
        "print(obj_coef_op2)"
      ],
      "execution_count": 60,
      "outputs": [
        {
          "output_type": "stream",
          "name": "stdout",
          "text": [
            "[1. 1. 1. 1. 1. 1. 1. 1. 1. 1.]\n"
          ]
        }
      ]
    },
    {
      "cell_type": "code",
      "metadata": {
        "id": "kz_HPj2bOHgb"
      },
      "source": [
        "constr_coef_op2=coef_op2[1:,:-1]"
      ],
      "execution_count": 61,
      "outputs": []
    },
    {
      "cell_type": "code",
      "metadata": {
        "colab": {
          "base_uri": "https://localhost:8080/"
        },
        "id": "NbftkC-vOQi6",
        "outputId": "f92c8149-d626-4f61-8a0f-73688a365d7d"
      },
      "source": [
        "print(constr_coef_op2)"
      ],
      "execution_count": 62,
      "outputs": [
        {
          "output_type": "stream",
          "name": "stdout",
          "text": [
            "[[ 85.  92.  45.  27.  31. -85. -92. -45. -27. -31.]\n",
            " [ 92.  54.  22.  20.   7. -92. -54. -22. -20.  -7.]\n",
            " [ 96.  67.  29.  20.  11. -96. -67. -29. -20. -11.]\n",
            " [-91. -57. -33. -23. -12.  91.  57.  33.  23.  12.]\n",
            " [-99. -75. -26. -24. -41.  99.  75.  26.  24.  41.]\n",
            " [-98. -99. -57. -45. -65.  98.  99.  57.  45.  65.]]\n"
          ]
        }
      ]
    },
    {
      "cell_type": "code",
      "metadata": {
        "id": "Y-NzQhJNOS3w"
      },
      "source": [
        "constr_rhs_op2=coef_op2[1:,-1]"
      ],
      "execution_count": 63,
      "outputs": []
    },
    {
      "cell_type": "code",
      "metadata": {
        "id": "EwE4KxX4OdWi"
      },
      "source": [
        "model_op2=ConcreteModel()"
      ],
      "execution_count": 64,
      "outputs": []
    },
    {
      "cell_type": "code",
      "metadata": {
        "colab": {
          "base_uri": "https://localhost:8080/"
        },
        "id": "OSUBy57qOicu",
        "outputId": "86081bba-46ed-434f-c40f-113d4d8f7671"
      },
      "source": [
        "col_indices_a=np.arange(int(N/2))\n",
        "print(col_indices_a)"
      ],
      "execution_count": 65,
      "outputs": [
        {
          "output_type": "stream",
          "name": "stdout",
          "text": [
            "[0 1 2 3 4]\n"
          ]
        }
      ]
    },
    {
      "cell_type": "code",
      "metadata": {
        "colab": {
          "base_uri": "https://localhost:8080/"
        },
        "id": "rRMvurduOt4N",
        "outputId": "e9b1f950-0685-4257-d8f1-0f1ea69b7c41"
      },
      "source": [
        "col_indices_b=np.arange(int(N/2))\n",
        "print(col_indices_b)"
      ],
      "execution_count": 67,
      "outputs": [
        {
          "output_type": "stream",
          "name": "stdout",
          "text": [
            "[0 1 2 3 4]\n"
          ]
        }
      ]
    },
    {
      "cell_type": "code",
      "metadata": {
        "id": "NmVTILWZOxhp"
      },
      "source": [
        "model_op2.a=Var(col_indices_a,domain=NonNegativeReals)\n",
        "model_op2.b=Var(col_indices_b,domain=NonNegativeReals)"
      ],
      "execution_count": 68,
      "outputs": []
    },
    {
      "cell_type": "code",
      "metadata": {
        "colab": {
          "base_uri": "https://localhost:8080/"
        },
        "id": "SvDXqh62O_zG",
        "outputId": "5c72272e-43c8-4940-8d5e-ec71e835bce2"
      },
      "source": [
        "row_indices_op2=np.arange(M)\n",
        "print(row_indices_op2)"
      ],
      "execution_count": 69,
      "outputs": [
        {
          "output_type": "stream",
          "name": "stdout",
          "text": [
            "[0 1 2 3 4 5]\n"
          ]
        }
      ]
    },
    {
      "cell_type": "code",
      "metadata": {
        "id": "_oR69k-MPM0s"
      },
      "source": [
        "model_op2.constraints=ConstraintList()"
      ],
      "execution_count": 70,
      "outputs": []
    },
    {
      "cell_type": "code",
      "metadata": {
        "id": "GUntDzc8PUzf"
      },
      "source": [
        "model_op2.objective=Objective(expr=summation(obj_coef_op2[0:int(N/2)],model_op2.a)+summation(obj_coef_op2[int(N/2):N],model_op2.b), sense=minimize)"
      ],
      "execution_count": 72,
      "outputs": []
    },
    {
      "cell_type": "code",
      "metadata": {
        "id": "bz7bDb55P43D"
      },
      "source": [
        "for i in row_indices_op2:\n",
        "  model_op2.constraints.add(summation(constr_coef_op2[i][0:int(N/2)],model_op2.a) + summation(constr_coef_op2[i][int(N/2):N],model_op2.b)  >= constr_rhs_op2[i])"
      ],
      "execution_count": 73,
      "outputs": []
    },
    {
      "cell_type": "code",
      "metadata": {
        "colab": {
          "base_uri": "https://localhost:8080/"
        },
        "id": "Fnpd_vREQdBy",
        "outputId": "2b07d802-e4d2-4be8-9310-6d94b8888b67"
      },
      "source": [
        "model_op2.pprint()"
      ],
      "execution_count": 74,
      "outputs": [
        {
          "output_type": "stream",
          "name": "stdout",
          "text": [
            "3 Set Declarations\n",
            "    a_index : Size=1, Index=None, Ordered=False\n",
            "        Key  : Dimen : Domain : Size : Members\n",
            "        None :     1 :    Any :    5 : {0, 1, 2, 3, 4}\n",
            "    b_index : Size=1, Index=None, Ordered=False\n",
            "        Key  : Dimen : Domain : Size : Members\n",
            "        None :     1 :    Any :    5 : {0, 1, 2, 3, 4}\n",
            "    constraints_index : Size=1, Index=None, Ordered=Insertion\n",
            "        Key  : Dimen : Domain : Size : Members\n",
            "        None :     1 :    Any :    6 : {1, 2, 3, 4, 5, 6}\n",
            "\n",
            "2 Var Declarations\n",
            "    a : Size=5, Index=a_index\n",
            "        Key : Lower : Value : Upper : Fixed : Stale : Domain\n",
            "          0 :     0 :  None :  None : False :  True : NonNegativeReals\n",
            "          1 :     0 :  None :  None : False :  True : NonNegativeReals\n",
            "          2 :     0 :  None :  None : False :  True : NonNegativeReals\n",
            "          3 :     0 :  None :  None : False :  True : NonNegativeReals\n",
            "          4 :     0 :  None :  None : False :  True : NonNegativeReals\n",
            "    b : Size=5, Index=b_index\n",
            "        Key : Lower : Value : Upper : Fixed : Stale : Domain\n",
            "          0 :     0 :  None :  None : False :  True : NonNegativeReals\n",
            "          1 :     0 :  None :  None : False :  True : NonNegativeReals\n",
            "          2 :     0 :  None :  None : False :  True : NonNegativeReals\n",
            "          3 :     0 :  None :  None : False :  True : NonNegativeReals\n",
            "          4 :     0 :  None :  None : False :  True : NonNegativeReals\n",
            "\n",
            "1 Objective Declarations\n",
            "    objective : Size=1, Index=None, Active=True\n",
            "        Key  : Active : Sense    : Expression\n",
            "        None :   True : minimize : a[0] + a[1] + a[2] + a[3] + a[4] + (b[0] + b[1] + b[2] + b[3] + b[4])\n",
            "\n",
            "1 Constraint Declarations\n",
            "    constraints : Size=6, Index=constraints_index, Active=True\n",
            "        Key : Lower : Body                                                                                                                      : Upper : Active\n",
            "          1 :   1.0 :     85.0*a[0] + 92.0*a[1] + 45.0*a[2] + 27.0*a[3] + 31.0*a[4] - 85.0*b[0] - 92.0*b[1] - 45.0*b[2] - 27.0*b[3] - 31.0*b[4] :  +Inf :   True\n",
            "          2 :   1.0 :       92.0*a[0] + 54.0*a[1] + 22.0*a[2] + 20.0*a[3] + 7.0*a[4] - 92.0*b[0] - 54.0*b[1] - 22.0*b[2] - 20.0*b[3] - 7.0*b[4] :  +Inf :   True\n",
            "          3 :   1.0 :     96.0*a[0] + 67.0*a[1] + 29.0*a[2] + 20.0*a[3] + 11.0*a[4] - 96.0*b[0] - 67.0*b[1] - 29.0*b[2] - 20.0*b[3] - 11.0*b[4] :  +Inf :   True\n",
            "          4 :   1.0 : - 91.0*a[0] - 57.0*a[1] - 33.0*a[2] - 23.0*a[3] - 12.0*a[4] + (91.0*b[0] + 57.0*b[1] + 33.0*b[2] + 23.0*b[3] + 12.0*b[4]) :  +Inf :   True\n",
            "          5 :   1.0 : - 99.0*a[0] - 75.0*a[1] - 26.0*a[2] - 24.0*a[3] - 41.0*a[4] + (99.0*b[0] + 75.0*b[1] + 26.0*b[2] + 24.0*b[3] + 41.0*b[4]) :  +Inf :   True\n",
            "          6 :   1.0 : - 98.0*a[0] - 99.0*a[1] - 57.0*a[2] - 45.0*a[3] - 65.0*a[4] + (98.0*b[0] + 99.0*b[1] + 57.0*b[2] + 45.0*b[3] + 65.0*b[4]) :  +Inf :   True\n",
            "\n",
            "7 Declarations: a_index a b_index b constraints_index constraints objective\n"
          ]
        }
      ]
    },
    {
      "cell_type": "code",
      "metadata": {
        "colab": {
          "base_uri": "https://localhost:8080/"
        },
        "id": "mOe2n4FBQfhA",
        "outputId": "c3638697-3a60-4b93-a1d5-94c18dfc766f"
      },
      "source": [
        "result2=opt_cbc.solve(model_op2)\n",
        "print('Solver status:', result2.solver.status)\n",
        "print('Solver termination condition:',result2.solver.termination_condition)"
      ],
      "execution_count": 75,
      "outputs": [
        {
          "output_type": "stream",
          "name": "stdout",
          "text": [
            "Solver status: ok\n",
            "Solver termination condition: optimal\n"
          ]
        }
      ]
    },
    {
      "cell_type": "markdown",
      "metadata": {
        "id": "d0rNDSHZRKu6"
      },
      "source": [
        "#Que.9"
      ]
    },
    {
      "cell_type": "markdown",
      "metadata": {
        "id": "VP0EjoVtRAL2"
      },
      "source": [
        "The Solver status for OP2 is ok and termination condition is Optimal.and yes the solver yields an optimal solution."
      ]
    },
    {
      "cell_type": "markdown",
      "metadata": {
        "id": "FH0jTUIaRdxz"
      },
      "source": [
        "#Que.10"
      ]
    },
    {
      "cell_type": "code",
      "metadata": {
        "colab": {
          "base_uri": "https://localhost:8080/"
        },
        "id": "cgv3tuuDQsqB",
        "outputId": "48371393-e4c2-42f8-ccee-028ca3916756"
      },
      "source": [
        "print('\\nObjective = ', model_op2.objective())\n",
        "\n",
        "print('\\nDecision Variables')\n",
        "for j in col_indices_a:\n",
        "    print('a[',j,']:', model_op2.a[j].value)\n",
        "\n",
        "for j in col_indices_b:\n",
        "    print('b[',j,']:', model_op2.b[j].value)\n",
        "\n",
        "print('\\nConstraints')\n",
        "model_op2.constraints.display()"
      ],
      "execution_count": 76,
      "outputs": [
        {
          "output_type": "stream",
          "name": "stdout",
          "text": [
            "\n",
            "Objective =  0.547955725\n",
            "\n",
            "Decision Variables\n",
            "a[ 0 ]: 0.0\n",
            "a[ 1 ]: 0.18612441\n",
            "a[ 2 ]: 0.0\n",
            "a[ 3 ]: 0.0\n",
            "a[ 4 ]: 0.0\n",
            "b[ 0 ]: 0.046448575\n",
            "b[ 1 ]: 0.0\n",
            "b[ 2 ]: 0.17131802\n",
            "b[ 3 ]: 0.0\n",
            "b[ 4 ]: 0.14406472\n",
            "\n",
            "Constraints\n",
            "constraints : Size=6\n",
            "    Key : Lower : Body               : Upper\n",
            "      1 :   1.0 :  0.999999625000001 :  None\n",
            "      2 :   1.0 : 0.9999997599999997 :  None\n",
            "      3 :   1.0 :         1.45833777 :  None\n",
            "      4 :   1.0 : 1.0000002549999998 :  None\n",
            "      5 :   1.0 :        1.000000215 :  None\n",
            "      6 :   1.0 :  5.254977699999998 :  None\n"
          ]
        }
      ]
    },
    {
      "cell_type": "markdown",
      "metadata": {
        "id": "KQwa3qxSSB6g"
      },
      "source": [
        "The value of the Objective function is:0.547955725\n",
        "\n",
        "The values of the decision variables are:\n",
        "$a_1= 0.0\\\\\n",
        "a_2= 0.18612441\\\\\n",
        "a_3= 0.0\\\\\n",
        "a_4= 0.0\\\\\n",
        "a_5= 0.0\\\\\n",
        "b_1= 0.046448575\\\\\n",
        "b_2= 0.0\\\\\n",
        "b_3= 0.17131802\\\\\n",
        "b_4= 0.0\\\\\n",
        "b_5= 0.14406472\\\\ $\n",
        "\n",
        "Constraints 1,2,4 and 5 are active as they hold as equality,rest constraints are not active as they don't hold at equality."
      ]
    },
    {
      "cell_type": "markdown",
      "metadata": {
        "id": "OF1sXXPnUf-6"
      },
      "source": [
        "#Que.11"
      ]
    },
    {
      "cell_type": "code",
      "metadata": {
        "colab": {
          "base_uri": "https://localhost:8080/"
        },
        "id": "jRyvWt8tRpdp",
        "outputId": "3890b91a-dea0-4109-a450-6183084b3597"
      },
      "source": [
        "for i in col_indices_a:\n",
        "  print(f\"The value of x[{i+1}] is:{model_op2.a[i].value-model_op2.b[i].value}\")"
      ],
      "execution_count": 77,
      "outputs": [
        {
          "output_type": "stream",
          "name": "stdout",
          "text": [
            "The value of x[1] is:-0.046448575\n",
            "The value of x[2] is:0.18612441\n",
            "The value of x[3] is:-0.17131802\n",
            "The value of x[4] is:0.0\n",
            "The value of x[5] is:-0.14406472\n"
          ]
        }
      ]
    },
    {
      "cell_type": "markdown",
      "metadata": {
        "id": "-BO9jn7OVCRZ"
      },
      "source": [
        "#Que.12\n",
        "\n",
        "The value of $x_i$'s obtained from **OP2** are exactly same with the values obtained from **OP1**."
      ]
    },
    {
      "cell_type": "code",
      "metadata": {
        "id": "vFkBGUP7U3fD"
      },
      "source": [
        ""
      ],
      "execution_count": null,
      "outputs": []
    }
  ]
}