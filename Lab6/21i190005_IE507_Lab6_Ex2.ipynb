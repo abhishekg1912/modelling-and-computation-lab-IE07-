{
  "nbformat": 4,
  "nbformat_minor": 0,
  "metadata": {
    "colab": {
      "name": "21i190005_IE507_Lab6_Ex2.ipynb",
      "provenance": []
    },
    "kernelspec": {
      "name": "python3",
      "display_name": "Python 3"
    },
    "language_info": {
      "name": "python"
    }
  },
  "cells": [
    {
      "cell_type": "markdown",
      "metadata": {
        "id": "p5MDQyXSkqt2"
      },
      "source": [
        "**EXERCISE-2**"
      ]
    },
    {
      "cell_type": "markdown",
      "metadata": {
        "id": "BxgqaN7onfez"
      },
      "source": [
        "#Given Optimization problem:-\n",
        "\n",
        "\\begin{align}\n",
        "\\max \\ 35 x_1 + 57 x_2 + 48 x_3 + 20 x_4 + 15 x_5, \\\\\n",
        "{\\rm{s.t.}} \\; x_1 + x_2 + x_3 & \\leq 75, \\\\\n",
        "x_3 + x_4 + x_5 & \\leq 100, \\\\\n",
        "x_1 + x_2 & \\geq 10, \\\\ \n",
        "30000 x_1 + 95000 x_2 + 10000 x_3 + 5000 x_4 + 4000 x_5 & \\leq 1500000, \\\\\n",
        "100000 x_1 + 500000 x_2 + 200000 x_3 + 45000 x_4 + 25000 x_5 & \\geq 900000, \\\\\n",
        "x_i & \\geq 0, \\quad i \\in \\{1,2,3,4,5\\}. \\\\\n",
        "\\end{align}\n",
        "\n",
        "Here $x_1,x_2,x_3,x_4$ and $x_5$ denote the number of different type of media slots to be used for advertisement, where $x_1$ corresponds to website, $x_2$ corresponds\n",
        "to TV, $x_3$ corresponds to daily newspaper, $x_4$ corresponds to weekly magazine and $x_5$ corresponds\n",
        "to monthly magazine."
      ]
    },
    {
      "cell_type": "markdown",
      "metadata": {
        "id": "isfi-3bepYPm"
      },
      "source": [
        "#Que.1\n",
        "\n",
        "given that:\n",
        "$z_1=x_1+x_2\\\\ z_2=x_3+x_4+x_5$\n",
        "\n",
        "the new constraint to be added in the problem is:$|z_1-z_2|\\leq18$\n",
        "\n",
        "In terms of the decision variables the constraint will be:\n",
        "$$|x_1+x_2-x_3-x_4-x_5|\\leq18$$\n",
        "\n",
        "after adding this constraints the problem will be:\n",
        "\\begin{align}\n",
        "\\max \\ 35 x_1 + 57 x_2 + 48 x_3 + 20 x_4 + 15 x_5, \\\\\n",
        "{\\rm{s.t.}} \\; x_1 + x_2 + x_3 & \\leq 75, \\\\\n",
        "x_3 + x_4 + x_5 & \\leq 100, \\\\\n",
        "x_1 + x_2 & \\geq 10, \\\\ \n",
        "30000 x_1 + 95000 x_2 + 10000 x_3 + 5000 x_4 + 4000 x_5 & \\leq 1500000, \\\\\n",
        "100000 x_1 + 500000 x_2 + 200000 x_3 + 45000 x_4 + 25000 x_5 & \\geq 900000,\\\\|x_1+x_2-x_3-x_4-x_5|\\leq18 \\\\\n",
        "x_i & \\geq 0, \\quad i \\in \\{1,2,3,4,5\\}. \\\\\n",
        "\\end{align}\n"
      ]
    },
    {
      "cell_type": "markdown",
      "metadata": {
        "id": "UR7s4TllrIy4"
      },
      "source": [
        "Above problem is not a linear program because the constraints consist modulus function which is a piecewise function hence the problem is not linear."
      ]
    },
    {
      "cell_type": "markdown",
      "metadata": {
        "id": "dU-IX8wXsOCo"
      },
      "source": [
        "#Que.2"
      ]
    },
    {
      "cell_type": "markdown",
      "metadata": {
        "id": "lXyTFm_UsR8S"
      },
      "source": [
        "#Approach 1:\n",
        "let $|x_1+x_2-x_3-x_4-x_5|=u$ and it is clear that $u\\geq0$\n",
        "\n",
        "and the following inequalities are satisfied:\n",
        "\n",
        "$$u \\geq x_1+x_2-x_3-x_4-x_5 \\\\\n",
        "u \\geq -x_1-x_2+x_3+x_4+x_5$$ \n",
        "\n",
        "now after this substitution our model will be:\n",
        "\\begin{align}\n",
        "\\max \\ 35 x_1 + 57 x_2 + 48 x_3 + 20 x_4 + 15 x_5, \\\\\n",
        "{\\rm{s.t.}} \\; x_1 + x_2 + x_3 & \\leq 75, \\\\\n",
        "x_3 + x_4 + x_5 & \\leq 100, \\\\\n",
        "x_1 + x_2 & \\geq 10, \\\\ \n",
        "30000 x_1 + 95000 x_2 + 10000 x_3 + 5000 x_4 + 4000 x_5 & \\leq 1500000, \\\\\n",
        "100000 x_1 + 500000 x_2 + 200000 x_3 + 45000 x_4 + 25000 x_5 & \\geq 900000, \\\\u-x_1-x_2+x_3+x_4+x_5 \\geq 0 \\\\\n",
        "u+x_1+x_2-x_3-x_4-x_5 \\geq 0,\\\\u\\geq18\\\\\n",
        "x_i & \\geq 0, \\quad i \\in \\{1,2,3,4,5\\}. \\\\\n",
        "\\end{align}\n"
      ]
    },
    {
      "cell_type": "markdown",
      "metadata": {
        "id": "P_VLFFuny8tk"
      },
      "source": [
        "#Approach-2\n",
        "\n",
        "let $x_1+x_2-x_3-x_4-x_5=a-b$\n",
        "\n",
        "then $|x_1+x_2-x_3-x_4-x_5|=|a-b|=a+b$  ;  where $a\\geq0\\  and\\  b\\geq0$\n",
        "after applying this approach our model will be:\n",
        "\\begin{align}\n",
        "\\max \\ 35 x_1 + 57 x_2 + 48 x_3 + 20 x_4 + 15 x_5, \\\\\n",
        "{\\rm{s.t.}} \\; x_1 + x_2 + x_3 & \\leq 75, \\\\\n",
        "x_3 + x_4 + x_5 & \\leq 100, \\\\\n",
        "x_1 + x_2 & \\geq 10, \\\\ \n",
        "30000 x_1 + 95000 x_2 + 10000 x_3 + 5000 x_4 + 4000 x_5 & \\leq 1500000, \\\\\n",
        "100000 x_1 + 500000 x_2 + 200000 x_3 + 45000 x_4 + 25000 x_5 & \\geq 900000, \\\\\n",
        "x_1+x_2-x_3-x_4-x_5-a+b=0,\\\\\n",
        "a+b \\leq 18,\\\\\n",
        "a\\geq0,\\\\\n",
        "b\\geq0,\\\\\n",
        "x_i & \\geq 0, \\quad i \\in \\{1,2,3,4,5\\}. \\\\\n",
        "\\end{align}\n",
        "\n"
      ]
    },
    {
      "cell_type": "markdown",
      "metadata": {
        "id": "EIWI4WGb1_py"
      },
      "source": [
        "#Que.3"
      ]
    },
    {
      "cell_type": "markdown",
      "metadata": {
        "id": "zF1l2ash2IXF"
      },
      "source": [
        "practice code of Lab4:"
      ]
    },
    {
      "cell_type": "code",
      "metadata": {
        "id": "sLJ1TSgr4hu_",
        "colab": {
          "base_uri": "https://localhost:8080/"
        },
        "outputId": "1747a5c7-9609-4f3f-a867-a1a7feb4df3a"
      },
      "source": [
        "!pip install -q pyomo"
      ],
      "execution_count": 1,
      "outputs": [
        {
          "output_type": "stream",
          "name": "stdout",
          "text": [
            "\u001b[K     |████████████████████████████████| 9.1 MB 5.1 MB/s \n",
            "\u001b[K     |████████████████████████████████| 49 kB 5.0 MB/s \n",
            "\u001b[?25h"
          ]
        }
      ]
    },
    {
      "cell_type": "code",
      "metadata": {
        "id": "0AWmtdzI4m-g"
      },
      "source": [
        "from pyomo.environ import *"
      ],
      "execution_count": 2,
      "outputs": []
    },
    {
      "cell_type": "code",
      "metadata": {
        "id": "7JV0Jm1On0xY"
      },
      "source": [
        "import pandas as pd"
      ],
      "execution_count": 3,
      "outputs": []
    },
    {
      "cell_type": "code",
      "metadata": {
        "id": "WBIzdD0F5Ofh"
      },
      "source": [
        "import numpy as np"
      ],
      "execution_count": 4,
      "outputs": []
    },
    {
      "cell_type": "code",
      "metadata": {
        "id": "edmmXCrf3sUu"
      },
      "source": [
        "data_csvfile = pd.read_csv('lab6_ex2.csv')"
      ],
      "execution_count": 5,
      "outputs": []
    },
    {
      "cell_type": "code",
      "metadata": {
        "colab": {
          "base_uri": "https://localhost:8080/"
        },
        "id": "QgyWZMIx3-Yb",
        "outputId": "d0763cd1-4f80-443a-f334-2a3fa56dd139"
      },
      "source": [
        "print (type(data_csvfile))"
      ],
      "execution_count": 6,
      "outputs": [
        {
          "output_type": "stream",
          "name": "stdout",
          "text": [
            "<class 'pandas.core.frame.DataFrame'>\n"
          ]
        }
      ]
    },
    {
      "cell_type": "code",
      "metadata": {
        "colab": {
          "base_uri": "https://localhost:8080/"
        },
        "id": "UmF2JvH04JeT",
        "outputId": "9c4a36b1-4462-4e9d-a369-d8d5bfb90422"
      },
      "source": [
        "data_csvfile.columns"
      ],
      "execution_count": 7,
      "outputs": [
        {
          "output_type": "execute_result",
          "data": {
            "text/plain": [
              "Index(['Medium', 'Num Customers', 'Cost per advt', 'Max slots per month',\n",
              "       'Reach Quality'],\n",
              "      dtype='object')"
            ]
          },
          "metadata": {},
          "execution_count": 7
        }
      ]
    },
    {
      "cell_type": "code",
      "metadata": {
        "colab": {
          "base_uri": "https://localhost:8080/"
        },
        "id": "xlnMywTP4LmM",
        "outputId": "47a8013b-22bc-47ed-a93a-589568e08a07"
      },
      "source": [
        "data_csvfile['Medium']"
      ],
      "execution_count": 8,
      "outputs": [
        {
          "output_type": "execute_result",
          "data": {
            "text/plain": [
              "0           Websites\n",
              "1                 TV\n",
              "2     DailyNewspaper\n",
              "3     WeeklyMagazine\n",
              "4    MonthlyMagazine\n",
              "Name: Medium, dtype: object"
            ]
          },
          "metadata": {},
          "execution_count": 8
        }
      ]
    },
    {
      "cell_type": "code",
      "metadata": {
        "colab": {
          "base_uri": "https://localhost:8080/"
        },
        "id": "3vCtLNf34NbU",
        "outputId": "11ae88e9-68bf-4246-dc7d-1ee4e193f7e5"
      },
      "source": [
        "data_csvfile['Num Customers']"
      ],
      "execution_count": 9,
      "outputs": [
        {
          "output_type": "execute_result",
          "data": {
            "text/plain": [
              "0    100000\n",
              "1    500000\n",
              "2    200000\n",
              "3     45000\n",
              "4     25000\n",
              "Name: Num Customers, dtype: int64"
            ]
          },
          "metadata": {},
          "execution_count": 9
        }
      ]
    },
    {
      "cell_type": "code",
      "metadata": {
        "colab": {
          "base_uri": "https://localhost:8080/"
        },
        "id": "dHhKSgZN4Pcr",
        "outputId": "438438fb-c1aa-486a-80fe-3f9cea24d267"
      },
      "source": [
        "data_csvfile['Cost per advt']"
      ],
      "execution_count": 10,
      "outputs": [
        {
          "output_type": "execute_result",
          "data": {
            "text/plain": [
              "0    30000\n",
              "1    95000\n",
              "2    10000\n",
              "3     5000\n",
              "4     4000\n",
              "Name: Cost per advt, dtype: int64"
            ]
          },
          "metadata": {},
          "execution_count": 10
        }
      ]
    },
    {
      "cell_type": "code",
      "metadata": {
        "colab": {
          "base_uri": "https://localhost:8080/"
        },
        "id": "XMhKRzzL4RVt",
        "outputId": "68ebe049-530c-477a-a1ce-c2ff1432d036"
      },
      "source": [
        "data_csvfile['Max slots per month']"
      ],
      "execution_count": 11,
      "outputs": [
        {
          "output_type": "execute_result",
          "data": {
            "text/plain": [
              "0    20\n",
              "1    25\n",
              "2    30\n",
              "3     4\n",
              "4     1\n",
              "Name: Max slots per month, dtype: int64"
            ]
          },
          "metadata": {},
          "execution_count": 11
        }
      ]
    },
    {
      "cell_type": "code",
      "metadata": {
        "colab": {
          "base_uri": "https://localhost:8080/"
        },
        "id": "vTYXvSbb4TKn",
        "outputId": "6044e5ef-793f-4fce-bd49-e6535da5b543"
      },
      "source": [
        "data_csvfile['Reach Quality']"
      ],
      "execution_count": 12,
      "outputs": [
        {
          "output_type": "execute_result",
          "data": {
            "text/plain": [
              "0    35\n",
              "1    57\n",
              "2    48\n",
              "3    20\n",
              "4    15\n",
              "Name: Reach Quality, dtype: int64"
            ]
          },
          "metadata": {},
          "execution_count": 12
        }
      ]
    },
    {
      "cell_type": "code",
      "metadata": {
        "colab": {
          "base_uri": "https://localhost:8080/"
        },
        "id": "H4UpZVSZ4VIQ",
        "outputId": "9c4a44a8-c562-455d-ae79-9535308044fd"
      },
      "source": [
        "data_csvfile.index"
      ],
      "execution_count": 13,
      "outputs": [
        {
          "output_type": "execute_result",
          "data": {
            "text/plain": [
              "RangeIndex(start=0, stop=5, step=1)"
            ]
          },
          "metadata": {},
          "execution_count": 13
        }
      ]
    },
    {
      "cell_type": "code",
      "metadata": {
        "colab": {
          "base_uri": "https://localhost:8080/"
        },
        "id": "2UpaBlT84XsJ",
        "outputId": "333afd4f-48e1-4b20-c2e7-275f9612716e"
      },
      "source": [
        "len(data_csvfile.index)"
      ],
      "execution_count": 14,
      "outputs": [
        {
          "output_type": "execute_result",
          "data": {
            "text/plain": [
              "5"
            ]
          },
          "metadata": {},
          "execution_count": 14
        }
      ]
    },
    {
      "cell_type": "code",
      "metadata": {
        "id": "cehOSdH44aDG"
      },
      "source": [
        "model_lab4_ex2 = ConcreteModel()"
      ],
      "execution_count": 15,
      "outputs": []
    },
    {
      "cell_type": "code",
      "metadata": {
        "id": "Q_Yy6tgY4eg3"
      },
      "source": [
        "N = len(data_csvfile.index)"
      ],
      "execution_count": 16,
      "outputs": []
    },
    {
      "cell_type": "code",
      "metadata": {
        "id": "nwnR41f_4zP-"
      },
      "source": [
        "M=5"
      ],
      "execution_count": 17,
      "outputs": []
    },
    {
      "cell_type": "code",
      "metadata": {
        "id": "fQgz5V2U42cN"
      },
      "source": [
        "col_indices = range(N)"
      ],
      "execution_count": 18,
      "outputs": []
    },
    {
      "cell_type": "code",
      "metadata": {
        "id": "4wKJi7wT44QV"
      },
      "source": [
        "model_lab4_ex2.x = Var(col_indices)"
      ],
      "execution_count": 19,
      "outputs": []
    },
    {
      "cell_type": "code",
      "metadata": {
        "id": "nXL8VNEa46Hg"
      },
      "source": [
        "model_lab4_ex2.objective = Objective(expr=summation(data_csvfile['Reach Quality'], model_lab4_ex2.x),sense=maximize)"
      ],
      "execution_count": 20,
      "outputs": []
    },
    {
      "cell_type": "code",
      "metadata": {
        "id": "eWdcjhMY49FD"
      },
      "source": [
        "model_lab4_ex2.constraints = ConstraintList()"
      ],
      "execution_count": 21,
      "outputs": []
    },
    {
      "cell_type": "code",
      "metadata": {
        "colab": {
          "base_uri": "https://localhost:8080/"
        },
        "id": "aq1ZWjMq5ALX",
        "outputId": "1ebae0a1-2d22-4ea0-db0d-0ae66b2faccb"
      },
      "source": [
        "model_lab4_ex2.constraints.add(expr= model_lab4_ex2.x[0] + model_lab4_ex2.x[1] + model_lab4_ex2.x[2]<= 75  )\n",
        "model_lab4_ex2.constraints.add(expr= model_lab4_ex2.x[2] + model_lab4_ex2.x[3] +  model_lab4_ex2.x[4] <= 100  )\n",
        "model_lab4_ex2.constraints.add(expr= model_lab4_ex2.x[0] + model_lab4_ex2.x[1] >= 10  )"
      ],
      "execution_count": 22,
      "outputs": [
        {
          "output_type": "execute_result",
          "data": {
            "text/plain": [
              "<pyomo.core.base.constraint._GeneralConstraintData at 0x7f0adc12ade0>"
            ]
          },
          "metadata": {},
          "execution_count": 22
        }
      ]
    },
    {
      "cell_type": "code",
      "metadata": {
        "colab": {
          "base_uri": "https://localhost:8080/"
        },
        "id": "e4dD1Ry75C5v",
        "outputId": "24a2f911-a67f-4579-db15-5a0219bf3b32"
      },
      "source": [
        "model_lab4_ex2.constraints.add(summation(data_csvfile['Cost per advt'], model_lab4_ex2.x) <= 1500000)\n"
      ],
      "execution_count": 23,
      "outputs": [
        {
          "output_type": "execute_result",
          "data": {
            "text/plain": [
              "<pyomo.core.base.constraint._GeneralConstraintData at 0x7f0adc12a440>"
            ]
          },
          "metadata": {},
          "execution_count": 23
        }
      ]
    },
    {
      "cell_type": "code",
      "metadata": {
        "colab": {
          "base_uri": "https://localhost:8080/"
        },
        "id": "-SS_kQfM5GOd",
        "outputId": "b972a25b-1f45-4599-95ce-ab6fe7dcb1bd"
      },
      "source": [
        "model_lab4_ex2.constraints.add(summation(data_csvfile['Num Customers'], model_lab4_ex2.x) >= 900000)\n"
      ],
      "execution_count": 24,
      "outputs": [
        {
          "output_type": "execute_result",
          "data": {
            "text/plain": [
              "<pyomo.core.base.constraint._GeneralConstraintData at 0x7f0adc12a3d0>"
            ]
          },
          "metadata": {},
          "execution_count": 24
        }
      ]
    },
    {
      "cell_type": "code",
      "metadata": {
        "id": "2r_-4yh_5It7"
      },
      "source": [
        "lower_bound = 0\n",
        "upper_bound = np.inf"
      ],
      "execution_count": 25,
      "outputs": []
    },
    {
      "cell_type": "code",
      "metadata": {
        "id": "LWX8LSCs5Lkl"
      },
      "source": [
        "for j in col_indices:\n",
        "  model_lab4_ex2.x[j].setlb(lower_bound)\n",
        "  model_lab4_ex2.x[j].setub(upper_bound)"
      ],
      "execution_count": 26,
      "outputs": []
    },
    {
      "cell_type": "code",
      "metadata": {
        "colab": {
          "base_uri": "https://localhost:8080/"
        },
        "id": "807YNyQ85So3",
        "outputId": "d1577e60-7439-469e-c755-b038d64e9d7f"
      },
      "source": [
        "model_lab4_ex2.pprint()"
      ],
      "execution_count": 27,
      "outputs": [
        {
          "output_type": "stream",
          "name": "stdout",
          "text": [
            "2 Set Declarations\n",
            "    constraints_index : Size=1, Index=None, Ordered=Insertion\n",
            "        Key  : Dimen : Domain : Size : Members\n",
            "        None :     1 :    Any :    5 : {1, 2, 3, 4, 5}\n",
            "    x_index : Size=1, Index=None, Ordered=False\n",
            "        Key  : Dimen : Domain : Size : Members\n",
            "        None :     1 :    Any :    5 : {0, 1, 2, 3, 4}\n",
            "\n",
            "1 Var Declarations\n",
            "    x : Size=5, Index=x_index\n",
            "        Key : Lower : Value : Upper : Fixed : Stale : Domain\n",
            "          0 :     0 :  None :   inf : False :  True :  Reals\n",
            "          1 :     0 :  None :   inf : False :  True :  Reals\n",
            "          2 :     0 :  None :   inf : False :  True :  Reals\n",
            "          3 :     0 :  None :   inf : False :  True :  Reals\n",
            "          4 :     0 :  None :   inf : False :  True :  Reals\n",
            "\n",
            "1 Objective Declarations\n",
            "    objective : Size=1, Index=None, Active=True\n",
            "        Key  : Active : Sense    : Expression\n",
            "        None :   True : maximize : 35*x[0] + 57*x[1] + 48*x[2] + 20*x[3] + 15*x[4]\n",
            "\n",
            "1 Constraint Declarations\n",
            "    constraints : Size=5, Index=constraints_index, Active=True\n",
            "        Key : Lower    : Body                                                              : Upper     : Active\n",
            "          1 :     -Inf :                                                x[0] + x[1] + x[2] :      75.0 :   True\n",
            "          2 :     -Inf :                                                x[2] + x[3] + x[4] :     100.0 :   True\n",
            "          3 :     10.0 :                                                       x[0] + x[1] :      +Inf :   True\n",
            "          4 :     -Inf :      30000*x[0] + 95000*x[1] + 10000*x[2] + 5000*x[3] + 4000*x[4] : 1500000.0 :   True\n",
            "          5 : 900000.0 : 100000*x[0] + 500000*x[1] + 200000*x[2] + 45000*x[3] + 25000*x[4] :      +Inf :   True\n",
            "\n",
            "5 Declarations: x_index x objective constraints_index constraints\n"
          ]
        }
      ]
    },
    {
      "cell_type": "code",
      "metadata": {
        "id": "3iEj4Xay5U7B",
        "colab": {
          "base_uri": "https://localhost:8080/"
        },
        "outputId": "bc36b04e-7229-4401-e59a-baf2b1bbdbbf"
      },
      "source": [
        "!apt-get install -y -qq coinor-cbc"
      ],
      "execution_count": 28,
      "outputs": [
        {
          "output_type": "stream",
          "name": "stdout",
          "text": [
            "Selecting previously unselected package coinor-libcoinutils3v5.\n",
            "(Reading database ... 148492 files and directories currently installed.)\n",
            "Preparing to unpack .../0-coinor-libcoinutils3v5_2.10.14+repack1-1_amd64.deb ...\n",
            "Unpacking coinor-libcoinutils3v5 (2.10.14+repack1-1) ...\n",
            "Selecting previously unselected package coinor-libosi1v5.\n",
            "Preparing to unpack .../1-coinor-libosi1v5_0.107.9+repack1-1_amd64.deb ...\n",
            "Unpacking coinor-libosi1v5 (0.107.9+repack1-1) ...\n",
            "Selecting previously unselected package coinor-libclp1.\n",
            "Preparing to unpack .../2-coinor-libclp1_1.16.11+repack1-1_amd64.deb ...\n",
            "Unpacking coinor-libclp1 (1.16.11+repack1-1) ...\n",
            "Selecting previously unselected package coinor-libcgl1.\n",
            "Preparing to unpack .../3-coinor-libcgl1_0.59.10+repack1-1_amd64.deb ...\n",
            "Unpacking coinor-libcgl1 (0.59.10+repack1-1) ...\n",
            "Selecting previously unselected package coinor-libcbc3.\n",
            "Preparing to unpack .../4-coinor-libcbc3_2.9.9+repack1-1_amd64.deb ...\n",
            "Unpacking coinor-libcbc3 (2.9.9+repack1-1) ...\n",
            "Selecting previously unselected package coinor-cbc.\n",
            "Preparing to unpack .../5-coinor-cbc_2.9.9+repack1-1_amd64.deb ...\n",
            "Unpacking coinor-cbc (2.9.9+repack1-1) ...\n",
            "Setting up coinor-libcoinutils3v5 (2.10.14+repack1-1) ...\n",
            "Setting up coinor-libosi1v5 (0.107.9+repack1-1) ...\n",
            "Setting up coinor-libclp1 (1.16.11+repack1-1) ...\n",
            "Setting up coinor-libcgl1 (0.59.10+repack1-1) ...\n",
            "Setting up coinor-libcbc3 (2.9.9+repack1-1) ...\n",
            "Setting up coinor-cbc (2.9.9+repack1-1) ...\n",
            "Processing triggers for man-db (2.8.3-2ubuntu0.1) ...\n",
            "Processing triggers for libc-bin (2.27-3ubuntu1.2) ...\n",
            "/sbin/ldconfig.real: /usr/local/lib/python3.7/dist-packages/ideep4py/lib/libmkldnn.so.0 is not a symbolic link\n",
            "\n"
          ]
        }
      ]
    },
    {
      "cell_type": "code",
      "metadata": {
        "id": "Xy3BKzh_5Xnu"
      },
      "source": [
        "opt_cbc=SolverFactory('cbc')"
      ],
      "execution_count": 29,
      "outputs": []
    },
    {
      "cell_type": "code",
      "metadata": {
        "colab": {
          "base_uri": "https://localhost:8080/"
        },
        "id": "zeqLG3nw5dAw",
        "outputId": "b1482042-2ed7-437f-9257-0af6870d566c"
      },
      "source": [
        "result = opt_cbc.solve(model_lab4_ex2)\n",
        "print('Solver status:', result.solver.status)\n",
        "print('Solver termination condition:',result.solver.termination_condition)"
      ],
      "execution_count": 30,
      "outputs": [
        {
          "output_type": "stream",
          "name": "stdout",
          "text": [
            "Solver status: ok\n",
            "Solver termination condition: optimal\n"
          ]
        }
      ]
    },
    {
      "cell_type": "code",
      "metadata": {
        "colab": {
          "base_uri": "https://localhost:8080/"
        },
        "id": "shaI5wOH5f_T",
        "outputId": "4634ef29-7f8a-4c9e-d21d-2c680ed9c028"
      },
      "source": [
        "print('\\nObjective = ', model_lab4_ex2.objective())\n",
        "\n",
        "print('\\nDecision Variables')\n",
        "for i in col_indices:\n",
        "  print('Num slots for medium ',data_csvfile['Medium'][i], model_lab4_ex2.x[i].value)\n",
        "\n",
        "print('\\nConstraints')\n",
        "model_lab4_ex2.constraints.display()"
      ],
      "execution_count": 31,
      "outputs": [
        {
          "output_type": "stream",
          "name": "stdout",
          "text": [
            "\n",
            "Objective =  4296.9230776\n",
            "\n",
            "Decision Variables\n",
            "Num slots for medium  Websites 4.2307692\n",
            "Num slots for medium  TV 5.7692308\n",
            "Num slots for medium  DailyNewspaper 65.0\n",
            "Num slots for medium  WeeklyMagazine 35.0\n",
            "Num slots for medium  MonthlyMagazine 0.0\n",
            "\n",
            "Constraints\n",
            "constraints : Size=5\n",
            "    Key : Lower    : Body               : Upper\n",
            "      1 :     None :               75.0 :      75.0\n",
            "      2 :     None :              100.0 :     100.0\n",
            "      3 :     10.0 :               10.0 :      None\n",
            "      4 :     None : 1500000.0019999999 : 1500000.0\n",
            "      5 : 900000.0 :        17882692.32 :      None\n"
          ]
        }
      ]
    },
    {
      "cell_type": "code",
      "metadata": {
        "id": "1n5ZSoD1Mme_"
      },
      "source": [
        "model_lab4_ex2.x.domain=NonNegativeIntegers"
      ],
      "execution_count": 32,
      "outputs": []
    },
    {
      "cell_type": "code",
      "metadata": {
        "id": "F5rsUhxk5twp",
        "colab": {
          "base_uri": "https://localhost:8080/"
        },
        "outputId": "d009196f-e420-4ad3-c74f-c69c062b3d2a"
      },
      "source": [
        "result=opt_cbc.solve(model_lab4_ex2)\n",
        "print('Solver status:', result.solver.status)\n",
        "print('Solver termination condition:',result.solver.termination_condition)"
      ],
      "execution_count": 33,
      "outputs": [
        {
          "output_type": "stream",
          "name": "stdout",
          "text": [
            "Solver status: ok\n",
            "Solver termination condition: optimal\n"
          ]
        }
      ]
    },
    {
      "cell_type": "code",
      "metadata": {
        "colab": {
          "base_uri": "https://localhost:8080/"
        },
        "id": "1ZEnjXiNNNFx",
        "outputId": "8a092d57-c306-4c5a-f32d-a0d52459c400"
      },
      "source": [
        "print('\\nObjective = ', model_lab4_ex2.objective())\n",
        "\n",
        "print('\\nDecision Variables')\n",
        "for i in col_indices:\n",
        "  print('Num slots for medium ',data_csvfile['Medium'][i], model_lab4_ex2.x[i].value)\n",
        "\n",
        "print('\\nConstraints')\n",
        "model_lab4_ex2.constraints.display()"
      ],
      "execution_count": 34,
      "outputs": [
        {
          "output_type": "stream",
          "name": "stdout",
          "text": [
            "\n",
            "Objective =  4294.0\n",
            "\n",
            "Decision Variables\n",
            "Num slots for medium  Websites 7.0\n",
            "Num slots for medium  TV 5.0\n",
            "Num slots for medium  DailyNewspaper 63.0\n",
            "Num slots for medium  WeeklyMagazine 37.0\n",
            "Num slots for medium  MonthlyMagazine 0.0\n",
            "\n",
            "Constraints\n",
            "constraints : Size=5\n",
            "    Key : Lower    : Body       : Upper\n",
            "      1 :     None :       75.0 :      75.0\n",
            "      2 :     None :      100.0 :     100.0\n",
            "      3 :     10.0 :       12.0 :      None\n",
            "      4 :     None :  1500000.0 : 1500000.0\n",
            "      5 : 900000.0 : 17465000.0 :      None\n"
          ]
        }
      ]
    },
    {
      "cell_type": "markdown",
      "metadata": {
        "id": "BY9_kvrr5vym"
      },
      "source": [
        "#Que.4&5"
      ]
    },
    {
      "cell_type": "markdown",
      "metadata": {
        "id": "N4budrKa6VFj"
      },
      "source": [
        "solving using approach 1"
      ]
    },
    {
      "cell_type": "code",
      "metadata": {
        "id": "s5gRZCqx5xgX"
      },
      "source": [
        "model_lab4_ex2.u=Var(domain=NonNegativeReals)"
      ],
      "execution_count": 35,
      "outputs": []
    },
    {
      "cell_type": "code",
      "metadata": {
        "colab": {
          "base_uri": "https://localhost:8080/"
        },
        "id": "SN8Uk25B6ccM",
        "outputId": "61e51798-77fd-470f-8c49-f73250cfae19"
      },
      "source": [
        "model_lab4_ex2.u.setub(18)\n",
        "model_lab4_ex2.constraints.add(expr=model_lab4_ex2.u-model_lab4_ex2.x[0]-model_lab4_ex2.x[1]+model_lab4_ex2.x[2]+model_lab4_ex2.x[3]+model_lab4_ex2.x[4]>=0)\n",
        "model_lab4_ex2.constraints.add(expr=model_lab4_ex2.u+ model_lab4_ex2.x[0]+model_lab4_ex2.x[1] - model_lab4_ex2.x[2] - model_lab4_ex2.x[3] - model_lab4_ex2.x[4] >=0)"
      ],
      "execution_count": 36,
      "outputs": [
        {
          "output_type": "execute_result",
          "data": {
            "text/plain": [
              "<pyomo.core.base.constraint._GeneralConstraintData at 0x7f0adc0d31a0>"
            ]
          },
          "metadata": {},
          "execution_count": 36
        }
      ]
    },
    {
      "cell_type": "code",
      "metadata": {
        "colab": {
          "base_uri": "https://localhost:8080/"
        },
        "id": "jw-9R6fC7jbo",
        "outputId": "ac2b5e33-af24-4a16-8d82-d3afcd0c8776"
      },
      "source": [
        "model_lab4_ex2.pprint()"
      ],
      "execution_count": 37,
      "outputs": [
        {
          "output_type": "stream",
          "name": "stdout",
          "text": [
            "2 Set Declarations\n",
            "    constraints_index : Size=1, Index=None, Ordered=Insertion\n",
            "        Key  : Dimen : Domain : Size : Members\n",
            "        None :     1 :    Any :    7 : {1, 2, 3, 4, 5, 6, 7}\n",
            "    x_index : Size=1, Index=None, Ordered=False\n",
            "        Key  : Dimen : Domain : Size : Members\n",
            "        None :     1 :    Any :    5 : {0, 1, 2, 3, 4}\n",
            "\n",
            "2 Var Declarations\n",
            "    u : Size=1, Index=None\n",
            "        Key  : Lower : Value : Upper : Fixed : Stale : Domain\n",
            "        None :     0 :  None :    18 : False :  True : NonNegativeReals\n",
            "    x : Size=5, Index=x_index\n",
            "        Key : Lower : Value : Upper : Fixed : Stale : Domain\n",
            "          0 :     0 :   7.0 :   inf : False : False : NonNegativeIntegers\n",
            "          1 :     0 :   5.0 :   inf : False : False : NonNegativeIntegers\n",
            "          2 :     0 :  63.0 :   inf : False : False : NonNegativeIntegers\n",
            "          3 :     0 :  37.0 :   inf : False : False : NonNegativeIntegers\n",
            "          4 :     0 :   0.0 :   inf : False : False : NonNegativeIntegers\n",
            "\n",
            "1 Objective Declarations\n",
            "    objective : Size=1, Index=None, Active=True\n",
            "        Key  : Active : Sense    : Expression\n",
            "        None :   True : maximize : 35*x[0] + 57*x[1] + 48*x[2] + 20*x[3] + 15*x[4]\n",
            "\n",
            "1 Constraint Declarations\n",
            "    constraints : Size=7, Index=constraints_index, Active=True\n",
            "        Key : Lower    : Body                                                              : Upper     : Active\n",
            "          1 :     -Inf :                                                x[0] + x[1] + x[2] :      75.0 :   True\n",
            "          2 :     -Inf :                                                x[2] + x[3] + x[4] :     100.0 :   True\n",
            "          3 :     10.0 :                                                       x[0] + x[1] :      +Inf :   True\n",
            "          4 :     -Inf :      30000*x[0] + 95000*x[1] + 10000*x[2] + 5000*x[3] + 4000*x[4] : 1500000.0 :   True\n",
            "          5 : 900000.0 : 100000*x[0] + 500000*x[1] + 200000*x[2] + 45000*x[3] + 25000*x[4] :      +Inf :   True\n",
            "          6 :      0.0 :                              u - x[0] - x[1] + x[2] + x[3] + x[4] :      +Inf :   True\n",
            "          7 :      0.0 :                              u + x[0] + x[1] - x[2] - x[3] - x[4] :      +Inf :   True\n",
            "\n",
            "6 Declarations: x_index x objective constraints_index constraints u\n"
          ]
        }
      ]
    },
    {
      "cell_type": "code",
      "metadata": {
        "colab": {
          "base_uri": "https://localhost:8080/"
        },
        "id": "8gskd-fp9UfK",
        "outputId": "17f327ca-4343-4636-d735-76cb389c438a"
      },
      "source": [
        "result1=opt_cbc.solve(model_lab4_ex2)\n",
        "print(result1)\n",
        "print(f\"The solver status is: {result1.solver.status}\")\n",
        "print(f\"The termination condition is : {result1.solver.termination_condition}\")"
      ],
      "execution_count": 38,
      "outputs": [
        {
          "output_type": "stream",
          "name": "stdout",
          "text": [
            "\n",
            "Problem: \n",
            "- Name: unknown\n",
            "  Lower bound: 3378.0\n",
            "  Upper bound: 3378.0\n",
            "  Number of objectives: 1\n",
            "  Number of constraints: 7\n",
            "  Number of variables: 5\n",
            "  Number of binary variables: 0\n",
            "  Number of integer variables: 5\n",
            "  Number of nonzeros: 5\n",
            "  Sense: maximize\n",
            "Solver: \n",
            "- Status: ok\n",
            "  User time: -1.0\n",
            "  System time: 0.01\n",
            "  Wallclock time: 0.01\n",
            "  Termination condition: optimal\n",
            "  Termination message: Model was solved to optimality (subject to tolerances), and an optimal solution is available.\n",
            "  Statistics: \n",
            "    Branch and bound: \n",
            "      Number of bounded subproblems: 0\n",
            "      Number of created subproblems: 0\n",
            "    Black box: \n",
            "      Number of iterations: 1\n",
            "  Error rc: 0\n",
            "  Time: 0.035628318786621094\n",
            "Solution: \n",
            "- number of solutions: 0\n",
            "  number of solutions displayed: 0\n",
            "\n",
            "The solver status is: ok\n",
            "The termination condition is : optimal\n"
          ]
        }
      ]
    },
    {
      "cell_type": "code",
      "metadata": {
        "colab": {
          "base_uri": "https://localhost:8080/"
        },
        "id": "R2djmrPfBFyk",
        "outputId": "fe0e1a75-8f09-45f0-8d33-99fddac0f17d"
      },
      "source": [
        "print('\\nObjective = ', model_lab4_ex2.objective())\n",
        "\n",
        "print('\\n Original Decision Variables')\n",
        "for i in col_indices:\n",
        "  print('Num slots for medium ',data_csvfile['Medium'][i], model_lab4_ex2.x[i].value)\n",
        "print('Value of u = ',model_lab4_ex2.u.value)\n",
        "print('\\nConstraints')\n",
        "model_lab4_ex2.constraints.display()"
      ],
      "execution_count": 39,
      "outputs": [
        {
          "output_type": "stream",
          "name": "stdout",
          "text": [
            "\n",
            "Objective =  3378.0\n",
            "\n",
            " Original Decision Variables\n",
            "Num slots for medium  Websites 34.0\n",
            "Num slots for medium  TV 0.0\n",
            "Num slots for medium  DailyNewspaper 41.0\n",
            "Num slots for medium  WeeklyMagazine 11.0\n",
            "Num slots for medium  MonthlyMagazine 0.0\n",
            "Value of u =  18.0\n",
            "\n",
            "Constraints\n",
            "constraints : Size=7\n",
            "    Key : Lower    : Body       : Upper\n",
            "      1 :     None :       75.0 :      75.0\n",
            "      2 :     None :       52.0 :     100.0\n",
            "      3 :     10.0 :       34.0 :      None\n",
            "      4 :     None :  1485000.0 : 1500000.0\n",
            "      5 : 900000.0 : 12095000.0 :      None\n",
            "      6 :      0.0 :       36.0 :      None\n",
            "      7 :      0.0 :        0.0 :      None\n"
          ]
        }
      ]
    },
    {
      "cell_type": "markdown",
      "metadata": {
        "id": "1EfmYdl_-e7y"
      },
      "source": [
        "The Solver status is Ok and the termination condition is Optimal.\n",
        "and yes we are getting optimal solution and the value of the objective funtion is:3378\n",
        "\n",
        "**Values of Decision Variables:**\n",
        "\n",
        "Num slots for medium  Websites =34.0\n",
        "\n",
        "Num slots for medium  TV= 0.0\n",
        "\n",
        "Num slots for medium  DailyNewspaper =41\n",
        "\n",
        "Num slots for medium  WeeklyMagazine= 11\n",
        "\n",
        "Num slots for medium  MonthlyMagazine =0.0\n",
        "\n",
        "Value of u =  18.0\n",
        "\n",
        "\n",
        "**Constraint Activity:**\n",
        "\n",
        "constraint 1 and 7 are active as they hold at equality and rest are not active as they don't hold at equality.\n"
      ]
    },
    {
      "cell_type": "markdown",
      "metadata": {
        "id": "y69BhYU3-t2R"
      },
      "source": [
        "Solving using approach 2"
      ]
    },
    {
      "cell_type": "code",
      "metadata": {
        "id": "ho2BYJXP96sB"
      },
      "source": [
        "model_lab4_ex2.a=Var(domain=NonNegativeReals)\n",
        "model_lab4_ex2.b=Var(domain=NonNegativeReals)"
      ],
      "execution_count": 40,
      "outputs": []
    },
    {
      "cell_type": "code",
      "metadata": {
        "id": "6tT0sTvz_JyQ"
      },
      "source": [
        "model_lab4_ex2.constraints[6].deactivate()\n",
        "model_lab4_ex2.constraints[7].deactivate()"
      ],
      "execution_count": 41,
      "outputs": []
    },
    {
      "cell_type": "code",
      "metadata": {
        "colab": {
          "base_uri": "https://localhost:8080/"
        },
        "id": "ubUpWuai_Xst",
        "outputId": "56eecc95-6c01-4365-f72f-39b2d824e537"
      },
      "source": [
        "model_lab4_ex2.constraints.add(expr =model_lab4_ex2.x[0]+model_lab4_ex2.x[1] - model_lab4_ex2.x[2] - model_lab4_ex2.x[3] - model_lab4_ex2.x[4] - model_lab4_ex2.a + model_lab4_ex2.b ==0)\n",
        "model_lab4_ex2.constraints.add(expr =model_lab4_ex2.a + model_lab4_ex2.b <=18)"
      ],
      "execution_count": 42,
      "outputs": [
        {
          "output_type": "execute_result",
          "data": {
            "text/plain": [
              "<pyomo.core.base.constraint._GeneralConstraintData at 0x7f0adc0c9de0>"
            ]
          },
          "metadata": {},
          "execution_count": 42
        }
      ]
    },
    {
      "cell_type": "code",
      "metadata": {
        "colab": {
          "base_uri": "https://localhost:8080/"
        },
        "id": "di0lg131_y9q",
        "outputId": "e685e990-3746-4de6-ca45-c17436e260cb"
      },
      "source": [
        "model_lab4_ex2.pprint()"
      ],
      "execution_count": 43,
      "outputs": [
        {
          "output_type": "stream",
          "name": "stdout",
          "text": [
            "2 Set Declarations\n",
            "    constraints_index : Size=1, Index=None, Ordered=Insertion\n",
            "        Key  : Dimen : Domain : Size : Members\n",
            "        None :     1 :    Any :    9 : {1, 2, 3, 4, 5, 6, 7, 8, 9}\n",
            "    x_index : Size=1, Index=None, Ordered=False\n",
            "        Key  : Dimen : Domain : Size : Members\n",
            "        None :     1 :    Any :    5 : {0, 1, 2, 3, 4}\n",
            "\n",
            "4 Var Declarations\n",
            "    a : Size=1, Index=None\n",
            "        Key  : Lower : Value : Upper : Fixed : Stale : Domain\n",
            "        None :     0 :  None :  None : False :  True : NonNegativeReals\n",
            "    b : Size=1, Index=None\n",
            "        Key  : Lower : Value : Upper : Fixed : Stale : Domain\n",
            "        None :     0 :  None :  None : False :  True : NonNegativeReals\n",
            "    u : Size=1, Index=None\n",
            "        Key  : Lower : Value : Upper : Fixed : Stale : Domain\n",
            "        None :     0 :  18.0 :    18 : False : False : NonNegativeReals\n",
            "    x : Size=5, Index=x_index\n",
            "        Key : Lower : Value : Upper : Fixed : Stale : Domain\n",
            "          0 :     0 :  34.0 :   inf : False : False : NonNegativeIntegers\n",
            "          1 :     0 :   0.0 :   inf : False : False : NonNegativeIntegers\n",
            "          2 :     0 :  41.0 :   inf : False : False : NonNegativeIntegers\n",
            "          3 :     0 :  11.0 :   inf : False : False : NonNegativeIntegers\n",
            "          4 :     0 :   0.0 :   inf : False : False : NonNegativeIntegers\n",
            "\n",
            "1 Objective Declarations\n",
            "    objective : Size=1, Index=None, Active=True\n",
            "        Key  : Active : Sense    : Expression\n",
            "        None :   True : maximize : 35*x[0] + 57*x[1] + 48*x[2] + 20*x[3] + 15*x[4]\n",
            "\n",
            "1 Constraint Declarations\n",
            "    constraints : Size=9, Index=constraints_index, Active=True\n",
            "        Key : Lower    : Body                                                              : Upper     : Active\n",
            "          1 :     -Inf :                                                x[0] + x[1] + x[2] :      75.0 :   True\n",
            "          2 :     -Inf :                                                x[2] + x[3] + x[4] :     100.0 :   True\n",
            "          3 :     10.0 :                                                       x[0] + x[1] :      +Inf :   True\n",
            "          4 :     -Inf :      30000*x[0] + 95000*x[1] + 10000*x[2] + 5000*x[3] + 4000*x[4] : 1500000.0 :   True\n",
            "          5 : 900000.0 : 100000*x[0] + 500000*x[1] + 200000*x[2] + 45000*x[3] + 25000*x[4] :      +Inf :   True\n",
            "          6 :      0.0 :                              u - x[0] - x[1] + x[2] + x[3] + x[4] :      +Inf :  False\n",
            "          7 :      0.0 :                              u + x[0] + x[1] - x[2] - x[3] - x[4] :      +Inf :  False\n",
            "          8 :      0.0 :                          x[0] + x[1] - x[2] - x[3] - x[4] - a + b :       0.0 :   True\n",
            "          9 :     -Inf :                                                             a + b :      18.0 :   True\n",
            "\n",
            "8 Declarations: x_index x objective constraints_index constraints u a b\n"
          ]
        }
      ]
    },
    {
      "cell_type": "code",
      "metadata": {
        "colab": {
          "base_uri": "https://localhost:8080/"
        },
        "id": "uh01NaLK_18v",
        "outputId": "747a816d-b1e1-4d4f-f337-938df23f8fab"
      },
      "source": [
        "result2=opt_cbc.solve(model_lab4_ex2)\n",
        "print(result2)\n",
        "print(f\"The solver status is: {result2.solver.status}\")\n",
        "print(f\"The termination condition is:{result2.solver.termination_condition}\")"
      ],
      "execution_count": 44,
      "outputs": [
        {
          "output_type": "stream",
          "name": "stdout",
          "text": [
            "\n",
            "Problem: \n",
            "- Name: unknown\n",
            "  Lower bound: 3378.0\n",
            "  Upper bound: 3378.0\n",
            "  Number of objectives: 1\n",
            "  Number of constraints: 7\n",
            "  Number of variables: 7\n",
            "  Number of binary variables: 0\n",
            "  Number of integer variables: 5\n",
            "  Number of nonzeros: 5\n",
            "  Sense: maximize\n",
            "Solver: \n",
            "- Status: ok\n",
            "  User time: -1.0\n",
            "  System time: 0.01\n",
            "  Wallclock time: 0.01\n",
            "  Termination condition: optimal\n",
            "  Termination message: Model was solved to optimality (subject to tolerances), and an optimal solution is available.\n",
            "  Statistics: \n",
            "    Branch and bound: \n",
            "      Number of bounded subproblems: 0\n",
            "      Number of created subproblems: 0\n",
            "    Black box: \n",
            "      Number of iterations: 1\n",
            "  Error rc: 0\n",
            "  Time: 0.03857016563415527\n",
            "Solution: \n",
            "- number of solutions: 0\n",
            "  number of solutions displayed: 0\n",
            "\n",
            "The solver status is: ok\n",
            "The termination condition is:optimal\n"
          ]
        }
      ]
    },
    {
      "cell_type": "code",
      "metadata": {
        "colab": {
          "base_uri": "https://localhost:8080/"
        },
        "id": "vPeLVR2MDbOm",
        "outputId": "93510116-17f9-41fd-ff2f-50ce5f280616"
      },
      "source": [
        "print('\\nObjective = ', model_lab4_ex2.objective())\n",
        "\n",
        "print('\\n Original Decision Variables')\n",
        "for i in col_indices:\n",
        "  print('Num slots for medium ',data_csvfile['Medium'][i], model_lab4_ex2.x[i].value)\n",
        "print('Value of a = ',model_lab4_ex2.a.value)\n",
        "print('Value of b = ',model_lab4_ex2.b.value)\n",
        "print('\\nConstraints')\n",
        "model_lab4_ex2.constraints.display()"
      ],
      "execution_count": 45,
      "outputs": [
        {
          "output_type": "stream",
          "name": "stdout",
          "text": [
            "\n",
            "Objective =  3378.0\n",
            "\n",
            " Original Decision Variables\n",
            "Num slots for medium  Websites 34.0\n",
            "Num slots for medium  TV 0.0\n",
            "Num slots for medium  DailyNewspaper 41.0\n",
            "Num slots for medium  WeeklyMagazine 11.0\n",
            "Num slots for medium  MonthlyMagazine 0.0\n",
            "Value of a =  0.0\n",
            "Value of b =  18.0\n",
            "\n",
            "Constraints\n",
            "constraints : Size=9\n",
            "    Key : Lower    : Body       : Upper\n",
            "      1 :     None :       75.0 :      75.0\n",
            "      2 :     None :       52.0 :     100.0\n",
            "      3 :     10.0 :       34.0 :      None\n",
            "      4 :     None :  1485000.0 : 1500000.0\n",
            "      5 : 900000.0 : 12095000.0 :      None\n",
            "      8 :      0.0 :        0.0 :       0.0\n",
            "      9 :     None :       18.0 :      18.0\n"
          ]
        }
      ]
    },
    {
      "cell_type": "markdown",
      "metadata": {
        "id": "wVbMEYiAC6YT"
      },
      "source": [
        "The Solver status is ok and the termination condition is Optimal and yes we are getting optimal solution and the objective function value is:3378\n",
        "\n",
        "**Values of Decision Variables:**\n",
        "\n",
        "Num slots for medium  Websites =34.0\n",
        "\n",
        "Num slots for medium  TV =0.0\n",
        "\n",
        "Num slots for medium  DailyNewspaper =41\n",
        "\n",
        "Num slots for medium  WeeklyMagazine =11\n",
        "\n",
        "Num slots for medium  MonthlyMagazine =0.0\n",
        "\n",
        "Value of a =  0.0\n",
        "\n",
        "Value of b =  18.0\n",
        "\n",
        "**Constraint Activity:**\n",
        "\n",
        "Constraint 1 ,8 and 9 are active as they hold at equality,rest are not active as they don't hold at equality."
      ]
    },
    {
      "cell_type": "markdown",
      "metadata": {
        "id": "Zvytpk23Fv-3"
      },
      "source": [
        "#Que.6\n",
        "\n",
        "Both approaches gave the same optimal value and same value of decision variables."
      ]
    },
    {
      "cell_type": "markdown",
      "metadata": {
        "id": "Io_j0-pUHh4p"
      },
      "source": [
        "#Que.7"
      ]
    },
    {
      "cell_type": "markdown",
      "metadata": {
        "id": "jmLItAt2JHsj"
      },
      "source": [
        "given that:$\\ \\ z_3=x_4+x_5$\n",
        "\n",
        "we have to include the constraint $\\ \\ |z_3-x_3|\\geq4$\n",
        "\n",
        "this constraint can be written as $\\ |x_4+x_5-x_3|\\geq4$\n",
        "\n",
        "After adding this constraint our model will be:\n",
        "\\begin{align}\n",
        "\\max \\ 35 x_1 + 57 x_2 + 48 x_3 + 20 x_4 + 15 x_5, \\\\\n",
        "{\\rm{s.t.}} \\; x_1 + x_2 + x_3 & \\leq 75, \\\\\n",
        "x_3 + x_4 + x_5 & \\leq 100, \\\\\n",
        "x_1 + x_2 & \\geq 10, \\\\ \n",
        "30000 x_1 + 95000 x_2 + 10000 x_3 + 5000 x_4 + 4000 x_5 & \\leq 1500000, \\\\\n",
        "100000 x_1 + 500000 x_2 + 200000 x_3 + 45000 x_4 + 25000 x_5 & \\geq 900000, \\\\\n",
        "|x_4+x_5-x_3|\\geq4,\\\\\n",
        "x_i & \\geq 0, \\quad i \\in \\{1,2,3,4,5\\}. \\\\\n",
        "\\end{align}\n",
        "\n"
      ]
    },
    {
      "cell_type": "markdown",
      "metadata": {
        "id": "qW3Ujr-6LdL8"
      },
      "source": [
        "This formulation is not a linear program because the constraints of this model consist a modulus function which is a piecewise function. hence above program is not linear."
      ]
    },
    {
      "cell_type": "markdown",
      "metadata": {
        "id": "N18Dz2VzMQZq"
      },
      "source": [
        "There are two approaches to convert the above program to a linear program:\n",
        "\n",
        "**Approach 1:**\n",
        "\n",
        "let $u=|x_4+x_5-x_3|$ and by the modulus function property it is clear that $u\\geq0$ and $u\\geq4$ and it satisfies the following inequalities:\n",
        "\n",
        "$$u \\geq x_4+x_5-x_3 \\\\\n",
        "u \\geq -x_4-x_5+x_3 $$ \n",
        "After adding these conditions our model will be:\n",
        "\n",
        "\\begin{align}\n",
        "\\max \\ 35 x_1 + 57 x_2 + 48 x_3 + 20 x_4 + 15 x_5, \\\\\n",
        "{\\rm{s.t.}} \\; x_1 + x_2 + x_3 & \\leq 75, \\\\\n",
        "x_3 + x_4 + x_5 & \\leq 100, \\\\\n",
        "x_1 + x_2 & \\geq 10, \\\\ \n",
        "30000 x_1 + 95000 x_2 + 10000 x_3 + 5000 x_4 + 4000 x_5 & \\leq 1500000, \\\\\n",
        "100000 x_1 + 500000 x_2 + 200000 x_3 + 45000 x_4 + 25000 x_5 & \\geq 900000, \\\\x_4+x_5-x_3\\leq u,\\\\ -x_4-x_5+x_3\\leq u,\\\\u\\geq 4,\\\\\n",
        "x_i & \\geq 0, \\quad i \\in \\{1,2,3,4,5\\}. \\\\\n",
        "\\end{align}\n",
        "\n"
      ]
    },
    {
      "cell_type": "markdown",
      "metadata": {
        "id": "ItAu2LlJOWgk"
      },
      "source": [
        "**Approach2:-**\n",
        "\n",
        "let $x_4+x_5-x_3=a-b$\n",
        "\n",
        "then $|x_4+x_5-x_3|=|a-b|=a+b\\ $ where $a\\geq0$ and $b\\geq0$\n",
        "\n",
        "now our model will be:\n",
        "\\begin{align}\n",
        "\\max \\ 35 x_1 + 57 x_2 + 48 x_3 + 20 x_4 + 15 x_5, \\\\\n",
        "{\\rm{s.t.}} \\; x_1 + x_2 + x_3 & \\leq 75, \\\\\n",
        "x_3 + x_4 + x_5 & \\leq 100, \\\\\n",
        "x_1 + x_2 & \\geq 10, \\\\ \n",
        "30000 x_1 + 95000 x_2 + 10000 x_3 + 5000 x_4 + 4000 x_5 & \\leq 1500000, \\\\\n",
        "100000 x_1 + 500000 x_2 + 200000 x_3 + 45000 x_4 + 25000 x_5 & \\geq 900000, \\\\\n",
        "x_4+x_5-x_3-a+b=0\\\\\n",
        "a+b\\geq 4,\\\\\n",
        "x_i & \\geq 0, \\quad i \\in \\{1,2,3,4,5\\}. \\\\ a,b \\geq 0\n",
        "\\end{align}"
      ]
    },
    {
      "cell_type": "code",
      "metadata": {
        "id": "C64PkQB0Howj"
      },
      "source": [
        ""
      ],
      "execution_count": 45,
      "outputs": []
    }
  ]
}