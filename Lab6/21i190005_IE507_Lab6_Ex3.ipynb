{
  "nbformat": 4,
  "nbformat_minor": 0,
  "metadata": {
    "colab": {
      "name": "21i190005_IE507_Lab6_Ex3.ipynb",
      "provenance": []
    },
    "kernelspec": {
      "name": "python3",
      "display_name": "Python 3"
    },
    "language_info": {
      "name": "python"
    }
  },
  "cells": [
    {
      "cell_type": "markdown",
      "metadata": {
        "id": "IyhRn-4yULCr"
      },
      "source": [
        "**EXERCISE-3**"
      ]
    },
    {
      "cell_type": "code",
      "metadata": {
        "id": "7vqrV0qIc66F",
        "colab": {
          "base_uri": "https://localhost:8080/"
        },
        "outputId": "f01091cc-6e50-42c4-c630-9da61e4cf789"
      },
      "source": [
        "!pip install -q pyomo"
      ],
      "execution_count": 1,
      "outputs": [
        {
          "output_type": "stream",
          "name": "stdout",
          "text": [
            "\u001b[K     |████████████████████████████████| 9.1 MB 5.1 MB/s \n",
            "\u001b[K     |████████████████████████████████| 49 kB 5.4 MB/s \n",
            "\u001b[?25h"
          ]
        }
      ]
    },
    {
      "cell_type": "code",
      "metadata": {
        "id": "wWpdZG_vc9wm"
      },
      "source": [
        "from pyomo.environ import *"
      ],
      "execution_count": 2,
      "outputs": []
    },
    {
      "cell_type": "code",
      "metadata": {
        "id": "gRKAv0FkdD9Q"
      },
      "source": [
        "import numpy as np"
      ],
      "execution_count": 3,
      "outputs": []
    },
    {
      "cell_type": "code",
      "metadata": {
        "id": "bqCneOwAdGWB"
      },
      "source": [
        "import pandas as pd"
      ],
      "execution_count": 4,
      "outputs": []
    },
    {
      "cell_type": "markdown",
      "metadata": {
        "id": "WRZzw23uUUuL"
      },
      "source": [
        "#Que.1"
      ]
    },
    {
      "cell_type": "markdown",
      "metadata": {
        "id": "JiudJ9UFUarZ"
      },
      "source": [
        "The general optimization problem is:\n",
        "$$\\text{min} \\ \\  \\sum_{i=1}^{6} |P_i-\\tilde{P_i}| \\\\\n",
        "\\text{s.t.  } \n",
        "\\tilde{P_i}=b_0+b_1L_i+b_2E_i \\ \\ \\forall i \\in \\{1,2,...,6\\}  \\\\\n",
        "b_0 \\geq 0$$ \\\\\n",
        "\n",
        "No, above problem is not linear because objective function consist a modulus function which is a piecewise function."
      ]
    },
    {
      "cell_type": "markdown",
      "metadata": {
        "id": "gtgaTOA9Vf9Y"
      },
      "source": [
        "#Que.2"
      ]
    },
    {
      "cell_type": "markdown",
      "metadata": {
        "id": "YxAakYTcVhdj"
      },
      "source": [
        "**Approach-1**\n",
        "\n",
        "let $|P_i-\\tilde{P_i}|=z_i$\n",
        "\n",
        "then using the result that $|x|$ can be written as $\\text{min } z \\ \\  \\ \\text{s.t.}\\ \\ z\\geq x$ and $z\\geq-x$\n",
        "using this property the optimization problem can be written as:\n",
        "$$\\text{min } \\sum_{i=1}^6 z_i\\\\\\text{s.t. }\n",
        " \\tilde{P_i}=b_0+b_1L_i+b_2E_i \\ \\ \\forall i \\in \\{1,2,...,6\\}  \\\\\n",
        " z_i\\geq P_i-\\tilde{P_i}\\ \\ \\forall i \\in \\{1,2,...,6\\}  \\\\\n",
        " z_i\\geq \\tilde{P_i}-P_i\\ \\ \\forall i \\in \\{1,2,...,6\\}  \\\\\n",
        " b_0 \\geq 0\\\\\n",
        " z_i\\geq 0 \\ \\ \\forall i \\in \\{1,2,...,6\\}\n",
        "$$"
      ]
    },
    {
      "cell_type": "markdown",
      "metadata": {
        "id": "wobRVJu1Y5Rf"
      },
      "source": [
        "after putting the value of $\\tilde{P_i}$ this problem can be written as:\n",
        "$$\\text{min } \\sum_{i=1}^6 z_i\\\\\\text{s.t. }\n",
        " z_i+b_0+b_1L_i+b_2E_i \\geq P_i\\ \\ \\forall i \\in \\{1,2,...,6\\}  \\\\\n",
        " z_i-b_0-b_1L_i-b_2E_i \\geq -P_i\\ \\ \\forall i \\in \\{1,2,...,6\\}  \\\\\n",
        " b_0 \\geq 0\\\\\n",
        " z_i\\geq 0 \\ \\ \\forall i \\in \\{1,2,...,6\\}\n",
        "$$ "
      ]
    },
    {
      "cell_type": "markdown",
      "metadata": {
        "id": "d6Y8cJYZaNBZ"
      },
      "source": [
        "**Approach-2**\n",
        "\n",
        "let $P_i-\\tilde{P_i}=x_i-y_i$ where $x_i\\geq0 $ and $y_i\\geq0 \\ \\ \\forall i \\in \\{1,2,...,6\\} $\n",
        "\n",
        "then $|P_i-\\tilde{P_i}|=|x_i-y_i|=x_i+y_i $ where $x_i\\geq0 $ and $y_i\\geq0 \\ \\ \\forall i \\in \\{1,2,...,6\\}$\n",
        "\n",
        "Now the constraint $\\tilde{P_i}=b_0+b_1L_i+b_2E_i $ can be written as :\n",
        "\n",
        "$$P_i-\\tilde{P_i}=P_i-b_0-b_1L_i-b_2E_i \\\\\n",
        "\\implies x_i-y_i+b_0+b_1L_i+b_2E_i=P_i $$\n",
        "\n",
        "now our optimization problem can be written as:\n",
        "\n",
        "$$\\text{Min  } \\sum_{i=1}^{6} (x_i+y_i) \\\\\n",
        "\\text{s.t.} \\\\\n",
        "x_i-y_i+b_0+b_1L_i+b_2E_i=P_i \\ \\ \\forall i \\\\\n",
        "x_i \\geq 0, y_i \\geq 0 \\ \\ \\forall i \\in \\{1,2,...,6\\}\\\\\\\n",
        "b_0\\geq 0\n",
        "$$\n"
      ]
    },
    {
      "cell_type": "code",
      "metadata": {
        "id": "ACJTpuwhUEER"
      },
      "source": [
        ""
      ],
      "execution_count": 4,
      "outputs": []
    },
    {
      "cell_type": "markdown",
      "metadata": {
        "id": "-_tyU8tgqwkt"
      },
      "source": [
        "**Solving using Approach-1**"
      ]
    },
    {
      "cell_type": "code",
      "metadata": {
        "id": "5lCuFDA9dZLb"
      },
      "source": [
        "data_csv=pd.read_csv('lab6_ex3.csv')"
      ],
      "execution_count": 5,
      "outputs": []
    },
    {
      "cell_type": "code",
      "metadata": {
        "colab": {
          "base_uri": "https://localhost:8080/"
        },
        "id": "r9o9KypUderc",
        "outputId": "1dde4a93-161c-47e8-c1e1-ae9b6009b78a"
      },
      "source": [
        "data_csv.columns"
      ],
      "execution_count": 6,
      "outputs": [
        {
          "output_type": "execute_result",
          "data": {
            "text/plain": [
              "Index(['warehouse', 'seling price', 'lot size', 'elevation'], dtype='object')"
            ]
          },
          "metadata": {},
          "execution_count": 6
        }
      ]
    },
    {
      "cell_type": "code",
      "metadata": {
        "colab": {
          "base_uri": "https://localhost:8080/"
        },
        "id": "kPV2pEowdwHC",
        "outputId": "594fc942-9f7b-43db-b71a-69a533a87683"
      },
      "source": [
        "data_csv['warehouse']"
      ],
      "execution_count": 7,
      "outputs": [
        {
          "output_type": "execute_result",
          "data": {
            "text/plain": [
              "0    1\n",
              "1    2\n",
              "2    3\n",
              "3    4\n",
              "4    5\n",
              "5    6\n",
              "Name: warehouse, dtype: int64"
            ]
          },
          "metadata": {},
          "execution_count": 7
        }
      ]
    },
    {
      "cell_type": "code",
      "metadata": {
        "colab": {
          "base_uri": "https://localhost:8080/"
        },
        "id": "qrxLJzr_d1Pf",
        "outputId": "ae9b4ba9-2784-41e7-d4b6-cc9ac5498b40"
      },
      "source": [
        "data_csv.index"
      ],
      "execution_count": 8,
      "outputs": [
        {
          "output_type": "execute_result",
          "data": {
            "text/plain": [
              "RangeIndex(start=0, stop=6, step=1)"
            ]
          },
          "metadata": {},
          "execution_count": 8
        }
      ]
    },
    {
      "cell_type": "code",
      "metadata": {
        "colab": {
          "base_uri": "https://localhost:8080/"
        },
        "id": "UTSUlSkLd44f",
        "outputId": "f122eb0a-a874-4e77-b271-093b68b26320"
      },
      "source": [
        "len(data_csv.index)"
      ],
      "execution_count": 9,
      "outputs": [
        {
          "output_type": "execute_result",
          "data": {
            "text/plain": [
              "6"
            ]
          },
          "metadata": {},
          "execution_count": 9
        }
      ]
    },
    {
      "cell_type": "code",
      "metadata": {
        "id": "YZCa3wW5d7xc"
      },
      "source": [
        "model=ConcreteModel()"
      ],
      "execution_count": 10,
      "outputs": []
    },
    {
      "cell_type": "code",
      "metadata": {
        "id": "bz0QqUrqeD15"
      },
      "source": [
        "N=len(data_csv.index)#no. of variables"
      ],
      "execution_count": 11,
      "outputs": []
    },
    {
      "cell_type": "code",
      "metadata": {
        "id": "nksKc0gleLn5"
      },
      "source": [
        "col_indices=np.arange(N)\n",
        "b_indices=np.arange(3)"
      ],
      "execution_count": 12,
      "outputs": []
    },
    {
      "cell_type": "code",
      "metadata": {
        "id": "FWNQoFNTewnX"
      },
      "source": [
        "model.z=Var(col_indices,domain=NonNegativeReals)\n",
        "model.b=Var(b_indices)"
      ],
      "execution_count": 13,
      "outputs": []
    },
    {
      "cell_type": "code",
      "metadata": {
        "id": "-CUTII9AfGSx"
      },
      "source": [
        "model.objective=Objective(expr=summation(model.z),sense=minimize)"
      ],
      "execution_count": 14,
      "outputs": []
    },
    {
      "cell_type": "code",
      "metadata": {
        "id": "QP1OyKijfRHc"
      },
      "source": [
        "model.constraints=ConstraintList()"
      ],
      "execution_count": 15,
      "outputs": []
    },
    {
      "cell_type": "code",
      "metadata": {
        "id": "8k7-pD8wfVs5"
      },
      "source": [
        "for i in col_indices:\n",
        "  model.constraints.add(model.z[i]+model.b[0]+model.b[1]*data_csv['lot size'][i]+model.b[2]*data_csv['elevation'][i] >= data_csv['seling price'][i])"
      ],
      "execution_count": 16,
      "outputs": []
    },
    {
      "cell_type": "code",
      "metadata": {
        "id": "OT9cWkPxfvEM"
      },
      "source": [
        "for i in col_indices:\n",
        "  model.constraints.add(model.z[i]-model.b[0]-model.b[1]*data_csv['lot size'][i]-model.b[2]*data_csv['elevation'][i] >= -data_csv['seling price'][i])"
      ],
      "execution_count": 17,
      "outputs": []
    },
    {
      "cell_type": "code",
      "metadata": {
        "id": "z4WEa1a-geK2"
      },
      "source": [
        "model.b[0].setlb(0)"
      ],
      "execution_count": 18,
      "outputs": []
    },
    {
      "cell_type": "code",
      "metadata": {
        "colab": {
          "base_uri": "https://localhost:8080/"
        },
        "id": "oWs0ChXVgl4i",
        "outputId": "4d031e91-7fc4-45dc-d9e0-93c9a60fff2d"
      },
      "source": [
        "model.pprint()"
      ],
      "execution_count": 19,
      "outputs": [
        {
          "output_type": "stream",
          "name": "stdout",
          "text": [
            "3 Set Declarations\n",
            "    b_index : Size=1, Index=None, Ordered=False\n",
            "        Key  : Dimen : Domain : Size : Members\n",
            "        None :     1 :    Any :    3 : {0, 1, 2}\n",
            "    constraints_index : Size=1, Index=None, Ordered=Insertion\n",
            "        Key  : Dimen : Domain : Size : Members\n",
            "        None :     1 :    Any :   12 : {1, 2, 3, 4, 5, 6, 7, 8, 9, 10, 11, 12}\n",
            "    z_index : Size=1, Index=None, Ordered=False\n",
            "        Key  : Dimen : Domain : Size : Members\n",
            "        None :     1 :    Any :    6 : {0, 1, 2, 3, 4, 5}\n",
            "\n",
            "2 Var Declarations\n",
            "    b : Size=3, Index=b_index\n",
            "        Key : Lower : Value : Upper : Fixed : Stale : Domain\n",
            "          0 :     0 :  None :  None : False :  True :  Reals\n",
            "          1 :  None :  None :  None : False :  True :  Reals\n",
            "          2 :  None :  None :  None : False :  True :  Reals\n",
            "    z : Size=6, Index=z_index\n",
            "        Key : Lower : Value : Upper : Fixed : Stale : Domain\n",
            "          0 :     0 :  None :  None : False :  True : NonNegativeReals\n",
            "          1 :     0 :  None :  None : False :  True : NonNegativeReals\n",
            "          2 :     0 :  None :  None : False :  True : NonNegativeReals\n",
            "          3 :     0 :  None :  None : False :  True : NonNegativeReals\n",
            "          4 :     0 :  None :  None : False :  True : NonNegativeReals\n",
            "          5 :     0 :  None :  None : False :  True : NonNegativeReals\n",
            "\n",
            "1 Objective Declarations\n",
            "    objective : Size=1, Index=None, Active=True\n",
            "        Key  : Active : Sense    : Expression\n",
            "        None :   True : minimize : z[0] + z[1] + z[2] + z[3] + z[4] + z[5]\n",
            "\n",
            "1 Constraint Declarations\n",
            "    constraints : Size=12, Index=constraints_index, Active=True\n",
            "        Key : Lower     : Body                               : Upper : Active\n",
            "          1 :  175000.0 : z[0] + b[0] + 1800*b[1] + 250*b[2] :  +Inf :   True\n",
            "          2 :  150000.0 : z[1] + b[0] + 2800*b[1] + 400*b[2] :  +Inf :   True\n",
            "          3 :  125000.0 : z[2] + b[0] + 3500*b[1] + 450*b[2] :  +Inf :   True\n",
            "          4 :   90000.0 :  z[3] + b[0] + 800*b[1] + 100*b[2] :  +Inf :   True\n",
            "          5 :   80000.0 :  z[4] + b[0] + 700*b[1] + 200*b[2] :  +Inf :   True\n",
            "          6 :  120000.0 :   z[5] + b[0] + 500*b[1] + 50*b[2] :  +Inf :   True\n",
            "          7 : -175000.0 : z[0] - b[0] - 1800*b[1] - 250*b[2] :  +Inf :   True\n",
            "          8 : -150000.0 : z[1] - b[0] - 2800*b[1] - 400*b[2] :  +Inf :   True\n",
            "          9 : -125000.0 : z[2] - b[0] - 3500*b[1] - 450*b[2] :  +Inf :   True\n",
            "         10 :  -90000.0 :  z[3] - b[0] - 800*b[1] - 100*b[2] :  +Inf :   True\n",
            "         11 :  -80000.0 :  z[4] - b[0] - 700*b[1] - 200*b[2] :  +Inf :   True\n",
            "         12 : -120000.0 :   z[5] - b[0] - 500*b[1] - 50*b[2] :  +Inf :   True\n",
            "\n",
            "7 Declarations: z_index z b_index b objective constraints_index constraints\n"
          ]
        }
      ]
    },
    {
      "cell_type": "code",
      "metadata": {
        "id": "sgsFRFsWgofH",
        "colab": {
          "base_uri": "https://localhost:8080/"
        },
        "outputId": "183b3bef-21b9-462d-c05b-750d91a8abe2"
      },
      "source": [
        "!apt-get install -y -qq coinor-cbc"
      ],
      "execution_count": 20,
      "outputs": [
        {
          "output_type": "stream",
          "name": "stdout",
          "text": [
            "Selecting previously unselected package coinor-libcoinutils3v5.\n",
            "(Reading database ... 148492 files and directories currently installed.)\n",
            "Preparing to unpack .../0-coinor-libcoinutils3v5_2.10.14+repack1-1_amd64.deb ...\n",
            "Unpacking coinor-libcoinutils3v5 (2.10.14+repack1-1) ...\n",
            "Selecting previously unselected package coinor-libosi1v5.\n",
            "Preparing to unpack .../1-coinor-libosi1v5_0.107.9+repack1-1_amd64.deb ...\n",
            "Unpacking coinor-libosi1v5 (0.107.9+repack1-1) ...\n",
            "Selecting previously unselected package coinor-libclp1.\n",
            "Preparing to unpack .../2-coinor-libclp1_1.16.11+repack1-1_amd64.deb ...\n",
            "Unpacking coinor-libclp1 (1.16.11+repack1-1) ...\n",
            "Selecting previously unselected package coinor-libcgl1.\n",
            "Preparing to unpack .../3-coinor-libcgl1_0.59.10+repack1-1_amd64.deb ...\n",
            "Unpacking coinor-libcgl1 (0.59.10+repack1-1) ...\n",
            "Selecting previously unselected package coinor-libcbc3.\n",
            "Preparing to unpack .../4-coinor-libcbc3_2.9.9+repack1-1_amd64.deb ...\n",
            "Unpacking coinor-libcbc3 (2.9.9+repack1-1) ...\n",
            "Selecting previously unselected package coinor-cbc.\n",
            "Preparing to unpack .../5-coinor-cbc_2.9.9+repack1-1_amd64.deb ...\n",
            "Unpacking coinor-cbc (2.9.9+repack1-1) ...\n",
            "Setting up coinor-libcoinutils3v5 (2.10.14+repack1-1) ...\n",
            "Setting up coinor-libosi1v5 (0.107.9+repack1-1) ...\n",
            "Setting up coinor-libclp1 (1.16.11+repack1-1) ...\n",
            "Setting up coinor-libcgl1 (0.59.10+repack1-1) ...\n",
            "Setting up coinor-libcbc3 (2.9.9+repack1-1) ...\n",
            "Setting up coinor-cbc (2.9.9+repack1-1) ...\n",
            "Processing triggers for man-db (2.8.3-2ubuntu0.1) ...\n",
            "Processing triggers for libc-bin (2.27-3ubuntu1.2) ...\n",
            "/sbin/ldconfig.real: /usr/local/lib/python3.7/dist-packages/ideep4py/lib/libmkldnn.so.0 is not a symbolic link\n",
            "\n"
          ]
        }
      ]
    },
    {
      "cell_type": "code",
      "metadata": {
        "id": "EuuLp8yYgxCa"
      },
      "source": [
        "opt_cbc=SolverFactory('cbc')"
      ],
      "execution_count": 21,
      "outputs": []
    },
    {
      "cell_type": "code",
      "metadata": {
        "id": "YC4vrx4fg15Q"
      },
      "source": [
        "result1=opt_cbc.solve(model)\n"
      ],
      "execution_count": 22,
      "outputs": []
    },
    {
      "cell_type": "markdown",
      "metadata": {
        "id": "dtpBv1Oluu2_"
      },
      "source": [
        "**optimal value,values of new and original decisoion variables,solver status and solver termination condition:-**"
      ]
    },
    {
      "cell_type": "code",
      "metadata": {
        "colab": {
          "base_uri": "https://localhost:8080/"
        },
        "id": "NtQ_Qv26g7w5",
        "outputId": "ddc101cf-5b06-4915-f920-6e63e34d1af2"
      },
      "source": [
        "print('Solver status:', result1.solver.status)\n",
        "print('Solver termination condition:',result1.solver.termination_condition)"
      ],
      "execution_count": 23,
      "outputs": [
        {
          "output_type": "stream",
          "name": "stdout",
          "text": [
            "Solver status: ok\n",
            "Solver termination condition: optimal\n"
          ]
        }
      ]
    },
    {
      "cell_type": "code",
      "metadata": {
        "colab": {
          "base_uri": "https://localhost:8080/"
        },
        "id": "psEql6BPg-xG",
        "outputId": "d5a78e30-65c2-49c5-a837-4606de64eae9"
      },
      "source": [
        "print('\\nOptimal sum of residuals = ', model.objective())\n",
        "\n",
        "print('\\nNew Decision Variables')\n",
        "for i in col_indices:\n",
        "  print('z[',i+1,']=', model.z[i].value)\n",
        "\n",
        "print('\\nOriginal Decision Variables')\n",
        "for i in b_indices:\n",
        "  print('b[',i,']=', model.b[i].value)\n",
        "for i in col_indices:\n",
        "  print(u'P\\u0304[',i,']=', model.b[0].value+model.b[1].value*data_csv['lot size'][i] +model.b[2].value*data_csv['elevation'][i] )\n",
        "\n",
        "print('\\nConstraints')\n",
        "model.constraints.display()"
      ],
      "execution_count": 24,
      "outputs": [
        {
          "output_type": "stream",
          "name": "stdout",
          "text": [
            "\n",
            "Optimal sum of residuals =  125454.545\n",
            "\n",
            "New Decision Variables\n",
            "z[ 1 ]= 38818.182\n",
            "z[ 2 ]= 0.0\n",
            "z[ 3 ]= 54272.727\n",
            "z[ 4 ]= 32363.636\n",
            "z[ 5 ]= 0.0\n",
            "z[ 6 ]= 0.0\n",
            "\n",
            "Original Decision Variables\n",
            "b[ 0 ]= 104181.82\n",
            "b[ 1 ]= 67.272727\n",
            "b[ 2 ]= -356.36364\n",
            "P̄[ 0 ]= 136181.81860000006\n",
            "P̄[ 1 ]= 149999.9996\n",
            "P̄[ 2 ]= 179272.72650000005\n",
            "P̄[ 3 ]= 122363.63760000002\n",
            "P̄[ 4 ]= 80000.00090000003\n",
            "P̄[ 5 ]= 120000.00150000001\n",
            "\n",
            "Constraints\n",
            "constraints : Size=12\n",
            "    Key : Lower     : Body                : Upper\n",
            "      1 :  175000.0 :  175000.00060000003 :  None\n",
            "      2 :  150000.0 :         149999.9996 :  None\n",
            "      3 :  125000.0 :  233545.45350000006 :  None\n",
            "      4 :   90000.0 :  154727.27360000001 :  None\n",
            "      5 :   80000.0 :   80000.00090000003 :  None\n",
            "      6 :  120000.0 :  120000.00150000001 :  None\n",
            "      7 : -175000.0 :  -97363.63660000001 :  None\n",
            "      8 : -150000.0 :        -149999.9996 :  None\n",
            "      9 : -125000.0 : -124999.99950000003 :  None\n",
            "     10 :  -90000.0 :  -90000.00160000002 :  None\n",
            "     11 :  -80000.0 :  -80000.00090000003 :  None\n",
            "     12 : -120000.0 : -120000.00150000001 :  None\n"
          ]
        }
      ]
    },
    {
      "cell_type": "markdown",
      "metadata": {
        "id": "Mf5aYiwMle_F"
      },
      "source": [
        "**Solving using Approach-2**"
      ]
    },
    {
      "cell_type": "code",
      "metadata": {
        "id": "ZL4F268ahDAH"
      },
      "source": [
        "model2=ConcreteModel()\n",
        "model2.x=Var(col_indices,domain=NonNegativeReals)\n",
        "model2.y=Var(col_indices,domain=NonNegativeReals)\n",
        "model2.b=Var(b_indices)\n"
      ],
      "execution_count": 25,
      "outputs": []
    },
    {
      "cell_type": "code",
      "metadata": {
        "id": "8HsOs72LlwBe"
      },
      "source": [
        "model2.objective=Objective(expr=summation(model2.x)+summation(model2.y),sense=minimize)"
      ],
      "execution_count": 26,
      "outputs": []
    },
    {
      "cell_type": "code",
      "metadata": {
        "id": "V4gaJMxrl9v2"
      },
      "source": [
        "model2.constraints=ConstraintList()"
      ],
      "execution_count": 27,
      "outputs": []
    },
    {
      "cell_type": "code",
      "metadata": {
        "id": "ODZqLCAemCdX"
      },
      "source": [
        "for i in col_indices:\n",
        "  model2.constraints.add(model2.x[i]-model2.y[i]+model2.b[0]+model2.b[1]*data_csv['lot size'][i]+model2.b[2]*data_csv['elevation'][i] == data_csv['seling price'][i])"
      ],
      "execution_count": 28,
      "outputs": []
    },
    {
      "cell_type": "code",
      "metadata": {
        "colab": {
          "base_uri": "https://localhost:8080/"
        },
        "id": "7BM8WmXdmXXV",
        "outputId": "d1b0d3ed-360d-4724-cffc-2e66b431c7a8"
      },
      "source": [
        "model2.pprint()"
      ],
      "execution_count": 29,
      "outputs": [
        {
          "output_type": "stream",
          "name": "stdout",
          "text": [
            "4 Set Declarations\n",
            "    b_index : Size=1, Index=None, Ordered=False\n",
            "        Key  : Dimen : Domain : Size : Members\n",
            "        None :     1 :    Any :    3 : {0, 1, 2}\n",
            "    constraints_index : Size=1, Index=None, Ordered=Insertion\n",
            "        Key  : Dimen : Domain : Size : Members\n",
            "        None :     1 :    Any :    6 : {1, 2, 3, 4, 5, 6}\n",
            "    x_index : Size=1, Index=None, Ordered=False\n",
            "        Key  : Dimen : Domain : Size : Members\n",
            "        None :     1 :    Any :    6 : {0, 1, 2, 3, 4, 5}\n",
            "    y_index : Size=1, Index=None, Ordered=False\n",
            "        Key  : Dimen : Domain : Size : Members\n",
            "        None :     1 :    Any :    6 : {0, 1, 2, 3, 4, 5}\n",
            "\n",
            "3 Var Declarations\n",
            "    b : Size=3, Index=b_index\n",
            "        Key : Lower : Value : Upper : Fixed : Stale : Domain\n",
            "          0 :  None :  None :  None : False :  True :  Reals\n",
            "          1 :  None :  None :  None : False :  True :  Reals\n",
            "          2 :  None :  None :  None : False :  True :  Reals\n",
            "    x : Size=6, Index=x_index\n",
            "        Key : Lower : Value : Upper : Fixed : Stale : Domain\n",
            "          0 :     0 :  None :  None : False :  True : NonNegativeReals\n",
            "          1 :     0 :  None :  None : False :  True : NonNegativeReals\n",
            "          2 :     0 :  None :  None : False :  True : NonNegativeReals\n",
            "          3 :     0 :  None :  None : False :  True : NonNegativeReals\n",
            "          4 :     0 :  None :  None : False :  True : NonNegativeReals\n",
            "          5 :     0 :  None :  None : False :  True : NonNegativeReals\n",
            "    y : Size=6, Index=y_index\n",
            "        Key : Lower : Value : Upper : Fixed : Stale : Domain\n",
            "          0 :     0 :  None :  None : False :  True : NonNegativeReals\n",
            "          1 :     0 :  None :  None : False :  True : NonNegativeReals\n",
            "          2 :     0 :  None :  None : False :  True : NonNegativeReals\n",
            "          3 :     0 :  None :  None : False :  True : NonNegativeReals\n",
            "          4 :     0 :  None :  None : False :  True : NonNegativeReals\n",
            "          5 :     0 :  None :  None : False :  True : NonNegativeReals\n",
            "\n",
            "1 Objective Declarations\n",
            "    objective : Size=1, Index=None, Active=True\n",
            "        Key  : Active : Sense    : Expression\n",
            "        None :   True : minimize : x[0] + x[1] + x[2] + x[3] + x[4] + x[5] + (y[0] + y[1] + y[2] + y[3] + y[4] + y[5])\n",
            "\n",
            "1 Constraint Declarations\n",
            "    constraints : Size=6, Index=constraints_index, Active=True\n",
            "        Key : Lower    : Body                                      : Upper    : Active\n",
            "          1 : 175000.0 : x[0] - y[0] + b[0] + 1800*b[1] + 250*b[2] : 175000.0 :   True\n",
            "          2 : 150000.0 : x[1] - y[1] + b[0] + 2800*b[1] + 400*b[2] : 150000.0 :   True\n",
            "          3 : 125000.0 : x[2] - y[2] + b[0] + 3500*b[1] + 450*b[2] : 125000.0 :   True\n",
            "          4 :  90000.0 :  x[3] - y[3] + b[0] + 800*b[1] + 100*b[2] :  90000.0 :   True\n",
            "          5 :  80000.0 :  x[4] - y[4] + b[0] + 700*b[1] + 200*b[2] :  80000.0 :   True\n",
            "          6 : 120000.0 :   x[5] - y[5] + b[0] + 500*b[1] + 50*b[2] : 120000.0 :   True\n",
            "\n",
            "9 Declarations: x_index x y_index y b_index b objective constraints_index constraints\n"
          ]
        }
      ]
    },
    {
      "cell_type": "markdown",
      "metadata": {
        "id": "15C4wWamub5L"
      },
      "source": [
        "**optimal value,values of new and original decisoion variables,solver status and solver termination condition:-**"
      ]
    },
    {
      "cell_type": "code",
      "metadata": {
        "colab": {
          "base_uri": "https://localhost:8080/"
        },
        "id": "aA_ojglMmmgp",
        "outputId": "330de56d-9dcd-481e-dd92-adcc247735ef"
      },
      "source": [
        "result2=opt_cbc.solve(model2)\n",
        "print(result2)\n",
        "print(f\"Solver Status: {result2.solver.status}\")\n",
        "print(f\"The termination condition is :{result2.solver.termination_condition}\")"
      ],
      "execution_count": 30,
      "outputs": [
        {
          "output_type": "stream",
          "name": "stdout",
          "text": [
            "\n",
            "Problem: \n",
            "- Name: unknown\n",
            "  Lower bound: 125454.5455\n",
            "  Upper bound: 125454.5455\n",
            "  Number of objectives: 1\n",
            "  Number of constraints: 7\n",
            "  Number of variables: 16\n",
            "  Number of nonzeros: 12\n",
            "  Sense: minimize\n",
            "Solver: \n",
            "- Status: ok\n",
            "  User time: -1.0\n",
            "  System time: 0.0\n",
            "  Wallclock time: 0.0\n",
            "  Termination condition: optimal\n",
            "  Termination message: Model was solved to optimality (subject to tolerances), and an optimal solution is available.\n",
            "  Statistics: \n",
            "    Branch and bound: \n",
            "      Number of bounded subproblems: None\n",
            "      Number of created subproblems: None\n",
            "    Black box: \n",
            "      Number of iterations: 8\n",
            "  Error rc: 0\n",
            "  Time: 0.03184771537780762\n",
            "Solution: \n",
            "- number of solutions: 0\n",
            "  number of solutions displayed: 0\n",
            "\n",
            "Solver Status: ok\n",
            "The termination condition is :optimal\n"
          ]
        }
      ]
    },
    {
      "cell_type": "code",
      "metadata": {
        "colab": {
          "base_uri": "https://localhost:8080/"
        },
        "id": "Hr4154PcnL6V",
        "outputId": "e6317ba7-8b79-416e-fb38-317512329cbf"
      },
      "source": [
        "print('\\nOptimal sum of residuals = ', model2.objective())\n",
        "\n",
        "print('\\nNew Decision Variables')\n",
        "for i in col_indices:\n",
        "  print('x[',i+1,']=', model2.x[i].value)\n",
        "for i in col_indices:\n",
        "  print('y[',i+1,']=', model2.y[i].value)\n",
        "\n",
        "print('\\nOriginal Decision Variables')\n",
        "for i in b_indices:\n",
        "  print('b[',i,']=', model2.b[i].value)\n",
        "for i in col_indices:\n",
        "  print(u'P\\u0304[',i,']=', model2.b[0].value+model2.b[1].value*data_csv['lot size'][i] +model2.b[2].value*data_csv['elevation'][i] )\n",
        "\n",
        "print('\\nConstraints')\n",
        "model2.constraints.display()"
      ],
      "execution_count": 31,
      "outputs": [
        {
          "output_type": "stream",
          "name": "stdout",
          "text": [
            "\n",
            "Optimal sum of residuals =  125454.545\n",
            "\n",
            "New Decision Variables\n",
            "x[ 1 ]= 38818.182\n",
            "x[ 2 ]= 0.0\n",
            "x[ 3 ]= 0.0\n",
            "x[ 4 ]= 0.0\n",
            "x[ 5 ]= 0.0\n",
            "x[ 6 ]= 0.0\n",
            "y[ 1 ]= 0.0\n",
            "y[ 2 ]= 0.0\n",
            "y[ 3 ]= 54272.727\n",
            "y[ 4 ]= 32363.636\n",
            "y[ 5 ]= 0.0\n",
            "y[ 6 ]= 0.0\n",
            "\n",
            "Original Decision Variables\n",
            "b[ 0 ]= 104181.82\n",
            "b[ 1 ]= 67.272727\n",
            "b[ 2 ]= -356.36364\n",
            "P̄[ 0 ]= 136181.81860000006\n",
            "P̄[ 1 ]= 149999.9996\n",
            "P̄[ 2 ]= 179272.72650000005\n",
            "P̄[ 3 ]= 122363.63760000002\n",
            "P̄[ 4 ]= 80000.00090000003\n",
            "P̄[ 5 ]= 120000.00150000001\n",
            "\n",
            "Constraints\n",
            "constraints : Size=6\n",
            "    Key : Lower    : Body               : Upper\n",
            "      1 : 175000.0 : 175000.00060000003 : 175000.0\n",
            "      2 : 150000.0 :        149999.9996 : 150000.0\n",
            "      3 : 125000.0 : 124999.99950000003 : 125000.0\n",
            "      4 :  90000.0 :  90000.00160000002 :  90000.0\n",
            "      5 :  80000.0 :  80000.00090000003 :  80000.0\n",
            "      6 : 120000.0 : 120000.00150000001 : 120000.0\n"
          ]
        }
      ]
    },
    {
      "cell_type": "markdown",
      "metadata": {
        "id": "tlOr3ej1tGwy"
      },
      "source": [
        "I observed that both approaches gave exactly same solution."
      ]
    },
    {
      "cell_type": "code",
      "metadata": {
        "id": "D2ysOVDatRDC"
      },
      "source": [
        ""
      ],
      "execution_count": 31,
      "outputs": []
    }
  ]
}